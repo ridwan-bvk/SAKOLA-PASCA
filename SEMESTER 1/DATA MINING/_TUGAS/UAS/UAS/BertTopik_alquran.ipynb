{
  "nbformat": 4,
  "nbformat_minor": 0,
  "metadata": {
    "colab": {
      "provenance": [],
      "toc_visible": true
    },
    "kernelspec": {
      "name": "python3",
      "display_name": "Python 3"
    },
    "language_info": {
      "name": "python"
    },
    "widgets": {
      "application/vnd.jupyter.widget-state+json": {
        "ab2dae5c234246a38857d40dabc00a70": {
          "model_module": "@jupyter-widgets/controls",
          "model_name": "HBoxModel",
          "model_module_version": "1.5.0",
          "state": {
            "_dom_classes": [],
            "_model_module": "@jupyter-widgets/controls",
            "_model_module_version": "1.5.0",
            "_model_name": "HBoxModel",
            "_view_count": null,
            "_view_module": "@jupyter-widgets/controls",
            "_view_module_version": "1.5.0",
            "_view_name": "HBoxView",
            "box_style": "",
            "children": [
              "IPY_MODEL_c994ee4be7274300a270de006027fac9",
              "IPY_MODEL_90c8b05db00545768c0d8f2bbc2075cd",
              "IPY_MODEL_138b77b34c884c849ffd94f8e9bbe0f6"
            ],
            "layout": "IPY_MODEL_a2362b92652e4799956f24275a2af6dc"
          }
        },
        "c994ee4be7274300a270de006027fac9": {
          "model_module": "@jupyter-widgets/controls",
          "model_name": "HTMLModel",
          "model_module_version": "1.5.0",
          "state": {
            "_dom_classes": [],
            "_model_module": "@jupyter-widgets/controls",
            "_model_module_version": "1.5.0",
            "_model_name": "HTMLModel",
            "_view_count": null,
            "_view_module": "@jupyter-widgets/controls",
            "_view_module_version": "1.5.0",
            "_view_name": "HTMLView",
            "description": "",
            "description_tooltip": null,
            "layout": "IPY_MODEL_b63ba1dd33d8429d80e314f1f75cac4e",
            "placeholder": "​",
            "style": "IPY_MODEL_93a5af8f2b5f4b4dac6d3ef95a5594f8",
            "value": "Batches: 100%"
          }
        },
        "90c8b05db00545768c0d8f2bbc2075cd": {
          "model_module": "@jupyter-widgets/controls",
          "model_name": "FloatProgressModel",
          "model_module_version": "1.5.0",
          "state": {
            "_dom_classes": [],
            "_model_module": "@jupyter-widgets/controls",
            "_model_module_version": "1.5.0",
            "_model_name": "FloatProgressModel",
            "_view_count": null,
            "_view_module": "@jupyter-widgets/controls",
            "_view_module_version": "1.5.0",
            "_view_name": "ProgressView",
            "bar_style": "success",
            "description": "",
            "description_tooltip": null,
            "layout": "IPY_MODEL_6375eda5f83943fba424d92acf0cbaee",
            "max": 195,
            "min": 0,
            "orientation": "horizontal",
            "style": "IPY_MODEL_8d6f862b0b4c4e45a71f3b58fa6454ef",
            "value": 195
          }
        },
        "138b77b34c884c849ffd94f8e9bbe0f6": {
          "model_module": "@jupyter-widgets/controls",
          "model_name": "HTMLModel",
          "model_module_version": "1.5.0",
          "state": {
            "_dom_classes": [],
            "_model_module": "@jupyter-widgets/controls",
            "_model_module_version": "1.5.0",
            "_model_name": "HTMLModel",
            "_view_count": null,
            "_view_module": "@jupyter-widgets/controls",
            "_view_module_version": "1.5.0",
            "_view_name": "HTMLView",
            "description": "",
            "description_tooltip": null,
            "layout": "IPY_MODEL_fe175597209e47a0b37b59a96784efdc",
            "placeholder": "​",
            "style": "IPY_MODEL_b3813ee5e0d748d8b0405026d61b7ab0",
            "value": " 195/195 [01:35&lt;00:00, 16.94it/s]"
          }
        },
        "a2362b92652e4799956f24275a2af6dc": {
          "model_module": "@jupyter-widgets/base",
          "model_name": "LayoutModel",
          "model_module_version": "1.2.0",
          "state": {
            "_model_module": "@jupyter-widgets/base",
            "_model_module_version": "1.2.0",
            "_model_name": "LayoutModel",
            "_view_count": null,
            "_view_module": "@jupyter-widgets/base",
            "_view_module_version": "1.2.0",
            "_view_name": "LayoutView",
            "align_content": null,
            "align_items": null,
            "align_self": null,
            "border": null,
            "bottom": null,
            "display": null,
            "flex": null,
            "flex_flow": null,
            "grid_area": null,
            "grid_auto_columns": null,
            "grid_auto_flow": null,
            "grid_auto_rows": null,
            "grid_column": null,
            "grid_gap": null,
            "grid_row": null,
            "grid_template_areas": null,
            "grid_template_columns": null,
            "grid_template_rows": null,
            "height": null,
            "justify_content": null,
            "justify_items": null,
            "left": null,
            "margin": null,
            "max_height": null,
            "max_width": null,
            "min_height": null,
            "min_width": null,
            "object_fit": null,
            "object_position": null,
            "order": null,
            "overflow": null,
            "overflow_x": null,
            "overflow_y": null,
            "padding": null,
            "right": null,
            "top": null,
            "visibility": null,
            "width": null
          }
        },
        "b63ba1dd33d8429d80e314f1f75cac4e": {
          "model_module": "@jupyter-widgets/base",
          "model_name": "LayoutModel",
          "model_module_version": "1.2.0",
          "state": {
            "_model_module": "@jupyter-widgets/base",
            "_model_module_version": "1.2.0",
            "_model_name": "LayoutModel",
            "_view_count": null,
            "_view_module": "@jupyter-widgets/base",
            "_view_module_version": "1.2.0",
            "_view_name": "LayoutView",
            "align_content": null,
            "align_items": null,
            "align_self": null,
            "border": null,
            "bottom": null,
            "display": null,
            "flex": null,
            "flex_flow": null,
            "grid_area": null,
            "grid_auto_columns": null,
            "grid_auto_flow": null,
            "grid_auto_rows": null,
            "grid_column": null,
            "grid_gap": null,
            "grid_row": null,
            "grid_template_areas": null,
            "grid_template_columns": null,
            "grid_template_rows": null,
            "height": null,
            "justify_content": null,
            "justify_items": null,
            "left": null,
            "margin": null,
            "max_height": null,
            "max_width": null,
            "min_height": null,
            "min_width": null,
            "object_fit": null,
            "object_position": null,
            "order": null,
            "overflow": null,
            "overflow_x": null,
            "overflow_y": null,
            "padding": null,
            "right": null,
            "top": null,
            "visibility": null,
            "width": null
          }
        },
        "93a5af8f2b5f4b4dac6d3ef95a5594f8": {
          "model_module": "@jupyter-widgets/controls",
          "model_name": "DescriptionStyleModel",
          "model_module_version": "1.5.0",
          "state": {
            "_model_module": "@jupyter-widgets/controls",
            "_model_module_version": "1.5.0",
            "_model_name": "DescriptionStyleModel",
            "_view_count": null,
            "_view_module": "@jupyter-widgets/base",
            "_view_module_version": "1.2.0",
            "_view_name": "StyleView",
            "description_width": ""
          }
        },
        "6375eda5f83943fba424d92acf0cbaee": {
          "model_module": "@jupyter-widgets/base",
          "model_name": "LayoutModel",
          "model_module_version": "1.2.0",
          "state": {
            "_model_module": "@jupyter-widgets/base",
            "_model_module_version": "1.2.0",
            "_model_name": "LayoutModel",
            "_view_count": null,
            "_view_module": "@jupyter-widgets/base",
            "_view_module_version": "1.2.0",
            "_view_name": "LayoutView",
            "align_content": null,
            "align_items": null,
            "align_self": null,
            "border": null,
            "bottom": null,
            "display": null,
            "flex": null,
            "flex_flow": null,
            "grid_area": null,
            "grid_auto_columns": null,
            "grid_auto_flow": null,
            "grid_auto_rows": null,
            "grid_column": null,
            "grid_gap": null,
            "grid_row": null,
            "grid_template_areas": null,
            "grid_template_columns": null,
            "grid_template_rows": null,
            "height": null,
            "justify_content": null,
            "justify_items": null,
            "left": null,
            "margin": null,
            "max_height": null,
            "max_width": null,
            "min_height": null,
            "min_width": null,
            "object_fit": null,
            "object_position": null,
            "order": null,
            "overflow": null,
            "overflow_x": null,
            "overflow_y": null,
            "padding": null,
            "right": null,
            "top": null,
            "visibility": null,
            "width": null
          }
        },
        "8d6f862b0b4c4e45a71f3b58fa6454ef": {
          "model_module": "@jupyter-widgets/controls",
          "model_name": "ProgressStyleModel",
          "model_module_version": "1.5.0",
          "state": {
            "_model_module": "@jupyter-widgets/controls",
            "_model_module_version": "1.5.0",
            "_model_name": "ProgressStyleModel",
            "_view_count": null,
            "_view_module": "@jupyter-widgets/base",
            "_view_module_version": "1.2.0",
            "_view_name": "StyleView",
            "bar_color": null,
            "description_width": ""
          }
        },
        "fe175597209e47a0b37b59a96784efdc": {
          "model_module": "@jupyter-widgets/base",
          "model_name": "LayoutModel",
          "model_module_version": "1.2.0",
          "state": {
            "_model_module": "@jupyter-widgets/base",
            "_model_module_version": "1.2.0",
            "_model_name": "LayoutModel",
            "_view_count": null,
            "_view_module": "@jupyter-widgets/base",
            "_view_module_version": "1.2.0",
            "_view_name": "LayoutView",
            "align_content": null,
            "align_items": null,
            "align_self": null,
            "border": null,
            "bottom": null,
            "display": null,
            "flex": null,
            "flex_flow": null,
            "grid_area": null,
            "grid_auto_columns": null,
            "grid_auto_flow": null,
            "grid_auto_rows": null,
            "grid_column": null,
            "grid_gap": null,
            "grid_row": null,
            "grid_template_areas": null,
            "grid_template_columns": null,
            "grid_template_rows": null,
            "height": null,
            "justify_content": null,
            "justify_items": null,
            "left": null,
            "margin": null,
            "max_height": null,
            "max_width": null,
            "min_height": null,
            "min_width": null,
            "object_fit": null,
            "object_position": null,
            "order": null,
            "overflow": null,
            "overflow_x": null,
            "overflow_y": null,
            "padding": null,
            "right": null,
            "top": null,
            "visibility": null,
            "width": null
          }
        },
        "b3813ee5e0d748d8b0405026d61b7ab0": {
          "model_module": "@jupyter-widgets/controls",
          "model_name": "DescriptionStyleModel",
          "model_module_version": "1.5.0",
          "state": {
            "_model_module": "@jupyter-widgets/controls",
            "_model_module_version": "1.5.0",
            "_model_name": "DescriptionStyleModel",
            "_view_count": null,
            "_view_module": "@jupyter-widgets/base",
            "_view_module_version": "1.2.0",
            "_view_name": "StyleView",
            "description_width": ""
          }
        }
      }
    }
  },
  "cells": [
    {
      "cell_type": "code",
      "source": [
        "# !pip install bertopic\n",
        "# !pip install bertopic[flair]\n",
        "# !pip install bertopic[gensim]\n",
        "# !pip install bertopic[spacy]\n",
        "# !pip install bertopic[use]\n",
        "# !pip install bertopic[all]\n",
        "# !pip install Sastrawi"
      ],
      "metadata": {
        "colab": {
          "base_uri": "https://localhost:8080/"
        },
        "id": "tqTcr2wO6tTy",
        "outputId": "46ce3597-d31e-4e7e-9d1c-a67be5481a4c"
      },
      "execution_count": 2,
      "outputs": [
        {
          "output_type": "stream",
          "name": "stdout",
          "text": [
            "Collecting bertopic\n",
            "  Downloading bertopic-0.16.2-py2.py3-none-any.whl (158 kB)\n",
            "\u001b[?25l     \u001b[90m━━━━━━━━━━━━━━━━━━━━━━━━━━━━━━━━━━━━━━━━\u001b[0m \u001b[32m0.0/158.8 kB\u001b[0m \u001b[31m?\u001b[0m eta \u001b[36m-:--:--\u001b[0m\r\u001b[2K     \u001b[91m━━━━━━━━━━━━━━━━━━━━━━━\u001b[0m\u001b[90m╺\u001b[0m\u001b[90m━━━━━━━━━━━━━━━━\u001b[0m \u001b[32m92.2/158.8 kB\u001b[0m \u001b[31m2.7 MB/s\u001b[0m eta \u001b[36m0:00:01\u001b[0m\r\u001b[2K     \u001b[90m━━━━━━━━━━━━━━━━━━━━━━━━━━━━━━━━━━━━━━━━\u001b[0m \u001b[32m158.8/158.8 kB\u001b[0m \u001b[31m3.1 MB/s\u001b[0m eta \u001b[36m0:00:00\u001b[0m\n",
            "\u001b[?25hRequirement already satisfied: numpy>=1.20.0 in /usr/local/lib/python3.10/dist-packages (from bertopic) (1.25.2)\n",
            "Collecting hdbscan>=0.8.29 (from bertopic)\n",
            "  Downloading hdbscan-0.8.37-cp310-cp310-manylinux_2_17_x86_64.manylinux2014_x86_64.whl (3.6 MB)\n",
            "\u001b[2K     \u001b[90m━━━━━━━━━━━━━━━━━━━━━━━━━━━━━━━━━━━━━━━━\u001b[0m \u001b[32m3.6/3.6 MB\u001b[0m \u001b[31m10.1 MB/s\u001b[0m eta \u001b[36m0:00:00\u001b[0m\n",
            "\u001b[?25hCollecting umap-learn>=0.5.0 (from bertopic)\n",
            "  Downloading umap_learn-0.5.6-py3-none-any.whl (85 kB)\n",
            "\u001b[2K     \u001b[90m━━━━━━━━━━━━━━━━━━━━━━━━━━━━━━━━━━━━━━━━\u001b[0m \u001b[32m85.7/85.7 kB\u001b[0m \u001b[31m10.8 MB/s\u001b[0m eta \u001b[36m0:00:00\u001b[0m\n",
            "\u001b[?25hRequirement already satisfied: pandas>=1.1.5 in /usr/local/lib/python3.10/dist-packages (from bertopic) (2.0.3)\n",
            "Requirement already satisfied: scikit-learn>=0.22.2.post1 in /usr/local/lib/python3.10/dist-packages (from bertopic) (1.2.2)\n",
            "Requirement already satisfied: tqdm>=4.41.1 in /usr/local/lib/python3.10/dist-packages (from bertopic) (4.66.4)\n",
            "Collecting sentence-transformers>=0.4.1 (from bertopic)\n",
            "  Downloading sentence_transformers-3.0.1-py3-none-any.whl (227 kB)\n",
            "\u001b[2K     \u001b[90m━━━━━━━━━━━━━━━━━━━━━━━━━━━━━━━━━━━━━━━━\u001b[0m \u001b[32m227.1/227.1 kB\u001b[0m \u001b[31m16.8 MB/s\u001b[0m eta \u001b[36m0:00:00\u001b[0m\n",
            "\u001b[?25hRequirement already satisfied: plotly>=4.7.0 in /usr/local/lib/python3.10/dist-packages (from bertopic) (5.15.0)\n",
            "Collecting cython<3,>=0.27 (from hdbscan>=0.8.29->bertopic)\n",
            "  Downloading Cython-0.29.37-cp310-cp310-manylinux_2_17_x86_64.manylinux2014_x86_64.manylinux_2_24_x86_64.whl (1.9 MB)\n",
            "\u001b[2K     \u001b[90m━━━━━━━━━━━━━━━━━━━━━━━━━━━━━━━━━━━━━━━━\u001b[0m \u001b[32m1.9/1.9 MB\u001b[0m \u001b[31m18.5 MB/s\u001b[0m eta \u001b[36m0:00:00\u001b[0m\n",
            "\u001b[?25hRequirement already satisfied: scipy>=1.0 in /usr/local/lib/python3.10/dist-packages (from hdbscan>=0.8.29->bertopic) (1.11.4)\n",
            "Requirement already satisfied: joblib>=1.0 in /usr/local/lib/python3.10/dist-packages (from hdbscan>=0.8.29->bertopic) (1.4.2)\n",
            "Requirement already satisfied: python-dateutil>=2.8.2 in /usr/local/lib/python3.10/dist-packages (from pandas>=1.1.5->bertopic) (2.8.2)\n",
            "Requirement already satisfied: pytz>=2020.1 in /usr/local/lib/python3.10/dist-packages (from pandas>=1.1.5->bertopic) (2023.4)\n",
            "Requirement already satisfied: tzdata>=2022.1 in /usr/local/lib/python3.10/dist-packages (from pandas>=1.1.5->bertopic) (2024.1)\n",
            "Requirement already satisfied: tenacity>=6.2.0 in /usr/local/lib/python3.10/dist-packages (from plotly>=4.7.0->bertopic) (8.4.2)\n",
            "Requirement already satisfied: packaging in /usr/local/lib/python3.10/dist-packages (from plotly>=4.7.0->bertopic) (24.1)\n",
            "Requirement already satisfied: threadpoolctl>=2.0.0 in /usr/local/lib/python3.10/dist-packages (from scikit-learn>=0.22.2.post1->bertopic) (3.5.0)\n",
            "Requirement already satisfied: transformers<5.0.0,>=4.34.0 in /usr/local/lib/python3.10/dist-packages (from sentence-transformers>=0.4.1->bertopic) (4.41.2)\n",
            "Requirement already satisfied: torch>=1.11.0 in /usr/local/lib/python3.10/dist-packages (from sentence-transformers>=0.4.1->bertopic) (2.3.0+cu121)\n",
            "Requirement already satisfied: huggingface-hub>=0.15.1 in /usr/local/lib/python3.10/dist-packages (from sentence-transformers>=0.4.1->bertopic) (0.23.4)\n",
            "Requirement already satisfied: Pillow in /usr/local/lib/python3.10/dist-packages (from sentence-transformers>=0.4.1->bertopic) (9.4.0)\n",
            "Requirement already satisfied: numba>=0.51.2 in /usr/local/lib/python3.10/dist-packages (from umap-learn>=0.5.0->bertopic) (0.58.1)\n",
            "Collecting pynndescent>=0.5 (from umap-learn>=0.5.0->bertopic)\n",
            "  Downloading pynndescent-0.5.13-py3-none-any.whl (56 kB)\n",
            "\u001b[2K     \u001b[90m━━━━━━━━━━━━━━━━━━━━━━━━━━━━━━━━━━━━━━━━\u001b[0m \u001b[32m56.9/56.9 kB\u001b[0m \u001b[31m7.6 MB/s\u001b[0m eta \u001b[36m0:00:00\u001b[0m\n",
            "\u001b[?25hRequirement already satisfied: filelock in /usr/local/lib/python3.10/dist-packages (from huggingface-hub>=0.15.1->sentence-transformers>=0.4.1->bertopic) (3.15.4)\n",
            "Requirement already satisfied: fsspec>=2023.5.0 in /usr/local/lib/python3.10/dist-packages (from huggingface-hub>=0.15.1->sentence-transformers>=0.4.1->bertopic) (2023.6.0)\n",
            "Requirement already satisfied: pyyaml>=5.1 in /usr/local/lib/python3.10/dist-packages (from huggingface-hub>=0.15.1->sentence-transformers>=0.4.1->bertopic) (6.0.1)\n",
            "Requirement already satisfied: requests in /usr/local/lib/python3.10/dist-packages (from huggingface-hub>=0.15.1->sentence-transformers>=0.4.1->bertopic) (2.31.0)\n",
            "Requirement already satisfied: typing-extensions>=3.7.4.3 in /usr/local/lib/python3.10/dist-packages (from huggingface-hub>=0.15.1->sentence-transformers>=0.4.1->bertopic) (4.12.2)\n",
            "Requirement already satisfied: llvmlite<0.42,>=0.41.0dev0 in /usr/local/lib/python3.10/dist-packages (from numba>=0.51.2->umap-learn>=0.5.0->bertopic) (0.41.1)\n",
            "Requirement already satisfied: six>=1.5 in /usr/local/lib/python3.10/dist-packages (from python-dateutil>=2.8.2->pandas>=1.1.5->bertopic) (1.16.0)\n",
            "Requirement already satisfied: sympy in /usr/local/lib/python3.10/dist-packages (from torch>=1.11.0->sentence-transformers>=0.4.1->bertopic) (1.12.1)\n",
            "Requirement already satisfied: networkx in /usr/local/lib/python3.10/dist-packages (from torch>=1.11.0->sentence-transformers>=0.4.1->bertopic) (3.3)\n",
            "Requirement already satisfied: jinja2 in /usr/local/lib/python3.10/dist-packages (from torch>=1.11.0->sentence-transformers>=0.4.1->bertopic) (3.1.4)\n",
            "Collecting nvidia-cuda-nvrtc-cu12==12.1.105 (from torch>=1.11.0->sentence-transformers>=0.4.1->bertopic)\n",
            "  Using cached nvidia_cuda_nvrtc_cu12-12.1.105-py3-none-manylinux1_x86_64.whl (23.7 MB)\n",
            "Collecting nvidia-cuda-runtime-cu12==12.1.105 (from torch>=1.11.0->sentence-transformers>=0.4.1->bertopic)\n",
            "  Using cached nvidia_cuda_runtime_cu12-12.1.105-py3-none-manylinux1_x86_64.whl (823 kB)\n",
            "Collecting nvidia-cuda-cupti-cu12==12.1.105 (from torch>=1.11.0->sentence-transformers>=0.4.1->bertopic)\n",
            "  Using cached nvidia_cuda_cupti_cu12-12.1.105-py3-none-manylinux1_x86_64.whl (14.1 MB)\n",
            "Collecting nvidia-cudnn-cu12==8.9.2.26 (from torch>=1.11.0->sentence-transformers>=0.4.1->bertopic)\n",
            "  Using cached nvidia_cudnn_cu12-8.9.2.26-py3-none-manylinux1_x86_64.whl (731.7 MB)\n",
            "Collecting nvidia-cublas-cu12==12.1.3.1 (from torch>=1.11.0->sentence-transformers>=0.4.1->bertopic)\n",
            "  Using cached nvidia_cublas_cu12-12.1.3.1-py3-none-manylinux1_x86_64.whl (410.6 MB)\n",
            "Collecting nvidia-cufft-cu12==11.0.2.54 (from torch>=1.11.0->sentence-transformers>=0.4.1->bertopic)\n",
            "  Using cached nvidia_cufft_cu12-11.0.2.54-py3-none-manylinux1_x86_64.whl (121.6 MB)\n",
            "Collecting nvidia-curand-cu12==10.3.2.106 (from torch>=1.11.0->sentence-transformers>=0.4.1->bertopic)\n",
            "  Using cached nvidia_curand_cu12-10.3.2.106-py3-none-manylinux1_x86_64.whl (56.5 MB)\n",
            "Collecting nvidia-cusolver-cu12==11.4.5.107 (from torch>=1.11.0->sentence-transformers>=0.4.1->bertopic)\n",
            "  Using cached nvidia_cusolver_cu12-11.4.5.107-py3-none-manylinux1_x86_64.whl (124.2 MB)\n",
            "Collecting nvidia-cusparse-cu12==12.1.0.106 (from torch>=1.11.0->sentence-transformers>=0.4.1->bertopic)\n",
            "  Using cached nvidia_cusparse_cu12-12.1.0.106-py3-none-manylinux1_x86_64.whl (196.0 MB)\n",
            "Collecting nvidia-nccl-cu12==2.20.5 (from torch>=1.11.0->sentence-transformers>=0.4.1->bertopic)\n",
            "  Using cached nvidia_nccl_cu12-2.20.5-py3-none-manylinux2014_x86_64.whl (176.2 MB)\n",
            "Collecting nvidia-nvtx-cu12==12.1.105 (from torch>=1.11.0->sentence-transformers>=0.4.1->bertopic)\n",
            "  Using cached nvidia_nvtx_cu12-12.1.105-py3-none-manylinux1_x86_64.whl (99 kB)\n",
            "Requirement already satisfied: triton==2.3.0 in /usr/local/lib/python3.10/dist-packages (from torch>=1.11.0->sentence-transformers>=0.4.1->bertopic) (2.3.0)\n",
            "Collecting nvidia-nvjitlink-cu12 (from nvidia-cusolver-cu12==11.4.5.107->torch>=1.11.0->sentence-transformers>=0.4.1->bertopic)\n",
            "  Downloading nvidia_nvjitlink_cu12-12.5.82-py3-none-manylinux2014_x86_64.whl (21.3 MB)\n",
            "\u001b[2K     \u001b[90m━━━━━━━━━━━━━━━━━━━━━━━━━━━━━━━━━━━━━━━━\u001b[0m \u001b[32m21.3/21.3 MB\u001b[0m \u001b[31m25.4 MB/s\u001b[0m eta \u001b[36m0:00:00\u001b[0m\n",
            "\u001b[?25hRequirement already satisfied: regex!=2019.12.17 in /usr/local/lib/python3.10/dist-packages (from transformers<5.0.0,>=4.34.0->sentence-transformers>=0.4.1->bertopic) (2024.5.15)\n",
            "Requirement already satisfied: tokenizers<0.20,>=0.19 in /usr/local/lib/python3.10/dist-packages (from transformers<5.0.0,>=4.34.0->sentence-transformers>=0.4.1->bertopic) (0.19.1)\n",
            "Requirement already satisfied: safetensors>=0.4.1 in /usr/local/lib/python3.10/dist-packages (from transformers<5.0.0,>=4.34.0->sentence-transformers>=0.4.1->bertopic) (0.4.3)\n",
            "Requirement already satisfied: MarkupSafe>=2.0 in /usr/local/lib/python3.10/dist-packages (from jinja2->torch>=1.11.0->sentence-transformers>=0.4.1->bertopic) (2.1.5)\n",
            "Requirement already satisfied: charset-normalizer<4,>=2 in /usr/local/lib/python3.10/dist-packages (from requests->huggingface-hub>=0.15.1->sentence-transformers>=0.4.1->bertopic) (3.3.2)\n",
            "Requirement already satisfied: idna<4,>=2.5 in /usr/local/lib/python3.10/dist-packages (from requests->huggingface-hub>=0.15.1->sentence-transformers>=0.4.1->bertopic) (3.7)\n",
            "Requirement already satisfied: urllib3<3,>=1.21.1 in /usr/local/lib/python3.10/dist-packages (from requests->huggingface-hub>=0.15.1->sentence-transformers>=0.4.1->bertopic) (2.0.7)\n",
            "Requirement already satisfied: certifi>=2017.4.17 in /usr/local/lib/python3.10/dist-packages (from requests->huggingface-hub>=0.15.1->sentence-transformers>=0.4.1->bertopic) (2024.6.2)\n",
            "Requirement already satisfied: mpmath<1.4.0,>=1.1.0 in /usr/local/lib/python3.10/dist-packages (from sympy->torch>=1.11.0->sentence-transformers>=0.4.1->bertopic) (1.3.0)\n",
            "Installing collected packages: nvidia-nvtx-cu12, nvidia-nvjitlink-cu12, nvidia-nccl-cu12, nvidia-curand-cu12, nvidia-cufft-cu12, nvidia-cuda-runtime-cu12, nvidia-cuda-nvrtc-cu12, nvidia-cuda-cupti-cu12, nvidia-cublas-cu12, cython, nvidia-cusparse-cu12, nvidia-cudnn-cu12, pynndescent, nvidia-cusolver-cu12, hdbscan, umap-learn, sentence-transformers, bertopic\n",
            "  Attempting uninstall: cython\n",
            "    Found existing installation: Cython 3.0.10\n",
            "    Uninstalling Cython-3.0.10:\n",
            "      Successfully uninstalled Cython-3.0.10\n",
            "Successfully installed bertopic-0.16.2 cython-0.29.37 hdbscan-0.8.37 nvidia-cublas-cu12-12.1.3.1 nvidia-cuda-cupti-cu12-12.1.105 nvidia-cuda-nvrtc-cu12-12.1.105 nvidia-cuda-runtime-cu12-12.1.105 nvidia-cudnn-cu12-8.9.2.26 nvidia-cufft-cu12-11.0.2.54 nvidia-curand-cu12-10.3.2.106 nvidia-cusolver-cu12-11.4.5.107 nvidia-cusparse-cu12-12.1.0.106 nvidia-nccl-cu12-2.20.5 nvidia-nvjitlink-cu12-12.5.82 nvidia-nvtx-cu12-12.1.105 pynndescent-0.5.13 sentence-transformers-3.0.1 umap-learn-0.5.6\n",
            "Requirement already satisfied: bertopic[all] in /usr/local/lib/python3.10/dist-packages (0.16.2)\n",
            "\u001b[33mWARNING: bertopic 0.16.2 does not provide the extra 'all'\u001b[0m\u001b[33m\n",
            "\u001b[0mRequirement already satisfied: numpy>=1.20.0 in /usr/local/lib/python3.10/dist-packages (from bertopic[all]) (1.25.2)\n",
            "Requirement already satisfied: hdbscan>=0.8.29 in /usr/local/lib/python3.10/dist-packages (from bertopic[all]) (0.8.37)\n",
            "Requirement already satisfied: umap-learn>=0.5.0 in /usr/local/lib/python3.10/dist-packages (from bertopic[all]) (0.5.6)\n",
            "Requirement already satisfied: pandas>=1.1.5 in /usr/local/lib/python3.10/dist-packages (from bertopic[all]) (2.0.3)\n",
            "Requirement already satisfied: scikit-learn>=0.22.2.post1 in /usr/local/lib/python3.10/dist-packages (from bertopic[all]) (1.2.2)\n",
            "Requirement already satisfied: tqdm>=4.41.1 in /usr/local/lib/python3.10/dist-packages (from bertopic[all]) (4.66.4)\n",
            "Requirement already satisfied: sentence-transformers>=0.4.1 in /usr/local/lib/python3.10/dist-packages (from bertopic[all]) (3.0.1)\n",
            "Requirement already satisfied: plotly>=4.7.0 in /usr/local/lib/python3.10/dist-packages (from bertopic[all]) (5.15.0)\n",
            "Requirement already satisfied: cython<3,>=0.27 in /usr/local/lib/python3.10/dist-packages (from hdbscan>=0.8.29->bertopic[all]) (0.29.37)\n",
            "Requirement already satisfied: scipy>=1.0 in /usr/local/lib/python3.10/dist-packages (from hdbscan>=0.8.29->bertopic[all]) (1.11.4)\n",
            "Requirement already satisfied: joblib>=1.0 in /usr/local/lib/python3.10/dist-packages (from hdbscan>=0.8.29->bertopic[all]) (1.4.2)\n",
            "Requirement already satisfied: python-dateutil>=2.8.2 in /usr/local/lib/python3.10/dist-packages (from pandas>=1.1.5->bertopic[all]) (2.8.2)\n",
            "Requirement already satisfied: pytz>=2020.1 in /usr/local/lib/python3.10/dist-packages (from pandas>=1.1.5->bertopic[all]) (2023.4)\n",
            "Requirement already satisfied: tzdata>=2022.1 in /usr/local/lib/python3.10/dist-packages (from pandas>=1.1.5->bertopic[all]) (2024.1)\n",
            "Requirement already satisfied: tenacity>=6.2.0 in /usr/local/lib/python3.10/dist-packages (from plotly>=4.7.0->bertopic[all]) (8.4.2)\n",
            "Requirement already satisfied: packaging in /usr/local/lib/python3.10/dist-packages (from plotly>=4.7.0->bertopic[all]) (24.1)\n",
            "Requirement already satisfied: threadpoolctl>=2.0.0 in /usr/local/lib/python3.10/dist-packages (from scikit-learn>=0.22.2.post1->bertopic[all]) (3.5.0)\n",
            "Requirement already satisfied: transformers<5.0.0,>=4.34.0 in /usr/local/lib/python3.10/dist-packages (from sentence-transformers>=0.4.1->bertopic[all]) (4.41.2)\n",
            "Requirement already satisfied: torch>=1.11.0 in /usr/local/lib/python3.10/dist-packages (from sentence-transformers>=0.4.1->bertopic[all]) (2.3.0+cu121)\n",
            "Requirement already satisfied: huggingface-hub>=0.15.1 in /usr/local/lib/python3.10/dist-packages (from sentence-transformers>=0.4.1->bertopic[all]) (0.23.4)\n",
            "Requirement already satisfied: Pillow in /usr/local/lib/python3.10/dist-packages (from sentence-transformers>=0.4.1->bertopic[all]) (9.4.0)\n",
            "Requirement already satisfied: numba>=0.51.2 in /usr/local/lib/python3.10/dist-packages (from umap-learn>=0.5.0->bertopic[all]) (0.58.1)\n",
            "Requirement already satisfied: pynndescent>=0.5 in /usr/local/lib/python3.10/dist-packages (from umap-learn>=0.5.0->bertopic[all]) (0.5.13)\n",
            "Requirement already satisfied: filelock in /usr/local/lib/python3.10/dist-packages (from huggingface-hub>=0.15.1->sentence-transformers>=0.4.1->bertopic[all]) (3.15.4)\n",
            "Requirement already satisfied: fsspec>=2023.5.0 in /usr/local/lib/python3.10/dist-packages (from huggingface-hub>=0.15.1->sentence-transformers>=0.4.1->bertopic[all]) (2023.6.0)\n",
            "Requirement already satisfied: pyyaml>=5.1 in /usr/local/lib/python3.10/dist-packages (from huggingface-hub>=0.15.1->sentence-transformers>=0.4.1->bertopic[all]) (6.0.1)\n",
            "Requirement already satisfied: requests in /usr/local/lib/python3.10/dist-packages (from huggingface-hub>=0.15.1->sentence-transformers>=0.4.1->bertopic[all]) (2.31.0)\n",
            "Requirement already satisfied: typing-extensions>=3.7.4.3 in /usr/local/lib/python3.10/dist-packages (from huggingface-hub>=0.15.1->sentence-transformers>=0.4.1->bertopic[all]) (4.12.2)\n",
            "Requirement already satisfied: llvmlite<0.42,>=0.41.0dev0 in /usr/local/lib/python3.10/dist-packages (from numba>=0.51.2->umap-learn>=0.5.0->bertopic[all]) (0.41.1)\n",
            "Requirement already satisfied: six>=1.5 in /usr/local/lib/python3.10/dist-packages (from python-dateutil>=2.8.2->pandas>=1.1.5->bertopic[all]) (1.16.0)\n",
            "Requirement already satisfied: sympy in /usr/local/lib/python3.10/dist-packages (from torch>=1.11.0->sentence-transformers>=0.4.1->bertopic[all]) (1.12.1)\n",
            "Requirement already satisfied: networkx in /usr/local/lib/python3.10/dist-packages (from torch>=1.11.0->sentence-transformers>=0.4.1->bertopic[all]) (3.3)\n",
            "Requirement already satisfied: jinja2 in /usr/local/lib/python3.10/dist-packages (from torch>=1.11.0->sentence-transformers>=0.4.1->bertopic[all]) (3.1.4)\n",
            "Requirement already satisfied: nvidia-cuda-nvrtc-cu12==12.1.105 in /usr/local/lib/python3.10/dist-packages (from torch>=1.11.0->sentence-transformers>=0.4.1->bertopic[all]) (12.1.105)\n",
            "Requirement already satisfied: nvidia-cuda-runtime-cu12==12.1.105 in /usr/local/lib/python3.10/dist-packages (from torch>=1.11.0->sentence-transformers>=0.4.1->bertopic[all]) (12.1.105)\n",
            "Requirement already satisfied: nvidia-cuda-cupti-cu12==12.1.105 in /usr/local/lib/python3.10/dist-packages (from torch>=1.11.0->sentence-transformers>=0.4.1->bertopic[all]) (12.1.105)\n",
            "Requirement already satisfied: nvidia-cudnn-cu12==8.9.2.26 in /usr/local/lib/python3.10/dist-packages (from torch>=1.11.0->sentence-transformers>=0.4.1->bertopic[all]) (8.9.2.26)\n",
            "Requirement already satisfied: nvidia-cublas-cu12==12.1.3.1 in /usr/local/lib/python3.10/dist-packages (from torch>=1.11.0->sentence-transformers>=0.4.1->bertopic[all]) (12.1.3.1)\n",
            "Requirement already satisfied: nvidia-cufft-cu12==11.0.2.54 in /usr/local/lib/python3.10/dist-packages (from torch>=1.11.0->sentence-transformers>=0.4.1->bertopic[all]) (11.0.2.54)\n",
            "Requirement already satisfied: nvidia-curand-cu12==10.3.2.106 in /usr/local/lib/python3.10/dist-packages (from torch>=1.11.0->sentence-transformers>=0.4.1->bertopic[all]) (10.3.2.106)\n",
            "Requirement already satisfied: nvidia-cusolver-cu12==11.4.5.107 in /usr/local/lib/python3.10/dist-packages (from torch>=1.11.0->sentence-transformers>=0.4.1->bertopic[all]) (11.4.5.107)\n",
            "Requirement already satisfied: nvidia-cusparse-cu12==12.1.0.106 in /usr/local/lib/python3.10/dist-packages (from torch>=1.11.0->sentence-transformers>=0.4.1->bertopic[all]) (12.1.0.106)\n",
            "Requirement already satisfied: nvidia-nccl-cu12==2.20.5 in /usr/local/lib/python3.10/dist-packages (from torch>=1.11.0->sentence-transformers>=0.4.1->bertopic[all]) (2.20.5)\n",
            "Requirement already satisfied: nvidia-nvtx-cu12==12.1.105 in /usr/local/lib/python3.10/dist-packages (from torch>=1.11.0->sentence-transformers>=0.4.1->bertopic[all]) (12.1.105)\n",
            "Requirement already satisfied: triton==2.3.0 in /usr/local/lib/python3.10/dist-packages (from torch>=1.11.0->sentence-transformers>=0.4.1->bertopic[all]) (2.3.0)\n",
            "Requirement already satisfied: nvidia-nvjitlink-cu12 in /usr/local/lib/python3.10/dist-packages (from nvidia-cusolver-cu12==11.4.5.107->torch>=1.11.0->sentence-transformers>=0.4.1->bertopic[all]) (12.5.82)\n",
            "Requirement already satisfied: regex!=2019.12.17 in /usr/local/lib/python3.10/dist-packages (from transformers<5.0.0,>=4.34.0->sentence-transformers>=0.4.1->bertopic[all]) (2024.5.15)\n",
            "Requirement already satisfied: tokenizers<0.20,>=0.19 in /usr/local/lib/python3.10/dist-packages (from transformers<5.0.0,>=4.34.0->sentence-transformers>=0.4.1->bertopic[all]) (0.19.1)\n",
            "Requirement already satisfied: safetensors>=0.4.1 in /usr/local/lib/python3.10/dist-packages (from transformers<5.0.0,>=4.34.0->sentence-transformers>=0.4.1->bertopic[all]) (0.4.3)\n",
            "Requirement already satisfied: MarkupSafe>=2.0 in /usr/local/lib/python3.10/dist-packages (from jinja2->torch>=1.11.0->sentence-transformers>=0.4.1->bertopic[all]) (2.1.5)\n",
            "Requirement already satisfied: charset-normalizer<4,>=2 in /usr/local/lib/python3.10/dist-packages (from requests->huggingface-hub>=0.15.1->sentence-transformers>=0.4.1->bertopic[all]) (3.3.2)\n",
            "Requirement already satisfied: idna<4,>=2.5 in /usr/local/lib/python3.10/dist-packages (from requests->huggingface-hub>=0.15.1->sentence-transformers>=0.4.1->bertopic[all]) (3.7)\n",
            "Requirement already satisfied: urllib3<3,>=1.21.1 in /usr/local/lib/python3.10/dist-packages (from requests->huggingface-hub>=0.15.1->sentence-transformers>=0.4.1->bertopic[all]) (2.0.7)\n",
            "Requirement already satisfied: certifi>=2017.4.17 in /usr/local/lib/python3.10/dist-packages (from requests->huggingface-hub>=0.15.1->sentence-transformers>=0.4.1->bertopic[all]) (2024.6.2)\n",
            "Requirement already satisfied: mpmath<1.4.0,>=1.1.0 in /usr/local/lib/python3.10/dist-packages (from sympy->torch>=1.11.0->sentence-transformers>=0.4.1->bertopic[all]) (1.3.0)\n"
          ]
        }
      ]
    },
    {
      "cell_type": "code",
      "source": [
        "import pandas as pd\n",
        "import numpy as np\n",
        "from bertopic import BERTopic\n",
        "# from Sastrawi.StopWordRemover.StopWordRemoverFactory import StopWordRemoverFactory\n",
        "import re,string"
      ],
      "metadata": {
        "id": "jFSmHWJQ7-qh"
      },
      "execution_count": 3,
      "outputs": []
    },
    {
      "cell_type": "code",
      "source": [
        "# 1 select data\n",
        "df = pd.read_csv('alquran_terjemah_indonesian.csv')\n",
        "text = df['text']\n"
      ],
      "metadata": {
        "id": "-77hgNci8Z_B"
      },
      "execution_count": 4,
      "outputs": []
    },
    {
      "cell_type": "code",
      "source": [
        "text.head()"
      ],
      "metadata": {
        "colab": {
          "base_uri": "https://localhost:8080/"
        },
        "id": "gFbfSL10G_Rk",
        "outputId": "da343163-d636-4150-844b-cd7a8f3ea483"
      },
      "execution_count": 8,
      "outputs": [
        {
          "output_type": "execute_result",
          "data": {
            "text/plain": [
              "0    Dengan menyebut nama Allah Yang Maha Pemurah l...\n",
              "1                               Segala puji bagi Allah\n",
              "2                    Maha Pemurah lagi Maha Penyayang.\n",
              "3                   Yang menguasai di Hari Pembalasan.\n",
              "4                     Hanya Engkaulah yang kami sembah\n",
              "Name: text, dtype: object"
            ]
          },
          "metadata": {},
          "execution_count": 8
        }
      ]
    },
    {
      "cell_type": "code",
      "source": [
        "# PREPROCESSING\n",
        "# Drop nilai yang kosong na\n",
        "text = text.fillna('')"
      ],
      "metadata": {
        "id": "t9lMxWMZ-eCy"
      },
      "execution_count": 5,
      "outputs": []
    },
    {
      "cell_type": "code",
      "source": [],
      "metadata": {
        "id": "4oQ9kkYL-ClR"
      },
      "execution_count": 32,
      "outputs": []
    },
    {
      "cell_type": "code",
      "source": [
        "# import word_tokenize & FreqDist from NLTK\n",
        "import nltk\n",
        "from nltk.tokenize import word_tokenize\n",
        "# from nltk.probability import FreqDist\n",
        "from nltk.corpus import stopwords\n",
        "# TOKENISASI\n",
        "nltk.download('punkt')"
      ],
      "metadata": {
        "colab": {
          "base_uri": "https://localhost:8080/"
        },
        "id": "Ju7UQmZbq1BF",
        "outputId": "67a66ff2-4cad-46e0-a81d-c65fa1e3cd5f"
      },
      "execution_count": 34,
      "outputs": [
        {
          "output_type": "stream",
          "name": "stderr",
          "text": [
            "[nltk_data] Downloading package punkt to /root/nltk_data...\n",
            "[nltk_data]   Unzipping tokenizers/punkt.zip.\n"
          ]
        },
        {
          "output_type": "execute_result",
          "data": {
            "text/plain": [
              "True"
            ]
          },
          "metadata": {},
          "execution_count": 34
        }
      ]
    },
    {
      "cell_type": "code",
      "source": [
        "def clean_text(text):\n",
        "    text = text.lower()  # Lower\n",
        "    text = re.sub(r'\\d+', '', text)  # Menghapus angka\n",
        "    text = re.sub(r'\\W', ' ', text)  # Menghapus karakter non-alfanumerik\n",
        "    text = re.sub(r'\\s+', ' ', text)\n",
        "    text = re.sub('\\s+',' ',text)\n",
        "    text = re.sub(r\"\\b[a-zA-Z]\\b\", \"\", text)\n",
        "      # Menghapus spasi berlebih\n",
        "    # text = re(str.maketrans('','',string.punctuation))\n",
        "    return text.strip()"
      ],
      "metadata": {
        "id": "nWBiVWVcrqHp"
      },
      "execution_count": 35,
      "outputs": []
    },
    {
      "cell_type": "code",
      "source": [
        "docs = text.apply(clean_text)\n",
        "# Menyiapkan dokumen\n"
      ],
      "metadata": {
        "id": "li5o983c-I2R"
      },
      "execution_count": 36,
      "outputs": []
    },
    {
      "cell_type": "code",
      "source": [
        "# NLTK word tokenize\n",
        "def word_tokenize_wrapper(text):\n",
        "    return word_tokenize(text)\n",
        "\n",
        "docs= text.apply(word_tokenize_wrapper)"
      ],
      "metadata": {
        "id": "q84EW4FzrxRj"
      },
      "execution_count": 37,
      "outputs": []
    },
    {
      "cell_type": "code",
      "source": [
        "docs.head().to_list()\n"
      ],
      "metadata": {
        "colab": {
          "base_uri": "https://localhost:8080/"
        },
        "id": "uzJJ9MHSIALY",
        "outputId": "10f02409-0383-475f-a5d0-4f1fac30725e"
      },
      "execution_count": 38,
      "outputs": [
        {
          "output_type": "execute_result",
          "data": {
            "text/plain": [
              "[['Dengan',\n",
              "  'menyebut',\n",
              "  'nama',\n",
              "  'Allah',\n",
              "  'Yang',\n",
              "  'Maha',\n",
              "  'Pemurah',\n",
              "  'lagi',\n",
              "  'Maha',\n",
              "  'Penyayang',\n",
              "  '.'],\n",
              " ['Segala', 'puji', 'bagi', 'Allah'],\n",
              " ['Maha', 'Pemurah', 'lagi', 'Maha', 'Penyayang', '.'],\n",
              " ['Yang', 'menguasai', 'di', 'Hari', 'Pembalasan', '.'],\n",
              " ['Hanya', 'Engkaulah', 'yang', 'kami', 'sembah']]"
            ]
          },
          "metadata": {},
          "execution_count": 38
        }
      ]
    },
    {
      "cell_type": "code",
      "source": [
        "# from Sastrawi.Stemmer.StemmerFactory import StemmerFactory\n",
        "# # create stemmer\n",
        "# factory = StemmerFactory()\n",
        "# stemmer = factory.create_stemmer()\n",
        "\n"
      ],
      "metadata": {
        "id": "mqcS5_M8KT1b"
      },
      "execution_count": null,
      "outputs": []
    },
    {
      "cell_type": "code",
      "source": [],
      "metadata": {
        "colab": {
          "base_uri": "https://localhost:8080/",
          "height": 287
        },
        "id": "U14LodQ1KpGy",
        "outputId": "49f0d3c5-6e65-45c0-cd64-282efa858957"
      },
      "execution_count": null,
      "outputs": [
        {
          "output_type": "error",
          "ename": "TypeError",
          "evalue": "descriptor 'lower' for 'str' objects doesn't apply to a 'list' object",
          "traceback": [
            "\u001b[0;31m---------------------------------------------------------------------------\u001b[0m",
            "\u001b[0;31mTypeError\u001b[0m                                 Traceback (most recent call last)",
            "\u001b[0;32m<ipython-input-60-1ec5a0af97ec>\u001b[0m in \u001b[0;36m<cell line: 1>\u001b[0;34m()\u001b[0m\n\u001b[0;32m----> 1\u001b[0;31m \u001b[0moutput\u001b[0m   \u001b[0;34m=\u001b[0m \u001b[0mstemmer\u001b[0m\u001b[0;34m.\u001b[0m\u001b[0mstem\u001b[0m\u001b[0;34m(\u001b[0m\u001b[0mdocs\u001b[0m\u001b[0;34m.\u001b[0m\u001b[0mtolist\u001b[0m\u001b[0;34m(\u001b[0m\u001b[0;34m)\u001b[0m\u001b[0;34m)\u001b[0m\u001b[0;34m\u001b[0m\u001b[0;34m\u001b[0m\u001b[0m\n\u001b[0m",
            "\u001b[0;32m/usr/local/lib/python3.10/dist-packages/Sastrawi/Stemmer/CachedStemmer.py\u001b[0m in \u001b[0;36mstem\u001b[0;34m(self, text)\u001b[0m\n\u001b[1;32m      9\u001b[0m \u001b[0;34m\u001b[0m\u001b[0m\n\u001b[1;32m     10\u001b[0m     \u001b[0;32mdef\u001b[0m \u001b[0mstem\u001b[0m\u001b[0;34m(\u001b[0m\u001b[0mself\u001b[0m\u001b[0;34m,\u001b[0m \u001b[0mtext\u001b[0m\u001b[0;34m)\u001b[0m\u001b[0;34m:\u001b[0m\u001b[0;34m\u001b[0m\u001b[0;34m\u001b[0m\u001b[0m\n\u001b[0;32m---> 11\u001b[0;31m         \u001b[0mnormalizedText\u001b[0m \u001b[0;34m=\u001b[0m \u001b[0mTextNormalizer\u001b[0m\u001b[0;34m.\u001b[0m\u001b[0mnormalize_text\u001b[0m\u001b[0;34m(\u001b[0m\u001b[0mtext\u001b[0m\u001b[0;34m)\u001b[0m\u001b[0;34m\u001b[0m\u001b[0;34m\u001b[0m\u001b[0m\n\u001b[0m\u001b[1;32m     12\u001b[0m \u001b[0;34m\u001b[0m\u001b[0m\n\u001b[1;32m     13\u001b[0m         \u001b[0mwords\u001b[0m \u001b[0;34m=\u001b[0m \u001b[0mnormalizedText\u001b[0m\u001b[0;34m.\u001b[0m\u001b[0msplit\u001b[0m\u001b[0;34m(\u001b[0m\u001b[0;34m' '\u001b[0m\u001b[0;34m)\u001b[0m\u001b[0;34m\u001b[0m\u001b[0;34m\u001b[0m\u001b[0m\n",
            "\u001b[0;32m/usr/local/lib/python3.10/dist-packages/Sastrawi/Stemmer/Filter/TextNormalizer.py\u001b[0m in \u001b[0;36mnormalize_text\u001b[0;34m(text)\u001b[0m\n\u001b[1;32m      2\u001b[0m \u001b[0;34m\u001b[0m\u001b[0m\n\u001b[1;32m      3\u001b[0m \u001b[0;32mdef\u001b[0m \u001b[0mnormalize_text\u001b[0m\u001b[0;34m(\u001b[0m\u001b[0mtext\u001b[0m\u001b[0;34m)\u001b[0m\u001b[0;34m:\u001b[0m\u001b[0;34m\u001b[0m\u001b[0;34m\u001b[0m\u001b[0m\n\u001b[0;32m----> 4\u001b[0;31m     \u001b[0mresult\u001b[0m \u001b[0;34m=\u001b[0m \u001b[0mstr\u001b[0m\u001b[0;34m.\u001b[0m\u001b[0mlower\u001b[0m\u001b[0;34m(\u001b[0m\u001b[0mtext\u001b[0m\u001b[0;34m)\u001b[0m\u001b[0;34m\u001b[0m\u001b[0;34m\u001b[0m\u001b[0m\n\u001b[0m\u001b[1;32m      5\u001b[0m     \u001b[0mresult\u001b[0m \u001b[0;34m=\u001b[0m \u001b[0mre\u001b[0m\u001b[0;34m.\u001b[0m\u001b[0msub\u001b[0m\u001b[0;34m(\u001b[0m\u001b[0;34mr'[^a-z0-9 -]'\u001b[0m\u001b[0;34m,\u001b[0m \u001b[0;34m' '\u001b[0m\u001b[0;34m,\u001b[0m \u001b[0mresult\u001b[0m\u001b[0;34m,\u001b[0m \u001b[0mflags\u001b[0m \u001b[0;34m=\u001b[0m \u001b[0mre\u001b[0m\u001b[0;34m.\u001b[0m\u001b[0mIGNORECASE\u001b[0m\u001b[0;34m|\u001b[0m\u001b[0mre\u001b[0m\u001b[0;34m.\u001b[0m\u001b[0mMULTILINE\u001b[0m\u001b[0;34m)\u001b[0m\u001b[0;34m\u001b[0m\u001b[0;34m\u001b[0m\u001b[0m\n\u001b[1;32m      6\u001b[0m     \u001b[0mresult\u001b[0m \u001b[0;34m=\u001b[0m \u001b[0mre\u001b[0m\u001b[0;34m.\u001b[0m\u001b[0msub\u001b[0m\u001b[0;34m(\u001b[0m\u001b[0;34mr'( +)'\u001b[0m\u001b[0;34m,\u001b[0m \u001b[0;34m' '\u001b[0m\u001b[0;34m,\u001b[0m \u001b[0mresult\u001b[0m\u001b[0;34m,\u001b[0m \u001b[0mflags\u001b[0m \u001b[0;34m=\u001b[0m \u001b[0mre\u001b[0m\u001b[0;34m.\u001b[0m\u001b[0mIGNORECASE\u001b[0m\u001b[0;34m|\u001b[0m\u001b[0mre\u001b[0m\u001b[0;34m.\u001b[0m\u001b[0mMULTILINE\u001b[0m\u001b[0;34m)\u001b[0m\u001b[0;34m\u001b[0m\u001b[0;34m\u001b[0m\u001b[0m\n",
            "\u001b[0;31mTypeError\u001b[0m: descriptor 'lower' for 'str' objects doesn't apply to a 'list' object"
          ]
        }
      ]
    },
    {
      "cell_type": "code",
      "source": [
        "print(docs)"
      ],
      "metadata": {
        "colab": {
          "base_uri": "https://localhost:8080/"
        },
        "id": "m3_vjVav-k0p",
        "outputId": "2f521f4a-182a-4433-9431-52a06b2dd351"
      },
      "execution_count": 39,
      "outputs": [
        {
          "output_type": "stream",
          "name": "stdout",
          "text": [
            "0       [Dengan, menyebut, nama, Allah, Yang, Maha, Pe...\n",
            "1                             [Segala, puji, bagi, Allah]\n",
            "2               [Maha, Pemurah, lagi, Maha, Penyayang, .]\n",
            "3              [Yang, menguasai, di, Hari, Pembalasan, .]\n",
            "4                  [Hanya, Engkaulah, yang, kami, sembah]\n",
            "                              ...                        \n",
            "6207                                   [Raja, manusia, .]\n",
            "6208                               [Sembahan, manusia, .]\n",
            "6209    [Dari, kejahatan, (, bisikan, ), syaitan, yang...\n",
            "6210    [yang, membisikkan, (, kejahatan, ), ke, dalam...\n",
            "6211         [dari, (, golongan, ), jin, dan, manusia, .]\n",
            "Name: text, Length: 6212, dtype: object\n"
          ]
        }
      ]
    },
    {
      "cell_type": "code",
      "execution_count": 40,
      "metadata": {
        "colab": {
          "base_uri": "https://localhost:8080/",
          "height": 188,
          "referenced_widgets": [
            "ab2dae5c234246a38857d40dabc00a70",
            "c994ee4be7274300a270de006027fac9",
            "90c8b05db00545768c0d8f2bbc2075cd",
            "138b77b34c884c849ffd94f8e9bbe0f6",
            "a2362b92652e4799956f24275a2af6dc",
            "b63ba1dd33d8429d80e314f1f75cac4e",
            "93a5af8f2b5f4b4dac6d3ef95a5594f8",
            "6375eda5f83943fba424d92acf0cbaee",
            "8d6f862b0b4c4e45a71f3b58fa6454ef",
            "fe175597209e47a0b37b59a96784efdc",
            "b3813ee5e0d748d8b0405026d61b7ab0"
          ]
        },
        "id": "6SCS-81nCyaQ",
        "outputId": "11800c25-a670-4670-8b2c-5a1cc51eb362"
      },
      "outputs": [
        {
          "output_type": "stream",
          "name": "stderr",
          "text": [
            "2024-07-04 12:20:06,881 - BERTopic - Embedding - Transforming documents to embeddings.\n"
          ]
        },
        {
          "output_type": "display_data",
          "data": {
            "text/plain": [
              "Batches:   0%|          | 0/195 [00:00<?, ?it/s]"
            ],
            "application/vnd.jupyter.widget-view+json": {
              "version_major": 2,
              "version_minor": 0,
              "model_id": "ab2dae5c234246a38857d40dabc00a70"
            }
          },
          "metadata": {}
        },
        {
          "output_type": "stream",
          "name": "stderr",
          "text": [
            "2024-07-04 12:21:44,456 - BERTopic - Embedding - Completed ✓\n",
            "2024-07-04 12:21:44,457 - BERTopic - Dimensionality - Fitting the dimensionality reduction algorithm\n",
            "2024-07-04 12:22:02,008 - BERTopic - Dimensionality - Completed ✓\n",
            "2024-07-04 12:22:02,011 - BERTopic - Cluster - Start clustering the reduced embeddings\n",
            "2024-07-04 12:22:02,319 - BERTopic - Cluster - Completed ✓\n",
            "2024-07-04 12:22:02,326 - BERTopic - Representation - Extracting topics from clusters using representation models.\n",
            "2024-07-04 12:22:02,509 - BERTopic - Representation - Completed ✓\n"
          ]
        }
      ],
      "source": [
        "# Apply cleaning function to text data\n",
        "docs = text.apply(clean_text)\n",
        "\n",
        "# Membuat model BERTopic\n",
        "model = BERTopic(verbose=True)\n",
        "\n",
        "# Melakukan fit dan transformasi dokumen\n",
        "topics, probabilities = model.fit_transform(docs.tolist())\n"
      ]
    },
    {
      "cell_type": "code",
      "source": [
        "# topic_distr, _ = model.approximate_distribution(docs)\n",
        "\n",
        "# topics, similarity = model.find_topics(\"sports\", top_n=10)\n",
        "\n",
        "# print(topics)\n",
        "# print(similarity)\n"
      ],
      "metadata": {
        "colab": {
          "base_uri": "https://localhost:8080/"
        },
        "id": "YBW4e-9BTL0A",
        "outputId": "1ce4eb65-79fe-43bd-c0b3-53de087562cc"
      },
      "execution_count": 18,
      "outputs": [
        {
          "output_type": "stream",
          "name": "stderr",
          "text": [
            "100%|██████████| 7/7 [00:00<00:00, 12.36it/s]\n"
          ]
        },
        {
          "output_type": "stream",
          "name": "stdout",
          "text": [
            "[3, 46, 71, 21, 36, 47, 35, 6, 14, 67]\n",
            "[0.3267783, 0.23418015, 0.22005096, 0.216439, 0.20080082, 0.18743302, 0.18633202, 0.17847377, 0.16211465, 0.15369277]\n"
          ]
        }
      ]
    },
    {
      "cell_type": "code",
      "source": [
        "model.get_topic_info()"
      ],
      "metadata": {
        "colab": {
          "base_uri": "https://localhost:8080/",
          "height": 527
        },
        "id": "QXZQ28NbGoqT",
        "outputId": "eee835ea-f238-4ea2-e1da-b902d91a9f68"
      },
      "execution_count": 41,
      "outputs": [
        {
          "output_type": "execute_result",
          "data": {
            "text/plain": [
              "    Topic  Count                                   Name  \\\n",
              "0      -1   1786                   -1_dia_kamu_dan_yang   \n",
              "1       0    762             0_orang_kafir_yang_beriman   \n",
              "2       1    627       1_telah_kami_sesungguhnya_mereka   \n",
              "3       2    299             2_mereka_tidak_maka_apakah   \n",
              "4       3    211                                  3____   \n",
              "..    ...    ...                                    ...   \n",
              "76     75     11                  75_miim_haa_thaa_siim   \n",
              "77     76     11                  76_alif_laam_miim_mim   \n",
              "78     77     10       77_ibrahim_tamu_hamba_anugrahkan   \n",
              "79     78     10  78_apa_mengetahui_nyatakan_rahasiakan   \n",
              "80     79     10    79_menyebut_bertasbihlah_buhul_nama   \n",
              "\n",
              "                                       Representation  \\\n",
              "0   [dia, kamu, dan, yang, itu, di, allah, mereka,...   \n",
              "1   [orang, kafir, yang, beriman, allah, dan, ayat...   \n",
              "2   [telah, kami, sesungguhnya, mereka, kepada, da...   \n",
              "3   [mereka, tidak, maka, apakah, di, azab, bidada...   \n",
              "4                                [, , , , , , , , , ]   \n",
              "..                                                ...   \n",
              "76  [miim, haa, thaa, siim, thaahaa, siin, jauh, ,...   \n",
              "77        [alif, laam, miim, mim, shaad, raa, , , , ]   \n",
              "78  [ibrahim, tamu, hamba, anugrahkan, kepda, pang...   \n",
              "79  [apa, mengetahui, nyatakan, rahasiakan, pengga...   \n",
              "80  [menyebut, bertasbihlah, buhul, nama, rabbmu, ...   \n",
              "\n",
              "                                  Representative_Docs  \n",
              "0   [sesungguhnya dia adalah yang maha mendengar l...  \n",
              "1   [sesungguhnya orang orang yang beriman, sesung...  \n",
              "2   [dan sesungguhnya kami telah mengutus sebelum ...  \n",
              "3   [maka tatkala mereka melihat azab kami, maka a...  \n",
              "4                                              [, , ]  \n",
              "..                                                ...  \n",
              "76                     [haa miim, haa miim, haa miim]  \n",
              "77   [alif laam miim, alif laam miim, alif laam miim]  \n",
              "78  [dan kami anugrahkan kepda ibrahim, dan kabark...  \n",
              "79  [dan allah mengetahui apa yang kamu rahasiakan...  \n",
              "80  [maka bertasbihlah dengan menyebut nama tuhanm...  \n",
              "\n",
              "[81 rows x 5 columns]"
            ],
            "text/html": [
              "\n",
              "  <div id=\"df-05a9f698-1b04-45db-a3fb-e79f43cbc224\" class=\"colab-df-container\">\n",
              "    <div>\n",
              "<style scoped>\n",
              "    .dataframe tbody tr th:only-of-type {\n",
              "        vertical-align: middle;\n",
              "    }\n",
              "\n",
              "    .dataframe tbody tr th {\n",
              "        vertical-align: top;\n",
              "    }\n",
              "\n",
              "    .dataframe thead th {\n",
              "        text-align: right;\n",
              "    }\n",
              "</style>\n",
              "<table border=\"1\" class=\"dataframe\">\n",
              "  <thead>\n",
              "    <tr style=\"text-align: right;\">\n",
              "      <th></th>\n",
              "      <th>Topic</th>\n",
              "      <th>Count</th>\n",
              "      <th>Name</th>\n",
              "      <th>Representation</th>\n",
              "      <th>Representative_Docs</th>\n",
              "    </tr>\n",
              "  </thead>\n",
              "  <tbody>\n",
              "    <tr>\n",
              "      <th>0</th>\n",
              "      <td>-1</td>\n",
              "      <td>1786</td>\n",
              "      <td>-1_dia_kamu_dan_yang</td>\n",
              "      <td>[dia, kamu, dan, yang, itu, di, allah, mereka,...</td>\n",
              "      <td>[sesungguhnya dia adalah yang maha mendengar l...</td>\n",
              "    </tr>\n",
              "    <tr>\n",
              "      <th>1</th>\n",
              "      <td>0</td>\n",
              "      <td>762</td>\n",
              "      <td>0_orang_kafir_yang_beriman</td>\n",
              "      <td>[orang, kafir, yang, beriman, allah, dan, ayat...</td>\n",
              "      <td>[sesungguhnya orang orang yang beriman, sesung...</td>\n",
              "    </tr>\n",
              "    <tr>\n",
              "      <th>2</th>\n",
              "      <td>1</td>\n",
              "      <td>627</td>\n",
              "      <td>1_telah_kami_sesungguhnya_mereka</td>\n",
              "      <td>[telah, kami, sesungguhnya, mereka, kepada, da...</td>\n",
              "      <td>[dan sesungguhnya kami telah mengutus sebelum ...</td>\n",
              "    </tr>\n",
              "    <tr>\n",
              "      <th>3</th>\n",
              "      <td>2</td>\n",
              "      <td>299</td>\n",
              "      <td>2_mereka_tidak_maka_apakah</td>\n",
              "      <td>[mereka, tidak, maka, apakah, di, azab, bidada...</td>\n",
              "      <td>[maka tatkala mereka melihat azab kami, maka a...</td>\n",
              "    </tr>\n",
              "    <tr>\n",
              "      <th>4</th>\n",
              "      <td>3</td>\n",
              "      <td>211</td>\n",
              "      <td>3____</td>\n",
              "      <td>[, , , , , , , , , ]</td>\n",
              "      <td>[, , ]</td>\n",
              "    </tr>\n",
              "    <tr>\n",
              "      <th>...</th>\n",
              "      <td>...</td>\n",
              "      <td>...</td>\n",
              "      <td>...</td>\n",
              "      <td>...</td>\n",
              "      <td>...</td>\n",
              "    </tr>\n",
              "    <tr>\n",
              "      <th>76</th>\n",
              "      <td>75</td>\n",
              "      <td>11</td>\n",
              "      <td>75_miim_haa_thaa_siim</td>\n",
              "      <td>[miim, haa, thaa, siim, thaahaa, siin, jauh, ,...</td>\n",
              "      <td>[haa miim, haa miim, haa miim]</td>\n",
              "    </tr>\n",
              "    <tr>\n",
              "      <th>77</th>\n",
              "      <td>76</td>\n",
              "      <td>11</td>\n",
              "      <td>76_alif_laam_miim_mim</td>\n",
              "      <td>[alif, laam, miim, mim, shaad, raa, , , , ]</td>\n",
              "      <td>[alif laam miim, alif laam miim, alif laam miim]</td>\n",
              "    </tr>\n",
              "    <tr>\n",
              "      <th>78</th>\n",
              "      <td>77</td>\n",
              "      <td>10</td>\n",
              "      <td>77_ibrahim_tamu_hamba_anugrahkan</td>\n",
              "      <td>[ibrahim, tamu, hamba, anugrahkan, kepda, pang...</td>\n",
              "      <td>[dan kami anugrahkan kepda ibrahim, dan kabark...</td>\n",
              "    </tr>\n",
              "    <tr>\n",
              "      <th>79</th>\n",
              "      <td>78</td>\n",
              "      <td>10</td>\n",
              "      <td>78_apa_mengetahui_nyatakan_rahasiakan</td>\n",
              "      <td>[apa, mengetahui, nyatakan, rahasiakan, pengga...</td>\n",
              "      <td>[dan allah mengetahui apa yang kamu rahasiakan...</td>\n",
              "    </tr>\n",
              "    <tr>\n",
              "      <th>80</th>\n",
              "      <td>79</td>\n",
              "      <td>10</td>\n",
              "      <td>79_menyebut_bertasbihlah_buhul_nama</td>\n",
              "      <td>[menyebut, bertasbihlah, buhul, nama, rabbmu, ...</td>\n",
              "      <td>[maka bertasbihlah dengan menyebut nama tuhanm...</td>\n",
              "    </tr>\n",
              "  </tbody>\n",
              "</table>\n",
              "<p>81 rows × 5 columns</p>\n",
              "</div>\n",
              "    <div class=\"colab-df-buttons\">\n",
              "\n",
              "  <div class=\"colab-df-container\">\n",
              "    <button class=\"colab-df-convert\" onclick=\"convertToInteractive('df-05a9f698-1b04-45db-a3fb-e79f43cbc224')\"\n",
              "            title=\"Convert this dataframe to an interactive table.\"\n",
              "            style=\"display:none;\">\n",
              "\n",
              "  <svg xmlns=\"http://www.w3.org/2000/svg\" height=\"24px\" viewBox=\"0 -960 960 960\">\n",
              "    <path d=\"M120-120v-720h720v720H120Zm60-500h600v-160H180v160Zm220 220h160v-160H400v160Zm0 220h160v-160H400v160ZM180-400h160v-160H180v160Zm440 0h160v-160H620v160ZM180-180h160v-160H180v160Zm440 0h160v-160H620v160Z\"/>\n",
              "  </svg>\n",
              "    </button>\n",
              "\n",
              "  <style>\n",
              "    .colab-df-container {\n",
              "      display:flex;\n",
              "      gap: 12px;\n",
              "    }\n",
              "\n",
              "    .colab-df-convert {\n",
              "      background-color: #E8F0FE;\n",
              "      border: none;\n",
              "      border-radius: 50%;\n",
              "      cursor: pointer;\n",
              "      display: none;\n",
              "      fill: #1967D2;\n",
              "      height: 32px;\n",
              "      padding: 0 0 0 0;\n",
              "      width: 32px;\n",
              "    }\n",
              "\n",
              "    .colab-df-convert:hover {\n",
              "      background-color: #E2EBFA;\n",
              "      box-shadow: 0px 1px 2px rgba(60, 64, 67, 0.3), 0px 1px 3px 1px rgba(60, 64, 67, 0.15);\n",
              "      fill: #174EA6;\n",
              "    }\n",
              "\n",
              "    .colab-df-buttons div {\n",
              "      margin-bottom: 4px;\n",
              "    }\n",
              "\n",
              "    [theme=dark] .colab-df-convert {\n",
              "      background-color: #3B4455;\n",
              "      fill: #D2E3FC;\n",
              "    }\n",
              "\n",
              "    [theme=dark] .colab-df-convert:hover {\n",
              "      background-color: #434B5C;\n",
              "      box-shadow: 0px 1px 3px 1px rgba(0, 0, 0, 0.15);\n",
              "      filter: drop-shadow(0px 1px 2px rgba(0, 0, 0, 0.3));\n",
              "      fill: #FFFFFF;\n",
              "    }\n",
              "  </style>\n",
              "\n",
              "    <script>\n",
              "      const buttonEl =\n",
              "        document.querySelector('#df-05a9f698-1b04-45db-a3fb-e79f43cbc224 button.colab-df-convert');\n",
              "      buttonEl.style.display =\n",
              "        google.colab.kernel.accessAllowed ? 'block' : 'none';\n",
              "\n",
              "      async function convertToInteractive(key) {\n",
              "        const element = document.querySelector('#df-05a9f698-1b04-45db-a3fb-e79f43cbc224');\n",
              "        const dataTable =\n",
              "          await google.colab.kernel.invokeFunction('convertToInteractive',\n",
              "                                                    [key], {});\n",
              "        if (!dataTable) return;\n",
              "\n",
              "        const docLinkHtml = 'Like what you see? Visit the ' +\n",
              "          '<a target=\"_blank\" href=https://colab.research.google.com/notebooks/data_table.ipynb>data table notebook</a>'\n",
              "          + ' to learn more about interactive tables.';\n",
              "        element.innerHTML = '';\n",
              "        dataTable['output_type'] = 'display_data';\n",
              "        await google.colab.output.renderOutput(dataTable, element);\n",
              "        const docLink = document.createElement('div');\n",
              "        docLink.innerHTML = docLinkHtml;\n",
              "        element.appendChild(docLink);\n",
              "      }\n",
              "    </script>\n",
              "  </div>\n",
              "\n",
              "\n",
              "<div id=\"df-3bf6a9ce-9c80-4c63-be54-4e65c2e86970\">\n",
              "  <button class=\"colab-df-quickchart\" onclick=\"quickchart('df-3bf6a9ce-9c80-4c63-be54-4e65c2e86970')\"\n",
              "            title=\"Suggest charts\"\n",
              "            style=\"display:none;\">\n",
              "\n",
              "<svg xmlns=\"http://www.w3.org/2000/svg\" height=\"24px\"viewBox=\"0 0 24 24\"\n",
              "     width=\"24px\">\n",
              "    <g>\n",
              "        <path d=\"M19 3H5c-1.1 0-2 .9-2 2v14c0 1.1.9 2 2 2h14c1.1 0 2-.9 2-2V5c0-1.1-.9-2-2-2zM9 17H7v-7h2v7zm4 0h-2V7h2v10zm4 0h-2v-4h2v4z\"/>\n",
              "    </g>\n",
              "</svg>\n",
              "  </button>\n",
              "\n",
              "<style>\n",
              "  .colab-df-quickchart {\n",
              "      --bg-color: #E8F0FE;\n",
              "      --fill-color: #1967D2;\n",
              "      --hover-bg-color: #E2EBFA;\n",
              "      --hover-fill-color: #174EA6;\n",
              "      --disabled-fill-color: #AAA;\n",
              "      --disabled-bg-color: #DDD;\n",
              "  }\n",
              "\n",
              "  [theme=dark] .colab-df-quickchart {\n",
              "      --bg-color: #3B4455;\n",
              "      --fill-color: #D2E3FC;\n",
              "      --hover-bg-color: #434B5C;\n",
              "      --hover-fill-color: #FFFFFF;\n",
              "      --disabled-bg-color: #3B4455;\n",
              "      --disabled-fill-color: #666;\n",
              "  }\n",
              "\n",
              "  .colab-df-quickchart {\n",
              "    background-color: var(--bg-color);\n",
              "    border: none;\n",
              "    border-radius: 50%;\n",
              "    cursor: pointer;\n",
              "    display: none;\n",
              "    fill: var(--fill-color);\n",
              "    height: 32px;\n",
              "    padding: 0;\n",
              "    width: 32px;\n",
              "  }\n",
              "\n",
              "  .colab-df-quickchart:hover {\n",
              "    background-color: var(--hover-bg-color);\n",
              "    box-shadow: 0 1px 2px rgba(60, 64, 67, 0.3), 0 1px 3px 1px rgba(60, 64, 67, 0.15);\n",
              "    fill: var(--button-hover-fill-color);\n",
              "  }\n",
              "\n",
              "  .colab-df-quickchart-complete:disabled,\n",
              "  .colab-df-quickchart-complete:disabled:hover {\n",
              "    background-color: var(--disabled-bg-color);\n",
              "    fill: var(--disabled-fill-color);\n",
              "    box-shadow: none;\n",
              "  }\n",
              "\n",
              "  .colab-df-spinner {\n",
              "    border: 2px solid var(--fill-color);\n",
              "    border-color: transparent;\n",
              "    border-bottom-color: var(--fill-color);\n",
              "    animation:\n",
              "      spin 1s steps(1) infinite;\n",
              "  }\n",
              "\n",
              "  @keyframes spin {\n",
              "    0% {\n",
              "      border-color: transparent;\n",
              "      border-bottom-color: var(--fill-color);\n",
              "      border-left-color: var(--fill-color);\n",
              "    }\n",
              "    20% {\n",
              "      border-color: transparent;\n",
              "      border-left-color: var(--fill-color);\n",
              "      border-top-color: var(--fill-color);\n",
              "    }\n",
              "    30% {\n",
              "      border-color: transparent;\n",
              "      border-left-color: var(--fill-color);\n",
              "      border-top-color: var(--fill-color);\n",
              "      border-right-color: var(--fill-color);\n",
              "    }\n",
              "    40% {\n",
              "      border-color: transparent;\n",
              "      border-right-color: var(--fill-color);\n",
              "      border-top-color: var(--fill-color);\n",
              "    }\n",
              "    60% {\n",
              "      border-color: transparent;\n",
              "      border-right-color: var(--fill-color);\n",
              "    }\n",
              "    80% {\n",
              "      border-color: transparent;\n",
              "      border-right-color: var(--fill-color);\n",
              "      border-bottom-color: var(--fill-color);\n",
              "    }\n",
              "    90% {\n",
              "      border-color: transparent;\n",
              "      border-bottom-color: var(--fill-color);\n",
              "    }\n",
              "  }\n",
              "</style>\n",
              "\n",
              "  <script>\n",
              "    async function quickchart(key) {\n",
              "      const quickchartButtonEl =\n",
              "        document.querySelector('#' + key + ' button');\n",
              "      quickchartButtonEl.disabled = true;  // To prevent multiple clicks.\n",
              "      quickchartButtonEl.classList.add('colab-df-spinner');\n",
              "      try {\n",
              "        const charts = await google.colab.kernel.invokeFunction(\n",
              "            'suggestCharts', [key], {});\n",
              "      } catch (error) {\n",
              "        console.error('Error during call to suggestCharts:', error);\n",
              "      }\n",
              "      quickchartButtonEl.classList.remove('colab-df-spinner');\n",
              "      quickchartButtonEl.classList.add('colab-df-quickchart-complete');\n",
              "    }\n",
              "    (() => {\n",
              "      let quickchartButtonEl =\n",
              "        document.querySelector('#df-3bf6a9ce-9c80-4c63-be54-4e65c2e86970 button');\n",
              "      quickchartButtonEl.style.display =\n",
              "        google.colab.kernel.accessAllowed ? 'block' : 'none';\n",
              "    })();\n",
              "  </script>\n",
              "</div>\n",
              "\n",
              "    </div>\n",
              "  </div>\n"
            ],
            "application/vnd.google.colaboratory.intrinsic+json": {
              "type": "dataframe",
              "summary": "{\n  \"name\": \"model\",\n  \"rows\": 81,\n  \"fields\": [\n    {\n      \"column\": \"Topic\",\n      \"properties\": {\n        \"dtype\": \"number\",\n        \"std\": 23,\n        \"min\": -1,\n        \"max\": 79,\n        \"num_unique_values\": 81,\n        \"samples\": [\n          29,\n          -1,\n          21\n        ],\n        \"semantic_type\": \"\",\n        \"description\": \"\"\n      }\n    },\n    {\n      \"column\": \"Count\",\n      \"properties\": {\n        \"dtype\": \"number\",\n        \"std\": 222,\n        \"min\": 10,\n        \"max\": 1786,\n        \"num_unique_values\": 46,\n        \"samples\": [\n          16,\n          33,\n          32\n        ],\n        \"semantic_type\": \"\",\n        \"description\": \"\"\n      }\n    },\n    {\n      \"column\": \"Name\",\n      \"properties\": {\n        \"dtype\": \"string\",\n        \"num_unique_values\": 81,\n        \"samples\": [\n          \"29_barangsiapa_mengerjakan_menghendaki_amal\",\n          \"-1_dia_kamu_dan_yang\",\n          \"21_golongan_kanan_bersekutu_kiri\"\n        ],\n        \"semantic_type\": \"\",\n        \"description\": \"\"\n      }\n    },\n    {\n      \"column\": \"Representation\",\n      \"properties\": {\n        \"dtype\": \"object\",\n        \"semantic_type\": \"\",\n        \"description\": \"\"\n      }\n    },\n    {\n      \"column\": \"Representative_Docs\",\n      \"properties\": {\n        \"dtype\": \"object\",\n        \"semantic_type\": \"\",\n        \"description\": \"\"\n      }\n    }\n  ]\n}"
            }
          },
          "metadata": {},
          "execution_count": 41
        }
      ]
    },
    {
      "cell_type": "code",
      "source": [
        "model.get_topic_freq().head(11)"
      ],
      "metadata": {
        "colab": {
          "base_uri": "https://localhost:8080/",
          "height": 394
        },
        "id": "iksGhC5EWzBf",
        "outputId": "c7aeaa5b-ec30-413c-b5eb-ee5ebff692cf"
      },
      "execution_count": 42,
      "outputs": [
        {
          "output_type": "execute_result",
          "data": {
            "text/plain": [
              "    Topic  Count\n",
              "1      -1   1786\n",
              "6       0    762\n",
              "2       1    627\n",
              "5       2    299\n",
              "22      3    211\n",
              "4       4    202\n",
              "17      5    149\n",
              "34      6     92\n",
              "20      7     89\n",
              "18      8     88\n",
              "56      9     74"
            ],
            "text/html": [
              "\n",
              "  <div id=\"df-1d8e4a7b-67bd-4234-b682-0c1741b19f83\" class=\"colab-df-container\">\n",
              "    <div>\n",
              "<style scoped>\n",
              "    .dataframe tbody tr th:only-of-type {\n",
              "        vertical-align: middle;\n",
              "    }\n",
              "\n",
              "    .dataframe tbody tr th {\n",
              "        vertical-align: top;\n",
              "    }\n",
              "\n",
              "    .dataframe thead th {\n",
              "        text-align: right;\n",
              "    }\n",
              "</style>\n",
              "<table border=\"1\" class=\"dataframe\">\n",
              "  <thead>\n",
              "    <tr style=\"text-align: right;\">\n",
              "      <th></th>\n",
              "      <th>Topic</th>\n",
              "      <th>Count</th>\n",
              "    </tr>\n",
              "  </thead>\n",
              "  <tbody>\n",
              "    <tr>\n",
              "      <th>1</th>\n",
              "      <td>-1</td>\n",
              "      <td>1786</td>\n",
              "    </tr>\n",
              "    <tr>\n",
              "      <th>6</th>\n",
              "      <td>0</td>\n",
              "      <td>762</td>\n",
              "    </tr>\n",
              "    <tr>\n",
              "      <th>2</th>\n",
              "      <td>1</td>\n",
              "      <td>627</td>\n",
              "    </tr>\n",
              "    <tr>\n",
              "      <th>5</th>\n",
              "      <td>2</td>\n",
              "      <td>299</td>\n",
              "    </tr>\n",
              "    <tr>\n",
              "      <th>22</th>\n",
              "      <td>3</td>\n",
              "      <td>211</td>\n",
              "    </tr>\n",
              "    <tr>\n",
              "      <th>4</th>\n",
              "      <td>4</td>\n",
              "      <td>202</td>\n",
              "    </tr>\n",
              "    <tr>\n",
              "      <th>17</th>\n",
              "      <td>5</td>\n",
              "      <td>149</td>\n",
              "    </tr>\n",
              "    <tr>\n",
              "      <th>34</th>\n",
              "      <td>6</td>\n",
              "      <td>92</td>\n",
              "    </tr>\n",
              "    <tr>\n",
              "      <th>20</th>\n",
              "      <td>7</td>\n",
              "      <td>89</td>\n",
              "    </tr>\n",
              "    <tr>\n",
              "      <th>18</th>\n",
              "      <td>8</td>\n",
              "      <td>88</td>\n",
              "    </tr>\n",
              "    <tr>\n",
              "      <th>56</th>\n",
              "      <td>9</td>\n",
              "      <td>74</td>\n",
              "    </tr>\n",
              "  </tbody>\n",
              "</table>\n",
              "</div>\n",
              "    <div class=\"colab-df-buttons\">\n",
              "\n",
              "  <div class=\"colab-df-container\">\n",
              "    <button class=\"colab-df-convert\" onclick=\"convertToInteractive('df-1d8e4a7b-67bd-4234-b682-0c1741b19f83')\"\n",
              "            title=\"Convert this dataframe to an interactive table.\"\n",
              "            style=\"display:none;\">\n",
              "\n",
              "  <svg xmlns=\"http://www.w3.org/2000/svg\" height=\"24px\" viewBox=\"0 -960 960 960\">\n",
              "    <path d=\"M120-120v-720h720v720H120Zm60-500h600v-160H180v160Zm220 220h160v-160H400v160Zm0 220h160v-160H400v160ZM180-400h160v-160H180v160Zm440 0h160v-160H620v160ZM180-180h160v-160H180v160Zm440 0h160v-160H620v160Z\"/>\n",
              "  </svg>\n",
              "    </button>\n",
              "\n",
              "  <style>\n",
              "    .colab-df-container {\n",
              "      display:flex;\n",
              "      gap: 12px;\n",
              "    }\n",
              "\n",
              "    .colab-df-convert {\n",
              "      background-color: #E8F0FE;\n",
              "      border: none;\n",
              "      border-radius: 50%;\n",
              "      cursor: pointer;\n",
              "      display: none;\n",
              "      fill: #1967D2;\n",
              "      height: 32px;\n",
              "      padding: 0 0 0 0;\n",
              "      width: 32px;\n",
              "    }\n",
              "\n",
              "    .colab-df-convert:hover {\n",
              "      background-color: #E2EBFA;\n",
              "      box-shadow: 0px 1px 2px rgba(60, 64, 67, 0.3), 0px 1px 3px 1px rgba(60, 64, 67, 0.15);\n",
              "      fill: #174EA6;\n",
              "    }\n",
              "\n",
              "    .colab-df-buttons div {\n",
              "      margin-bottom: 4px;\n",
              "    }\n",
              "\n",
              "    [theme=dark] .colab-df-convert {\n",
              "      background-color: #3B4455;\n",
              "      fill: #D2E3FC;\n",
              "    }\n",
              "\n",
              "    [theme=dark] .colab-df-convert:hover {\n",
              "      background-color: #434B5C;\n",
              "      box-shadow: 0px 1px 3px 1px rgba(0, 0, 0, 0.15);\n",
              "      filter: drop-shadow(0px 1px 2px rgba(0, 0, 0, 0.3));\n",
              "      fill: #FFFFFF;\n",
              "    }\n",
              "  </style>\n",
              "\n",
              "    <script>\n",
              "      const buttonEl =\n",
              "        document.querySelector('#df-1d8e4a7b-67bd-4234-b682-0c1741b19f83 button.colab-df-convert');\n",
              "      buttonEl.style.display =\n",
              "        google.colab.kernel.accessAllowed ? 'block' : 'none';\n",
              "\n",
              "      async function convertToInteractive(key) {\n",
              "        const element = document.querySelector('#df-1d8e4a7b-67bd-4234-b682-0c1741b19f83');\n",
              "        const dataTable =\n",
              "          await google.colab.kernel.invokeFunction('convertToInteractive',\n",
              "                                                    [key], {});\n",
              "        if (!dataTable) return;\n",
              "\n",
              "        const docLinkHtml = 'Like what you see? Visit the ' +\n",
              "          '<a target=\"_blank\" href=https://colab.research.google.com/notebooks/data_table.ipynb>data table notebook</a>'\n",
              "          + ' to learn more about interactive tables.';\n",
              "        element.innerHTML = '';\n",
              "        dataTable['output_type'] = 'display_data';\n",
              "        await google.colab.output.renderOutput(dataTable, element);\n",
              "        const docLink = document.createElement('div');\n",
              "        docLink.innerHTML = docLinkHtml;\n",
              "        element.appendChild(docLink);\n",
              "      }\n",
              "    </script>\n",
              "  </div>\n",
              "\n",
              "\n",
              "<div id=\"df-bdb2e74f-a40c-4113-87d9-1606cbd7c010\">\n",
              "  <button class=\"colab-df-quickchart\" onclick=\"quickchart('df-bdb2e74f-a40c-4113-87d9-1606cbd7c010')\"\n",
              "            title=\"Suggest charts\"\n",
              "            style=\"display:none;\">\n",
              "\n",
              "<svg xmlns=\"http://www.w3.org/2000/svg\" height=\"24px\"viewBox=\"0 0 24 24\"\n",
              "     width=\"24px\">\n",
              "    <g>\n",
              "        <path d=\"M19 3H5c-1.1 0-2 .9-2 2v14c0 1.1.9 2 2 2h14c1.1 0 2-.9 2-2V5c0-1.1-.9-2-2-2zM9 17H7v-7h2v7zm4 0h-2V7h2v10zm4 0h-2v-4h2v4z\"/>\n",
              "    </g>\n",
              "</svg>\n",
              "  </button>\n",
              "\n",
              "<style>\n",
              "  .colab-df-quickchart {\n",
              "      --bg-color: #E8F0FE;\n",
              "      --fill-color: #1967D2;\n",
              "      --hover-bg-color: #E2EBFA;\n",
              "      --hover-fill-color: #174EA6;\n",
              "      --disabled-fill-color: #AAA;\n",
              "      --disabled-bg-color: #DDD;\n",
              "  }\n",
              "\n",
              "  [theme=dark] .colab-df-quickchart {\n",
              "      --bg-color: #3B4455;\n",
              "      --fill-color: #D2E3FC;\n",
              "      --hover-bg-color: #434B5C;\n",
              "      --hover-fill-color: #FFFFFF;\n",
              "      --disabled-bg-color: #3B4455;\n",
              "      --disabled-fill-color: #666;\n",
              "  }\n",
              "\n",
              "  .colab-df-quickchart {\n",
              "    background-color: var(--bg-color);\n",
              "    border: none;\n",
              "    border-radius: 50%;\n",
              "    cursor: pointer;\n",
              "    display: none;\n",
              "    fill: var(--fill-color);\n",
              "    height: 32px;\n",
              "    padding: 0;\n",
              "    width: 32px;\n",
              "  }\n",
              "\n",
              "  .colab-df-quickchart:hover {\n",
              "    background-color: var(--hover-bg-color);\n",
              "    box-shadow: 0 1px 2px rgba(60, 64, 67, 0.3), 0 1px 3px 1px rgba(60, 64, 67, 0.15);\n",
              "    fill: var(--button-hover-fill-color);\n",
              "  }\n",
              "\n",
              "  .colab-df-quickchart-complete:disabled,\n",
              "  .colab-df-quickchart-complete:disabled:hover {\n",
              "    background-color: var(--disabled-bg-color);\n",
              "    fill: var(--disabled-fill-color);\n",
              "    box-shadow: none;\n",
              "  }\n",
              "\n",
              "  .colab-df-spinner {\n",
              "    border: 2px solid var(--fill-color);\n",
              "    border-color: transparent;\n",
              "    border-bottom-color: var(--fill-color);\n",
              "    animation:\n",
              "      spin 1s steps(1) infinite;\n",
              "  }\n",
              "\n",
              "  @keyframes spin {\n",
              "    0% {\n",
              "      border-color: transparent;\n",
              "      border-bottom-color: var(--fill-color);\n",
              "      border-left-color: var(--fill-color);\n",
              "    }\n",
              "    20% {\n",
              "      border-color: transparent;\n",
              "      border-left-color: var(--fill-color);\n",
              "      border-top-color: var(--fill-color);\n",
              "    }\n",
              "    30% {\n",
              "      border-color: transparent;\n",
              "      border-left-color: var(--fill-color);\n",
              "      border-top-color: var(--fill-color);\n",
              "      border-right-color: var(--fill-color);\n",
              "    }\n",
              "    40% {\n",
              "      border-color: transparent;\n",
              "      border-right-color: var(--fill-color);\n",
              "      border-top-color: var(--fill-color);\n",
              "    }\n",
              "    60% {\n",
              "      border-color: transparent;\n",
              "      border-right-color: var(--fill-color);\n",
              "    }\n",
              "    80% {\n",
              "      border-color: transparent;\n",
              "      border-right-color: var(--fill-color);\n",
              "      border-bottom-color: var(--fill-color);\n",
              "    }\n",
              "    90% {\n",
              "      border-color: transparent;\n",
              "      border-bottom-color: var(--fill-color);\n",
              "    }\n",
              "  }\n",
              "</style>\n",
              "\n",
              "  <script>\n",
              "    async function quickchart(key) {\n",
              "      const quickchartButtonEl =\n",
              "        document.querySelector('#' + key + ' button');\n",
              "      quickchartButtonEl.disabled = true;  // To prevent multiple clicks.\n",
              "      quickchartButtonEl.classList.add('colab-df-spinner');\n",
              "      try {\n",
              "        const charts = await google.colab.kernel.invokeFunction(\n",
              "            'suggestCharts', [key], {});\n",
              "      } catch (error) {\n",
              "        console.error('Error during call to suggestCharts:', error);\n",
              "      }\n",
              "      quickchartButtonEl.classList.remove('colab-df-spinner');\n",
              "      quickchartButtonEl.classList.add('colab-df-quickchart-complete');\n",
              "    }\n",
              "    (() => {\n",
              "      let quickchartButtonEl =\n",
              "        document.querySelector('#df-bdb2e74f-a40c-4113-87d9-1606cbd7c010 button');\n",
              "      quickchartButtonEl.style.display =\n",
              "        google.colab.kernel.accessAllowed ? 'block' : 'none';\n",
              "    })();\n",
              "  </script>\n",
              "</div>\n",
              "\n",
              "    </div>\n",
              "  </div>\n"
            ],
            "application/vnd.google.colaboratory.intrinsic+json": {
              "type": "dataframe",
              "summary": "{\n  \"name\": \"model\",\n  \"rows\": 11,\n  \"fields\": [\n    {\n      \"column\": \"Topic\",\n      \"properties\": {\n        \"dtype\": \"number\",\n        \"std\": 3,\n        \"min\": -1,\n        \"max\": 9,\n        \"num_unique_values\": 11,\n        \"samples\": [\n          4,\n          -1,\n          8\n        ],\n        \"semantic_type\": \"\",\n        \"description\": \"\"\n      }\n    },\n    {\n      \"column\": \"Count\",\n      \"properties\": {\n        \"dtype\": \"number\",\n        \"std\": 514,\n        \"min\": 74,\n        \"max\": 1786,\n        \"num_unique_values\": 11,\n        \"samples\": [\n          202,\n          1786,\n          88\n        ],\n        \"semantic_type\": \"\",\n        \"description\": \"\"\n      }\n    }\n  ]\n}"
            }
          },
          "metadata": {},
          "execution_count": 42
        }
      ]
    },
    {
      "cell_type": "code",
      "source": [
        "model.get_topic(1)\n"
      ],
      "metadata": {
        "colab": {
          "base_uri": "https://localhost:8080/"
        },
        "id": "jyWrqEZIHJuK",
        "outputId": "3ec24268-84c6-48d7-9c43-c24d79699095"
      },
      "execution_count": 43,
      "outputs": [
        {
          "output_type": "execute_result",
          "data": {
            "text/plain": [
              "[('telah', 0.04565110575721064),\n",
              " ('kami', 0.016921139580045038),\n",
              " ('sesungguhnya', 0.013294609682140893),\n",
              " ('mereka', 0.011481550909664101),\n",
              " ('kepada', 0.01135324816583678),\n",
              " ('dan', 0.010667000515779497),\n",
              " ('yang', 0.010316039180105738),\n",
              " ('rasul', 0.010248771241617266),\n",
              " ('kamu', 0.010169472419200574),\n",
              " ('apa', 0.009888986397909208)]"
            ]
          },
          "metadata": {},
          "execution_count": 43
        }
      ]
    },
    {
      "cell_type": "code",
      "source": [
        "model.get_topic(2)\n"
      ],
      "metadata": {
        "colab": {
          "base_uri": "https://localhost:8080/"
        },
        "id": "GNTSqWB3m9Yv",
        "outputId": "aa9cf7af-84ed-449d-b6f7-b577797dca49"
      },
      "execution_count": 44,
      "outputs": [
        {
          "output_type": "execute_result",
          "data": {
            "text/plain": [
              "[('mereka', 0.039815940874709514),\n",
              " ('tidak', 0.020974125818801533),\n",
              " ('maka', 0.015035181140775174),\n",
              " ('apakah', 0.013743883554737182),\n",
              " ('di', 0.012898366094433823),\n",
              " ('azab', 0.012014626320597467),\n",
              " ('bidadari', 0.01146985747789021),\n",
              " ('hari', 0.011092451504456605),\n",
              " ('dan', 0.010814982716051977),\n",
              " ('pula', 0.010805943412825232)]"
            ]
          },
          "metadata": {},
          "execution_count": 44
        }
      ]
    },
    {
      "cell_type": "code",
      "source": [
        "\n",
        "model.get_topic(3)\n"
      ],
      "metadata": {
        "colab": {
          "base_uri": "https://localhost:8080/"
        },
        "id": "leeTjRzAnBpF",
        "outputId": "1220cf0c-f0f2-48a1-e61f-fe36d554d64e"
      },
      "execution_count": 45,
      "outputs": [
        {
          "output_type": "execute_result",
          "data": {
            "text/plain": [
              "[('', 1e-05),\n",
              " ('', 1e-05),\n",
              " ('', 1e-05),\n",
              " ('', 1e-05),\n",
              " ('', 1e-05),\n",
              " ('', 1e-05),\n",
              " ('', 1e-05),\n",
              " ('', 1e-05),\n",
              " ('', 1e-05),\n",
              " ('', 1e-05)]"
            ]
          },
          "metadata": {},
          "execution_count": 45
        }
      ]
    },
    {
      "cell_type": "code",
      "source": [
        "model.get_topic_freq().head(0)"
      ],
      "metadata": {
        "colab": {
          "base_uri": "https://localhost:8080/",
          "height": 53
        },
        "id": "GkTCXzzdbDu6",
        "outputId": "759a45f6-a8ab-4c59-f591-71cdcb115692"
      },
      "execution_count": 46,
      "outputs": [
        {
          "output_type": "execute_result",
          "data": {
            "text/plain": [
              "Empty DataFrame\n",
              "Columns: [Topic, Count]\n",
              "Index: []"
            ],
            "text/html": [
              "\n",
              "  <div id=\"df-9f65dd42-9e0c-46df-892b-46f4aff73206\" class=\"colab-df-container\">\n",
              "    <div>\n",
              "<style scoped>\n",
              "    .dataframe tbody tr th:only-of-type {\n",
              "        vertical-align: middle;\n",
              "    }\n",
              "\n",
              "    .dataframe tbody tr th {\n",
              "        vertical-align: top;\n",
              "    }\n",
              "\n",
              "    .dataframe thead th {\n",
              "        text-align: right;\n",
              "    }\n",
              "</style>\n",
              "<table border=\"1\" class=\"dataframe\">\n",
              "  <thead>\n",
              "    <tr style=\"text-align: right;\">\n",
              "      <th></th>\n",
              "      <th>Topic</th>\n",
              "      <th>Count</th>\n",
              "    </tr>\n",
              "  </thead>\n",
              "  <tbody>\n",
              "  </tbody>\n",
              "</table>\n",
              "</div>\n",
              "    <div class=\"colab-df-buttons\">\n",
              "\n",
              "  <div class=\"colab-df-container\">\n",
              "    <button class=\"colab-df-convert\" onclick=\"convertToInteractive('df-9f65dd42-9e0c-46df-892b-46f4aff73206')\"\n",
              "            title=\"Convert this dataframe to an interactive table.\"\n",
              "            style=\"display:none;\">\n",
              "\n",
              "  <svg xmlns=\"http://www.w3.org/2000/svg\" height=\"24px\" viewBox=\"0 -960 960 960\">\n",
              "    <path d=\"M120-120v-720h720v720H120Zm60-500h600v-160H180v160Zm220 220h160v-160H400v160Zm0 220h160v-160H400v160ZM180-400h160v-160H180v160Zm440 0h160v-160H620v160ZM180-180h160v-160H180v160Zm440 0h160v-160H620v160Z\"/>\n",
              "  </svg>\n",
              "    </button>\n",
              "\n",
              "  <style>\n",
              "    .colab-df-container {\n",
              "      display:flex;\n",
              "      gap: 12px;\n",
              "    }\n",
              "\n",
              "    .colab-df-convert {\n",
              "      background-color: #E8F0FE;\n",
              "      border: none;\n",
              "      border-radius: 50%;\n",
              "      cursor: pointer;\n",
              "      display: none;\n",
              "      fill: #1967D2;\n",
              "      height: 32px;\n",
              "      padding: 0 0 0 0;\n",
              "      width: 32px;\n",
              "    }\n",
              "\n",
              "    .colab-df-convert:hover {\n",
              "      background-color: #E2EBFA;\n",
              "      box-shadow: 0px 1px 2px rgba(60, 64, 67, 0.3), 0px 1px 3px 1px rgba(60, 64, 67, 0.15);\n",
              "      fill: #174EA6;\n",
              "    }\n",
              "\n",
              "    .colab-df-buttons div {\n",
              "      margin-bottom: 4px;\n",
              "    }\n",
              "\n",
              "    [theme=dark] .colab-df-convert {\n",
              "      background-color: #3B4455;\n",
              "      fill: #D2E3FC;\n",
              "    }\n",
              "\n",
              "    [theme=dark] .colab-df-convert:hover {\n",
              "      background-color: #434B5C;\n",
              "      box-shadow: 0px 1px 3px 1px rgba(0, 0, 0, 0.15);\n",
              "      filter: drop-shadow(0px 1px 2px rgba(0, 0, 0, 0.3));\n",
              "      fill: #FFFFFF;\n",
              "    }\n",
              "  </style>\n",
              "\n",
              "    <script>\n",
              "      const buttonEl =\n",
              "        document.querySelector('#df-9f65dd42-9e0c-46df-892b-46f4aff73206 button.colab-df-convert');\n",
              "      buttonEl.style.display =\n",
              "        google.colab.kernel.accessAllowed ? 'block' : 'none';\n",
              "\n",
              "      async function convertToInteractive(key) {\n",
              "        const element = document.querySelector('#df-9f65dd42-9e0c-46df-892b-46f4aff73206');\n",
              "        const dataTable =\n",
              "          await google.colab.kernel.invokeFunction('convertToInteractive',\n",
              "                                                    [key], {});\n",
              "        if (!dataTable) return;\n",
              "\n",
              "        const docLinkHtml = 'Like what you see? Visit the ' +\n",
              "          '<a target=\"_blank\" href=https://colab.research.google.com/notebooks/data_table.ipynb>data table notebook</a>'\n",
              "          + ' to learn more about interactive tables.';\n",
              "        element.innerHTML = '';\n",
              "        dataTable['output_type'] = 'display_data';\n",
              "        await google.colab.output.renderOutput(dataTable, element);\n",
              "        const docLink = document.createElement('div');\n",
              "        docLink.innerHTML = docLinkHtml;\n",
              "        element.appendChild(docLink);\n",
              "      }\n",
              "    </script>\n",
              "  </div>\n",
              "\n",
              "\n",
              "    </div>\n",
              "  </div>\n"
            ],
            "application/vnd.google.colaboratory.intrinsic+json": {
              "type": "dataframe",
              "summary": "{\n  \"name\": \"model\",\n  \"rows\": 0,\n  \"fields\": [\n    {\n      \"column\": \"Topic\",\n      \"properties\": {\n        \"dtype\": \"number\",\n        \"std\": null,\n        \"min\": null,\n        \"max\": null,\n        \"num_unique_values\": 0,\n        \"samples\": [],\n        \"semantic_type\": \"\",\n        \"description\": \"\"\n      }\n    },\n    {\n      \"column\": \"Count\",\n      \"properties\": {\n        \"dtype\": \"number\",\n        \"std\": null,\n        \"min\": null,\n        \"max\": null,\n        \"num_unique_values\": 0,\n        \"samples\": [],\n        \"semantic_type\": \"\",\n        \"description\": \"\"\n      }\n    }\n  ]\n}"
            }
          },
          "metadata": {},
          "execution_count": 46
        }
      ]
    },
    {
      "cell_type": "code",
      "source": [
        "# piliih salah satu topic\n",
        "model.get_topic(5)"
      ],
      "metadata": {
        "colab": {
          "base_uri": "https://localhost:8080/"
        },
        "id": "j52OfEtrbEX1",
        "outputId": "960c5a50-01dc-458b-d9d0-c50a7a6e6279"
      },
      "execution_count": 47,
      "outputs": [
        {
          "output_type": "execute_result",
          "data": {
            "text/plain": [
              "[('datang', 0.10496882491323578),\n",
              " ('datanglah', 0.025934229833035335),\n",
              " ('tatkala', 0.02136893312814911),\n",
              " ('datangnya', 0.020592023650514633),\n",
              " ('kepadamu', 0.019179925087223673),\n",
              " ('kepada', 0.018116899672722658),\n",
              " ('membawa', 0.017438503838832383),\n",
              " ('dengan', 0.015676219558402524),\n",
              " ('kemudian', 0.01449386738195187),\n",
              " ('utusan', 0.013957815258478728)]"
            ]
          },
          "metadata": {},
          "execution_count": 47
        }
      ]
    },
    {
      "cell_type": "code",
      "source": [
        "# visualisasi topic\n",
        "model.visualize_topics()"
      ],
      "metadata": {
        "colab": {
          "base_uri": "https://localhost:8080/",
          "height": 667
        },
        "id": "SmAuwwHSdRK8",
        "outputId": "190e9a1f-dd28-4d21-ca3c-6eecbc5f03ab"
      },
      "execution_count": null,
      "outputs": [
        {
          "output_type": "display_data",
          "data": {
            "text/html": [
              "<html>\n",
              "<head><meta charset=\"utf-8\" /></head>\n",
              "<body>\n",
              "    <div>            <script src=\"https://cdnjs.cloudflare.com/ajax/libs/mathjax/2.7.5/MathJax.js?config=TeX-AMS-MML_SVG\"></script><script type=\"text/javascript\">if (window.MathJax && window.MathJax.Hub && window.MathJax.Hub.Config) {window.MathJax.Hub.Config({SVG: {font: \"STIX-Web\"}});}</script>                <script type=\"text/javascript\">window.PlotlyConfig = {MathJaxConfig: 'local'};</script>\n",
              "        <script charset=\"utf-8\" src=\"https://cdn.plot.ly/plotly-2.24.1.min.js\"></script>                <div id=\"5652436f-d726-4db7-8e8a-fbba76f03024\" class=\"plotly-graph-div\" style=\"height:650px; width:650px;\"></div>            <script type=\"text/javascript\">                                    window.PLOTLYENV=window.PLOTLYENV || {};                                    if (document.getElementById(\"5652436f-d726-4db7-8e8a-fbba76f03024\")) {                    Plotly.newPlot(                        \"5652436f-d726-4db7-8e8a-fbba76f03024\",                        [{\"customdata\":[[0,\"orang | kafir | yang | beriman | allah\",772],[1,\"telah | kami | sesungguhnya | mereka | kepada\",708],[2,\"mereka | tidak | azab | maka | di\",280],[3,\" |  |  |  | \",211],[4,\"quran | al | kitab | ini | ayat\",200],[5,\"datang | datanglah | tatkala | datangnya | kepadamu\",150],[6,\"demikian | terdapat | demikianlah | adalah | itu\",96],[7,\"hai | beriman | orang | yang | berselimut\",94],[8,\"bagi | dikehendaki | allah | kamu | bumi\",78],[9,\"bagi | besarlah | kecelakaan | mendustakan | orang\",69],[10,\"penghuni | pengikut | pengetahuan | pengampun | tentang\",66],[11,\"memberi | balasan | memberikan | kepada | mudharat\",64],[12,\"allah | selain | mereka | nama | apa\",64],[13,\"bumi | langit | lah | kepunyaan | di\",62],[14,\"keduanya | kedua | antara | langit | bumi\",58],[15,\"jika | mendustakan | perangilah | berpaling | mereka\",58],[16,\"neraka | tempat | jahannam | ke | pintu\",57],[17,\"manusia | antara | menciptakan | untuk | ia\",57],[18,\"air | mata | taman | minum | panas\",52],[19,\"katakanlah | allah | samping | selain | serulah\",49],[20,\"dialah | menciptakan | nya | menjadikan | maha\",45],[21,\"golongan | kanan | bersekutu | kiri | lain\",45],[22,\"ingatlah | kisah | dan | dzun | ayub\",45],[23,\"hai | kaumku | berkata | musa | shaleh\",45],[24,\"bertakwalah | taatlah | kepadaku | kepada | waktu\",40],[25,\"api | neraka | nyala | lapisan | menyala\",36],[26,\"dustakan | manakah | nikmat | tuhan | maka\",33],[27,\"bapaknya | kaumnya | berkata | aku | ia\",33],[28,\"apabila | bulan | bintang | haram | lautan\",33],[29,\"batas | melampaui | batu | kita | kaum\",32],[30,\"barangsiapa | mengerjakan | amal | saleh | menghendaki\",28],[31,\"bunga | gadis | bantal | malaikat | kapal\",27],[32,\"diutus | kepercayaan | seorang | aku | sesuatu\",27],[33,\"tuhanmu | sesungguhnya | tauhid | agama | sebenarnya\",27],[34,\"sekali | kali | sekalian | melepaskan | kematian\",26],[35,\"nabi | hai | adam | anak | isteri\",24],[36,\"saleh | beramal | amal | mengerjakan | beriman\",24],[37,\"katakanlah | terangkanlah | kepadaku | bapa | hai\",22],[38,\"hari | pada | pembalasan | banyak | seri\",22],[39,\"ayat | dibacakan | apabila | terang | menjelaskan\",22],[40,\"ya | tuhan | tuhanku | kami | yaa\",21],[41,\"miim | alif | laam | haa | thaa\",21],[42,\"penyembah | sembah | apa | pagi | pula\",20],[43,\"ingatlah |  |  |  | \",20],[44,\"ya | tuhanku | berkata | berdoa | nuh\",20],[45,\"yusuf | mesir | ke | diantara | masuk\",18],[46,\"pemurah | maha | tuhan | penyayang | mengambil\",18],[47,\"bapakku | wahai | ditiuplah | sangkakala | dirikanlah\",17],[48,\"manusia | hai | sekalian | wahai | sembahan\",17],[49,\"beginilah | kalau | kehendaki | mengutus | menyalahkan\",17],[50,\"barangsiapa | ketentuan | musuh | barang | allah\",16],[51,\"menurunkan | menurunkannya | angan | menurut | melainkan\",16],[52,\"mengapa | berhala | diam | mengerjakan | kemudian\",16],[53,\"berfirman | katakanlah | daging | sekutu | keluarlah\",16],[54,\"penyayang | dialah | maha | perkasa | lagi\",16],[55,\"gunung | harta | anak | rumah | membanyakkan\",16],[56,\"biarkan | tunggulah | menunggu | sesungguhnya | akibat\",15],[57,\"demikianlah | demikian | bukan | kalau | terjadi\",15],[58,\"demi | rombongan | shaf | malaikat | benarnya\",15],[59,\"disebutkan | adalah | ini | sesungguhnya | benar\",15],[60,\"mengampuni | sesungguhnya | isa | allah | zarrah\",15],[61,\"musa | ibu | lembaran | pemuka | besertaku\",15],[62,\"tiap | berjiwa | merasakan | lembaran | banyak\",15],[63,\"sujudlah | adam | takhta | takut | ketika\",14],[64,\"berfirman | turunlah | allah | surga | godaan\",14],[65,\"ahli | kitab | hai | katakanlah | kitabmu\",13],[66,\"rampasan | harta | benda | perang | fai\",13],[67,\"tahukah | kiamat | hari | apakah | sijjin\",13],[68,\"sekali | kali | jangan | tidak | curang\",12],[69,\"kaumku | hai | herkata | zakaria | hud\",12],[70,\"ya | ayah | wahai | berkata | tuhan\",12],[71,\"musa | sapi | betina | tunjukkan | aku\",11],[72,\"tinggi | ghaib | nampak | semua | lagi\",11],[73,\"ya | tuhanku | musa | berkata | mendoa\",11],[74,\"dialah | tiada | allah | selain | disembah\",11],[75,\"menyebut | bertasbihlah | buhul | nama | rabbmu\",11],[76,\"nun | shaad | demi | allah | dan\",11],[77,\"kali | sekali | penyembahan | jangan | meninggalkan\",10]],\"hovertemplate\":\"\\u003cb\\u003eTopic %{customdata[0]}\\u003c\\u002fb\\u003e\\u003cbr\\u003e%{customdata[1]}\\u003cbr\\u003eSize: %{customdata[2]}\",\"legendgroup\":\"\",\"marker\":{\"color\":\"#B0BEC5\",\"size\":[772,708,280,211,200,150,96,94,78,69,66,64,64,62,58,58,57,57,52,49,45,45,45,45,40,36,33,33,33,32,28,27,27,27,26,24,24,22,22,22,21,21,20,20,20,18,18,17,17,17,16,16,16,16,16,16,15,15,15,15,15,15,15,14,14,13,13,13,12,12,12,11,11,11,11,11,11,10],\"sizemode\":\"area\",\"sizeref\":0.4825,\"symbol\":\"circle\",\"line\":{\"color\":\"DarkSlateGrey\",\"width\":2}},\"mode\":\"markers\",\"name\":\"\",\"orientation\":\"v\",\"showlegend\":false,\"x\":[14.479719161987305,-4.909970760345459,6.08491325378418,18.380111694335938,-3.57231068611145,5.553520679473877,-4.313673496246338,14.7316255569458,-4.635153770446777,14.795530319213867,-4.643014907836914,6.580613613128662,-2.7765471935272217,-5.1122965812683105,-4.7194414138793945,5.542721271514893,5.78690767288208,-5.059821128845215,-5.071849822998047,-3.734804153442383,18.006793975830078,5.978453636169434,7.465710163116455,4.896429538726807,-2.930945873260498,5.495650291442871,13.29975414276123,-9.928289413452148,7.026515960693359,6.044708251953125,-3.8344433307647705,13.494612693786621,-10.158980369567871,-4.103544235229492,-3.5238754749298096,4.390634059906006,14.65974235534668,-3.6413402557373047,5.979066848754883,-5.138219833374023,14.171136856079102,5.645126819610596,13.353708267211914,7.465870380401611,14.060256004333496,-4.453119277954102,17.803621292114258,7.255424976348877,4.297815799713135,5.545813083648682,-3.76055645942688,-9.965399742126465,6.519636154174805,-4.282708644866943,17.83709144592285,6.909724235534668,-10.1670560836792,-4.284480571746826,13.674178123474121,-9.78062915802002,-4.195200443267822,0.19093164801597595,-4.64725923538208,6.6371750831604,-2.924808979034424,4.7753071784973145,-4.667175769805908,6.028505802154541,-3.621633768081665,4.658772945404053,5.3150153160095215,0.19095103442668915,13.564048767089844,14.058042526245117,18.15452766418457,-4.86037015914917,18.35396957397461,-3.4971978664398193],\"xaxis\":\"x\",\"y\":[1.702974796295166,-5.321406841278076,5.472053527832031,-3.401031017303467,-2.5510079860687256,5.076540946960449,-5.771764755249023,1.4632370471954346,-5.039549350738525,1.3936545848846436,-5.381072044372559,5.0075459480285645,-2.9514248371124268,-5.080384731292725,-5.340459823608398,6.158359050750732,5.642268657684326,-5.796651363372803,-5.215867519378662,-2.7772555351257324,-3.0279905796051025,5.743161678314209,-3.345627784729004,6.799957752227783,-2.7892043590545654,5.012884140014648,2.7905142307281494,8.755072593688965,-3.7861413955688477,5.468862533569336,-2.1143672466278076,2.5944266319274902,8.98580551147461,-3.4075896739959717,13.025853157043457,7.231100559234619,1.5329043865203857,-2.938645362854004,5.2566237449646,-5.513084888458252,18.3265380859375,6.904819965362549,2.74222469329834,-3.345168113708496,18.221227645874023,-5.2096943855285645,-2.8251302242279053,-3.5569188594818115,7.322544097900391,6.833934783935547,-2.2986462116241455,8.792191505432129,5.024678707122803,-3.618286371231079,-2.8584682941436768,-3.902763843536377,8.99392032623291,-5.872208118438721,2.410419225692749,8.607609748840332,-3.5067505836486816,17.281082153320312,-4.88442325592041,4.91403341293335,-2.8549904823303223,6.897461891174316,-5.956467628479004,5.268198490142822,12.928169250488281,6.9749836921691895,6.611141204833984,17.281124114990234,2.520639181137085,18.22314453125,-3.1755564212799072,-5.0873003005981445,-3.3749260902404785,13.052371978759766],\"yaxis\":\"y\",\"type\":\"scatter\"}],                        {\"template\":{\"data\":{\"barpolar\":[{\"marker\":{\"line\":{\"color\":\"white\",\"width\":0.5},\"pattern\":{\"fillmode\":\"overlay\",\"size\":10,\"solidity\":0.2}},\"type\":\"barpolar\"}],\"bar\":[{\"error_x\":{\"color\":\"rgb(36,36,36)\"},\"error_y\":{\"color\":\"rgb(36,36,36)\"},\"marker\":{\"line\":{\"color\":\"white\",\"width\":0.5},\"pattern\":{\"fillmode\":\"overlay\",\"size\":10,\"solidity\":0.2}},\"type\":\"bar\"}],\"carpet\":[{\"aaxis\":{\"endlinecolor\":\"rgb(36,36,36)\",\"gridcolor\":\"white\",\"linecolor\":\"white\",\"minorgridcolor\":\"white\",\"startlinecolor\":\"rgb(36,36,36)\"},\"baxis\":{\"endlinecolor\":\"rgb(36,36,36)\",\"gridcolor\":\"white\",\"linecolor\":\"white\",\"minorgridcolor\":\"white\",\"startlinecolor\":\"rgb(36,36,36)\"},\"type\":\"carpet\"}],\"choropleth\":[{\"colorbar\":{\"outlinewidth\":1,\"tickcolor\":\"rgb(36,36,36)\",\"ticks\":\"outside\"},\"type\":\"choropleth\"}],\"contourcarpet\":[{\"colorbar\":{\"outlinewidth\":1,\"tickcolor\":\"rgb(36,36,36)\",\"ticks\":\"outside\"},\"type\":\"contourcarpet\"}],\"contour\":[{\"colorbar\":{\"outlinewidth\":1,\"tickcolor\":\"rgb(36,36,36)\",\"ticks\":\"outside\"},\"colorscale\":[[0.0,\"#440154\"],[0.1111111111111111,\"#482878\"],[0.2222222222222222,\"#3e4989\"],[0.3333333333333333,\"#31688e\"],[0.4444444444444444,\"#26828e\"],[0.5555555555555556,\"#1f9e89\"],[0.6666666666666666,\"#35b779\"],[0.7777777777777778,\"#6ece58\"],[0.8888888888888888,\"#b5de2b\"],[1.0,\"#fde725\"]],\"type\":\"contour\"}],\"heatmapgl\":[{\"colorbar\":{\"outlinewidth\":1,\"tickcolor\":\"rgb(36,36,36)\",\"ticks\":\"outside\"},\"colorscale\":[[0.0,\"#440154\"],[0.1111111111111111,\"#482878\"],[0.2222222222222222,\"#3e4989\"],[0.3333333333333333,\"#31688e\"],[0.4444444444444444,\"#26828e\"],[0.5555555555555556,\"#1f9e89\"],[0.6666666666666666,\"#35b779\"],[0.7777777777777778,\"#6ece58\"],[0.8888888888888888,\"#b5de2b\"],[1.0,\"#fde725\"]],\"type\":\"heatmapgl\"}],\"heatmap\":[{\"colorbar\":{\"outlinewidth\":1,\"tickcolor\":\"rgb(36,36,36)\",\"ticks\":\"outside\"},\"colorscale\":[[0.0,\"#440154\"],[0.1111111111111111,\"#482878\"],[0.2222222222222222,\"#3e4989\"],[0.3333333333333333,\"#31688e\"],[0.4444444444444444,\"#26828e\"],[0.5555555555555556,\"#1f9e89\"],[0.6666666666666666,\"#35b779\"],[0.7777777777777778,\"#6ece58\"],[0.8888888888888888,\"#b5de2b\"],[1.0,\"#fde725\"]],\"type\":\"heatmap\"}],\"histogram2dcontour\":[{\"colorbar\":{\"outlinewidth\":1,\"tickcolor\":\"rgb(36,36,36)\",\"ticks\":\"outside\"},\"colorscale\":[[0.0,\"#440154\"],[0.1111111111111111,\"#482878\"],[0.2222222222222222,\"#3e4989\"],[0.3333333333333333,\"#31688e\"],[0.4444444444444444,\"#26828e\"],[0.5555555555555556,\"#1f9e89\"],[0.6666666666666666,\"#35b779\"],[0.7777777777777778,\"#6ece58\"],[0.8888888888888888,\"#b5de2b\"],[1.0,\"#fde725\"]],\"type\":\"histogram2dcontour\"}],\"histogram2d\":[{\"colorbar\":{\"outlinewidth\":1,\"tickcolor\":\"rgb(36,36,36)\",\"ticks\":\"outside\"},\"colorscale\":[[0.0,\"#440154\"],[0.1111111111111111,\"#482878\"],[0.2222222222222222,\"#3e4989\"],[0.3333333333333333,\"#31688e\"],[0.4444444444444444,\"#26828e\"],[0.5555555555555556,\"#1f9e89\"],[0.6666666666666666,\"#35b779\"],[0.7777777777777778,\"#6ece58\"],[0.8888888888888888,\"#b5de2b\"],[1.0,\"#fde725\"]],\"type\":\"histogram2d\"}],\"histogram\":[{\"marker\":{\"line\":{\"color\":\"white\",\"width\":0.6}},\"type\":\"histogram\"}],\"mesh3d\":[{\"colorbar\":{\"outlinewidth\":1,\"tickcolor\":\"rgb(36,36,36)\",\"ticks\":\"outside\"},\"type\":\"mesh3d\"}],\"parcoords\":[{\"line\":{\"colorbar\":{\"outlinewidth\":1,\"tickcolor\":\"rgb(36,36,36)\",\"ticks\":\"outside\"}},\"type\":\"parcoords\"}],\"pie\":[{\"automargin\":true,\"type\":\"pie\"}],\"scatter3d\":[{\"line\":{\"colorbar\":{\"outlinewidth\":1,\"tickcolor\":\"rgb(36,36,36)\",\"ticks\":\"outside\"}},\"marker\":{\"colorbar\":{\"outlinewidth\":1,\"tickcolor\":\"rgb(36,36,36)\",\"ticks\":\"outside\"}},\"type\":\"scatter3d\"}],\"scattercarpet\":[{\"marker\":{\"colorbar\":{\"outlinewidth\":1,\"tickcolor\":\"rgb(36,36,36)\",\"ticks\":\"outside\"}},\"type\":\"scattercarpet\"}],\"scattergeo\":[{\"marker\":{\"colorbar\":{\"outlinewidth\":1,\"tickcolor\":\"rgb(36,36,36)\",\"ticks\":\"outside\"}},\"type\":\"scattergeo\"}],\"scattergl\":[{\"marker\":{\"colorbar\":{\"outlinewidth\":1,\"tickcolor\":\"rgb(36,36,36)\",\"ticks\":\"outside\"}},\"type\":\"scattergl\"}],\"scattermapbox\":[{\"marker\":{\"colorbar\":{\"outlinewidth\":1,\"tickcolor\":\"rgb(36,36,36)\",\"ticks\":\"outside\"}},\"type\":\"scattermapbox\"}],\"scatterpolargl\":[{\"marker\":{\"colorbar\":{\"outlinewidth\":1,\"tickcolor\":\"rgb(36,36,36)\",\"ticks\":\"outside\"}},\"type\":\"scatterpolargl\"}],\"scatterpolar\":[{\"marker\":{\"colorbar\":{\"outlinewidth\":1,\"tickcolor\":\"rgb(36,36,36)\",\"ticks\":\"outside\"}},\"type\":\"scatterpolar\"}],\"scatter\":[{\"fillpattern\":{\"fillmode\":\"overlay\",\"size\":10,\"solidity\":0.2},\"type\":\"scatter\"}],\"scatterternary\":[{\"marker\":{\"colorbar\":{\"outlinewidth\":1,\"tickcolor\":\"rgb(36,36,36)\",\"ticks\":\"outside\"}},\"type\":\"scatterternary\"}],\"surface\":[{\"colorbar\":{\"outlinewidth\":1,\"tickcolor\":\"rgb(36,36,36)\",\"ticks\":\"outside\"},\"colorscale\":[[0.0,\"#440154\"],[0.1111111111111111,\"#482878\"],[0.2222222222222222,\"#3e4989\"],[0.3333333333333333,\"#31688e\"],[0.4444444444444444,\"#26828e\"],[0.5555555555555556,\"#1f9e89\"],[0.6666666666666666,\"#35b779\"],[0.7777777777777778,\"#6ece58\"],[0.8888888888888888,\"#b5de2b\"],[1.0,\"#fde725\"]],\"type\":\"surface\"}],\"table\":[{\"cells\":{\"fill\":{\"color\":\"rgb(237,237,237)\"},\"line\":{\"color\":\"white\"}},\"header\":{\"fill\":{\"color\":\"rgb(217,217,217)\"},\"line\":{\"color\":\"white\"}},\"type\":\"table\"}]},\"layout\":{\"annotationdefaults\":{\"arrowhead\":0,\"arrowwidth\":1},\"autotypenumbers\":\"strict\",\"coloraxis\":{\"colorbar\":{\"outlinewidth\":1,\"tickcolor\":\"rgb(36,36,36)\",\"ticks\":\"outside\"}},\"colorscale\":{\"diverging\":[[0.0,\"rgb(103,0,31)\"],[0.1,\"rgb(178,24,43)\"],[0.2,\"rgb(214,96,77)\"],[0.3,\"rgb(244,165,130)\"],[0.4,\"rgb(253,219,199)\"],[0.5,\"rgb(247,247,247)\"],[0.6,\"rgb(209,229,240)\"],[0.7,\"rgb(146,197,222)\"],[0.8,\"rgb(67,147,195)\"],[0.9,\"rgb(33,102,172)\"],[1.0,\"rgb(5,48,97)\"]],\"sequential\":[[0.0,\"#440154\"],[0.1111111111111111,\"#482878\"],[0.2222222222222222,\"#3e4989\"],[0.3333333333333333,\"#31688e\"],[0.4444444444444444,\"#26828e\"],[0.5555555555555556,\"#1f9e89\"],[0.6666666666666666,\"#35b779\"],[0.7777777777777778,\"#6ece58\"],[0.8888888888888888,\"#b5de2b\"],[1.0,\"#fde725\"]],\"sequentialminus\":[[0.0,\"#440154\"],[0.1111111111111111,\"#482878\"],[0.2222222222222222,\"#3e4989\"],[0.3333333333333333,\"#31688e\"],[0.4444444444444444,\"#26828e\"],[0.5555555555555556,\"#1f9e89\"],[0.6666666666666666,\"#35b779\"],[0.7777777777777778,\"#6ece58\"],[0.8888888888888888,\"#b5de2b\"],[1.0,\"#fde725\"]]},\"colorway\":[\"#1F77B4\",\"#FF7F0E\",\"#2CA02C\",\"#D62728\",\"#9467BD\",\"#8C564B\",\"#E377C2\",\"#7F7F7F\",\"#BCBD22\",\"#17BECF\"],\"font\":{\"color\":\"rgb(36,36,36)\"},\"geo\":{\"bgcolor\":\"white\",\"lakecolor\":\"white\",\"landcolor\":\"white\",\"showlakes\":true,\"showland\":true,\"subunitcolor\":\"white\"},\"hoverlabel\":{\"align\":\"left\"},\"hovermode\":\"closest\",\"mapbox\":{\"style\":\"light\"},\"paper_bgcolor\":\"white\",\"plot_bgcolor\":\"white\",\"polar\":{\"angularaxis\":{\"gridcolor\":\"rgb(232,232,232)\",\"linecolor\":\"rgb(36,36,36)\",\"showgrid\":false,\"showline\":true,\"ticks\":\"outside\"},\"bgcolor\":\"white\",\"radialaxis\":{\"gridcolor\":\"rgb(232,232,232)\",\"linecolor\":\"rgb(36,36,36)\",\"showgrid\":false,\"showline\":true,\"ticks\":\"outside\"}},\"scene\":{\"xaxis\":{\"backgroundcolor\":\"white\",\"gridcolor\":\"rgb(232,232,232)\",\"gridwidth\":2,\"linecolor\":\"rgb(36,36,36)\",\"showbackground\":true,\"showgrid\":false,\"showline\":true,\"ticks\":\"outside\",\"zeroline\":false,\"zerolinecolor\":\"rgb(36,36,36)\"},\"yaxis\":{\"backgroundcolor\":\"white\",\"gridcolor\":\"rgb(232,232,232)\",\"gridwidth\":2,\"linecolor\":\"rgb(36,36,36)\",\"showbackground\":true,\"showgrid\":false,\"showline\":true,\"ticks\":\"outside\",\"zeroline\":false,\"zerolinecolor\":\"rgb(36,36,36)\"},\"zaxis\":{\"backgroundcolor\":\"white\",\"gridcolor\":\"rgb(232,232,232)\",\"gridwidth\":2,\"linecolor\":\"rgb(36,36,36)\",\"showbackground\":true,\"showgrid\":false,\"showline\":true,\"ticks\":\"outside\",\"zeroline\":false,\"zerolinecolor\":\"rgb(36,36,36)\"}},\"shapedefaults\":{\"fillcolor\":\"black\",\"line\":{\"width\":0},\"opacity\":0.3},\"ternary\":{\"aaxis\":{\"gridcolor\":\"rgb(232,232,232)\",\"linecolor\":\"rgb(36,36,36)\",\"showgrid\":false,\"showline\":true,\"ticks\":\"outside\"},\"baxis\":{\"gridcolor\":\"rgb(232,232,232)\",\"linecolor\":\"rgb(36,36,36)\",\"showgrid\":false,\"showline\":true,\"ticks\":\"outside\"},\"bgcolor\":\"white\",\"caxis\":{\"gridcolor\":\"rgb(232,232,232)\",\"linecolor\":\"rgb(36,36,36)\",\"showgrid\":false,\"showline\":true,\"ticks\":\"outside\"}},\"title\":{\"x\":0.05},\"xaxis\":{\"automargin\":true,\"gridcolor\":\"rgb(232,232,232)\",\"linecolor\":\"rgb(36,36,36)\",\"showgrid\":false,\"showline\":true,\"ticks\":\"outside\",\"title\":{\"standoff\":15},\"zeroline\":false,\"zerolinecolor\":\"rgb(36,36,36)\"},\"yaxis\":{\"automargin\":true,\"gridcolor\":\"rgb(232,232,232)\",\"linecolor\":\"rgb(36,36,36)\",\"showgrid\":false,\"showline\":true,\"ticks\":\"outside\",\"title\":{\"standoff\":15},\"zeroline\":false,\"zerolinecolor\":\"rgb(36,36,36)\"}}},\"xaxis\":{\"anchor\":\"y\",\"domain\":[0.0,1.0],\"title\":{\"text\":\"\"},\"visible\":false,\"range\":[-11.69211449623108,21.13712844848633]},\"yaxis\":{\"anchor\":\"x\",\"domain\":[0.0,1.0],\"title\":{\"text\":\"\"},\"visible\":false,\"range\":[-6.849937772750854,21.075518798828124]},\"legend\":{\"tracegroupgap\":0,\"itemsizing\":\"constant\"},\"margin\":{\"t\":60},\"title\":{\"font\":{\"size\":22,\"color\":\"Black\"},\"text\":\"\\u003cb\\u003eIntertopic Distance Map\\u003c\\u002fb\\u003e\",\"y\":0.95,\"x\":0.5,\"xanchor\":\"center\",\"yanchor\":\"top\"},\"hoverlabel\":{\"font\":{\"size\":16,\"family\":\"Rockwell\"},\"bgcolor\":\"white\"},\"width\":650,\"height\":650,\"sliders\":[{\"active\":0,\"pad\":{\"t\":50},\"steps\":[{\"args\":[{\"marker.color\":[[\"red\",\"#B0BEC5\",\"#B0BEC5\",\"#B0BEC5\",\"#B0BEC5\",\"#B0BEC5\",\"#B0BEC5\",\"#B0BEC5\",\"#B0BEC5\",\"#B0BEC5\",\"#B0BEC5\",\"#B0BEC5\",\"#B0BEC5\",\"#B0BEC5\",\"#B0BEC5\",\"#B0BEC5\",\"#B0BEC5\",\"#B0BEC5\",\"#B0BEC5\",\"#B0BEC5\",\"#B0BEC5\",\"#B0BEC5\",\"#B0BEC5\",\"#B0BEC5\",\"#B0BEC5\",\"#B0BEC5\",\"#B0BEC5\",\"#B0BEC5\",\"#B0BEC5\",\"#B0BEC5\",\"#B0BEC5\",\"#B0BEC5\",\"#B0BEC5\",\"#B0BEC5\",\"#B0BEC5\",\"#B0BEC5\",\"#B0BEC5\",\"#B0BEC5\",\"#B0BEC5\",\"#B0BEC5\",\"#B0BEC5\",\"#B0BEC5\",\"#B0BEC5\",\"#B0BEC5\",\"#B0BEC5\",\"#B0BEC5\",\"#B0BEC5\",\"#B0BEC5\",\"#B0BEC5\",\"#B0BEC5\",\"#B0BEC5\",\"#B0BEC5\",\"#B0BEC5\",\"#B0BEC5\",\"#B0BEC5\",\"#B0BEC5\",\"#B0BEC5\",\"#B0BEC5\",\"#B0BEC5\",\"#B0BEC5\",\"#B0BEC5\",\"#B0BEC5\",\"#B0BEC5\",\"#B0BEC5\",\"#B0BEC5\",\"#B0BEC5\",\"#B0BEC5\",\"#B0BEC5\",\"#B0BEC5\",\"#B0BEC5\",\"#B0BEC5\",\"#B0BEC5\",\"#B0BEC5\",\"#B0BEC5\",\"#B0BEC5\",\"#B0BEC5\",\"#B0BEC5\",\"#B0BEC5\"]]}],\"label\":\"Topic 0\",\"method\":\"update\"},{\"args\":[{\"marker.color\":[[\"#B0BEC5\",\"red\",\"#B0BEC5\",\"#B0BEC5\",\"#B0BEC5\",\"#B0BEC5\",\"#B0BEC5\",\"#B0BEC5\",\"#B0BEC5\",\"#B0BEC5\",\"#B0BEC5\",\"#B0BEC5\",\"#B0BEC5\",\"#B0BEC5\",\"#B0BEC5\",\"#B0BEC5\",\"#B0BEC5\",\"#B0BEC5\",\"#B0BEC5\",\"#B0BEC5\",\"#B0BEC5\",\"#B0BEC5\",\"#B0BEC5\",\"#B0BEC5\",\"#B0BEC5\",\"#B0BEC5\",\"#B0BEC5\",\"#B0BEC5\",\"#B0BEC5\",\"#B0BEC5\",\"#B0BEC5\",\"#B0BEC5\",\"#B0BEC5\",\"#B0BEC5\",\"#B0BEC5\",\"#B0BEC5\",\"#B0BEC5\",\"#B0BEC5\",\"#B0BEC5\",\"#B0BEC5\",\"#B0BEC5\",\"#B0BEC5\",\"#B0BEC5\",\"#B0BEC5\",\"#B0BEC5\",\"#B0BEC5\",\"#B0BEC5\",\"#B0BEC5\",\"#B0BEC5\",\"#B0BEC5\",\"#B0BEC5\",\"#B0BEC5\",\"#B0BEC5\",\"#B0BEC5\",\"#B0BEC5\",\"#B0BEC5\",\"#B0BEC5\",\"#B0BEC5\",\"#B0BEC5\",\"#B0BEC5\",\"#B0BEC5\",\"#B0BEC5\",\"#B0BEC5\",\"#B0BEC5\",\"#B0BEC5\",\"#B0BEC5\",\"#B0BEC5\",\"#B0BEC5\",\"#B0BEC5\",\"#B0BEC5\",\"#B0BEC5\",\"#B0BEC5\",\"#B0BEC5\",\"#B0BEC5\",\"#B0BEC5\",\"#B0BEC5\",\"#B0BEC5\",\"#B0BEC5\"]]}],\"label\":\"Topic 1\",\"method\":\"update\"},{\"args\":[{\"marker.color\":[[\"#B0BEC5\",\"#B0BEC5\",\"red\",\"#B0BEC5\",\"#B0BEC5\",\"#B0BEC5\",\"#B0BEC5\",\"#B0BEC5\",\"#B0BEC5\",\"#B0BEC5\",\"#B0BEC5\",\"#B0BEC5\",\"#B0BEC5\",\"#B0BEC5\",\"#B0BEC5\",\"#B0BEC5\",\"#B0BEC5\",\"#B0BEC5\",\"#B0BEC5\",\"#B0BEC5\",\"#B0BEC5\",\"#B0BEC5\",\"#B0BEC5\",\"#B0BEC5\",\"#B0BEC5\",\"#B0BEC5\",\"#B0BEC5\",\"#B0BEC5\",\"#B0BEC5\",\"#B0BEC5\",\"#B0BEC5\",\"#B0BEC5\",\"#B0BEC5\",\"#B0BEC5\",\"#B0BEC5\",\"#B0BEC5\",\"#B0BEC5\",\"#B0BEC5\",\"#B0BEC5\",\"#B0BEC5\",\"#B0BEC5\",\"#B0BEC5\",\"#B0BEC5\",\"#B0BEC5\",\"#B0BEC5\",\"#B0BEC5\",\"#B0BEC5\",\"#B0BEC5\",\"#B0BEC5\",\"#B0BEC5\",\"#B0BEC5\",\"#B0BEC5\",\"#B0BEC5\",\"#B0BEC5\",\"#B0BEC5\",\"#B0BEC5\",\"#B0BEC5\",\"#B0BEC5\",\"#B0BEC5\",\"#B0BEC5\",\"#B0BEC5\",\"#B0BEC5\",\"#B0BEC5\",\"#B0BEC5\",\"#B0BEC5\",\"#B0BEC5\",\"#B0BEC5\",\"#B0BEC5\",\"#B0BEC5\",\"#B0BEC5\",\"#B0BEC5\",\"#B0BEC5\",\"#B0BEC5\",\"#B0BEC5\",\"#B0BEC5\",\"#B0BEC5\",\"#B0BEC5\",\"#B0BEC5\"]]}],\"label\":\"Topic 2\",\"method\":\"update\"},{\"args\":[{\"marker.color\":[[\"#B0BEC5\",\"#B0BEC5\",\"#B0BEC5\",\"red\",\"#B0BEC5\",\"#B0BEC5\",\"#B0BEC5\",\"#B0BEC5\",\"#B0BEC5\",\"#B0BEC5\",\"#B0BEC5\",\"#B0BEC5\",\"#B0BEC5\",\"#B0BEC5\",\"#B0BEC5\",\"#B0BEC5\",\"#B0BEC5\",\"#B0BEC5\",\"#B0BEC5\",\"#B0BEC5\",\"#B0BEC5\",\"#B0BEC5\",\"#B0BEC5\",\"#B0BEC5\",\"#B0BEC5\",\"#B0BEC5\",\"#B0BEC5\",\"#B0BEC5\",\"#B0BEC5\",\"#B0BEC5\",\"#B0BEC5\",\"#B0BEC5\",\"#B0BEC5\",\"#B0BEC5\",\"#B0BEC5\",\"#B0BEC5\",\"#B0BEC5\",\"#B0BEC5\",\"#B0BEC5\",\"#B0BEC5\",\"#B0BEC5\",\"#B0BEC5\",\"#B0BEC5\",\"#B0BEC5\",\"#B0BEC5\",\"#B0BEC5\",\"#B0BEC5\",\"#B0BEC5\",\"#B0BEC5\",\"#B0BEC5\",\"#B0BEC5\",\"#B0BEC5\",\"#B0BEC5\",\"#B0BEC5\",\"#B0BEC5\",\"#B0BEC5\",\"#B0BEC5\",\"#B0BEC5\",\"#B0BEC5\",\"#B0BEC5\",\"#B0BEC5\",\"#B0BEC5\",\"#B0BEC5\",\"#B0BEC5\",\"#B0BEC5\",\"#B0BEC5\",\"#B0BEC5\",\"#B0BEC5\",\"#B0BEC5\",\"#B0BEC5\",\"#B0BEC5\",\"#B0BEC5\",\"#B0BEC5\",\"#B0BEC5\",\"#B0BEC5\",\"#B0BEC5\",\"#B0BEC5\",\"#B0BEC5\"]]}],\"label\":\"Topic 3\",\"method\":\"update\"},{\"args\":[{\"marker.color\":[[\"#B0BEC5\",\"#B0BEC5\",\"#B0BEC5\",\"#B0BEC5\",\"red\",\"#B0BEC5\",\"#B0BEC5\",\"#B0BEC5\",\"#B0BEC5\",\"#B0BEC5\",\"#B0BEC5\",\"#B0BEC5\",\"#B0BEC5\",\"#B0BEC5\",\"#B0BEC5\",\"#B0BEC5\",\"#B0BEC5\",\"#B0BEC5\",\"#B0BEC5\",\"#B0BEC5\",\"#B0BEC5\",\"#B0BEC5\",\"#B0BEC5\",\"#B0BEC5\",\"#B0BEC5\",\"#B0BEC5\",\"#B0BEC5\",\"#B0BEC5\",\"#B0BEC5\",\"#B0BEC5\",\"#B0BEC5\",\"#B0BEC5\",\"#B0BEC5\",\"#B0BEC5\",\"#B0BEC5\",\"#B0BEC5\",\"#B0BEC5\",\"#B0BEC5\",\"#B0BEC5\",\"#B0BEC5\",\"#B0BEC5\",\"#B0BEC5\",\"#B0BEC5\",\"#B0BEC5\",\"#B0BEC5\",\"#B0BEC5\",\"#B0BEC5\",\"#B0BEC5\",\"#B0BEC5\",\"#B0BEC5\",\"#B0BEC5\",\"#B0BEC5\",\"#B0BEC5\",\"#B0BEC5\",\"#B0BEC5\",\"#B0BEC5\",\"#B0BEC5\",\"#B0BEC5\",\"#B0BEC5\",\"#B0BEC5\",\"#B0BEC5\",\"#B0BEC5\",\"#B0BEC5\",\"#B0BEC5\",\"#B0BEC5\",\"#B0BEC5\",\"#B0BEC5\",\"#B0BEC5\",\"#B0BEC5\",\"#B0BEC5\",\"#B0BEC5\",\"#B0BEC5\",\"#B0BEC5\",\"#B0BEC5\",\"#B0BEC5\",\"#B0BEC5\",\"#B0BEC5\",\"#B0BEC5\"]]}],\"label\":\"Topic 4\",\"method\":\"update\"},{\"args\":[{\"marker.color\":[[\"#B0BEC5\",\"#B0BEC5\",\"#B0BEC5\",\"#B0BEC5\",\"#B0BEC5\",\"red\",\"#B0BEC5\",\"#B0BEC5\",\"#B0BEC5\",\"#B0BEC5\",\"#B0BEC5\",\"#B0BEC5\",\"#B0BEC5\",\"#B0BEC5\",\"#B0BEC5\",\"#B0BEC5\",\"#B0BEC5\",\"#B0BEC5\",\"#B0BEC5\",\"#B0BEC5\",\"#B0BEC5\",\"#B0BEC5\",\"#B0BEC5\",\"#B0BEC5\",\"#B0BEC5\",\"#B0BEC5\",\"#B0BEC5\",\"#B0BEC5\",\"#B0BEC5\",\"#B0BEC5\",\"#B0BEC5\",\"#B0BEC5\",\"#B0BEC5\",\"#B0BEC5\",\"#B0BEC5\",\"#B0BEC5\",\"#B0BEC5\",\"#B0BEC5\",\"#B0BEC5\",\"#B0BEC5\",\"#B0BEC5\",\"#B0BEC5\",\"#B0BEC5\",\"#B0BEC5\",\"#B0BEC5\",\"#B0BEC5\",\"#B0BEC5\",\"#B0BEC5\",\"#B0BEC5\",\"#B0BEC5\",\"#B0BEC5\",\"#B0BEC5\",\"#B0BEC5\",\"#B0BEC5\",\"#B0BEC5\",\"#B0BEC5\",\"#B0BEC5\",\"#B0BEC5\",\"#B0BEC5\",\"#B0BEC5\",\"#B0BEC5\",\"#B0BEC5\",\"#B0BEC5\",\"#B0BEC5\",\"#B0BEC5\",\"#B0BEC5\",\"#B0BEC5\",\"#B0BEC5\",\"#B0BEC5\",\"#B0BEC5\",\"#B0BEC5\",\"#B0BEC5\",\"#B0BEC5\",\"#B0BEC5\",\"#B0BEC5\",\"#B0BEC5\",\"#B0BEC5\",\"#B0BEC5\"]]}],\"label\":\"Topic 5\",\"method\":\"update\"},{\"args\":[{\"marker.color\":[[\"#B0BEC5\",\"#B0BEC5\",\"#B0BEC5\",\"#B0BEC5\",\"#B0BEC5\",\"#B0BEC5\",\"red\",\"#B0BEC5\",\"#B0BEC5\",\"#B0BEC5\",\"#B0BEC5\",\"#B0BEC5\",\"#B0BEC5\",\"#B0BEC5\",\"#B0BEC5\",\"#B0BEC5\",\"#B0BEC5\",\"#B0BEC5\",\"#B0BEC5\",\"#B0BEC5\",\"#B0BEC5\",\"#B0BEC5\",\"#B0BEC5\",\"#B0BEC5\",\"#B0BEC5\",\"#B0BEC5\",\"#B0BEC5\",\"#B0BEC5\",\"#B0BEC5\",\"#B0BEC5\",\"#B0BEC5\",\"#B0BEC5\",\"#B0BEC5\",\"#B0BEC5\",\"#B0BEC5\",\"#B0BEC5\",\"#B0BEC5\",\"#B0BEC5\",\"#B0BEC5\",\"#B0BEC5\",\"#B0BEC5\",\"#B0BEC5\",\"#B0BEC5\",\"#B0BEC5\",\"#B0BEC5\",\"#B0BEC5\",\"#B0BEC5\",\"#B0BEC5\",\"#B0BEC5\",\"#B0BEC5\",\"#B0BEC5\",\"#B0BEC5\",\"#B0BEC5\",\"#B0BEC5\",\"#B0BEC5\",\"#B0BEC5\",\"#B0BEC5\",\"#B0BEC5\",\"#B0BEC5\",\"#B0BEC5\",\"#B0BEC5\",\"#B0BEC5\",\"#B0BEC5\",\"#B0BEC5\",\"#B0BEC5\",\"#B0BEC5\",\"#B0BEC5\",\"#B0BEC5\",\"#B0BEC5\",\"#B0BEC5\",\"#B0BEC5\",\"#B0BEC5\",\"#B0BEC5\",\"#B0BEC5\",\"#B0BEC5\",\"#B0BEC5\",\"#B0BEC5\",\"#B0BEC5\"]]}],\"label\":\"Topic 6\",\"method\":\"update\"},{\"args\":[{\"marker.color\":[[\"#B0BEC5\",\"#B0BEC5\",\"#B0BEC5\",\"#B0BEC5\",\"#B0BEC5\",\"#B0BEC5\",\"#B0BEC5\",\"red\",\"#B0BEC5\",\"#B0BEC5\",\"#B0BEC5\",\"#B0BEC5\",\"#B0BEC5\",\"#B0BEC5\",\"#B0BEC5\",\"#B0BEC5\",\"#B0BEC5\",\"#B0BEC5\",\"#B0BEC5\",\"#B0BEC5\",\"#B0BEC5\",\"#B0BEC5\",\"#B0BEC5\",\"#B0BEC5\",\"#B0BEC5\",\"#B0BEC5\",\"#B0BEC5\",\"#B0BEC5\",\"#B0BEC5\",\"#B0BEC5\",\"#B0BEC5\",\"#B0BEC5\",\"#B0BEC5\",\"#B0BEC5\",\"#B0BEC5\",\"#B0BEC5\",\"#B0BEC5\",\"#B0BEC5\",\"#B0BEC5\",\"#B0BEC5\",\"#B0BEC5\",\"#B0BEC5\",\"#B0BEC5\",\"#B0BEC5\",\"#B0BEC5\",\"#B0BEC5\",\"#B0BEC5\",\"#B0BEC5\",\"#B0BEC5\",\"#B0BEC5\",\"#B0BEC5\",\"#B0BEC5\",\"#B0BEC5\",\"#B0BEC5\",\"#B0BEC5\",\"#B0BEC5\",\"#B0BEC5\",\"#B0BEC5\",\"#B0BEC5\",\"#B0BEC5\",\"#B0BEC5\",\"#B0BEC5\",\"#B0BEC5\",\"#B0BEC5\",\"#B0BEC5\",\"#B0BEC5\",\"#B0BEC5\",\"#B0BEC5\",\"#B0BEC5\",\"#B0BEC5\",\"#B0BEC5\",\"#B0BEC5\",\"#B0BEC5\",\"#B0BEC5\",\"#B0BEC5\",\"#B0BEC5\",\"#B0BEC5\",\"#B0BEC5\"]]}],\"label\":\"Topic 7\",\"method\":\"update\"},{\"args\":[{\"marker.color\":[[\"#B0BEC5\",\"#B0BEC5\",\"#B0BEC5\",\"#B0BEC5\",\"#B0BEC5\",\"#B0BEC5\",\"#B0BEC5\",\"#B0BEC5\",\"red\",\"#B0BEC5\",\"#B0BEC5\",\"#B0BEC5\",\"#B0BEC5\",\"#B0BEC5\",\"#B0BEC5\",\"#B0BEC5\",\"#B0BEC5\",\"#B0BEC5\",\"#B0BEC5\",\"#B0BEC5\",\"#B0BEC5\",\"#B0BEC5\",\"#B0BEC5\",\"#B0BEC5\",\"#B0BEC5\",\"#B0BEC5\",\"#B0BEC5\",\"#B0BEC5\",\"#B0BEC5\",\"#B0BEC5\",\"#B0BEC5\",\"#B0BEC5\",\"#B0BEC5\",\"#B0BEC5\",\"#B0BEC5\",\"#B0BEC5\",\"#B0BEC5\",\"#B0BEC5\",\"#B0BEC5\",\"#B0BEC5\",\"#B0BEC5\",\"#B0BEC5\",\"#B0BEC5\",\"#B0BEC5\",\"#B0BEC5\",\"#B0BEC5\",\"#B0BEC5\",\"#B0BEC5\",\"#B0BEC5\",\"#B0BEC5\",\"#B0BEC5\",\"#B0BEC5\",\"#B0BEC5\",\"#B0BEC5\",\"#B0BEC5\",\"#B0BEC5\",\"#B0BEC5\",\"#B0BEC5\",\"#B0BEC5\",\"#B0BEC5\",\"#B0BEC5\",\"#B0BEC5\",\"#B0BEC5\",\"#B0BEC5\",\"#B0BEC5\",\"#B0BEC5\",\"#B0BEC5\",\"#B0BEC5\",\"#B0BEC5\",\"#B0BEC5\",\"#B0BEC5\",\"#B0BEC5\",\"#B0BEC5\",\"#B0BEC5\",\"#B0BEC5\",\"#B0BEC5\",\"#B0BEC5\",\"#B0BEC5\"]]}],\"label\":\"Topic 8\",\"method\":\"update\"},{\"args\":[{\"marker.color\":[[\"#B0BEC5\",\"#B0BEC5\",\"#B0BEC5\",\"#B0BEC5\",\"#B0BEC5\",\"#B0BEC5\",\"#B0BEC5\",\"#B0BEC5\",\"#B0BEC5\",\"red\",\"#B0BEC5\",\"#B0BEC5\",\"#B0BEC5\",\"#B0BEC5\",\"#B0BEC5\",\"#B0BEC5\",\"#B0BEC5\",\"#B0BEC5\",\"#B0BEC5\",\"#B0BEC5\",\"#B0BEC5\",\"#B0BEC5\",\"#B0BEC5\",\"#B0BEC5\",\"#B0BEC5\",\"#B0BEC5\",\"#B0BEC5\",\"#B0BEC5\",\"#B0BEC5\",\"#B0BEC5\",\"#B0BEC5\",\"#B0BEC5\",\"#B0BEC5\",\"#B0BEC5\",\"#B0BEC5\",\"#B0BEC5\",\"#B0BEC5\",\"#B0BEC5\",\"#B0BEC5\",\"#B0BEC5\",\"#B0BEC5\",\"#B0BEC5\",\"#B0BEC5\",\"#B0BEC5\",\"#B0BEC5\",\"#B0BEC5\",\"#B0BEC5\",\"#B0BEC5\",\"#B0BEC5\",\"#B0BEC5\",\"#B0BEC5\",\"#B0BEC5\",\"#B0BEC5\",\"#B0BEC5\",\"#B0BEC5\",\"#B0BEC5\",\"#B0BEC5\",\"#B0BEC5\",\"#B0BEC5\",\"#B0BEC5\",\"#B0BEC5\",\"#B0BEC5\",\"#B0BEC5\",\"#B0BEC5\",\"#B0BEC5\",\"#B0BEC5\",\"#B0BEC5\",\"#B0BEC5\",\"#B0BEC5\",\"#B0BEC5\",\"#B0BEC5\",\"#B0BEC5\",\"#B0BEC5\",\"#B0BEC5\",\"#B0BEC5\",\"#B0BEC5\",\"#B0BEC5\",\"#B0BEC5\"]]}],\"label\":\"Topic 9\",\"method\":\"update\"},{\"args\":[{\"marker.color\":[[\"#B0BEC5\",\"#B0BEC5\",\"#B0BEC5\",\"#B0BEC5\",\"#B0BEC5\",\"#B0BEC5\",\"#B0BEC5\",\"#B0BEC5\",\"#B0BEC5\",\"#B0BEC5\",\"red\",\"#B0BEC5\",\"#B0BEC5\",\"#B0BEC5\",\"#B0BEC5\",\"#B0BEC5\",\"#B0BEC5\",\"#B0BEC5\",\"#B0BEC5\",\"#B0BEC5\",\"#B0BEC5\",\"#B0BEC5\",\"#B0BEC5\",\"#B0BEC5\",\"#B0BEC5\",\"#B0BEC5\",\"#B0BEC5\",\"#B0BEC5\",\"#B0BEC5\",\"#B0BEC5\",\"#B0BEC5\",\"#B0BEC5\",\"#B0BEC5\",\"#B0BEC5\",\"#B0BEC5\",\"#B0BEC5\",\"#B0BEC5\",\"#B0BEC5\",\"#B0BEC5\",\"#B0BEC5\",\"#B0BEC5\",\"#B0BEC5\",\"#B0BEC5\",\"#B0BEC5\",\"#B0BEC5\",\"#B0BEC5\",\"#B0BEC5\",\"#B0BEC5\",\"#B0BEC5\",\"#B0BEC5\",\"#B0BEC5\",\"#B0BEC5\",\"#B0BEC5\",\"#B0BEC5\",\"#B0BEC5\",\"#B0BEC5\",\"#B0BEC5\",\"#B0BEC5\",\"#B0BEC5\",\"#B0BEC5\",\"#B0BEC5\",\"#B0BEC5\",\"#B0BEC5\",\"#B0BEC5\",\"#B0BEC5\",\"#B0BEC5\",\"#B0BEC5\",\"#B0BEC5\",\"#B0BEC5\",\"#B0BEC5\",\"#B0BEC5\",\"#B0BEC5\",\"#B0BEC5\",\"#B0BEC5\",\"#B0BEC5\",\"#B0BEC5\",\"#B0BEC5\",\"#B0BEC5\"]]}],\"label\":\"Topic 10\",\"method\":\"update\"},{\"args\":[{\"marker.color\":[[\"#B0BEC5\",\"#B0BEC5\",\"#B0BEC5\",\"#B0BEC5\",\"#B0BEC5\",\"#B0BEC5\",\"#B0BEC5\",\"#B0BEC5\",\"#B0BEC5\",\"#B0BEC5\",\"#B0BEC5\",\"red\",\"#B0BEC5\",\"#B0BEC5\",\"#B0BEC5\",\"#B0BEC5\",\"#B0BEC5\",\"#B0BEC5\",\"#B0BEC5\",\"#B0BEC5\",\"#B0BEC5\",\"#B0BEC5\",\"#B0BEC5\",\"#B0BEC5\",\"#B0BEC5\",\"#B0BEC5\",\"#B0BEC5\",\"#B0BEC5\",\"#B0BEC5\",\"#B0BEC5\",\"#B0BEC5\",\"#B0BEC5\",\"#B0BEC5\",\"#B0BEC5\",\"#B0BEC5\",\"#B0BEC5\",\"#B0BEC5\",\"#B0BEC5\",\"#B0BEC5\",\"#B0BEC5\",\"#B0BEC5\",\"#B0BEC5\",\"#B0BEC5\",\"#B0BEC5\",\"#B0BEC5\",\"#B0BEC5\",\"#B0BEC5\",\"#B0BEC5\",\"#B0BEC5\",\"#B0BEC5\",\"#B0BEC5\",\"#B0BEC5\",\"#B0BEC5\",\"#B0BEC5\",\"#B0BEC5\",\"#B0BEC5\",\"#B0BEC5\",\"#B0BEC5\",\"#B0BEC5\",\"#B0BEC5\",\"#B0BEC5\",\"#B0BEC5\",\"#B0BEC5\",\"#B0BEC5\",\"#B0BEC5\",\"#B0BEC5\",\"#B0BEC5\",\"#B0BEC5\",\"#B0BEC5\",\"#B0BEC5\",\"#B0BEC5\",\"#B0BEC5\",\"#B0BEC5\",\"#B0BEC5\",\"#B0BEC5\",\"#B0BEC5\",\"#B0BEC5\",\"#B0BEC5\"]]}],\"label\":\"Topic 11\",\"method\":\"update\"},{\"args\":[{\"marker.color\":[[\"#B0BEC5\",\"#B0BEC5\",\"#B0BEC5\",\"#B0BEC5\",\"#B0BEC5\",\"#B0BEC5\",\"#B0BEC5\",\"#B0BEC5\",\"#B0BEC5\",\"#B0BEC5\",\"#B0BEC5\",\"#B0BEC5\",\"red\",\"#B0BEC5\",\"#B0BEC5\",\"#B0BEC5\",\"#B0BEC5\",\"#B0BEC5\",\"#B0BEC5\",\"#B0BEC5\",\"#B0BEC5\",\"#B0BEC5\",\"#B0BEC5\",\"#B0BEC5\",\"#B0BEC5\",\"#B0BEC5\",\"#B0BEC5\",\"#B0BEC5\",\"#B0BEC5\",\"#B0BEC5\",\"#B0BEC5\",\"#B0BEC5\",\"#B0BEC5\",\"#B0BEC5\",\"#B0BEC5\",\"#B0BEC5\",\"#B0BEC5\",\"#B0BEC5\",\"#B0BEC5\",\"#B0BEC5\",\"#B0BEC5\",\"#B0BEC5\",\"#B0BEC5\",\"#B0BEC5\",\"#B0BEC5\",\"#B0BEC5\",\"#B0BEC5\",\"#B0BEC5\",\"#B0BEC5\",\"#B0BEC5\",\"#B0BEC5\",\"#B0BEC5\",\"#B0BEC5\",\"#B0BEC5\",\"#B0BEC5\",\"#B0BEC5\",\"#B0BEC5\",\"#B0BEC5\",\"#B0BEC5\",\"#B0BEC5\",\"#B0BEC5\",\"#B0BEC5\",\"#B0BEC5\",\"#B0BEC5\",\"#B0BEC5\",\"#B0BEC5\",\"#B0BEC5\",\"#B0BEC5\",\"#B0BEC5\",\"#B0BEC5\",\"#B0BEC5\",\"#B0BEC5\",\"#B0BEC5\",\"#B0BEC5\",\"#B0BEC5\",\"#B0BEC5\",\"#B0BEC5\",\"#B0BEC5\"]]}],\"label\":\"Topic 12\",\"method\":\"update\"},{\"args\":[{\"marker.color\":[[\"#B0BEC5\",\"#B0BEC5\",\"#B0BEC5\",\"#B0BEC5\",\"#B0BEC5\",\"#B0BEC5\",\"#B0BEC5\",\"#B0BEC5\",\"#B0BEC5\",\"#B0BEC5\",\"#B0BEC5\",\"#B0BEC5\",\"#B0BEC5\",\"red\",\"#B0BEC5\",\"#B0BEC5\",\"#B0BEC5\",\"#B0BEC5\",\"#B0BEC5\",\"#B0BEC5\",\"#B0BEC5\",\"#B0BEC5\",\"#B0BEC5\",\"#B0BEC5\",\"#B0BEC5\",\"#B0BEC5\",\"#B0BEC5\",\"#B0BEC5\",\"#B0BEC5\",\"#B0BEC5\",\"#B0BEC5\",\"#B0BEC5\",\"#B0BEC5\",\"#B0BEC5\",\"#B0BEC5\",\"#B0BEC5\",\"#B0BEC5\",\"#B0BEC5\",\"#B0BEC5\",\"#B0BEC5\",\"#B0BEC5\",\"#B0BEC5\",\"#B0BEC5\",\"#B0BEC5\",\"#B0BEC5\",\"#B0BEC5\",\"#B0BEC5\",\"#B0BEC5\",\"#B0BEC5\",\"#B0BEC5\",\"#B0BEC5\",\"#B0BEC5\",\"#B0BEC5\",\"#B0BEC5\",\"#B0BEC5\",\"#B0BEC5\",\"#B0BEC5\",\"#B0BEC5\",\"#B0BEC5\",\"#B0BEC5\",\"#B0BEC5\",\"#B0BEC5\",\"#B0BEC5\",\"#B0BEC5\",\"#B0BEC5\",\"#B0BEC5\",\"#B0BEC5\",\"#B0BEC5\",\"#B0BEC5\",\"#B0BEC5\",\"#B0BEC5\",\"#B0BEC5\",\"#B0BEC5\",\"#B0BEC5\",\"#B0BEC5\",\"#B0BEC5\",\"#B0BEC5\",\"#B0BEC5\"]]}],\"label\":\"Topic 13\",\"method\":\"update\"},{\"args\":[{\"marker.color\":[[\"#B0BEC5\",\"#B0BEC5\",\"#B0BEC5\",\"#B0BEC5\",\"#B0BEC5\",\"#B0BEC5\",\"#B0BEC5\",\"#B0BEC5\",\"#B0BEC5\",\"#B0BEC5\",\"#B0BEC5\",\"#B0BEC5\",\"#B0BEC5\",\"#B0BEC5\",\"red\",\"#B0BEC5\",\"#B0BEC5\",\"#B0BEC5\",\"#B0BEC5\",\"#B0BEC5\",\"#B0BEC5\",\"#B0BEC5\",\"#B0BEC5\",\"#B0BEC5\",\"#B0BEC5\",\"#B0BEC5\",\"#B0BEC5\",\"#B0BEC5\",\"#B0BEC5\",\"#B0BEC5\",\"#B0BEC5\",\"#B0BEC5\",\"#B0BEC5\",\"#B0BEC5\",\"#B0BEC5\",\"#B0BEC5\",\"#B0BEC5\",\"#B0BEC5\",\"#B0BEC5\",\"#B0BEC5\",\"#B0BEC5\",\"#B0BEC5\",\"#B0BEC5\",\"#B0BEC5\",\"#B0BEC5\",\"#B0BEC5\",\"#B0BEC5\",\"#B0BEC5\",\"#B0BEC5\",\"#B0BEC5\",\"#B0BEC5\",\"#B0BEC5\",\"#B0BEC5\",\"#B0BEC5\",\"#B0BEC5\",\"#B0BEC5\",\"#B0BEC5\",\"#B0BEC5\",\"#B0BEC5\",\"#B0BEC5\",\"#B0BEC5\",\"#B0BEC5\",\"#B0BEC5\",\"#B0BEC5\",\"#B0BEC5\",\"#B0BEC5\",\"#B0BEC5\",\"#B0BEC5\",\"#B0BEC5\",\"#B0BEC5\",\"#B0BEC5\",\"#B0BEC5\",\"#B0BEC5\",\"#B0BEC5\",\"#B0BEC5\",\"#B0BEC5\",\"#B0BEC5\",\"#B0BEC5\"]]}],\"label\":\"Topic 14\",\"method\":\"update\"},{\"args\":[{\"marker.color\":[[\"#B0BEC5\",\"#B0BEC5\",\"#B0BEC5\",\"#B0BEC5\",\"#B0BEC5\",\"#B0BEC5\",\"#B0BEC5\",\"#B0BEC5\",\"#B0BEC5\",\"#B0BEC5\",\"#B0BEC5\",\"#B0BEC5\",\"#B0BEC5\",\"#B0BEC5\",\"#B0BEC5\",\"red\",\"#B0BEC5\",\"#B0BEC5\",\"#B0BEC5\",\"#B0BEC5\",\"#B0BEC5\",\"#B0BEC5\",\"#B0BEC5\",\"#B0BEC5\",\"#B0BEC5\",\"#B0BEC5\",\"#B0BEC5\",\"#B0BEC5\",\"#B0BEC5\",\"#B0BEC5\",\"#B0BEC5\",\"#B0BEC5\",\"#B0BEC5\",\"#B0BEC5\",\"#B0BEC5\",\"#B0BEC5\",\"#B0BEC5\",\"#B0BEC5\",\"#B0BEC5\",\"#B0BEC5\",\"#B0BEC5\",\"#B0BEC5\",\"#B0BEC5\",\"#B0BEC5\",\"#B0BEC5\",\"#B0BEC5\",\"#B0BEC5\",\"#B0BEC5\",\"#B0BEC5\",\"#B0BEC5\",\"#B0BEC5\",\"#B0BEC5\",\"#B0BEC5\",\"#B0BEC5\",\"#B0BEC5\",\"#B0BEC5\",\"#B0BEC5\",\"#B0BEC5\",\"#B0BEC5\",\"#B0BEC5\",\"#B0BEC5\",\"#B0BEC5\",\"#B0BEC5\",\"#B0BEC5\",\"#B0BEC5\",\"#B0BEC5\",\"#B0BEC5\",\"#B0BEC5\",\"#B0BEC5\",\"#B0BEC5\",\"#B0BEC5\",\"#B0BEC5\",\"#B0BEC5\",\"#B0BEC5\",\"#B0BEC5\",\"#B0BEC5\",\"#B0BEC5\",\"#B0BEC5\"]]}],\"label\":\"Topic 15\",\"method\":\"update\"},{\"args\":[{\"marker.color\":[[\"#B0BEC5\",\"#B0BEC5\",\"#B0BEC5\",\"#B0BEC5\",\"#B0BEC5\",\"#B0BEC5\",\"#B0BEC5\",\"#B0BEC5\",\"#B0BEC5\",\"#B0BEC5\",\"#B0BEC5\",\"#B0BEC5\",\"#B0BEC5\",\"#B0BEC5\",\"#B0BEC5\",\"#B0BEC5\",\"red\",\"#B0BEC5\",\"#B0BEC5\",\"#B0BEC5\",\"#B0BEC5\",\"#B0BEC5\",\"#B0BEC5\",\"#B0BEC5\",\"#B0BEC5\",\"#B0BEC5\",\"#B0BEC5\",\"#B0BEC5\",\"#B0BEC5\",\"#B0BEC5\",\"#B0BEC5\",\"#B0BEC5\",\"#B0BEC5\",\"#B0BEC5\",\"#B0BEC5\",\"#B0BEC5\",\"#B0BEC5\",\"#B0BEC5\",\"#B0BEC5\",\"#B0BEC5\",\"#B0BEC5\",\"#B0BEC5\",\"#B0BEC5\",\"#B0BEC5\",\"#B0BEC5\",\"#B0BEC5\",\"#B0BEC5\",\"#B0BEC5\",\"#B0BEC5\",\"#B0BEC5\",\"#B0BEC5\",\"#B0BEC5\",\"#B0BEC5\",\"#B0BEC5\",\"#B0BEC5\",\"#B0BEC5\",\"#B0BEC5\",\"#B0BEC5\",\"#B0BEC5\",\"#B0BEC5\",\"#B0BEC5\",\"#B0BEC5\",\"#B0BEC5\",\"#B0BEC5\",\"#B0BEC5\",\"#B0BEC5\",\"#B0BEC5\",\"#B0BEC5\",\"#B0BEC5\",\"#B0BEC5\",\"#B0BEC5\",\"#B0BEC5\",\"#B0BEC5\",\"#B0BEC5\",\"#B0BEC5\",\"#B0BEC5\",\"#B0BEC5\",\"#B0BEC5\"]]}],\"label\":\"Topic 16\",\"method\":\"update\"},{\"args\":[{\"marker.color\":[[\"#B0BEC5\",\"#B0BEC5\",\"#B0BEC5\",\"#B0BEC5\",\"#B0BEC5\",\"#B0BEC5\",\"#B0BEC5\",\"#B0BEC5\",\"#B0BEC5\",\"#B0BEC5\",\"#B0BEC5\",\"#B0BEC5\",\"#B0BEC5\",\"#B0BEC5\",\"#B0BEC5\",\"#B0BEC5\",\"#B0BEC5\",\"red\",\"#B0BEC5\",\"#B0BEC5\",\"#B0BEC5\",\"#B0BEC5\",\"#B0BEC5\",\"#B0BEC5\",\"#B0BEC5\",\"#B0BEC5\",\"#B0BEC5\",\"#B0BEC5\",\"#B0BEC5\",\"#B0BEC5\",\"#B0BEC5\",\"#B0BEC5\",\"#B0BEC5\",\"#B0BEC5\",\"#B0BEC5\",\"#B0BEC5\",\"#B0BEC5\",\"#B0BEC5\",\"#B0BEC5\",\"#B0BEC5\",\"#B0BEC5\",\"#B0BEC5\",\"#B0BEC5\",\"#B0BEC5\",\"#B0BEC5\",\"#B0BEC5\",\"#B0BEC5\",\"#B0BEC5\",\"#B0BEC5\",\"#B0BEC5\",\"#B0BEC5\",\"#B0BEC5\",\"#B0BEC5\",\"#B0BEC5\",\"#B0BEC5\",\"#B0BEC5\",\"#B0BEC5\",\"#B0BEC5\",\"#B0BEC5\",\"#B0BEC5\",\"#B0BEC5\",\"#B0BEC5\",\"#B0BEC5\",\"#B0BEC5\",\"#B0BEC5\",\"#B0BEC5\",\"#B0BEC5\",\"#B0BEC5\",\"#B0BEC5\",\"#B0BEC5\",\"#B0BEC5\",\"#B0BEC5\",\"#B0BEC5\",\"#B0BEC5\",\"#B0BEC5\",\"#B0BEC5\",\"#B0BEC5\",\"#B0BEC5\"]]}],\"label\":\"Topic 17\",\"method\":\"update\"},{\"args\":[{\"marker.color\":[[\"#B0BEC5\",\"#B0BEC5\",\"#B0BEC5\",\"#B0BEC5\",\"#B0BEC5\",\"#B0BEC5\",\"#B0BEC5\",\"#B0BEC5\",\"#B0BEC5\",\"#B0BEC5\",\"#B0BEC5\",\"#B0BEC5\",\"#B0BEC5\",\"#B0BEC5\",\"#B0BEC5\",\"#B0BEC5\",\"#B0BEC5\",\"#B0BEC5\",\"red\",\"#B0BEC5\",\"#B0BEC5\",\"#B0BEC5\",\"#B0BEC5\",\"#B0BEC5\",\"#B0BEC5\",\"#B0BEC5\",\"#B0BEC5\",\"#B0BEC5\",\"#B0BEC5\",\"#B0BEC5\",\"#B0BEC5\",\"#B0BEC5\",\"#B0BEC5\",\"#B0BEC5\",\"#B0BEC5\",\"#B0BEC5\",\"#B0BEC5\",\"#B0BEC5\",\"#B0BEC5\",\"#B0BEC5\",\"#B0BEC5\",\"#B0BEC5\",\"#B0BEC5\",\"#B0BEC5\",\"#B0BEC5\",\"#B0BEC5\",\"#B0BEC5\",\"#B0BEC5\",\"#B0BEC5\",\"#B0BEC5\",\"#B0BEC5\",\"#B0BEC5\",\"#B0BEC5\",\"#B0BEC5\",\"#B0BEC5\",\"#B0BEC5\",\"#B0BEC5\",\"#B0BEC5\",\"#B0BEC5\",\"#B0BEC5\",\"#B0BEC5\",\"#B0BEC5\",\"#B0BEC5\",\"#B0BEC5\",\"#B0BEC5\",\"#B0BEC5\",\"#B0BEC5\",\"#B0BEC5\",\"#B0BEC5\",\"#B0BEC5\",\"#B0BEC5\",\"#B0BEC5\",\"#B0BEC5\",\"#B0BEC5\",\"#B0BEC5\",\"#B0BEC5\",\"#B0BEC5\",\"#B0BEC5\"]]}],\"label\":\"Topic 18\",\"method\":\"update\"},{\"args\":[{\"marker.color\":[[\"#B0BEC5\",\"#B0BEC5\",\"#B0BEC5\",\"#B0BEC5\",\"#B0BEC5\",\"#B0BEC5\",\"#B0BEC5\",\"#B0BEC5\",\"#B0BEC5\",\"#B0BEC5\",\"#B0BEC5\",\"#B0BEC5\",\"#B0BEC5\",\"#B0BEC5\",\"#B0BEC5\",\"#B0BEC5\",\"#B0BEC5\",\"#B0BEC5\",\"#B0BEC5\",\"red\",\"#B0BEC5\",\"#B0BEC5\",\"#B0BEC5\",\"#B0BEC5\",\"#B0BEC5\",\"#B0BEC5\",\"#B0BEC5\",\"#B0BEC5\",\"#B0BEC5\",\"#B0BEC5\",\"#B0BEC5\",\"#B0BEC5\",\"#B0BEC5\",\"#B0BEC5\",\"#B0BEC5\",\"#B0BEC5\",\"#B0BEC5\",\"#B0BEC5\",\"#B0BEC5\",\"#B0BEC5\",\"#B0BEC5\",\"#B0BEC5\",\"#B0BEC5\",\"#B0BEC5\",\"#B0BEC5\",\"#B0BEC5\",\"#B0BEC5\",\"#B0BEC5\",\"#B0BEC5\",\"#B0BEC5\",\"#B0BEC5\",\"#B0BEC5\",\"#B0BEC5\",\"#B0BEC5\",\"#B0BEC5\",\"#B0BEC5\",\"#B0BEC5\",\"#B0BEC5\",\"#B0BEC5\",\"#B0BEC5\",\"#B0BEC5\",\"#B0BEC5\",\"#B0BEC5\",\"#B0BEC5\",\"#B0BEC5\",\"#B0BEC5\",\"#B0BEC5\",\"#B0BEC5\",\"#B0BEC5\",\"#B0BEC5\",\"#B0BEC5\",\"#B0BEC5\",\"#B0BEC5\",\"#B0BEC5\",\"#B0BEC5\",\"#B0BEC5\",\"#B0BEC5\",\"#B0BEC5\"]]}],\"label\":\"Topic 19\",\"method\":\"update\"},{\"args\":[{\"marker.color\":[[\"#B0BEC5\",\"#B0BEC5\",\"#B0BEC5\",\"#B0BEC5\",\"#B0BEC5\",\"#B0BEC5\",\"#B0BEC5\",\"#B0BEC5\",\"#B0BEC5\",\"#B0BEC5\",\"#B0BEC5\",\"#B0BEC5\",\"#B0BEC5\",\"#B0BEC5\",\"#B0BEC5\",\"#B0BEC5\",\"#B0BEC5\",\"#B0BEC5\",\"#B0BEC5\",\"#B0BEC5\",\"red\",\"#B0BEC5\",\"#B0BEC5\",\"#B0BEC5\",\"#B0BEC5\",\"#B0BEC5\",\"#B0BEC5\",\"#B0BEC5\",\"#B0BEC5\",\"#B0BEC5\",\"#B0BEC5\",\"#B0BEC5\",\"#B0BEC5\",\"#B0BEC5\",\"#B0BEC5\",\"#B0BEC5\",\"#B0BEC5\",\"#B0BEC5\",\"#B0BEC5\",\"#B0BEC5\",\"#B0BEC5\",\"#B0BEC5\",\"#B0BEC5\",\"#B0BEC5\",\"#B0BEC5\",\"#B0BEC5\",\"#B0BEC5\",\"#B0BEC5\",\"#B0BEC5\",\"#B0BEC5\",\"#B0BEC5\",\"#B0BEC5\",\"#B0BEC5\",\"#B0BEC5\",\"#B0BEC5\",\"#B0BEC5\",\"#B0BEC5\",\"#B0BEC5\",\"#B0BEC5\",\"#B0BEC5\",\"#B0BEC5\",\"#B0BEC5\",\"#B0BEC5\",\"#B0BEC5\",\"#B0BEC5\",\"#B0BEC5\",\"#B0BEC5\",\"#B0BEC5\",\"#B0BEC5\",\"#B0BEC5\",\"#B0BEC5\",\"#B0BEC5\",\"#B0BEC5\",\"#B0BEC5\",\"#B0BEC5\",\"#B0BEC5\",\"#B0BEC5\",\"#B0BEC5\"]]}],\"label\":\"Topic 20\",\"method\":\"update\"},{\"args\":[{\"marker.color\":[[\"#B0BEC5\",\"#B0BEC5\",\"#B0BEC5\",\"#B0BEC5\",\"#B0BEC5\",\"#B0BEC5\",\"#B0BEC5\",\"#B0BEC5\",\"#B0BEC5\",\"#B0BEC5\",\"#B0BEC5\",\"#B0BEC5\",\"#B0BEC5\",\"#B0BEC5\",\"#B0BEC5\",\"#B0BEC5\",\"#B0BEC5\",\"#B0BEC5\",\"#B0BEC5\",\"#B0BEC5\",\"#B0BEC5\",\"red\",\"#B0BEC5\",\"#B0BEC5\",\"#B0BEC5\",\"#B0BEC5\",\"#B0BEC5\",\"#B0BEC5\",\"#B0BEC5\",\"#B0BEC5\",\"#B0BEC5\",\"#B0BEC5\",\"#B0BEC5\",\"#B0BEC5\",\"#B0BEC5\",\"#B0BEC5\",\"#B0BEC5\",\"#B0BEC5\",\"#B0BEC5\",\"#B0BEC5\",\"#B0BEC5\",\"#B0BEC5\",\"#B0BEC5\",\"#B0BEC5\",\"#B0BEC5\",\"#B0BEC5\",\"#B0BEC5\",\"#B0BEC5\",\"#B0BEC5\",\"#B0BEC5\",\"#B0BEC5\",\"#B0BEC5\",\"#B0BEC5\",\"#B0BEC5\",\"#B0BEC5\",\"#B0BEC5\",\"#B0BEC5\",\"#B0BEC5\",\"#B0BEC5\",\"#B0BEC5\",\"#B0BEC5\",\"#B0BEC5\",\"#B0BEC5\",\"#B0BEC5\",\"#B0BEC5\",\"#B0BEC5\",\"#B0BEC5\",\"#B0BEC5\",\"#B0BEC5\",\"#B0BEC5\",\"#B0BEC5\",\"#B0BEC5\",\"#B0BEC5\",\"#B0BEC5\",\"#B0BEC5\",\"#B0BEC5\",\"#B0BEC5\",\"#B0BEC5\"]]}],\"label\":\"Topic 21\",\"method\":\"update\"},{\"args\":[{\"marker.color\":[[\"#B0BEC5\",\"#B0BEC5\",\"#B0BEC5\",\"#B0BEC5\",\"#B0BEC5\",\"#B0BEC5\",\"#B0BEC5\",\"#B0BEC5\",\"#B0BEC5\",\"#B0BEC5\",\"#B0BEC5\",\"#B0BEC5\",\"#B0BEC5\",\"#B0BEC5\",\"#B0BEC5\",\"#B0BEC5\",\"#B0BEC5\",\"#B0BEC5\",\"#B0BEC5\",\"#B0BEC5\",\"#B0BEC5\",\"#B0BEC5\",\"red\",\"#B0BEC5\",\"#B0BEC5\",\"#B0BEC5\",\"#B0BEC5\",\"#B0BEC5\",\"#B0BEC5\",\"#B0BEC5\",\"#B0BEC5\",\"#B0BEC5\",\"#B0BEC5\",\"#B0BEC5\",\"#B0BEC5\",\"#B0BEC5\",\"#B0BEC5\",\"#B0BEC5\",\"#B0BEC5\",\"#B0BEC5\",\"#B0BEC5\",\"#B0BEC5\",\"#B0BEC5\",\"#B0BEC5\",\"#B0BEC5\",\"#B0BEC5\",\"#B0BEC5\",\"#B0BEC5\",\"#B0BEC5\",\"#B0BEC5\",\"#B0BEC5\",\"#B0BEC5\",\"#B0BEC5\",\"#B0BEC5\",\"#B0BEC5\",\"#B0BEC5\",\"#B0BEC5\",\"#B0BEC5\",\"#B0BEC5\",\"#B0BEC5\",\"#B0BEC5\",\"#B0BEC5\",\"#B0BEC5\",\"#B0BEC5\",\"#B0BEC5\",\"#B0BEC5\",\"#B0BEC5\",\"#B0BEC5\",\"#B0BEC5\",\"#B0BEC5\",\"#B0BEC5\",\"#B0BEC5\",\"#B0BEC5\",\"#B0BEC5\",\"#B0BEC5\",\"#B0BEC5\",\"#B0BEC5\",\"#B0BEC5\"]]}],\"label\":\"Topic 22\",\"method\":\"update\"},{\"args\":[{\"marker.color\":[[\"#B0BEC5\",\"#B0BEC5\",\"#B0BEC5\",\"#B0BEC5\",\"#B0BEC5\",\"#B0BEC5\",\"#B0BEC5\",\"#B0BEC5\",\"#B0BEC5\",\"#B0BEC5\",\"#B0BEC5\",\"#B0BEC5\",\"#B0BEC5\",\"#B0BEC5\",\"#B0BEC5\",\"#B0BEC5\",\"#B0BEC5\",\"#B0BEC5\",\"#B0BEC5\",\"#B0BEC5\",\"#B0BEC5\",\"#B0BEC5\",\"#B0BEC5\",\"red\",\"#B0BEC5\",\"#B0BEC5\",\"#B0BEC5\",\"#B0BEC5\",\"#B0BEC5\",\"#B0BEC5\",\"#B0BEC5\",\"#B0BEC5\",\"#B0BEC5\",\"#B0BEC5\",\"#B0BEC5\",\"#B0BEC5\",\"#B0BEC5\",\"#B0BEC5\",\"#B0BEC5\",\"#B0BEC5\",\"#B0BEC5\",\"#B0BEC5\",\"#B0BEC5\",\"#B0BEC5\",\"#B0BEC5\",\"#B0BEC5\",\"#B0BEC5\",\"#B0BEC5\",\"#B0BEC5\",\"#B0BEC5\",\"#B0BEC5\",\"#B0BEC5\",\"#B0BEC5\",\"#B0BEC5\",\"#B0BEC5\",\"#B0BEC5\",\"#B0BEC5\",\"#B0BEC5\",\"#B0BEC5\",\"#B0BEC5\",\"#B0BEC5\",\"#B0BEC5\",\"#B0BEC5\",\"#B0BEC5\",\"#B0BEC5\",\"#B0BEC5\",\"#B0BEC5\",\"#B0BEC5\",\"#B0BEC5\",\"#B0BEC5\",\"#B0BEC5\",\"#B0BEC5\",\"#B0BEC5\",\"#B0BEC5\",\"#B0BEC5\",\"#B0BEC5\",\"#B0BEC5\",\"#B0BEC5\"]]}],\"label\":\"Topic 23\",\"method\":\"update\"},{\"args\":[{\"marker.color\":[[\"#B0BEC5\",\"#B0BEC5\",\"#B0BEC5\",\"#B0BEC5\",\"#B0BEC5\",\"#B0BEC5\",\"#B0BEC5\",\"#B0BEC5\",\"#B0BEC5\",\"#B0BEC5\",\"#B0BEC5\",\"#B0BEC5\",\"#B0BEC5\",\"#B0BEC5\",\"#B0BEC5\",\"#B0BEC5\",\"#B0BEC5\",\"#B0BEC5\",\"#B0BEC5\",\"#B0BEC5\",\"#B0BEC5\",\"#B0BEC5\",\"#B0BEC5\",\"#B0BEC5\",\"red\",\"#B0BEC5\",\"#B0BEC5\",\"#B0BEC5\",\"#B0BEC5\",\"#B0BEC5\",\"#B0BEC5\",\"#B0BEC5\",\"#B0BEC5\",\"#B0BEC5\",\"#B0BEC5\",\"#B0BEC5\",\"#B0BEC5\",\"#B0BEC5\",\"#B0BEC5\",\"#B0BEC5\",\"#B0BEC5\",\"#B0BEC5\",\"#B0BEC5\",\"#B0BEC5\",\"#B0BEC5\",\"#B0BEC5\",\"#B0BEC5\",\"#B0BEC5\",\"#B0BEC5\",\"#B0BEC5\",\"#B0BEC5\",\"#B0BEC5\",\"#B0BEC5\",\"#B0BEC5\",\"#B0BEC5\",\"#B0BEC5\",\"#B0BEC5\",\"#B0BEC5\",\"#B0BEC5\",\"#B0BEC5\",\"#B0BEC5\",\"#B0BEC5\",\"#B0BEC5\",\"#B0BEC5\",\"#B0BEC5\",\"#B0BEC5\",\"#B0BEC5\",\"#B0BEC5\",\"#B0BEC5\",\"#B0BEC5\",\"#B0BEC5\",\"#B0BEC5\",\"#B0BEC5\",\"#B0BEC5\",\"#B0BEC5\",\"#B0BEC5\",\"#B0BEC5\",\"#B0BEC5\"]]}],\"label\":\"Topic 24\",\"method\":\"update\"},{\"args\":[{\"marker.color\":[[\"#B0BEC5\",\"#B0BEC5\",\"#B0BEC5\",\"#B0BEC5\",\"#B0BEC5\",\"#B0BEC5\",\"#B0BEC5\",\"#B0BEC5\",\"#B0BEC5\",\"#B0BEC5\",\"#B0BEC5\",\"#B0BEC5\",\"#B0BEC5\",\"#B0BEC5\",\"#B0BEC5\",\"#B0BEC5\",\"#B0BEC5\",\"#B0BEC5\",\"#B0BEC5\",\"#B0BEC5\",\"#B0BEC5\",\"#B0BEC5\",\"#B0BEC5\",\"#B0BEC5\",\"#B0BEC5\",\"red\",\"#B0BEC5\",\"#B0BEC5\",\"#B0BEC5\",\"#B0BEC5\",\"#B0BEC5\",\"#B0BEC5\",\"#B0BEC5\",\"#B0BEC5\",\"#B0BEC5\",\"#B0BEC5\",\"#B0BEC5\",\"#B0BEC5\",\"#B0BEC5\",\"#B0BEC5\",\"#B0BEC5\",\"#B0BEC5\",\"#B0BEC5\",\"#B0BEC5\",\"#B0BEC5\",\"#B0BEC5\",\"#B0BEC5\",\"#B0BEC5\",\"#B0BEC5\",\"#B0BEC5\",\"#B0BEC5\",\"#B0BEC5\",\"#B0BEC5\",\"#B0BEC5\",\"#B0BEC5\",\"#B0BEC5\",\"#B0BEC5\",\"#B0BEC5\",\"#B0BEC5\",\"#B0BEC5\",\"#B0BEC5\",\"#B0BEC5\",\"#B0BEC5\",\"#B0BEC5\",\"#B0BEC5\",\"#B0BEC5\",\"#B0BEC5\",\"#B0BEC5\",\"#B0BEC5\",\"#B0BEC5\",\"#B0BEC5\",\"#B0BEC5\",\"#B0BEC5\",\"#B0BEC5\",\"#B0BEC5\",\"#B0BEC5\",\"#B0BEC5\",\"#B0BEC5\"]]}],\"label\":\"Topic 25\",\"method\":\"update\"},{\"args\":[{\"marker.color\":[[\"#B0BEC5\",\"#B0BEC5\",\"#B0BEC5\",\"#B0BEC5\",\"#B0BEC5\",\"#B0BEC5\",\"#B0BEC5\",\"#B0BEC5\",\"#B0BEC5\",\"#B0BEC5\",\"#B0BEC5\",\"#B0BEC5\",\"#B0BEC5\",\"#B0BEC5\",\"#B0BEC5\",\"#B0BEC5\",\"#B0BEC5\",\"#B0BEC5\",\"#B0BEC5\",\"#B0BEC5\",\"#B0BEC5\",\"#B0BEC5\",\"#B0BEC5\",\"#B0BEC5\",\"#B0BEC5\",\"#B0BEC5\",\"red\",\"#B0BEC5\",\"#B0BEC5\",\"#B0BEC5\",\"#B0BEC5\",\"#B0BEC5\",\"#B0BEC5\",\"#B0BEC5\",\"#B0BEC5\",\"#B0BEC5\",\"#B0BEC5\",\"#B0BEC5\",\"#B0BEC5\",\"#B0BEC5\",\"#B0BEC5\",\"#B0BEC5\",\"#B0BEC5\",\"#B0BEC5\",\"#B0BEC5\",\"#B0BEC5\",\"#B0BEC5\",\"#B0BEC5\",\"#B0BEC5\",\"#B0BEC5\",\"#B0BEC5\",\"#B0BEC5\",\"#B0BEC5\",\"#B0BEC5\",\"#B0BEC5\",\"#B0BEC5\",\"#B0BEC5\",\"#B0BEC5\",\"#B0BEC5\",\"#B0BEC5\",\"#B0BEC5\",\"#B0BEC5\",\"#B0BEC5\",\"#B0BEC5\",\"#B0BEC5\",\"#B0BEC5\",\"#B0BEC5\",\"#B0BEC5\",\"#B0BEC5\",\"#B0BEC5\",\"#B0BEC5\",\"#B0BEC5\",\"#B0BEC5\",\"#B0BEC5\",\"#B0BEC5\",\"#B0BEC5\",\"#B0BEC5\",\"#B0BEC5\"]]}],\"label\":\"Topic 26\",\"method\":\"update\"},{\"args\":[{\"marker.color\":[[\"#B0BEC5\",\"#B0BEC5\",\"#B0BEC5\",\"#B0BEC5\",\"#B0BEC5\",\"#B0BEC5\",\"#B0BEC5\",\"#B0BEC5\",\"#B0BEC5\",\"#B0BEC5\",\"#B0BEC5\",\"#B0BEC5\",\"#B0BEC5\",\"#B0BEC5\",\"#B0BEC5\",\"#B0BEC5\",\"#B0BEC5\",\"#B0BEC5\",\"#B0BEC5\",\"#B0BEC5\",\"#B0BEC5\",\"#B0BEC5\",\"#B0BEC5\",\"#B0BEC5\",\"#B0BEC5\",\"#B0BEC5\",\"#B0BEC5\",\"red\",\"#B0BEC5\",\"#B0BEC5\",\"#B0BEC5\",\"#B0BEC5\",\"#B0BEC5\",\"#B0BEC5\",\"#B0BEC5\",\"#B0BEC5\",\"#B0BEC5\",\"#B0BEC5\",\"#B0BEC5\",\"#B0BEC5\",\"#B0BEC5\",\"#B0BEC5\",\"#B0BEC5\",\"#B0BEC5\",\"#B0BEC5\",\"#B0BEC5\",\"#B0BEC5\",\"#B0BEC5\",\"#B0BEC5\",\"#B0BEC5\",\"#B0BEC5\",\"#B0BEC5\",\"#B0BEC5\",\"#B0BEC5\",\"#B0BEC5\",\"#B0BEC5\",\"#B0BEC5\",\"#B0BEC5\",\"#B0BEC5\",\"#B0BEC5\",\"#B0BEC5\",\"#B0BEC5\",\"#B0BEC5\",\"#B0BEC5\",\"#B0BEC5\",\"#B0BEC5\",\"#B0BEC5\",\"#B0BEC5\",\"#B0BEC5\",\"#B0BEC5\",\"#B0BEC5\",\"#B0BEC5\",\"#B0BEC5\",\"#B0BEC5\",\"#B0BEC5\",\"#B0BEC5\",\"#B0BEC5\",\"#B0BEC5\"]]}],\"label\":\"Topic 27\",\"method\":\"update\"},{\"args\":[{\"marker.color\":[[\"#B0BEC5\",\"#B0BEC5\",\"#B0BEC5\",\"#B0BEC5\",\"#B0BEC5\",\"#B0BEC5\",\"#B0BEC5\",\"#B0BEC5\",\"#B0BEC5\",\"#B0BEC5\",\"#B0BEC5\",\"#B0BEC5\",\"#B0BEC5\",\"#B0BEC5\",\"#B0BEC5\",\"#B0BEC5\",\"#B0BEC5\",\"#B0BEC5\",\"#B0BEC5\",\"#B0BEC5\",\"#B0BEC5\",\"#B0BEC5\",\"#B0BEC5\",\"#B0BEC5\",\"#B0BEC5\",\"#B0BEC5\",\"#B0BEC5\",\"#B0BEC5\",\"red\",\"#B0BEC5\",\"#B0BEC5\",\"#B0BEC5\",\"#B0BEC5\",\"#B0BEC5\",\"#B0BEC5\",\"#B0BEC5\",\"#B0BEC5\",\"#B0BEC5\",\"#B0BEC5\",\"#B0BEC5\",\"#B0BEC5\",\"#B0BEC5\",\"#B0BEC5\",\"#B0BEC5\",\"#B0BEC5\",\"#B0BEC5\",\"#B0BEC5\",\"#B0BEC5\",\"#B0BEC5\",\"#B0BEC5\",\"#B0BEC5\",\"#B0BEC5\",\"#B0BEC5\",\"#B0BEC5\",\"#B0BEC5\",\"#B0BEC5\",\"#B0BEC5\",\"#B0BEC5\",\"#B0BEC5\",\"#B0BEC5\",\"#B0BEC5\",\"#B0BEC5\",\"#B0BEC5\",\"#B0BEC5\",\"#B0BEC5\",\"#B0BEC5\",\"#B0BEC5\",\"#B0BEC5\",\"#B0BEC5\",\"#B0BEC5\",\"#B0BEC5\",\"#B0BEC5\",\"#B0BEC5\",\"#B0BEC5\",\"#B0BEC5\",\"#B0BEC5\",\"#B0BEC5\",\"#B0BEC5\"]]}],\"label\":\"Topic 28\",\"method\":\"update\"},{\"args\":[{\"marker.color\":[[\"#B0BEC5\",\"#B0BEC5\",\"#B0BEC5\",\"#B0BEC5\",\"#B0BEC5\",\"#B0BEC5\",\"#B0BEC5\",\"#B0BEC5\",\"#B0BEC5\",\"#B0BEC5\",\"#B0BEC5\",\"#B0BEC5\",\"#B0BEC5\",\"#B0BEC5\",\"#B0BEC5\",\"#B0BEC5\",\"#B0BEC5\",\"#B0BEC5\",\"#B0BEC5\",\"#B0BEC5\",\"#B0BEC5\",\"#B0BEC5\",\"#B0BEC5\",\"#B0BEC5\",\"#B0BEC5\",\"#B0BEC5\",\"#B0BEC5\",\"#B0BEC5\",\"#B0BEC5\",\"red\",\"#B0BEC5\",\"#B0BEC5\",\"#B0BEC5\",\"#B0BEC5\",\"#B0BEC5\",\"#B0BEC5\",\"#B0BEC5\",\"#B0BEC5\",\"#B0BEC5\",\"#B0BEC5\",\"#B0BEC5\",\"#B0BEC5\",\"#B0BEC5\",\"#B0BEC5\",\"#B0BEC5\",\"#B0BEC5\",\"#B0BEC5\",\"#B0BEC5\",\"#B0BEC5\",\"#B0BEC5\",\"#B0BEC5\",\"#B0BEC5\",\"#B0BEC5\",\"#B0BEC5\",\"#B0BEC5\",\"#B0BEC5\",\"#B0BEC5\",\"#B0BEC5\",\"#B0BEC5\",\"#B0BEC5\",\"#B0BEC5\",\"#B0BEC5\",\"#B0BEC5\",\"#B0BEC5\",\"#B0BEC5\",\"#B0BEC5\",\"#B0BEC5\",\"#B0BEC5\",\"#B0BEC5\",\"#B0BEC5\",\"#B0BEC5\",\"#B0BEC5\",\"#B0BEC5\",\"#B0BEC5\",\"#B0BEC5\",\"#B0BEC5\",\"#B0BEC5\",\"#B0BEC5\"]]}],\"label\":\"Topic 29\",\"method\":\"update\"},{\"args\":[{\"marker.color\":[[\"#B0BEC5\",\"#B0BEC5\",\"#B0BEC5\",\"#B0BEC5\",\"#B0BEC5\",\"#B0BEC5\",\"#B0BEC5\",\"#B0BEC5\",\"#B0BEC5\",\"#B0BEC5\",\"#B0BEC5\",\"#B0BEC5\",\"#B0BEC5\",\"#B0BEC5\",\"#B0BEC5\",\"#B0BEC5\",\"#B0BEC5\",\"#B0BEC5\",\"#B0BEC5\",\"#B0BEC5\",\"#B0BEC5\",\"#B0BEC5\",\"#B0BEC5\",\"#B0BEC5\",\"#B0BEC5\",\"#B0BEC5\",\"#B0BEC5\",\"#B0BEC5\",\"#B0BEC5\",\"#B0BEC5\",\"red\",\"#B0BEC5\",\"#B0BEC5\",\"#B0BEC5\",\"#B0BEC5\",\"#B0BEC5\",\"#B0BEC5\",\"#B0BEC5\",\"#B0BEC5\",\"#B0BEC5\",\"#B0BEC5\",\"#B0BEC5\",\"#B0BEC5\",\"#B0BEC5\",\"#B0BEC5\",\"#B0BEC5\",\"#B0BEC5\",\"#B0BEC5\",\"#B0BEC5\",\"#B0BEC5\",\"#B0BEC5\",\"#B0BEC5\",\"#B0BEC5\",\"#B0BEC5\",\"#B0BEC5\",\"#B0BEC5\",\"#B0BEC5\",\"#B0BEC5\",\"#B0BEC5\",\"#B0BEC5\",\"#B0BEC5\",\"#B0BEC5\",\"#B0BEC5\",\"#B0BEC5\",\"#B0BEC5\",\"#B0BEC5\",\"#B0BEC5\",\"#B0BEC5\",\"#B0BEC5\",\"#B0BEC5\",\"#B0BEC5\",\"#B0BEC5\",\"#B0BEC5\",\"#B0BEC5\",\"#B0BEC5\",\"#B0BEC5\",\"#B0BEC5\",\"#B0BEC5\"]]}],\"label\":\"Topic 30\",\"method\":\"update\"},{\"args\":[{\"marker.color\":[[\"#B0BEC5\",\"#B0BEC5\",\"#B0BEC5\",\"#B0BEC5\",\"#B0BEC5\",\"#B0BEC5\",\"#B0BEC5\",\"#B0BEC5\",\"#B0BEC5\",\"#B0BEC5\",\"#B0BEC5\",\"#B0BEC5\",\"#B0BEC5\",\"#B0BEC5\",\"#B0BEC5\",\"#B0BEC5\",\"#B0BEC5\",\"#B0BEC5\",\"#B0BEC5\",\"#B0BEC5\",\"#B0BEC5\",\"#B0BEC5\",\"#B0BEC5\",\"#B0BEC5\",\"#B0BEC5\",\"#B0BEC5\",\"#B0BEC5\",\"#B0BEC5\",\"#B0BEC5\",\"#B0BEC5\",\"#B0BEC5\",\"red\",\"#B0BEC5\",\"#B0BEC5\",\"#B0BEC5\",\"#B0BEC5\",\"#B0BEC5\",\"#B0BEC5\",\"#B0BEC5\",\"#B0BEC5\",\"#B0BEC5\",\"#B0BEC5\",\"#B0BEC5\",\"#B0BEC5\",\"#B0BEC5\",\"#B0BEC5\",\"#B0BEC5\",\"#B0BEC5\",\"#B0BEC5\",\"#B0BEC5\",\"#B0BEC5\",\"#B0BEC5\",\"#B0BEC5\",\"#B0BEC5\",\"#B0BEC5\",\"#B0BEC5\",\"#B0BEC5\",\"#B0BEC5\",\"#B0BEC5\",\"#B0BEC5\",\"#B0BEC5\",\"#B0BEC5\",\"#B0BEC5\",\"#B0BEC5\",\"#B0BEC5\",\"#B0BEC5\",\"#B0BEC5\",\"#B0BEC5\",\"#B0BEC5\",\"#B0BEC5\",\"#B0BEC5\",\"#B0BEC5\",\"#B0BEC5\",\"#B0BEC5\",\"#B0BEC5\",\"#B0BEC5\",\"#B0BEC5\",\"#B0BEC5\"]]}],\"label\":\"Topic 31\",\"method\":\"update\"},{\"args\":[{\"marker.color\":[[\"#B0BEC5\",\"#B0BEC5\",\"#B0BEC5\",\"#B0BEC5\",\"#B0BEC5\",\"#B0BEC5\",\"#B0BEC5\",\"#B0BEC5\",\"#B0BEC5\",\"#B0BEC5\",\"#B0BEC5\",\"#B0BEC5\",\"#B0BEC5\",\"#B0BEC5\",\"#B0BEC5\",\"#B0BEC5\",\"#B0BEC5\",\"#B0BEC5\",\"#B0BEC5\",\"#B0BEC5\",\"#B0BEC5\",\"#B0BEC5\",\"#B0BEC5\",\"#B0BEC5\",\"#B0BEC5\",\"#B0BEC5\",\"#B0BEC5\",\"#B0BEC5\",\"#B0BEC5\",\"#B0BEC5\",\"#B0BEC5\",\"#B0BEC5\",\"red\",\"#B0BEC5\",\"#B0BEC5\",\"#B0BEC5\",\"#B0BEC5\",\"#B0BEC5\",\"#B0BEC5\",\"#B0BEC5\",\"#B0BEC5\",\"#B0BEC5\",\"#B0BEC5\",\"#B0BEC5\",\"#B0BEC5\",\"#B0BEC5\",\"#B0BEC5\",\"#B0BEC5\",\"#B0BEC5\",\"#B0BEC5\",\"#B0BEC5\",\"#B0BEC5\",\"#B0BEC5\",\"#B0BEC5\",\"#B0BEC5\",\"#B0BEC5\",\"#B0BEC5\",\"#B0BEC5\",\"#B0BEC5\",\"#B0BEC5\",\"#B0BEC5\",\"#B0BEC5\",\"#B0BEC5\",\"#B0BEC5\",\"#B0BEC5\",\"#B0BEC5\",\"#B0BEC5\",\"#B0BEC5\",\"#B0BEC5\",\"#B0BEC5\",\"#B0BEC5\",\"#B0BEC5\",\"#B0BEC5\",\"#B0BEC5\",\"#B0BEC5\",\"#B0BEC5\",\"#B0BEC5\",\"#B0BEC5\"]]}],\"label\":\"Topic 32\",\"method\":\"update\"},{\"args\":[{\"marker.color\":[[\"#B0BEC5\",\"#B0BEC5\",\"#B0BEC5\",\"#B0BEC5\",\"#B0BEC5\",\"#B0BEC5\",\"#B0BEC5\",\"#B0BEC5\",\"#B0BEC5\",\"#B0BEC5\",\"#B0BEC5\",\"#B0BEC5\",\"#B0BEC5\",\"#B0BEC5\",\"#B0BEC5\",\"#B0BEC5\",\"#B0BEC5\",\"#B0BEC5\",\"#B0BEC5\",\"#B0BEC5\",\"#B0BEC5\",\"#B0BEC5\",\"#B0BEC5\",\"#B0BEC5\",\"#B0BEC5\",\"#B0BEC5\",\"#B0BEC5\",\"#B0BEC5\",\"#B0BEC5\",\"#B0BEC5\",\"#B0BEC5\",\"#B0BEC5\",\"#B0BEC5\",\"red\",\"#B0BEC5\",\"#B0BEC5\",\"#B0BEC5\",\"#B0BEC5\",\"#B0BEC5\",\"#B0BEC5\",\"#B0BEC5\",\"#B0BEC5\",\"#B0BEC5\",\"#B0BEC5\",\"#B0BEC5\",\"#B0BEC5\",\"#B0BEC5\",\"#B0BEC5\",\"#B0BEC5\",\"#B0BEC5\",\"#B0BEC5\",\"#B0BEC5\",\"#B0BEC5\",\"#B0BEC5\",\"#B0BEC5\",\"#B0BEC5\",\"#B0BEC5\",\"#B0BEC5\",\"#B0BEC5\",\"#B0BEC5\",\"#B0BEC5\",\"#B0BEC5\",\"#B0BEC5\",\"#B0BEC5\",\"#B0BEC5\",\"#B0BEC5\",\"#B0BEC5\",\"#B0BEC5\",\"#B0BEC5\",\"#B0BEC5\",\"#B0BEC5\",\"#B0BEC5\",\"#B0BEC5\",\"#B0BEC5\",\"#B0BEC5\",\"#B0BEC5\",\"#B0BEC5\",\"#B0BEC5\"]]}],\"label\":\"Topic 33\",\"method\":\"update\"},{\"args\":[{\"marker.color\":[[\"#B0BEC5\",\"#B0BEC5\",\"#B0BEC5\",\"#B0BEC5\",\"#B0BEC5\",\"#B0BEC5\",\"#B0BEC5\",\"#B0BEC5\",\"#B0BEC5\",\"#B0BEC5\",\"#B0BEC5\",\"#B0BEC5\",\"#B0BEC5\",\"#B0BEC5\",\"#B0BEC5\",\"#B0BEC5\",\"#B0BEC5\",\"#B0BEC5\",\"#B0BEC5\",\"#B0BEC5\",\"#B0BEC5\",\"#B0BEC5\",\"#B0BEC5\",\"#B0BEC5\",\"#B0BEC5\",\"#B0BEC5\",\"#B0BEC5\",\"#B0BEC5\",\"#B0BEC5\",\"#B0BEC5\",\"#B0BEC5\",\"#B0BEC5\",\"#B0BEC5\",\"#B0BEC5\",\"red\",\"#B0BEC5\",\"#B0BEC5\",\"#B0BEC5\",\"#B0BEC5\",\"#B0BEC5\",\"#B0BEC5\",\"#B0BEC5\",\"#B0BEC5\",\"#B0BEC5\",\"#B0BEC5\",\"#B0BEC5\",\"#B0BEC5\",\"#B0BEC5\",\"#B0BEC5\",\"#B0BEC5\",\"#B0BEC5\",\"#B0BEC5\",\"#B0BEC5\",\"#B0BEC5\",\"#B0BEC5\",\"#B0BEC5\",\"#B0BEC5\",\"#B0BEC5\",\"#B0BEC5\",\"#B0BEC5\",\"#B0BEC5\",\"#B0BEC5\",\"#B0BEC5\",\"#B0BEC5\",\"#B0BEC5\",\"#B0BEC5\",\"#B0BEC5\",\"#B0BEC5\",\"#B0BEC5\",\"#B0BEC5\",\"#B0BEC5\",\"#B0BEC5\",\"#B0BEC5\",\"#B0BEC5\",\"#B0BEC5\",\"#B0BEC5\",\"#B0BEC5\",\"#B0BEC5\"]]}],\"label\":\"Topic 34\",\"method\":\"update\"},{\"args\":[{\"marker.color\":[[\"#B0BEC5\",\"#B0BEC5\",\"#B0BEC5\",\"#B0BEC5\",\"#B0BEC5\",\"#B0BEC5\",\"#B0BEC5\",\"#B0BEC5\",\"#B0BEC5\",\"#B0BEC5\",\"#B0BEC5\",\"#B0BEC5\",\"#B0BEC5\",\"#B0BEC5\",\"#B0BEC5\",\"#B0BEC5\",\"#B0BEC5\",\"#B0BEC5\",\"#B0BEC5\",\"#B0BEC5\",\"#B0BEC5\",\"#B0BEC5\",\"#B0BEC5\",\"#B0BEC5\",\"#B0BEC5\",\"#B0BEC5\",\"#B0BEC5\",\"#B0BEC5\",\"#B0BEC5\",\"#B0BEC5\",\"#B0BEC5\",\"#B0BEC5\",\"#B0BEC5\",\"#B0BEC5\",\"#B0BEC5\",\"red\",\"#B0BEC5\",\"#B0BEC5\",\"#B0BEC5\",\"#B0BEC5\",\"#B0BEC5\",\"#B0BEC5\",\"#B0BEC5\",\"#B0BEC5\",\"#B0BEC5\",\"#B0BEC5\",\"#B0BEC5\",\"#B0BEC5\",\"#B0BEC5\",\"#B0BEC5\",\"#B0BEC5\",\"#B0BEC5\",\"#B0BEC5\",\"#B0BEC5\",\"#B0BEC5\",\"#B0BEC5\",\"#B0BEC5\",\"#B0BEC5\",\"#B0BEC5\",\"#B0BEC5\",\"#B0BEC5\",\"#B0BEC5\",\"#B0BEC5\",\"#B0BEC5\",\"#B0BEC5\",\"#B0BEC5\",\"#B0BEC5\",\"#B0BEC5\",\"#B0BEC5\",\"#B0BEC5\",\"#B0BEC5\",\"#B0BEC5\",\"#B0BEC5\",\"#B0BEC5\",\"#B0BEC5\",\"#B0BEC5\",\"#B0BEC5\",\"#B0BEC5\"]]}],\"label\":\"Topic 35\",\"method\":\"update\"},{\"args\":[{\"marker.color\":[[\"#B0BEC5\",\"#B0BEC5\",\"#B0BEC5\",\"#B0BEC5\",\"#B0BEC5\",\"#B0BEC5\",\"#B0BEC5\",\"#B0BEC5\",\"#B0BEC5\",\"#B0BEC5\",\"#B0BEC5\",\"#B0BEC5\",\"#B0BEC5\",\"#B0BEC5\",\"#B0BEC5\",\"#B0BEC5\",\"#B0BEC5\",\"#B0BEC5\",\"#B0BEC5\",\"#B0BEC5\",\"#B0BEC5\",\"#B0BEC5\",\"#B0BEC5\",\"#B0BEC5\",\"#B0BEC5\",\"#B0BEC5\",\"#B0BEC5\",\"#B0BEC5\",\"#B0BEC5\",\"#B0BEC5\",\"#B0BEC5\",\"#B0BEC5\",\"#B0BEC5\",\"#B0BEC5\",\"#B0BEC5\",\"#B0BEC5\",\"red\",\"#B0BEC5\",\"#B0BEC5\",\"#B0BEC5\",\"#B0BEC5\",\"#B0BEC5\",\"#B0BEC5\",\"#B0BEC5\",\"#B0BEC5\",\"#B0BEC5\",\"#B0BEC5\",\"#B0BEC5\",\"#B0BEC5\",\"#B0BEC5\",\"#B0BEC5\",\"#B0BEC5\",\"#B0BEC5\",\"#B0BEC5\",\"#B0BEC5\",\"#B0BEC5\",\"#B0BEC5\",\"#B0BEC5\",\"#B0BEC5\",\"#B0BEC5\",\"#B0BEC5\",\"#B0BEC5\",\"#B0BEC5\",\"#B0BEC5\",\"#B0BEC5\",\"#B0BEC5\",\"#B0BEC5\",\"#B0BEC5\",\"#B0BEC5\",\"#B0BEC5\",\"#B0BEC5\",\"#B0BEC5\",\"#B0BEC5\",\"#B0BEC5\",\"#B0BEC5\",\"#B0BEC5\",\"#B0BEC5\",\"#B0BEC5\"]]}],\"label\":\"Topic 36\",\"method\":\"update\"},{\"args\":[{\"marker.color\":[[\"#B0BEC5\",\"#B0BEC5\",\"#B0BEC5\",\"#B0BEC5\",\"#B0BEC5\",\"#B0BEC5\",\"#B0BEC5\",\"#B0BEC5\",\"#B0BEC5\",\"#B0BEC5\",\"#B0BEC5\",\"#B0BEC5\",\"#B0BEC5\",\"#B0BEC5\",\"#B0BEC5\",\"#B0BEC5\",\"#B0BEC5\",\"#B0BEC5\",\"#B0BEC5\",\"#B0BEC5\",\"#B0BEC5\",\"#B0BEC5\",\"#B0BEC5\",\"#B0BEC5\",\"#B0BEC5\",\"#B0BEC5\",\"#B0BEC5\",\"#B0BEC5\",\"#B0BEC5\",\"#B0BEC5\",\"#B0BEC5\",\"#B0BEC5\",\"#B0BEC5\",\"#B0BEC5\",\"#B0BEC5\",\"#B0BEC5\",\"#B0BEC5\",\"red\",\"#B0BEC5\",\"#B0BEC5\",\"#B0BEC5\",\"#B0BEC5\",\"#B0BEC5\",\"#B0BEC5\",\"#B0BEC5\",\"#B0BEC5\",\"#B0BEC5\",\"#B0BEC5\",\"#B0BEC5\",\"#B0BEC5\",\"#B0BEC5\",\"#B0BEC5\",\"#B0BEC5\",\"#B0BEC5\",\"#B0BEC5\",\"#B0BEC5\",\"#B0BEC5\",\"#B0BEC5\",\"#B0BEC5\",\"#B0BEC5\",\"#B0BEC5\",\"#B0BEC5\",\"#B0BEC5\",\"#B0BEC5\",\"#B0BEC5\",\"#B0BEC5\",\"#B0BEC5\",\"#B0BEC5\",\"#B0BEC5\",\"#B0BEC5\",\"#B0BEC5\",\"#B0BEC5\",\"#B0BEC5\",\"#B0BEC5\",\"#B0BEC5\",\"#B0BEC5\",\"#B0BEC5\",\"#B0BEC5\"]]}],\"label\":\"Topic 37\",\"method\":\"update\"},{\"args\":[{\"marker.color\":[[\"#B0BEC5\",\"#B0BEC5\",\"#B0BEC5\",\"#B0BEC5\",\"#B0BEC5\",\"#B0BEC5\",\"#B0BEC5\",\"#B0BEC5\",\"#B0BEC5\",\"#B0BEC5\",\"#B0BEC5\",\"#B0BEC5\",\"#B0BEC5\",\"#B0BEC5\",\"#B0BEC5\",\"#B0BEC5\",\"#B0BEC5\",\"#B0BEC5\",\"#B0BEC5\",\"#B0BEC5\",\"#B0BEC5\",\"#B0BEC5\",\"#B0BEC5\",\"#B0BEC5\",\"#B0BEC5\",\"#B0BEC5\",\"#B0BEC5\",\"#B0BEC5\",\"#B0BEC5\",\"#B0BEC5\",\"#B0BEC5\",\"#B0BEC5\",\"#B0BEC5\",\"#B0BEC5\",\"#B0BEC5\",\"#B0BEC5\",\"#B0BEC5\",\"#B0BEC5\",\"red\",\"#B0BEC5\",\"#B0BEC5\",\"#B0BEC5\",\"#B0BEC5\",\"#B0BEC5\",\"#B0BEC5\",\"#B0BEC5\",\"#B0BEC5\",\"#B0BEC5\",\"#B0BEC5\",\"#B0BEC5\",\"#B0BEC5\",\"#B0BEC5\",\"#B0BEC5\",\"#B0BEC5\",\"#B0BEC5\",\"#B0BEC5\",\"#B0BEC5\",\"#B0BEC5\",\"#B0BEC5\",\"#B0BEC5\",\"#B0BEC5\",\"#B0BEC5\",\"#B0BEC5\",\"#B0BEC5\",\"#B0BEC5\",\"#B0BEC5\",\"#B0BEC5\",\"#B0BEC5\",\"#B0BEC5\",\"#B0BEC5\",\"#B0BEC5\",\"#B0BEC5\",\"#B0BEC5\",\"#B0BEC5\",\"#B0BEC5\",\"#B0BEC5\",\"#B0BEC5\",\"#B0BEC5\"]]}],\"label\":\"Topic 38\",\"method\":\"update\"},{\"args\":[{\"marker.color\":[[\"#B0BEC5\",\"#B0BEC5\",\"#B0BEC5\",\"#B0BEC5\",\"#B0BEC5\",\"#B0BEC5\",\"#B0BEC5\",\"#B0BEC5\",\"#B0BEC5\",\"#B0BEC5\",\"#B0BEC5\",\"#B0BEC5\",\"#B0BEC5\",\"#B0BEC5\",\"#B0BEC5\",\"#B0BEC5\",\"#B0BEC5\",\"#B0BEC5\",\"#B0BEC5\",\"#B0BEC5\",\"#B0BEC5\",\"#B0BEC5\",\"#B0BEC5\",\"#B0BEC5\",\"#B0BEC5\",\"#B0BEC5\",\"#B0BEC5\",\"#B0BEC5\",\"#B0BEC5\",\"#B0BEC5\",\"#B0BEC5\",\"#B0BEC5\",\"#B0BEC5\",\"#B0BEC5\",\"#B0BEC5\",\"#B0BEC5\",\"#B0BEC5\",\"#B0BEC5\",\"#B0BEC5\",\"red\",\"#B0BEC5\",\"#B0BEC5\",\"#B0BEC5\",\"#B0BEC5\",\"#B0BEC5\",\"#B0BEC5\",\"#B0BEC5\",\"#B0BEC5\",\"#B0BEC5\",\"#B0BEC5\",\"#B0BEC5\",\"#B0BEC5\",\"#B0BEC5\",\"#B0BEC5\",\"#B0BEC5\",\"#B0BEC5\",\"#B0BEC5\",\"#B0BEC5\",\"#B0BEC5\",\"#B0BEC5\",\"#B0BEC5\",\"#B0BEC5\",\"#B0BEC5\",\"#B0BEC5\",\"#B0BEC5\",\"#B0BEC5\",\"#B0BEC5\",\"#B0BEC5\",\"#B0BEC5\",\"#B0BEC5\",\"#B0BEC5\",\"#B0BEC5\",\"#B0BEC5\",\"#B0BEC5\",\"#B0BEC5\",\"#B0BEC5\",\"#B0BEC5\",\"#B0BEC5\"]]}],\"label\":\"Topic 39\",\"method\":\"update\"},{\"args\":[{\"marker.color\":[[\"#B0BEC5\",\"#B0BEC5\",\"#B0BEC5\",\"#B0BEC5\",\"#B0BEC5\",\"#B0BEC5\",\"#B0BEC5\",\"#B0BEC5\",\"#B0BEC5\",\"#B0BEC5\",\"#B0BEC5\",\"#B0BEC5\",\"#B0BEC5\",\"#B0BEC5\",\"#B0BEC5\",\"#B0BEC5\",\"#B0BEC5\",\"#B0BEC5\",\"#B0BEC5\",\"#B0BEC5\",\"#B0BEC5\",\"#B0BEC5\",\"#B0BEC5\",\"#B0BEC5\",\"#B0BEC5\",\"#B0BEC5\",\"#B0BEC5\",\"#B0BEC5\",\"#B0BEC5\",\"#B0BEC5\",\"#B0BEC5\",\"#B0BEC5\",\"#B0BEC5\",\"#B0BEC5\",\"#B0BEC5\",\"#B0BEC5\",\"#B0BEC5\",\"#B0BEC5\",\"#B0BEC5\",\"#B0BEC5\",\"red\",\"#B0BEC5\",\"#B0BEC5\",\"#B0BEC5\",\"#B0BEC5\",\"#B0BEC5\",\"#B0BEC5\",\"#B0BEC5\",\"#B0BEC5\",\"#B0BEC5\",\"#B0BEC5\",\"#B0BEC5\",\"#B0BEC5\",\"#B0BEC5\",\"#B0BEC5\",\"#B0BEC5\",\"#B0BEC5\",\"#B0BEC5\",\"#B0BEC5\",\"#B0BEC5\",\"#B0BEC5\",\"#B0BEC5\",\"#B0BEC5\",\"#B0BEC5\",\"#B0BEC5\",\"#B0BEC5\",\"#B0BEC5\",\"#B0BEC5\",\"#B0BEC5\",\"#B0BEC5\",\"#B0BEC5\",\"#B0BEC5\",\"#B0BEC5\",\"#B0BEC5\",\"#B0BEC5\",\"#B0BEC5\",\"#B0BEC5\",\"#B0BEC5\"]]}],\"label\":\"Topic 40\",\"method\":\"update\"},{\"args\":[{\"marker.color\":[[\"#B0BEC5\",\"#B0BEC5\",\"#B0BEC5\",\"#B0BEC5\",\"#B0BEC5\",\"#B0BEC5\",\"#B0BEC5\",\"#B0BEC5\",\"#B0BEC5\",\"#B0BEC5\",\"#B0BEC5\",\"#B0BEC5\",\"#B0BEC5\",\"#B0BEC5\",\"#B0BEC5\",\"#B0BEC5\",\"#B0BEC5\",\"#B0BEC5\",\"#B0BEC5\",\"#B0BEC5\",\"#B0BEC5\",\"#B0BEC5\",\"#B0BEC5\",\"#B0BEC5\",\"#B0BEC5\",\"#B0BEC5\",\"#B0BEC5\",\"#B0BEC5\",\"#B0BEC5\",\"#B0BEC5\",\"#B0BEC5\",\"#B0BEC5\",\"#B0BEC5\",\"#B0BEC5\",\"#B0BEC5\",\"#B0BEC5\",\"#B0BEC5\",\"#B0BEC5\",\"#B0BEC5\",\"#B0BEC5\",\"#B0BEC5\",\"red\",\"#B0BEC5\",\"#B0BEC5\",\"#B0BEC5\",\"#B0BEC5\",\"#B0BEC5\",\"#B0BEC5\",\"#B0BEC5\",\"#B0BEC5\",\"#B0BEC5\",\"#B0BEC5\",\"#B0BEC5\",\"#B0BEC5\",\"#B0BEC5\",\"#B0BEC5\",\"#B0BEC5\",\"#B0BEC5\",\"#B0BEC5\",\"#B0BEC5\",\"#B0BEC5\",\"#B0BEC5\",\"#B0BEC5\",\"#B0BEC5\",\"#B0BEC5\",\"#B0BEC5\",\"#B0BEC5\",\"#B0BEC5\",\"#B0BEC5\",\"#B0BEC5\",\"#B0BEC5\",\"#B0BEC5\",\"#B0BEC5\",\"#B0BEC5\",\"#B0BEC5\",\"#B0BEC5\",\"#B0BEC5\",\"#B0BEC5\"]]}],\"label\":\"Topic 41\",\"method\":\"update\"},{\"args\":[{\"marker.color\":[[\"#B0BEC5\",\"#B0BEC5\",\"#B0BEC5\",\"#B0BEC5\",\"#B0BEC5\",\"#B0BEC5\",\"#B0BEC5\",\"#B0BEC5\",\"#B0BEC5\",\"#B0BEC5\",\"#B0BEC5\",\"#B0BEC5\",\"#B0BEC5\",\"#B0BEC5\",\"#B0BEC5\",\"#B0BEC5\",\"#B0BEC5\",\"#B0BEC5\",\"#B0BEC5\",\"#B0BEC5\",\"#B0BEC5\",\"#B0BEC5\",\"#B0BEC5\",\"#B0BEC5\",\"#B0BEC5\",\"#B0BEC5\",\"#B0BEC5\",\"#B0BEC5\",\"#B0BEC5\",\"#B0BEC5\",\"#B0BEC5\",\"#B0BEC5\",\"#B0BEC5\",\"#B0BEC5\",\"#B0BEC5\",\"#B0BEC5\",\"#B0BEC5\",\"#B0BEC5\",\"#B0BEC5\",\"#B0BEC5\",\"#B0BEC5\",\"#B0BEC5\",\"red\",\"#B0BEC5\",\"#B0BEC5\",\"#B0BEC5\",\"#B0BEC5\",\"#B0BEC5\",\"#B0BEC5\",\"#B0BEC5\",\"#B0BEC5\",\"#B0BEC5\",\"#B0BEC5\",\"#B0BEC5\",\"#B0BEC5\",\"#B0BEC5\",\"#B0BEC5\",\"#B0BEC5\",\"#B0BEC5\",\"#B0BEC5\",\"#B0BEC5\",\"#B0BEC5\",\"#B0BEC5\",\"#B0BEC5\",\"#B0BEC5\",\"#B0BEC5\",\"#B0BEC5\",\"#B0BEC5\",\"#B0BEC5\",\"#B0BEC5\",\"#B0BEC5\",\"#B0BEC5\",\"#B0BEC5\",\"#B0BEC5\",\"#B0BEC5\",\"#B0BEC5\",\"#B0BEC5\",\"#B0BEC5\"]]}],\"label\":\"Topic 42\",\"method\":\"update\"},{\"args\":[{\"marker.color\":[[\"#B0BEC5\",\"#B0BEC5\",\"#B0BEC5\",\"#B0BEC5\",\"#B0BEC5\",\"#B0BEC5\",\"#B0BEC5\",\"#B0BEC5\",\"#B0BEC5\",\"#B0BEC5\",\"#B0BEC5\",\"#B0BEC5\",\"#B0BEC5\",\"#B0BEC5\",\"#B0BEC5\",\"#B0BEC5\",\"#B0BEC5\",\"#B0BEC5\",\"#B0BEC5\",\"#B0BEC5\",\"#B0BEC5\",\"#B0BEC5\",\"#B0BEC5\",\"#B0BEC5\",\"#B0BEC5\",\"#B0BEC5\",\"#B0BEC5\",\"#B0BEC5\",\"#B0BEC5\",\"#B0BEC5\",\"#B0BEC5\",\"#B0BEC5\",\"#B0BEC5\",\"#B0BEC5\",\"#B0BEC5\",\"#B0BEC5\",\"#B0BEC5\",\"#B0BEC5\",\"#B0BEC5\",\"#B0BEC5\",\"#B0BEC5\",\"#B0BEC5\",\"#B0BEC5\",\"red\",\"#B0BEC5\",\"#B0BEC5\",\"#B0BEC5\",\"#B0BEC5\",\"#B0BEC5\",\"#B0BEC5\",\"#B0BEC5\",\"#B0BEC5\",\"#B0BEC5\",\"#B0BEC5\",\"#B0BEC5\",\"#B0BEC5\",\"#B0BEC5\",\"#B0BEC5\",\"#B0BEC5\",\"#B0BEC5\",\"#B0BEC5\",\"#B0BEC5\",\"#B0BEC5\",\"#B0BEC5\",\"#B0BEC5\",\"#B0BEC5\",\"#B0BEC5\",\"#B0BEC5\",\"#B0BEC5\",\"#B0BEC5\",\"#B0BEC5\",\"#B0BEC5\",\"#B0BEC5\",\"#B0BEC5\",\"#B0BEC5\",\"#B0BEC5\",\"#B0BEC5\",\"#B0BEC5\"]]}],\"label\":\"Topic 43\",\"method\":\"update\"},{\"args\":[{\"marker.color\":[[\"#B0BEC5\",\"#B0BEC5\",\"#B0BEC5\",\"#B0BEC5\",\"#B0BEC5\",\"#B0BEC5\",\"#B0BEC5\",\"#B0BEC5\",\"#B0BEC5\",\"#B0BEC5\",\"#B0BEC5\",\"#B0BEC5\",\"#B0BEC5\",\"#B0BEC5\",\"#B0BEC5\",\"#B0BEC5\",\"#B0BEC5\",\"#B0BEC5\",\"#B0BEC5\",\"#B0BEC5\",\"#B0BEC5\",\"#B0BEC5\",\"#B0BEC5\",\"#B0BEC5\",\"#B0BEC5\",\"#B0BEC5\",\"#B0BEC5\",\"#B0BEC5\",\"#B0BEC5\",\"#B0BEC5\",\"#B0BEC5\",\"#B0BEC5\",\"#B0BEC5\",\"#B0BEC5\",\"#B0BEC5\",\"#B0BEC5\",\"#B0BEC5\",\"#B0BEC5\",\"#B0BEC5\",\"#B0BEC5\",\"#B0BEC5\",\"#B0BEC5\",\"#B0BEC5\",\"#B0BEC5\",\"red\",\"#B0BEC5\",\"#B0BEC5\",\"#B0BEC5\",\"#B0BEC5\",\"#B0BEC5\",\"#B0BEC5\",\"#B0BEC5\",\"#B0BEC5\",\"#B0BEC5\",\"#B0BEC5\",\"#B0BEC5\",\"#B0BEC5\",\"#B0BEC5\",\"#B0BEC5\",\"#B0BEC5\",\"#B0BEC5\",\"#B0BEC5\",\"#B0BEC5\",\"#B0BEC5\",\"#B0BEC5\",\"#B0BEC5\",\"#B0BEC5\",\"#B0BEC5\",\"#B0BEC5\",\"#B0BEC5\",\"#B0BEC5\",\"#B0BEC5\",\"#B0BEC5\",\"#B0BEC5\",\"#B0BEC5\",\"#B0BEC5\",\"#B0BEC5\",\"#B0BEC5\"]]}],\"label\":\"Topic 44\",\"method\":\"update\"},{\"args\":[{\"marker.color\":[[\"#B0BEC5\",\"#B0BEC5\",\"#B0BEC5\",\"#B0BEC5\",\"#B0BEC5\",\"#B0BEC5\",\"#B0BEC5\",\"#B0BEC5\",\"#B0BEC5\",\"#B0BEC5\",\"#B0BEC5\",\"#B0BEC5\",\"#B0BEC5\",\"#B0BEC5\",\"#B0BEC5\",\"#B0BEC5\",\"#B0BEC5\",\"#B0BEC5\",\"#B0BEC5\",\"#B0BEC5\",\"#B0BEC5\",\"#B0BEC5\",\"#B0BEC5\",\"#B0BEC5\",\"#B0BEC5\",\"#B0BEC5\",\"#B0BEC5\",\"#B0BEC5\",\"#B0BEC5\",\"#B0BEC5\",\"#B0BEC5\",\"#B0BEC5\",\"#B0BEC5\",\"#B0BEC5\",\"#B0BEC5\",\"#B0BEC5\",\"#B0BEC5\",\"#B0BEC5\",\"#B0BEC5\",\"#B0BEC5\",\"#B0BEC5\",\"#B0BEC5\",\"#B0BEC5\",\"#B0BEC5\",\"#B0BEC5\",\"red\",\"#B0BEC5\",\"#B0BEC5\",\"#B0BEC5\",\"#B0BEC5\",\"#B0BEC5\",\"#B0BEC5\",\"#B0BEC5\",\"#B0BEC5\",\"#B0BEC5\",\"#B0BEC5\",\"#B0BEC5\",\"#B0BEC5\",\"#B0BEC5\",\"#B0BEC5\",\"#B0BEC5\",\"#B0BEC5\",\"#B0BEC5\",\"#B0BEC5\",\"#B0BEC5\",\"#B0BEC5\",\"#B0BEC5\",\"#B0BEC5\",\"#B0BEC5\",\"#B0BEC5\",\"#B0BEC5\",\"#B0BEC5\",\"#B0BEC5\",\"#B0BEC5\",\"#B0BEC5\",\"#B0BEC5\",\"#B0BEC5\",\"#B0BEC5\"]]}],\"label\":\"Topic 45\",\"method\":\"update\"},{\"args\":[{\"marker.color\":[[\"#B0BEC5\",\"#B0BEC5\",\"#B0BEC5\",\"#B0BEC5\",\"#B0BEC5\",\"#B0BEC5\",\"#B0BEC5\",\"#B0BEC5\",\"#B0BEC5\",\"#B0BEC5\",\"#B0BEC5\",\"#B0BEC5\",\"#B0BEC5\",\"#B0BEC5\",\"#B0BEC5\",\"#B0BEC5\",\"#B0BEC5\",\"#B0BEC5\",\"#B0BEC5\",\"#B0BEC5\",\"#B0BEC5\",\"#B0BEC5\",\"#B0BEC5\",\"#B0BEC5\",\"#B0BEC5\",\"#B0BEC5\",\"#B0BEC5\",\"#B0BEC5\",\"#B0BEC5\",\"#B0BEC5\",\"#B0BEC5\",\"#B0BEC5\",\"#B0BEC5\",\"#B0BEC5\",\"#B0BEC5\",\"#B0BEC5\",\"#B0BEC5\",\"#B0BEC5\",\"#B0BEC5\",\"#B0BEC5\",\"#B0BEC5\",\"#B0BEC5\",\"#B0BEC5\",\"#B0BEC5\",\"#B0BEC5\",\"#B0BEC5\",\"red\",\"#B0BEC5\",\"#B0BEC5\",\"#B0BEC5\",\"#B0BEC5\",\"#B0BEC5\",\"#B0BEC5\",\"#B0BEC5\",\"#B0BEC5\",\"#B0BEC5\",\"#B0BEC5\",\"#B0BEC5\",\"#B0BEC5\",\"#B0BEC5\",\"#B0BEC5\",\"#B0BEC5\",\"#B0BEC5\",\"#B0BEC5\",\"#B0BEC5\",\"#B0BEC5\",\"#B0BEC5\",\"#B0BEC5\",\"#B0BEC5\",\"#B0BEC5\",\"#B0BEC5\",\"#B0BEC5\",\"#B0BEC5\",\"#B0BEC5\",\"#B0BEC5\",\"#B0BEC5\",\"#B0BEC5\",\"#B0BEC5\"]]}],\"label\":\"Topic 46\",\"method\":\"update\"},{\"args\":[{\"marker.color\":[[\"#B0BEC5\",\"#B0BEC5\",\"#B0BEC5\",\"#B0BEC5\",\"#B0BEC5\",\"#B0BEC5\",\"#B0BEC5\",\"#B0BEC5\",\"#B0BEC5\",\"#B0BEC5\",\"#B0BEC5\",\"#B0BEC5\",\"#B0BEC5\",\"#B0BEC5\",\"#B0BEC5\",\"#B0BEC5\",\"#B0BEC5\",\"#B0BEC5\",\"#B0BEC5\",\"#B0BEC5\",\"#B0BEC5\",\"#B0BEC5\",\"#B0BEC5\",\"#B0BEC5\",\"#B0BEC5\",\"#B0BEC5\",\"#B0BEC5\",\"#B0BEC5\",\"#B0BEC5\",\"#B0BEC5\",\"#B0BEC5\",\"#B0BEC5\",\"#B0BEC5\",\"#B0BEC5\",\"#B0BEC5\",\"#B0BEC5\",\"#B0BEC5\",\"#B0BEC5\",\"#B0BEC5\",\"#B0BEC5\",\"#B0BEC5\",\"#B0BEC5\",\"#B0BEC5\",\"#B0BEC5\",\"#B0BEC5\",\"#B0BEC5\",\"#B0BEC5\",\"red\",\"#B0BEC5\",\"#B0BEC5\",\"#B0BEC5\",\"#B0BEC5\",\"#B0BEC5\",\"#B0BEC5\",\"#B0BEC5\",\"#B0BEC5\",\"#B0BEC5\",\"#B0BEC5\",\"#B0BEC5\",\"#B0BEC5\",\"#B0BEC5\",\"#B0BEC5\",\"#B0BEC5\",\"#B0BEC5\",\"#B0BEC5\",\"#B0BEC5\",\"#B0BEC5\",\"#B0BEC5\",\"#B0BEC5\",\"#B0BEC5\",\"#B0BEC5\",\"#B0BEC5\",\"#B0BEC5\",\"#B0BEC5\",\"#B0BEC5\",\"#B0BEC5\",\"#B0BEC5\",\"#B0BEC5\"]]}],\"label\":\"Topic 47\",\"method\":\"update\"},{\"args\":[{\"marker.color\":[[\"#B0BEC5\",\"#B0BEC5\",\"#B0BEC5\",\"#B0BEC5\",\"#B0BEC5\",\"#B0BEC5\",\"#B0BEC5\",\"#B0BEC5\",\"#B0BEC5\",\"#B0BEC5\",\"#B0BEC5\",\"#B0BEC5\",\"#B0BEC5\",\"#B0BEC5\",\"#B0BEC5\",\"#B0BEC5\",\"#B0BEC5\",\"#B0BEC5\",\"#B0BEC5\",\"#B0BEC5\",\"#B0BEC5\",\"#B0BEC5\",\"#B0BEC5\",\"#B0BEC5\",\"#B0BEC5\",\"#B0BEC5\",\"#B0BEC5\",\"#B0BEC5\",\"#B0BEC5\",\"#B0BEC5\",\"#B0BEC5\",\"#B0BEC5\",\"#B0BEC5\",\"#B0BEC5\",\"#B0BEC5\",\"#B0BEC5\",\"#B0BEC5\",\"#B0BEC5\",\"#B0BEC5\",\"#B0BEC5\",\"#B0BEC5\",\"#B0BEC5\",\"#B0BEC5\",\"#B0BEC5\",\"#B0BEC5\",\"#B0BEC5\",\"#B0BEC5\",\"#B0BEC5\",\"red\",\"#B0BEC5\",\"#B0BEC5\",\"#B0BEC5\",\"#B0BEC5\",\"#B0BEC5\",\"#B0BEC5\",\"#B0BEC5\",\"#B0BEC5\",\"#B0BEC5\",\"#B0BEC5\",\"#B0BEC5\",\"#B0BEC5\",\"#B0BEC5\",\"#B0BEC5\",\"#B0BEC5\",\"#B0BEC5\",\"#B0BEC5\",\"#B0BEC5\",\"#B0BEC5\",\"#B0BEC5\",\"#B0BEC5\",\"#B0BEC5\",\"#B0BEC5\",\"#B0BEC5\",\"#B0BEC5\",\"#B0BEC5\",\"#B0BEC5\",\"#B0BEC5\",\"#B0BEC5\"]]}],\"label\":\"Topic 48\",\"method\":\"update\"},{\"args\":[{\"marker.color\":[[\"#B0BEC5\",\"#B0BEC5\",\"#B0BEC5\",\"#B0BEC5\",\"#B0BEC5\",\"#B0BEC5\",\"#B0BEC5\",\"#B0BEC5\",\"#B0BEC5\",\"#B0BEC5\",\"#B0BEC5\",\"#B0BEC5\",\"#B0BEC5\",\"#B0BEC5\",\"#B0BEC5\",\"#B0BEC5\",\"#B0BEC5\",\"#B0BEC5\",\"#B0BEC5\",\"#B0BEC5\",\"#B0BEC5\",\"#B0BEC5\",\"#B0BEC5\",\"#B0BEC5\",\"#B0BEC5\",\"#B0BEC5\",\"#B0BEC5\",\"#B0BEC5\",\"#B0BEC5\",\"#B0BEC5\",\"#B0BEC5\",\"#B0BEC5\",\"#B0BEC5\",\"#B0BEC5\",\"#B0BEC5\",\"#B0BEC5\",\"#B0BEC5\",\"#B0BEC5\",\"#B0BEC5\",\"#B0BEC5\",\"#B0BEC5\",\"#B0BEC5\",\"#B0BEC5\",\"#B0BEC5\",\"#B0BEC5\",\"#B0BEC5\",\"#B0BEC5\",\"#B0BEC5\",\"#B0BEC5\",\"red\",\"#B0BEC5\",\"#B0BEC5\",\"#B0BEC5\",\"#B0BEC5\",\"#B0BEC5\",\"#B0BEC5\",\"#B0BEC5\",\"#B0BEC5\",\"#B0BEC5\",\"#B0BEC5\",\"#B0BEC5\",\"#B0BEC5\",\"#B0BEC5\",\"#B0BEC5\",\"#B0BEC5\",\"#B0BEC5\",\"#B0BEC5\",\"#B0BEC5\",\"#B0BEC5\",\"#B0BEC5\",\"#B0BEC5\",\"#B0BEC5\",\"#B0BEC5\",\"#B0BEC5\",\"#B0BEC5\",\"#B0BEC5\",\"#B0BEC5\",\"#B0BEC5\"]]}],\"label\":\"Topic 49\",\"method\":\"update\"},{\"args\":[{\"marker.color\":[[\"#B0BEC5\",\"#B0BEC5\",\"#B0BEC5\",\"#B0BEC5\",\"#B0BEC5\",\"#B0BEC5\",\"#B0BEC5\",\"#B0BEC5\",\"#B0BEC5\",\"#B0BEC5\",\"#B0BEC5\",\"#B0BEC5\",\"#B0BEC5\",\"#B0BEC5\",\"#B0BEC5\",\"#B0BEC5\",\"#B0BEC5\",\"#B0BEC5\",\"#B0BEC5\",\"#B0BEC5\",\"#B0BEC5\",\"#B0BEC5\",\"#B0BEC5\",\"#B0BEC5\",\"#B0BEC5\",\"#B0BEC5\",\"#B0BEC5\",\"#B0BEC5\",\"#B0BEC5\",\"#B0BEC5\",\"#B0BEC5\",\"#B0BEC5\",\"#B0BEC5\",\"#B0BEC5\",\"#B0BEC5\",\"#B0BEC5\",\"#B0BEC5\",\"#B0BEC5\",\"#B0BEC5\",\"#B0BEC5\",\"#B0BEC5\",\"#B0BEC5\",\"#B0BEC5\",\"#B0BEC5\",\"#B0BEC5\",\"#B0BEC5\",\"#B0BEC5\",\"#B0BEC5\",\"#B0BEC5\",\"#B0BEC5\",\"red\",\"#B0BEC5\",\"#B0BEC5\",\"#B0BEC5\",\"#B0BEC5\",\"#B0BEC5\",\"#B0BEC5\",\"#B0BEC5\",\"#B0BEC5\",\"#B0BEC5\",\"#B0BEC5\",\"#B0BEC5\",\"#B0BEC5\",\"#B0BEC5\",\"#B0BEC5\",\"#B0BEC5\",\"#B0BEC5\",\"#B0BEC5\",\"#B0BEC5\",\"#B0BEC5\",\"#B0BEC5\",\"#B0BEC5\",\"#B0BEC5\",\"#B0BEC5\",\"#B0BEC5\",\"#B0BEC5\",\"#B0BEC5\",\"#B0BEC5\"]]}],\"label\":\"Topic 50\",\"method\":\"update\"},{\"args\":[{\"marker.color\":[[\"#B0BEC5\",\"#B0BEC5\",\"#B0BEC5\",\"#B0BEC5\",\"#B0BEC5\",\"#B0BEC5\",\"#B0BEC5\",\"#B0BEC5\",\"#B0BEC5\",\"#B0BEC5\",\"#B0BEC5\",\"#B0BEC5\",\"#B0BEC5\",\"#B0BEC5\",\"#B0BEC5\",\"#B0BEC5\",\"#B0BEC5\",\"#B0BEC5\",\"#B0BEC5\",\"#B0BEC5\",\"#B0BEC5\",\"#B0BEC5\",\"#B0BEC5\",\"#B0BEC5\",\"#B0BEC5\",\"#B0BEC5\",\"#B0BEC5\",\"#B0BEC5\",\"#B0BEC5\",\"#B0BEC5\",\"#B0BEC5\",\"#B0BEC5\",\"#B0BEC5\",\"#B0BEC5\",\"#B0BEC5\",\"#B0BEC5\",\"#B0BEC5\",\"#B0BEC5\",\"#B0BEC5\",\"#B0BEC5\",\"#B0BEC5\",\"#B0BEC5\",\"#B0BEC5\",\"#B0BEC5\",\"#B0BEC5\",\"#B0BEC5\",\"#B0BEC5\",\"#B0BEC5\",\"#B0BEC5\",\"#B0BEC5\",\"#B0BEC5\",\"red\",\"#B0BEC5\",\"#B0BEC5\",\"#B0BEC5\",\"#B0BEC5\",\"#B0BEC5\",\"#B0BEC5\",\"#B0BEC5\",\"#B0BEC5\",\"#B0BEC5\",\"#B0BEC5\",\"#B0BEC5\",\"#B0BEC5\",\"#B0BEC5\",\"#B0BEC5\",\"#B0BEC5\",\"#B0BEC5\",\"#B0BEC5\",\"#B0BEC5\",\"#B0BEC5\",\"#B0BEC5\",\"#B0BEC5\",\"#B0BEC5\",\"#B0BEC5\",\"#B0BEC5\",\"#B0BEC5\",\"#B0BEC5\"]]}],\"label\":\"Topic 51\",\"method\":\"update\"},{\"args\":[{\"marker.color\":[[\"#B0BEC5\",\"#B0BEC5\",\"#B0BEC5\",\"#B0BEC5\",\"#B0BEC5\",\"#B0BEC5\",\"#B0BEC5\",\"#B0BEC5\",\"#B0BEC5\",\"#B0BEC5\",\"#B0BEC5\",\"#B0BEC5\",\"#B0BEC5\",\"#B0BEC5\",\"#B0BEC5\",\"#B0BEC5\",\"#B0BEC5\",\"#B0BEC5\",\"#B0BEC5\",\"#B0BEC5\",\"#B0BEC5\",\"#B0BEC5\",\"#B0BEC5\",\"#B0BEC5\",\"#B0BEC5\",\"#B0BEC5\",\"#B0BEC5\",\"#B0BEC5\",\"#B0BEC5\",\"#B0BEC5\",\"#B0BEC5\",\"#B0BEC5\",\"#B0BEC5\",\"#B0BEC5\",\"#B0BEC5\",\"#B0BEC5\",\"#B0BEC5\",\"#B0BEC5\",\"#B0BEC5\",\"#B0BEC5\",\"#B0BEC5\",\"#B0BEC5\",\"#B0BEC5\",\"#B0BEC5\",\"#B0BEC5\",\"#B0BEC5\",\"#B0BEC5\",\"#B0BEC5\",\"#B0BEC5\",\"#B0BEC5\",\"#B0BEC5\",\"#B0BEC5\",\"red\",\"#B0BEC5\",\"#B0BEC5\",\"#B0BEC5\",\"#B0BEC5\",\"#B0BEC5\",\"#B0BEC5\",\"#B0BEC5\",\"#B0BEC5\",\"#B0BEC5\",\"#B0BEC5\",\"#B0BEC5\",\"#B0BEC5\",\"#B0BEC5\",\"#B0BEC5\",\"#B0BEC5\",\"#B0BEC5\",\"#B0BEC5\",\"#B0BEC5\",\"#B0BEC5\",\"#B0BEC5\",\"#B0BEC5\",\"#B0BEC5\",\"#B0BEC5\",\"#B0BEC5\",\"#B0BEC5\"]]}],\"label\":\"Topic 52\",\"method\":\"update\"},{\"args\":[{\"marker.color\":[[\"#B0BEC5\",\"#B0BEC5\",\"#B0BEC5\",\"#B0BEC5\",\"#B0BEC5\",\"#B0BEC5\",\"#B0BEC5\",\"#B0BEC5\",\"#B0BEC5\",\"#B0BEC5\",\"#B0BEC5\",\"#B0BEC5\",\"#B0BEC5\",\"#B0BEC5\",\"#B0BEC5\",\"#B0BEC5\",\"#B0BEC5\",\"#B0BEC5\",\"#B0BEC5\",\"#B0BEC5\",\"#B0BEC5\",\"#B0BEC5\",\"#B0BEC5\",\"#B0BEC5\",\"#B0BEC5\",\"#B0BEC5\",\"#B0BEC5\",\"#B0BEC5\",\"#B0BEC5\",\"#B0BEC5\",\"#B0BEC5\",\"#B0BEC5\",\"#B0BEC5\",\"#B0BEC5\",\"#B0BEC5\",\"#B0BEC5\",\"#B0BEC5\",\"#B0BEC5\",\"#B0BEC5\",\"#B0BEC5\",\"#B0BEC5\",\"#B0BEC5\",\"#B0BEC5\",\"#B0BEC5\",\"#B0BEC5\",\"#B0BEC5\",\"#B0BEC5\",\"#B0BEC5\",\"#B0BEC5\",\"#B0BEC5\",\"#B0BEC5\",\"#B0BEC5\",\"#B0BEC5\",\"red\",\"#B0BEC5\",\"#B0BEC5\",\"#B0BEC5\",\"#B0BEC5\",\"#B0BEC5\",\"#B0BEC5\",\"#B0BEC5\",\"#B0BEC5\",\"#B0BEC5\",\"#B0BEC5\",\"#B0BEC5\",\"#B0BEC5\",\"#B0BEC5\",\"#B0BEC5\",\"#B0BEC5\",\"#B0BEC5\",\"#B0BEC5\",\"#B0BEC5\",\"#B0BEC5\",\"#B0BEC5\",\"#B0BEC5\",\"#B0BEC5\",\"#B0BEC5\",\"#B0BEC5\"]]}],\"label\":\"Topic 53\",\"method\":\"update\"},{\"args\":[{\"marker.color\":[[\"#B0BEC5\",\"#B0BEC5\",\"#B0BEC5\",\"#B0BEC5\",\"#B0BEC5\",\"#B0BEC5\",\"#B0BEC5\",\"#B0BEC5\",\"#B0BEC5\",\"#B0BEC5\",\"#B0BEC5\",\"#B0BEC5\",\"#B0BEC5\",\"#B0BEC5\",\"#B0BEC5\",\"#B0BEC5\",\"#B0BEC5\",\"#B0BEC5\",\"#B0BEC5\",\"#B0BEC5\",\"#B0BEC5\",\"#B0BEC5\",\"#B0BEC5\",\"#B0BEC5\",\"#B0BEC5\",\"#B0BEC5\",\"#B0BEC5\",\"#B0BEC5\",\"#B0BEC5\",\"#B0BEC5\",\"#B0BEC5\",\"#B0BEC5\",\"#B0BEC5\",\"#B0BEC5\",\"#B0BEC5\",\"#B0BEC5\",\"#B0BEC5\",\"#B0BEC5\",\"#B0BEC5\",\"#B0BEC5\",\"#B0BEC5\",\"#B0BEC5\",\"#B0BEC5\",\"#B0BEC5\",\"#B0BEC5\",\"#B0BEC5\",\"#B0BEC5\",\"#B0BEC5\",\"#B0BEC5\",\"#B0BEC5\",\"#B0BEC5\",\"#B0BEC5\",\"#B0BEC5\",\"#B0BEC5\",\"red\",\"#B0BEC5\",\"#B0BEC5\",\"#B0BEC5\",\"#B0BEC5\",\"#B0BEC5\",\"#B0BEC5\",\"#B0BEC5\",\"#B0BEC5\",\"#B0BEC5\",\"#B0BEC5\",\"#B0BEC5\",\"#B0BEC5\",\"#B0BEC5\",\"#B0BEC5\",\"#B0BEC5\",\"#B0BEC5\",\"#B0BEC5\",\"#B0BEC5\",\"#B0BEC5\",\"#B0BEC5\",\"#B0BEC5\",\"#B0BEC5\",\"#B0BEC5\"]]}],\"label\":\"Topic 54\",\"method\":\"update\"},{\"args\":[{\"marker.color\":[[\"#B0BEC5\",\"#B0BEC5\",\"#B0BEC5\",\"#B0BEC5\",\"#B0BEC5\",\"#B0BEC5\",\"#B0BEC5\",\"#B0BEC5\",\"#B0BEC5\",\"#B0BEC5\",\"#B0BEC5\",\"#B0BEC5\",\"#B0BEC5\",\"#B0BEC5\",\"#B0BEC5\",\"#B0BEC5\",\"#B0BEC5\",\"#B0BEC5\",\"#B0BEC5\",\"#B0BEC5\",\"#B0BEC5\",\"#B0BEC5\",\"#B0BEC5\",\"#B0BEC5\",\"#B0BEC5\",\"#B0BEC5\",\"#B0BEC5\",\"#B0BEC5\",\"#B0BEC5\",\"#B0BEC5\",\"#B0BEC5\",\"#B0BEC5\",\"#B0BEC5\",\"#B0BEC5\",\"#B0BEC5\",\"#B0BEC5\",\"#B0BEC5\",\"#B0BEC5\",\"#B0BEC5\",\"#B0BEC5\",\"#B0BEC5\",\"#B0BEC5\",\"#B0BEC5\",\"#B0BEC5\",\"#B0BEC5\",\"#B0BEC5\",\"#B0BEC5\",\"#B0BEC5\",\"#B0BEC5\",\"#B0BEC5\",\"#B0BEC5\",\"#B0BEC5\",\"#B0BEC5\",\"#B0BEC5\",\"#B0BEC5\",\"red\",\"#B0BEC5\",\"#B0BEC5\",\"#B0BEC5\",\"#B0BEC5\",\"#B0BEC5\",\"#B0BEC5\",\"#B0BEC5\",\"#B0BEC5\",\"#B0BEC5\",\"#B0BEC5\",\"#B0BEC5\",\"#B0BEC5\",\"#B0BEC5\",\"#B0BEC5\",\"#B0BEC5\",\"#B0BEC5\",\"#B0BEC5\",\"#B0BEC5\",\"#B0BEC5\",\"#B0BEC5\",\"#B0BEC5\",\"#B0BEC5\"]]}],\"label\":\"Topic 55\",\"method\":\"update\"},{\"args\":[{\"marker.color\":[[\"#B0BEC5\",\"#B0BEC5\",\"#B0BEC5\",\"#B0BEC5\",\"#B0BEC5\",\"#B0BEC5\",\"#B0BEC5\",\"#B0BEC5\",\"#B0BEC5\",\"#B0BEC5\",\"#B0BEC5\",\"#B0BEC5\",\"#B0BEC5\",\"#B0BEC5\",\"#B0BEC5\",\"#B0BEC5\",\"#B0BEC5\",\"#B0BEC5\",\"#B0BEC5\",\"#B0BEC5\",\"#B0BEC5\",\"#B0BEC5\",\"#B0BEC5\",\"#B0BEC5\",\"#B0BEC5\",\"#B0BEC5\",\"#B0BEC5\",\"#B0BEC5\",\"#B0BEC5\",\"#B0BEC5\",\"#B0BEC5\",\"#B0BEC5\",\"#B0BEC5\",\"#B0BEC5\",\"#B0BEC5\",\"#B0BEC5\",\"#B0BEC5\",\"#B0BEC5\",\"#B0BEC5\",\"#B0BEC5\",\"#B0BEC5\",\"#B0BEC5\",\"#B0BEC5\",\"#B0BEC5\",\"#B0BEC5\",\"#B0BEC5\",\"#B0BEC5\",\"#B0BEC5\",\"#B0BEC5\",\"#B0BEC5\",\"#B0BEC5\",\"#B0BEC5\",\"#B0BEC5\",\"#B0BEC5\",\"#B0BEC5\",\"#B0BEC5\",\"red\",\"#B0BEC5\",\"#B0BEC5\",\"#B0BEC5\",\"#B0BEC5\",\"#B0BEC5\",\"#B0BEC5\",\"#B0BEC5\",\"#B0BEC5\",\"#B0BEC5\",\"#B0BEC5\",\"#B0BEC5\",\"#B0BEC5\",\"#B0BEC5\",\"#B0BEC5\",\"#B0BEC5\",\"#B0BEC5\",\"#B0BEC5\",\"#B0BEC5\",\"#B0BEC5\",\"#B0BEC5\",\"#B0BEC5\"]]}],\"label\":\"Topic 56\",\"method\":\"update\"},{\"args\":[{\"marker.color\":[[\"#B0BEC5\",\"#B0BEC5\",\"#B0BEC5\",\"#B0BEC5\",\"#B0BEC5\",\"#B0BEC5\",\"#B0BEC5\",\"#B0BEC5\",\"#B0BEC5\",\"#B0BEC5\",\"#B0BEC5\",\"#B0BEC5\",\"#B0BEC5\",\"#B0BEC5\",\"#B0BEC5\",\"#B0BEC5\",\"#B0BEC5\",\"#B0BEC5\",\"#B0BEC5\",\"#B0BEC5\",\"#B0BEC5\",\"#B0BEC5\",\"#B0BEC5\",\"#B0BEC5\",\"#B0BEC5\",\"#B0BEC5\",\"#B0BEC5\",\"#B0BEC5\",\"#B0BEC5\",\"#B0BEC5\",\"#B0BEC5\",\"#B0BEC5\",\"#B0BEC5\",\"#B0BEC5\",\"#B0BEC5\",\"#B0BEC5\",\"#B0BEC5\",\"#B0BEC5\",\"#B0BEC5\",\"#B0BEC5\",\"#B0BEC5\",\"#B0BEC5\",\"#B0BEC5\",\"#B0BEC5\",\"#B0BEC5\",\"#B0BEC5\",\"#B0BEC5\",\"#B0BEC5\",\"#B0BEC5\",\"#B0BEC5\",\"#B0BEC5\",\"#B0BEC5\",\"#B0BEC5\",\"#B0BEC5\",\"#B0BEC5\",\"#B0BEC5\",\"#B0BEC5\",\"red\",\"#B0BEC5\",\"#B0BEC5\",\"#B0BEC5\",\"#B0BEC5\",\"#B0BEC5\",\"#B0BEC5\",\"#B0BEC5\",\"#B0BEC5\",\"#B0BEC5\",\"#B0BEC5\",\"#B0BEC5\",\"#B0BEC5\",\"#B0BEC5\",\"#B0BEC5\",\"#B0BEC5\",\"#B0BEC5\",\"#B0BEC5\",\"#B0BEC5\",\"#B0BEC5\",\"#B0BEC5\"]]}],\"label\":\"Topic 57\",\"method\":\"update\"},{\"args\":[{\"marker.color\":[[\"#B0BEC5\",\"#B0BEC5\",\"#B0BEC5\",\"#B0BEC5\",\"#B0BEC5\",\"#B0BEC5\",\"#B0BEC5\",\"#B0BEC5\",\"#B0BEC5\",\"#B0BEC5\",\"#B0BEC5\",\"#B0BEC5\",\"#B0BEC5\",\"#B0BEC5\",\"#B0BEC5\",\"#B0BEC5\",\"#B0BEC5\",\"#B0BEC5\",\"#B0BEC5\",\"#B0BEC5\",\"#B0BEC5\",\"#B0BEC5\",\"#B0BEC5\",\"#B0BEC5\",\"#B0BEC5\",\"#B0BEC5\",\"#B0BEC5\",\"#B0BEC5\",\"#B0BEC5\",\"#B0BEC5\",\"#B0BEC5\",\"#B0BEC5\",\"#B0BEC5\",\"#B0BEC5\",\"#B0BEC5\",\"#B0BEC5\",\"#B0BEC5\",\"#B0BEC5\",\"#B0BEC5\",\"#B0BEC5\",\"#B0BEC5\",\"#B0BEC5\",\"#B0BEC5\",\"#B0BEC5\",\"#B0BEC5\",\"#B0BEC5\",\"#B0BEC5\",\"#B0BEC5\",\"#B0BEC5\",\"#B0BEC5\",\"#B0BEC5\",\"#B0BEC5\",\"#B0BEC5\",\"#B0BEC5\",\"#B0BEC5\",\"#B0BEC5\",\"#B0BEC5\",\"#B0BEC5\",\"red\",\"#B0BEC5\",\"#B0BEC5\",\"#B0BEC5\",\"#B0BEC5\",\"#B0BEC5\",\"#B0BEC5\",\"#B0BEC5\",\"#B0BEC5\",\"#B0BEC5\",\"#B0BEC5\",\"#B0BEC5\",\"#B0BEC5\",\"#B0BEC5\",\"#B0BEC5\",\"#B0BEC5\",\"#B0BEC5\",\"#B0BEC5\",\"#B0BEC5\",\"#B0BEC5\"]]}],\"label\":\"Topic 58\",\"method\":\"update\"},{\"args\":[{\"marker.color\":[[\"#B0BEC5\",\"#B0BEC5\",\"#B0BEC5\",\"#B0BEC5\",\"#B0BEC5\",\"#B0BEC5\",\"#B0BEC5\",\"#B0BEC5\",\"#B0BEC5\",\"#B0BEC5\",\"#B0BEC5\",\"#B0BEC5\",\"#B0BEC5\",\"#B0BEC5\",\"#B0BEC5\",\"#B0BEC5\",\"#B0BEC5\",\"#B0BEC5\",\"#B0BEC5\",\"#B0BEC5\",\"#B0BEC5\",\"#B0BEC5\",\"#B0BEC5\",\"#B0BEC5\",\"#B0BEC5\",\"#B0BEC5\",\"#B0BEC5\",\"#B0BEC5\",\"#B0BEC5\",\"#B0BEC5\",\"#B0BEC5\",\"#B0BEC5\",\"#B0BEC5\",\"#B0BEC5\",\"#B0BEC5\",\"#B0BEC5\",\"#B0BEC5\",\"#B0BEC5\",\"#B0BEC5\",\"#B0BEC5\",\"#B0BEC5\",\"#B0BEC5\",\"#B0BEC5\",\"#B0BEC5\",\"#B0BEC5\",\"#B0BEC5\",\"#B0BEC5\",\"#B0BEC5\",\"#B0BEC5\",\"#B0BEC5\",\"#B0BEC5\",\"#B0BEC5\",\"#B0BEC5\",\"#B0BEC5\",\"#B0BEC5\",\"#B0BEC5\",\"#B0BEC5\",\"#B0BEC5\",\"#B0BEC5\",\"red\",\"#B0BEC5\",\"#B0BEC5\",\"#B0BEC5\",\"#B0BEC5\",\"#B0BEC5\",\"#B0BEC5\",\"#B0BEC5\",\"#B0BEC5\",\"#B0BEC5\",\"#B0BEC5\",\"#B0BEC5\",\"#B0BEC5\",\"#B0BEC5\",\"#B0BEC5\",\"#B0BEC5\",\"#B0BEC5\",\"#B0BEC5\",\"#B0BEC5\"]]}],\"label\":\"Topic 59\",\"method\":\"update\"},{\"args\":[{\"marker.color\":[[\"#B0BEC5\",\"#B0BEC5\",\"#B0BEC5\",\"#B0BEC5\",\"#B0BEC5\",\"#B0BEC5\",\"#B0BEC5\",\"#B0BEC5\",\"#B0BEC5\",\"#B0BEC5\",\"#B0BEC5\",\"#B0BEC5\",\"#B0BEC5\",\"#B0BEC5\",\"#B0BEC5\",\"#B0BEC5\",\"#B0BEC5\",\"#B0BEC5\",\"#B0BEC5\",\"#B0BEC5\",\"#B0BEC5\",\"#B0BEC5\",\"#B0BEC5\",\"#B0BEC5\",\"#B0BEC5\",\"#B0BEC5\",\"#B0BEC5\",\"#B0BEC5\",\"#B0BEC5\",\"#B0BEC5\",\"#B0BEC5\",\"#B0BEC5\",\"#B0BEC5\",\"#B0BEC5\",\"#B0BEC5\",\"#B0BEC5\",\"#B0BEC5\",\"#B0BEC5\",\"#B0BEC5\",\"#B0BEC5\",\"#B0BEC5\",\"#B0BEC5\",\"#B0BEC5\",\"#B0BEC5\",\"#B0BEC5\",\"#B0BEC5\",\"#B0BEC5\",\"#B0BEC5\",\"#B0BEC5\",\"#B0BEC5\",\"#B0BEC5\",\"#B0BEC5\",\"#B0BEC5\",\"#B0BEC5\",\"#B0BEC5\",\"#B0BEC5\",\"#B0BEC5\",\"#B0BEC5\",\"#B0BEC5\",\"#B0BEC5\",\"red\",\"#B0BEC5\",\"#B0BEC5\",\"#B0BEC5\",\"#B0BEC5\",\"#B0BEC5\",\"#B0BEC5\",\"#B0BEC5\",\"#B0BEC5\",\"#B0BEC5\",\"#B0BEC5\",\"#B0BEC5\",\"#B0BEC5\",\"#B0BEC5\",\"#B0BEC5\",\"#B0BEC5\",\"#B0BEC5\",\"#B0BEC5\"]]}],\"label\":\"Topic 60\",\"method\":\"update\"},{\"args\":[{\"marker.color\":[[\"#B0BEC5\",\"#B0BEC5\",\"#B0BEC5\",\"#B0BEC5\",\"#B0BEC5\",\"#B0BEC5\",\"#B0BEC5\",\"#B0BEC5\",\"#B0BEC5\",\"#B0BEC5\",\"#B0BEC5\",\"#B0BEC5\",\"#B0BEC5\",\"#B0BEC5\",\"#B0BEC5\",\"#B0BEC5\",\"#B0BEC5\",\"#B0BEC5\",\"#B0BEC5\",\"#B0BEC5\",\"#B0BEC5\",\"#B0BEC5\",\"#B0BEC5\",\"#B0BEC5\",\"#B0BEC5\",\"#B0BEC5\",\"#B0BEC5\",\"#B0BEC5\",\"#B0BEC5\",\"#B0BEC5\",\"#B0BEC5\",\"#B0BEC5\",\"#B0BEC5\",\"#B0BEC5\",\"#B0BEC5\",\"#B0BEC5\",\"#B0BEC5\",\"#B0BEC5\",\"#B0BEC5\",\"#B0BEC5\",\"#B0BEC5\",\"#B0BEC5\",\"#B0BEC5\",\"#B0BEC5\",\"#B0BEC5\",\"#B0BEC5\",\"#B0BEC5\",\"#B0BEC5\",\"#B0BEC5\",\"#B0BEC5\",\"#B0BEC5\",\"#B0BEC5\",\"#B0BEC5\",\"#B0BEC5\",\"#B0BEC5\",\"#B0BEC5\",\"#B0BEC5\",\"#B0BEC5\",\"#B0BEC5\",\"#B0BEC5\",\"#B0BEC5\",\"red\",\"#B0BEC5\",\"#B0BEC5\",\"#B0BEC5\",\"#B0BEC5\",\"#B0BEC5\",\"#B0BEC5\",\"#B0BEC5\",\"#B0BEC5\",\"#B0BEC5\",\"#B0BEC5\",\"#B0BEC5\",\"#B0BEC5\",\"#B0BEC5\",\"#B0BEC5\",\"#B0BEC5\",\"#B0BEC5\"]]}],\"label\":\"Topic 61\",\"method\":\"update\"},{\"args\":[{\"marker.color\":[[\"#B0BEC5\",\"#B0BEC5\",\"#B0BEC5\",\"#B0BEC5\",\"#B0BEC5\",\"#B0BEC5\",\"#B0BEC5\",\"#B0BEC5\",\"#B0BEC5\",\"#B0BEC5\",\"#B0BEC5\",\"#B0BEC5\",\"#B0BEC5\",\"#B0BEC5\",\"#B0BEC5\",\"#B0BEC5\",\"#B0BEC5\",\"#B0BEC5\",\"#B0BEC5\",\"#B0BEC5\",\"#B0BEC5\",\"#B0BEC5\",\"#B0BEC5\",\"#B0BEC5\",\"#B0BEC5\",\"#B0BEC5\",\"#B0BEC5\",\"#B0BEC5\",\"#B0BEC5\",\"#B0BEC5\",\"#B0BEC5\",\"#B0BEC5\",\"#B0BEC5\",\"#B0BEC5\",\"#B0BEC5\",\"#B0BEC5\",\"#B0BEC5\",\"#B0BEC5\",\"#B0BEC5\",\"#B0BEC5\",\"#B0BEC5\",\"#B0BEC5\",\"#B0BEC5\",\"#B0BEC5\",\"#B0BEC5\",\"#B0BEC5\",\"#B0BEC5\",\"#B0BEC5\",\"#B0BEC5\",\"#B0BEC5\",\"#B0BEC5\",\"#B0BEC5\",\"#B0BEC5\",\"#B0BEC5\",\"#B0BEC5\",\"#B0BEC5\",\"#B0BEC5\",\"#B0BEC5\",\"#B0BEC5\",\"#B0BEC5\",\"#B0BEC5\",\"#B0BEC5\",\"red\",\"#B0BEC5\",\"#B0BEC5\",\"#B0BEC5\",\"#B0BEC5\",\"#B0BEC5\",\"#B0BEC5\",\"#B0BEC5\",\"#B0BEC5\",\"#B0BEC5\",\"#B0BEC5\",\"#B0BEC5\",\"#B0BEC5\",\"#B0BEC5\",\"#B0BEC5\",\"#B0BEC5\"]]}],\"label\":\"Topic 62\",\"method\":\"update\"},{\"args\":[{\"marker.color\":[[\"#B0BEC5\",\"#B0BEC5\",\"#B0BEC5\",\"#B0BEC5\",\"#B0BEC5\",\"#B0BEC5\",\"#B0BEC5\",\"#B0BEC5\",\"#B0BEC5\",\"#B0BEC5\",\"#B0BEC5\",\"#B0BEC5\",\"#B0BEC5\",\"#B0BEC5\",\"#B0BEC5\",\"#B0BEC5\",\"#B0BEC5\",\"#B0BEC5\",\"#B0BEC5\",\"#B0BEC5\",\"#B0BEC5\",\"#B0BEC5\",\"#B0BEC5\",\"#B0BEC5\",\"#B0BEC5\",\"#B0BEC5\",\"#B0BEC5\",\"#B0BEC5\",\"#B0BEC5\",\"#B0BEC5\",\"#B0BEC5\",\"#B0BEC5\",\"#B0BEC5\",\"#B0BEC5\",\"#B0BEC5\",\"#B0BEC5\",\"#B0BEC5\",\"#B0BEC5\",\"#B0BEC5\",\"#B0BEC5\",\"#B0BEC5\",\"#B0BEC5\",\"#B0BEC5\",\"#B0BEC5\",\"#B0BEC5\",\"#B0BEC5\",\"#B0BEC5\",\"#B0BEC5\",\"#B0BEC5\",\"#B0BEC5\",\"#B0BEC5\",\"#B0BEC5\",\"#B0BEC5\",\"#B0BEC5\",\"#B0BEC5\",\"#B0BEC5\",\"#B0BEC5\",\"#B0BEC5\",\"#B0BEC5\",\"#B0BEC5\",\"#B0BEC5\",\"#B0BEC5\",\"#B0BEC5\",\"red\",\"#B0BEC5\",\"#B0BEC5\",\"#B0BEC5\",\"#B0BEC5\",\"#B0BEC5\",\"#B0BEC5\",\"#B0BEC5\",\"#B0BEC5\",\"#B0BEC5\",\"#B0BEC5\",\"#B0BEC5\",\"#B0BEC5\",\"#B0BEC5\",\"#B0BEC5\"]]}],\"label\":\"Topic 63\",\"method\":\"update\"},{\"args\":[{\"marker.color\":[[\"#B0BEC5\",\"#B0BEC5\",\"#B0BEC5\",\"#B0BEC5\",\"#B0BEC5\",\"#B0BEC5\",\"#B0BEC5\",\"#B0BEC5\",\"#B0BEC5\",\"#B0BEC5\",\"#B0BEC5\",\"#B0BEC5\",\"#B0BEC5\",\"#B0BEC5\",\"#B0BEC5\",\"#B0BEC5\",\"#B0BEC5\",\"#B0BEC5\",\"#B0BEC5\",\"#B0BEC5\",\"#B0BEC5\",\"#B0BEC5\",\"#B0BEC5\",\"#B0BEC5\",\"#B0BEC5\",\"#B0BEC5\",\"#B0BEC5\",\"#B0BEC5\",\"#B0BEC5\",\"#B0BEC5\",\"#B0BEC5\",\"#B0BEC5\",\"#B0BEC5\",\"#B0BEC5\",\"#B0BEC5\",\"#B0BEC5\",\"#B0BEC5\",\"#B0BEC5\",\"#B0BEC5\",\"#B0BEC5\",\"#B0BEC5\",\"#B0BEC5\",\"#B0BEC5\",\"#B0BEC5\",\"#B0BEC5\",\"#B0BEC5\",\"#B0BEC5\",\"#B0BEC5\",\"#B0BEC5\",\"#B0BEC5\",\"#B0BEC5\",\"#B0BEC5\",\"#B0BEC5\",\"#B0BEC5\",\"#B0BEC5\",\"#B0BEC5\",\"#B0BEC5\",\"#B0BEC5\",\"#B0BEC5\",\"#B0BEC5\",\"#B0BEC5\",\"#B0BEC5\",\"#B0BEC5\",\"#B0BEC5\",\"red\",\"#B0BEC5\",\"#B0BEC5\",\"#B0BEC5\",\"#B0BEC5\",\"#B0BEC5\",\"#B0BEC5\",\"#B0BEC5\",\"#B0BEC5\",\"#B0BEC5\",\"#B0BEC5\",\"#B0BEC5\",\"#B0BEC5\",\"#B0BEC5\"]]}],\"label\":\"Topic 64\",\"method\":\"update\"},{\"args\":[{\"marker.color\":[[\"#B0BEC5\",\"#B0BEC5\",\"#B0BEC5\",\"#B0BEC5\",\"#B0BEC5\",\"#B0BEC5\",\"#B0BEC5\",\"#B0BEC5\",\"#B0BEC5\",\"#B0BEC5\",\"#B0BEC5\",\"#B0BEC5\",\"#B0BEC5\",\"#B0BEC5\",\"#B0BEC5\",\"#B0BEC5\",\"#B0BEC5\",\"#B0BEC5\",\"#B0BEC5\",\"#B0BEC5\",\"#B0BEC5\",\"#B0BEC5\",\"#B0BEC5\",\"#B0BEC5\",\"#B0BEC5\",\"#B0BEC5\",\"#B0BEC5\",\"#B0BEC5\",\"#B0BEC5\",\"#B0BEC5\",\"#B0BEC5\",\"#B0BEC5\",\"#B0BEC5\",\"#B0BEC5\",\"#B0BEC5\",\"#B0BEC5\",\"#B0BEC5\",\"#B0BEC5\",\"#B0BEC5\",\"#B0BEC5\",\"#B0BEC5\",\"#B0BEC5\",\"#B0BEC5\",\"#B0BEC5\",\"#B0BEC5\",\"#B0BEC5\",\"#B0BEC5\",\"#B0BEC5\",\"#B0BEC5\",\"#B0BEC5\",\"#B0BEC5\",\"#B0BEC5\",\"#B0BEC5\",\"#B0BEC5\",\"#B0BEC5\",\"#B0BEC5\",\"#B0BEC5\",\"#B0BEC5\",\"#B0BEC5\",\"#B0BEC5\",\"#B0BEC5\",\"#B0BEC5\",\"#B0BEC5\",\"#B0BEC5\",\"#B0BEC5\",\"red\",\"#B0BEC5\",\"#B0BEC5\",\"#B0BEC5\",\"#B0BEC5\",\"#B0BEC5\",\"#B0BEC5\",\"#B0BEC5\",\"#B0BEC5\",\"#B0BEC5\",\"#B0BEC5\",\"#B0BEC5\",\"#B0BEC5\"]]}],\"label\":\"Topic 65\",\"method\":\"update\"},{\"args\":[{\"marker.color\":[[\"#B0BEC5\",\"#B0BEC5\",\"#B0BEC5\",\"#B0BEC5\",\"#B0BEC5\",\"#B0BEC5\",\"#B0BEC5\",\"#B0BEC5\",\"#B0BEC5\",\"#B0BEC5\",\"#B0BEC5\",\"#B0BEC5\",\"#B0BEC5\",\"#B0BEC5\",\"#B0BEC5\",\"#B0BEC5\",\"#B0BEC5\",\"#B0BEC5\",\"#B0BEC5\",\"#B0BEC5\",\"#B0BEC5\",\"#B0BEC5\",\"#B0BEC5\",\"#B0BEC5\",\"#B0BEC5\",\"#B0BEC5\",\"#B0BEC5\",\"#B0BEC5\",\"#B0BEC5\",\"#B0BEC5\",\"#B0BEC5\",\"#B0BEC5\",\"#B0BEC5\",\"#B0BEC5\",\"#B0BEC5\",\"#B0BEC5\",\"#B0BEC5\",\"#B0BEC5\",\"#B0BEC5\",\"#B0BEC5\",\"#B0BEC5\",\"#B0BEC5\",\"#B0BEC5\",\"#B0BEC5\",\"#B0BEC5\",\"#B0BEC5\",\"#B0BEC5\",\"#B0BEC5\",\"#B0BEC5\",\"#B0BEC5\",\"#B0BEC5\",\"#B0BEC5\",\"#B0BEC5\",\"#B0BEC5\",\"#B0BEC5\",\"#B0BEC5\",\"#B0BEC5\",\"#B0BEC5\",\"#B0BEC5\",\"#B0BEC5\",\"#B0BEC5\",\"#B0BEC5\",\"#B0BEC5\",\"#B0BEC5\",\"#B0BEC5\",\"#B0BEC5\",\"red\",\"#B0BEC5\",\"#B0BEC5\",\"#B0BEC5\",\"#B0BEC5\",\"#B0BEC5\",\"#B0BEC5\",\"#B0BEC5\",\"#B0BEC5\",\"#B0BEC5\",\"#B0BEC5\",\"#B0BEC5\"]]}],\"label\":\"Topic 66\",\"method\":\"update\"},{\"args\":[{\"marker.color\":[[\"#B0BEC5\",\"#B0BEC5\",\"#B0BEC5\",\"#B0BEC5\",\"#B0BEC5\",\"#B0BEC5\",\"#B0BEC5\",\"#B0BEC5\",\"#B0BEC5\",\"#B0BEC5\",\"#B0BEC5\",\"#B0BEC5\",\"#B0BEC5\",\"#B0BEC5\",\"#B0BEC5\",\"#B0BEC5\",\"#B0BEC5\",\"#B0BEC5\",\"#B0BEC5\",\"#B0BEC5\",\"#B0BEC5\",\"#B0BEC5\",\"#B0BEC5\",\"#B0BEC5\",\"#B0BEC5\",\"#B0BEC5\",\"#B0BEC5\",\"#B0BEC5\",\"#B0BEC5\",\"#B0BEC5\",\"#B0BEC5\",\"#B0BEC5\",\"#B0BEC5\",\"#B0BEC5\",\"#B0BEC5\",\"#B0BEC5\",\"#B0BEC5\",\"#B0BEC5\",\"#B0BEC5\",\"#B0BEC5\",\"#B0BEC5\",\"#B0BEC5\",\"#B0BEC5\",\"#B0BEC5\",\"#B0BEC5\",\"#B0BEC5\",\"#B0BEC5\",\"#B0BEC5\",\"#B0BEC5\",\"#B0BEC5\",\"#B0BEC5\",\"#B0BEC5\",\"#B0BEC5\",\"#B0BEC5\",\"#B0BEC5\",\"#B0BEC5\",\"#B0BEC5\",\"#B0BEC5\",\"#B0BEC5\",\"#B0BEC5\",\"#B0BEC5\",\"#B0BEC5\",\"#B0BEC5\",\"#B0BEC5\",\"#B0BEC5\",\"#B0BEC5\",\"#B0BEC5\",\"red\",\"#B0BEC5\",\"#B0BEC5\",\"#B0BEC5\",\"#B0BEC5\",\"#B0BEC5\",\"#B0BEC5\",\"#B0BEC5\",\"#B0BEC5\",\"#B0BEC5\",\"#B0BEC5\"]]}],\"label\":\"Topic 67\",\"method\":\"update\"},{\"args\":[{\"marker.color\":[[\"#B0BEC5\",\"#B0BEC5\",\"#B0BEC5\",\"#B0BEC5\",\"#B0BEC5\",\"#B0BEC5\",\"#B0BEC5\",\"#B0BEC5\",\"#B0BEC5\",\"#B0BEC5\",\"#B0BEC5\",\"#B0BEC5\",\"#B0BEC5\",\"#B0BEC5\",\"#B0BEC5\",\"#B0BEC5\",\"#B0BEC5\",\"#B0BEC5\",\"#B0BEC5\",\"#B0BEC5\",\"#B0BEC5\",\"#B0BEC5\",\"#B0BEC5\",\"#B0BEC5\",\"#B0BEC5\",\"#B0BEC5\",\"#B0BEC5\",\"#B0BEC5\",\"#B0BEC5\",\"#B0BEC5\",\"#B0BEC5\",\"#B0BEC5\",\"#B0BEC5\",\"#B0BEC5\",\"#B0BEC5\",\"#B0BEC5\",\"#B0BEC5\",\"#B0BEC5\",\"#B0BEC5\",\"#B0BEC5\",\"#B0BEC5\",\"#B0BEC5\",\"#B0BEC5\",\"#B0BEC5\",\"#B0BEC5\",\"#B0BEC5\",\"#B0BEC5\",\"#B0BEC5\",\"#B0BEC5\",\"#B0BEC5\",\"#B0BEC5\",\"#B0BEC5\",\"#B0BEC5\",\"#B0BEC5\",\"#B0BEC5\",\"#B0BEC5\",\"#B0BEC5\",\"#B0BEC5\",\"#B0BEC5\",\"#B0BEC5\",\"#B0BEC5\",\"#B0BEC5\",\"#B0BEC5\",\"#B0BEC5\",\"#B0BEC5\",\"#B0BEC5\",\"#B0BEC5\",\"#B0BEC5\",\"red\",\"#B0BEC5\",\"#B0BEC5\",\"#B0BEC5\",\"#B0BEC5\",\"#B0BEC5\",\"#B0BEC5\",\"#B0BEC5\",\"#B0BEC5\",\"#B0BEC5\"]]}],\"label\":\"Topic 68\",\"method\":\"update\"},{\"args\":[{\"marker.color\":[[\"#B0BEC5\",\"#B0BEC5\",\"#B0BEC5\",\"#B0BEC5\",\"#B0BEC5\",\"#B0BEC5\",\"#B0BEC5\",\"#B0BEC5\",\"#B0BEC5\",\"#B0BEC5\",\"#B0BEC5\",\"#B0BEC5\",\"#B0BEC5\",\"#B0BEC5\",\"#B0BEC5\",\"#B0BEC5\",\"#B0BEC5\",\"#B0BEC5\",\"#B0BEC5\",\"#B0BEC5\",\"#B0BEC5\",\"#B0BEC5\",\"#B0BEC5\",\"#B0BEC5\",\"#B0BEC5\",\"#B0BEC5\",\"#B0BEC5\",\"#B0BEC5\",\"#B0BEC5\",\"#B0BEC5\",\"#B0BEC5\",\"#B0BEC5\",\"#B0BEC5\",\"#B0BEC5\",\"#B0BEC5\",\"#B0BEC5\",\"#B0BEC5\",\"#B0BEC5\",\"#B0BEC5\",\"#B0BEC5\",\"#B0BEC5\",\"#B0BEC5\",\"#B0BEC5\",\"#B0BEC5\",\"#B0BEC5\",\"#B0BEC5\",\"#B0BEC5\",\"#B0BEC5\",\"#B0BEC5\",\"#B0BEC5\",\"#B0BEC5\",\"#B0BEC5\",\"#B0BEC5\",\"#B0BEC5\",\"#B0BEC5\",\"#B0BEC5\",\"#B0BEC5\",\"#B0BEC5\",\"#B0BEC5\",\"#B0BEC5\",\"#B0BEC5\",\"#B0BEC5\",\"#B0BEC5\",\"#B0BEC5\",\"#B0BEC5\",\"#B0BEC5\",\"#B0BEC5\",\"#B0BEC5\",\"#B0BEC5\",\"red\",\"#B0BEC5\",\"#B0BEC5\",\"#B0BEC5\",\"#B0BEC5\",\"#B0BEC5\",\"#B0BEC5\",\"#B0BEC5\",\"#B0BEC5\"]]}],\"label\":\"Topic 69\",\"method\":\"update\"},{\"args\":[{\"marker.color\":[[\"#B0BEC5\",\"#B0BEC5\",\"#B0BEC5\",\"#B0BEC5\",\"#B0BEC5\",\"#B0BEC5\",\"#B0BEC5\",\"#B0BEC5\",\"#B0BEC5\",\"#B0BEC5\",\"#B0BEC5\",\"#B0BEC5\",\"#B0BEC5\",\"#B0BEC5\",\"#B0BEC5\",\"#B0BEC5\",\"#B0BEC5\",\"#B0BEC5\",\"#B0BEC5\",\"#B0BEC5\",\"#B0BEC5\",\"#B0BEC5\",\"#B0BEC5\",\"#B0BEC5\",\"#B0BEC5\",\"#B0BEC5\",\"#B0BEC5\",\"#B0BEC5\",\"#B0BEC5\",\"#B0BEC5\",\"#B0BEC5\",\"#B0BEC5\",\"#B0BEC5\",\"#B0BEC5\",\"#B0BEC5\",\"#B0BEC5\",\"#B0BEC5\",\"#B0BEC5\",\"#B0BEC5\",\"#B0BEC5\",\"#B0BEC5\",\"#B0BEC5\",\"#B0BEC5\",\"#B0BEC5\",\"#B0BEC5\",\"#B0BEC5\",\"#B0BEC5\",\"#B0BEC5\",\"#B0BEC5\",\"#B0BEC5\",\"#B0BEC5\",\"#B0BEC5\",\"#B0BEC5\",\"#B0BEC5\",\"#B0BEC5\",\"#B0BEC5\",\"#B0BEC5\",\"#B0BEC5\",\"#B0BEC5\",\"#B0BEC5\",\"#B0BEC5\",\"#B0BEC5\",\"#B0BEC5\",\"#B0BEC5\",\"#B0BEC5\",\"#B0BEC5\",\"#B0BEC5\",\"#B0BEC5\",\"#B0BEC5\",\"#B0BEC5\",\"red\",\"#B0BEC5\",\"#B0BEC5\",\"#B0BEC5\",\"#B0BEC5\",\"#B0BEC5\",\"#B0BEC5\",\"#B0BEC5\"]]}],\"label\":\"Topic 70\",\"method\":\"update\"},{\"args\":[{\"marker.color\":[[\"#B0BEC5\",\"#B0BEC5\",\"#B0BEC5\",\"#B0BEC5\",\"#B0BEC5\",\"#B0BEC5\",\"#B0BEC5\",\"#B0BEC5\",\"#B0BEC5\",\"#B0BEC5\",\"#B0BEC5\",\"#B0BEC5\",\"#B0BEC5\",\"#B0BEC5\",\"#B0BEC5\",\"#B0BEC5\",\"#B0BEC5\",\"#B0BEC5\",\"#B0BEC5\",\"#B0BEC5\",\"#B0BEC5\",\"#B0BEC5\",\"#B0BEC5\",\"#B0BEC5\",\"#B0BEC5\",\"#B0BEC5\",\"#B0BEC5\",\"#B0BEC5\",\"#B0BEC5\",\"#B0BEC5\",\"#B0BEC5\",\"#B0BEC5\",\"#B0BEC5\",\"#B0BEC5\",\"#B0BEC5\",\"#B0BEC5\",\"#B0BEC5\",\"#B0BEC5\",\"#B0BEC5\",\"#B0BEC5\",\"#B0BEC5\",\"#B0BEC5\",\"#B0BEC5\",\"#B0BEC5\",\"#B0BEC5\",\"#B0BEC5\",\"#B0BEC5\",\"#B0BEC5\",\"#B0BEC5\",\"#B0BEC5\",\"#B0BEC5\",\"#B0BEC5\",\"#B0BEC5\",\"#B0BEC5\",\"#B0BEC5\",\"#B0BEC5\",\"#B0BEC5\",\"#B0BEC5\",\"#B0BEC5\",\"#B0BEC5\",\"#B0BEC5\",\"#B0BEC5\",\"#B0BEC5\",\"#B0BEC5\",\"#B0BEC5\",\"#B0BEC5\",\"#B0BEC5\",\"#B0BEC5\",\"#B0BEC5\",\"#B0BEC5\",\"#B0BEC5\",\"red\",\"#B0BEC5\",\"#B0BEC5\",\"#B0BEC5\",\"#B0BEC5\",\"#B0BEC5\",\"#B0BEC5\"]]}],\"label\":\"Topic 71\",\"method\":\"update\"},{\"args\":[{\"marker.color\":[[\"#B0BEC5\",\"#B0BEC5\",\"#B0BEC5\",\"#B0BEC5\",\"#B0BEC5\",\"#B0BEC5\",\"#B0BEC5\",\"#B0BEC5\",\"#B0BEC5\",\"#B0BEC5\",\"#B0BEC5\",\"#B0BEC5\",\"#B0BEC5\",\"#B0BEC5\",\"#B0BEC5\",\"#B0BEC5\",\"#B0BEC5\",\"#B0BEC5\",\"#B0BEC5\",\"#B0BEC5\",\"#B0BEC5\",\"#B0BEC5\",\"#B0BEC5\",\"#B0BEC5\",\"#B0BEC5\",\"#B0BEC5\",\"#B0BEC5\",\"#B0BEC5\",\"#B0BEC5\",\"#B0BEC5\",\"#B0BEC5\",\"#B0BEC5\",\"#B0BEC5\",\"#B0BEC5\",\"#B0BEC5\",\"#B0BEC5\",\"#B0BEC5\",\"#B0BEC5\",\"#B0BEC5\",\"#B0BEC5\",\"#B0BEC5\",\"#B0BEC5\",\"#B0BEC5\",\"#B0BEC5\",\"#B0BEC5\",\"#B0BEC5\",\"#B0BEC5\",\"#B0BEC5\",\"#B0BEC5\",\"#B0BEC5\",\"#B0BEC5\",\"#B0BEC5\",\"#B0BEC5\",\"#B0BEC5\",\"#B0BEC5\",\"#B0BEC5\",\"#B0BEC5\",\"#B0BEC5\",\"#B0BEC5\",\"#B0BEC5\",\"#B0BEC5\",\"#B0BEC5\",\"#B0BEC5\",\"#B0BEC5\",\"#B0BEC5\",\"#B0BEC5\",\"#B0BEC5\",\"#B0BEC5\",\"#B0BEC5\",\"#B0BEC5\",\"#B0BEC5\",\"#B0BEC5\",\"red\",\"#B0BEC5\",\"#B0BEC5\",\"#B0BEC5\",\"#B0BEC5\",\"#B0BEC5\"]]}],\"label\":\"Topic 72\",\"method\":\"update\"},{\"args\":[{\"marker.color\":[[\"#B0BEC5\",\"#B0BEC5\",\"#B0BEC5\",\"#B0BEC5\",\"#B0BEC5\",\"#B0BEC5\",\"#B0BEC5\",\"#B0BEC5\",\"#B0BEC5\",\"#B0BEC5\",\"#B0BEC5\",\"#B0BEC5\",\"#B0BEC5\",\"#B0BEC5\",\"#B0BEC5\",\"#B0BEC5\",\"#B0BEC5\",\"#B0BEC5\",\"#B0BEC5\",\"#B0BEC5\",\"#B0BEC5\",\"#B0BEC5\",\"#B0BEC5\",\"#B0BEC5\",\"#B0BEC5\",\"#B0BEC5\",\"#B0BEC5\",\"#B0BEC5\",\"#B0BEC5\",\"#B0BEC5\",\"#B0BEC5\",\"#B0BEC5\",\"#B0BEC5\",\"#B0BEC5\",\"#B0BEC5\",\"#B0BEC5\",\"#B0BEC5\",\"#B0BEC5\",\"#B0BEC5\",\"#B0BEC5\",\"#B0BEC5\",\"#B0BEC5\",\"#B0BEC5\",\"#B0BEC5\",\"#B0BEC5\",\"#B0BEC5\",\"#B0BEC5\",\"#B0BEC5\",\"#B0BEC5\",\"#B0BEC5\",\"#B0BEC5\",\"#B0BEC5\",\"#B0BEC5\",\"#B0BEC5\",\"#B0BEC5\",\"#B0BEC5\",\"#B0BEC5\",\"#B0BEC5\",\"#B0BEC5\",\"#B0BEC5\",\"#B0BEC5\",\"#B0BEC5\",\"#B0BEC5\",\"#B0BEC5\",\"#B0BEC5\",\"#B0BEC5\",\"#B0BEC5\",\"#B0BEC5\",\"#B0BEC5\",\"#B0BEC5\",\"#B0BEC5\",\"#B0BEC5\",\"#B0BEC5\",\"red\",\"#B0BEC5\",\"#B0BEC5\",\"#B0BEC5\",\"#B0BEC5\"]]}],\"label\":\"Topic 73\",\"method\":\"update\"},{\"args\":[{\"marker.color\":[[\"#B0BEC5\",\"#B0BEC5\",\"#B0BEC5\",\"#B0BEC5\",\"#B0BEC5\",\"#B0BEC5\",\"#B0BEC5\",\"#B0BEC5\",\"#B0BEC5\",\"#B0BEC5\",\"#B0BEC5\",\"#B0BEC5\",\"#B0BEC5\",\"#B0BEC5\",\"#B0BEC5\",\"#B0BEC5\",\"#B0BEC5\",\"#B0BEC5\",\"#B0BEC5\",\"#B0BEC5\",\"#B0BEC5\",\"#B0BEC5\",\"#B0BEC5\",\"#B0BEC5\",\"#B0BEC5\",\"#B0BEC5\",\"#B0BEC5\",\"#B0BEC5\",\"#B0BEC5\",\"#B0BEC5\",\"#B0BEC5\",\"#B0BEC5\",\"#B0BEC5\",\"#B0BEC5\",\"#B0BEC5\",\"#B0BEC5\",\"#B0BEC5\",\"#B0BEC5\",\"#B0BEC5\",\"#B0BEC5\",\"#B0BEC5\",\"#B0BEC5\",\"#B0BEC5\",\"#B0BEC5\",\"#B0BEC5\",\"#B0BEC5\",\"#B0BEC5\",\"#B0BEC5\",\"#B0BEC5\",\"#B0BEC5\",\"#B0BEC5\",\"#B0BEC5\",\"#B0BEC5\",\"#B0BEC5\",\"#B0BEC5\",\"#B0BEC5\",\"#B0BEC5\",\"#B0BEC5\",\"#B0BEC5\",\"#B0BEC5\",\"#B0BEC5\",\"#B0BEC5\",\"#B0BEC5\",\"#B0BEC5\",\"#B0BEC5\",\"#B0BEC5\",\"#B0BEC5\",\"#B0BEC5\",\"#B0BEC5\",\"#B0BEC5\",\"#B0BEC5\",\"#B0BEC5\",\"#B0BEC5\",\"#B0BEC5\",\"red\",\"#B0BEC5\",\"#B0BEC5\",\"#B0BEC5\"]]}],\"label\":\"Topic 74\",\"method\":\"update\"},{\"args\":[{\"marker.color\":[[\"#B0BEC5\",\"#B0BEC5\",\"#B0BEC5\",\"#B0BEC5\",\"#B0BEC5\",\"#B0BEC5\",\"#B0BEC5\",\"#B0BEC5\",\"#B0BEC5\",\"#B0BEC5\",\"#B0BEC5\",\"#B0BEC5\",\"#B0BEC5\",\"#B0BEC5\",\"#B0BEC5\",\"#B0BEC5\",\"#B0BEC5\",\"#B0BEC5\",\"#B0BEC5\",\"#B0BEC5\",\"#B0BEC5\",\"#B0BEC5\",\"#B0BEC5\",\"#B0BEC5\",\"#B0BEC5\",\"#B0BEC5\",\"#B0BEC5\",\"#B0BEC5\",\"#B0BEC5\",\"#B0BEC5\",\"#B0BEC5\",\"#B0BEC5\",\"#B0BEC5\",\"#B0BEC5\",\"#B0BEC5\",\"#B0BEC5\",\"#B0BEC5\",\"#B0BEC5\",\"#B0BEC5\",\"#B0BEC5\",\"#B0BEC5\",\"#B0BEC5\",\"#B0BEC5\",\"#B0BEC5\",\"#B0BEC5\",\"#B0BEC5\",\"#B0BEC5\",\"#B0BEC5\",\"#B0BEC5\",\"#B0BEC5\",\"#B0BEC5\",\"#B0BEC5\",\"#B0BEC5\",\"#B0BEC5\",\"#B0BEC5\",\"#B0BEC5\",\"#B0BEC5\",\"#B0BEC5\",\"#B0BEC5\",\"#B0BEC5\",\"#B0BEC5\",\"#B0BEC5\",\"#B0BEC5\",\"#B0BEC5\",\"#B0BEC5\",\"#B0BEC5\",\"#B0BEC5\",\"#B0BEC5\",\"#B0BEC5\",\"#B0BEC5\",\"#B0BEC5\",\"#B0BEC5\",\"#B0BEC5\",\"#B0BEC5\",\"#B0BEC5\",\"red\",\"#B0BEC5\",\"#B0BEC5\"]]}],\"label\":\"Topic 75\",\"method\":\"update\"},{\"args\":[{\"marker.color\":[[\"#B0BEC5\",\"#B0BEC5\",\"#B0BEC5\",\"#B0BEC5\",\"#B0BEC5\",\"#B0BEC5\",\"#B0BEC5\",\"#B0BEC5\",\"#B0BEC5\",\"#B0BEC5\",\"#B0BEC5\",\"#B0BEC5\",\"#B0BEC5\",\"#B0BEC5\",\"#B0BEC5\",\"#B0BEC5\",\"#B0BEC5\",\"#B0BEC5\",\"#B0BEC5\",\"#B0BEC5\",\"#B0BEC5\",\"#B0BEC5\",\"#B0BEC5\",\"#B0BEC5\",\"#B0BEC5\",\"#B0BEC5\",\"#B0BEC5\",\"#B0BEC5\",\"#B0BEC5\",\"#B0BEC5\",\"#B0BEC5\",\"#B0BEC5\",\"#B0BEC5\",\"#B0BEC5\",\"#B0BEC5\",\"#B0BEC5\",\"#B0BEC5\",\"#B0BEC5\",\"#B0BEC5\",\"#B0BEC5\",\"#B0BEC5\",\"#B0BEC5\",\"#B0BEC5\",\"#B0BEC5\",\"#B0BEC5\",\"#B0BEC5\",\"#B0BEC5\",\"#B0BEC5\",\"#B0BEC5\",\"#B0BEC5\",\"#B0BEC5\",\"#B0BEC5\",\"#B0BEC5\",\"#B0BEC5\",\"#B0BEC5\",\"#B0BEC5\",\"#B0BEC5\",\"#B0BEC5\",\"#B0BEC5\",\"#B0BEC5\",\"#B0BEC5\",\"#B0BEC5\",\"#B0BEC5\",\"#B0BEC5\",\"#B0BEC5\",\"#B0BEC5\",\"#B0BEC5\",\"#B0BEC5\",\"#B0BEC5\",\"#B0BEC5\",\"#B0BEC5\",\"#B0BEC5\",\"#B0BEC5\",\"#B0BEC5\",\"#B0BEC5\",\"#B0BEC5\",\"red\",\"#B0BEC5\"]]}],\"label\":\"Topic 76\",\"method\":\"update\"},{\"args\":[{\"marker.color\":[[\"#B0BEC5\",\"#B0BEC5\",\"#B0BEC5\",\"#B0BEC5\",\"#B0BEC5\",\"#B0BEC5\",\"#B0BEC5\",\"#B0BEC5\",\"#B0BEC5\",\"#B0BEC5\",\"#B0BEC5\",\"#B0BEC5\",\"#B0BEC5\",\"#B0BEC5\",\"#B0BEC5\",\"#B0BEC5\",\"#B0BEC5\",\"#B0BEC5\",\"#B0BEC5\",\"#B0BEC5\",\"#B0BEC5\",\"#B0BEC5\",\"#B0BEC5\",\"#B0BEC5\",\"#B0BEC5\",\"#B0BEC5\",\"#B0BEC5\",\"#B0BEC5\",\"#B0BEC5\",\"#B0BEC5\",\"#B0BEC5\",\"#B0BEC5\",\"#B0BEC5\",\"#B0BEC5\",\"#B0BEC5\",\"#B0BEC5\",\"#B0BEC5\",\"#B0BEC5\",\"#B0BEC5\",\"#B0BEC5\",\"#B0BEC5\",\"#B0BEC5\",\"#B0BEC5\",\"#B0BEC5\",\"#B0BEC5\",\"#B0BEC5\",\"#B0BEC5\",\"#B0BEC5\",\"#B0BEC5\",\"#B0BEC5\",\"#B0BEC5\",\"#B0BEC5\",\"#B0BEC5\",\"#B0BEC5\",\"#B0BEC5\",\"#B0BEC5\",\"#B0BEC5\",\"#B0BEC5\",\"#B0BEC5\",\"#B0BEC5\",\"#B0BEC5\",\"#B0BEC5\",\"#B0BEC5\",\"#B0BEC5\",\"#B0BEC5\",\"#B0BEC5\",\"#B0BEC5\",\"#B0BEC5\",\"#B0BEC5\",\"#B0BEC5\",\"#B0BEC5\",\"#B0BEC5\",\"#B0BEC5\",\"#B0BEC5\",\"#B0BEC5\",\"#B0BEC5\",\"#B0BEC5\",\"red\"]]}],\"label\":\"Topic 77\",\"method\":\"update\"}]}],\"shapes\":[{\"line\":{\"color\":\"#CFD8DC\",\"width\":2},\"type\":\"line\",\"x0\":4.722506976127625,\"x1\":4.722506976127625,\"y0\":-6.849937772750854,\"y1\":21.075518798828124},{\"line\":{\"color\":\"#9E9E9E\",\"width\":2},\"type\":\"line\",\"x0\":-11.69211449623108,\"x1\":21.13712844848633,\"y0\":7.112790513038635,\"y1\":7.112790513038635}],\"annotations\":[{\"showarrow\":false,\"text\":\"D1\",\"x\":-11.69211449623108,\"y\":7.112790513038635,\"yshift\":10},{\"showarrow\":false,\"text\":\"D2\",\"x\":4.722506976127625,\"xshift\":10,\"y\":21.075518798828124}]},                        {\"responsive\": true}                    ).then(function(){\n",
              "                            \n",
              "var gd = document.getElementById('5652436f-d726-4db7-8e8a-fbba76f03024');\n",
              "var x = new MutationObserver(function (mutations, observer) {{\n",
              "        var display = window.getComputedStyle(gd).display;\n",
              "        if (!display || display === 'none') {{\n",
              "            console.log([gd, 'removed!']);\n",
              "            Plotly.purge(gd);\n",
              "            observer.disconnect();\n",
              "        }}\n",
              "}});\n",
              "\n",
              "// Listen for the removal of the full notebook cells\n",
              "var notebookContainer = gd.closest('#notebook-container');\n",
              "if (notebookContainer) {{\n",
              "    x.observe(notebookContainer, {childList: true});\n",
              "}}\n",
              "\n",
              "// Listen for the clearing of the current output cell\n",
              "var outputEl = gd.closest('.output');\n",
              "if (outputEl) {{\n",
              "    x.observe(outputEl, {childList: true});\n",
              "}}\n",
              "\n",
              "                        })                };                            </script>        </div>\n",
              "</body>\n",
              "</html>"
            ]
          },
          "metadata": {}
        }
      ]
    },
    {
      "cell_type": "code",
      "source": [
        "model.visualize_barchart()"
      ],
      "metadata": {
        "colab": {
          "base_uri": "https://localhost:8080/",
          "height": 517
        },
        "id": "w06PSRXtdrE8",
        "outputId": "f4bd4bd5-4a06-4f21-bc31-72dc6cfccf13"
      },
      "execution_count": null,
      "outputs": [
        {
          "output_type": "display_data",
          "data": {
            "text/html": [
              "<html>\n",
              "<head><meta charset=\"utf-8\" /></head>\n",
              "<body>\n",
              "    <div>            <script src=\"https://cdnjs.cloudflare.com/ajax/libs/mathjax/2.7.5/MathJax.js?config=TeX-AMS-MML_SVG\"></script><script type=\"text/javascript\">if (window.MathJax && window.MathJax.Hub && window.MathJax.Hub.Config) {window.MathJax.Hub.Config({SVG: {font: \"STIX-Web\"}});}</script>                <script type=\"text/javascript\">window.PlotlyConfig = {MathJaxConfig: 'local'};</script>\n",
              "        <script charset=\"utf-8\" src=\"https://cdn.plot.ly/plotly-2.24.1.min.js\"></script>                <div id=\"d20e5bbe-f8d6-4d23-8de5-651585caa650\" class=\"plotly-graph-div\" style=\"height:500px; width:1000px;\"></div>            <script type=\"text/javascript\">                                    window.PLOTLYENV=window.PLOTLYENV || {};                                    if (document.getElementById(\"d20e5bbe-f8d6-4d23-8de5-651585caa650\")) {                    Plotly.newPlot(                        \"d20e5bbe-f8d6-4d23-8de5-651585caa650\",                        [{\"marker\":{\"color\":\"#D55E00\"},\"orientation\":\"h\",\"x\":[0.011556673102676912,0.01207472712311931,0.01604992479759957,0.016676631688131265,0.037380439023572895],\"y\":[\"allah  \",\"beriman  \",\"yang  \",\"kafir  \",\"orang  \"],\"type\":\"bar\",\"xaxis\":\"x\",\"yaxis\":\"y\"},{\"marker\":{\"color\":\"#0072B2\"},\"orientation\":\"h\",\"x\":[0.011548805121189876,0.011565035087661782,0.012801863091184904,0.017342120203098135,0.04423358080699736],\"y\":[\"kepada  \",\"mereka  \",\"sesungguhnya  \",\"kami  \",\"telah  \"],\"type\":\"bar\",\"xaxis\":\"x2\",\"yaxis\":\"y2\"},{\"marker\":{\"color\":\"#CC79A7\"},\"orientation\":\"h\",\"x\":[0.014015320788838248,0.015547374542704308,0.017779987305559835,0.021639802632127555,0.03924893491805549],\"y\":[\"di  \",\"maka  \",\"azab  \",\"tidak  \",\"mereka  \"],\"type\":\"bar\",\"xaxis\":\"x3\",\"yaxis\":\"y3\"},{\"marker\":{\"color\":\"#E69F00\"},\"orientation\":\"h\",\"x\":[1e-05,1e-05,1e-05,1e-05,1e-05],\"y\":[\"  \",\"  \",\"  \",\"  \",\"  \"],\"type\":\"bar\",\"xaxis\":\"x4\",\"yaxis\":\"y4\"},{\"marker\":{\"color\":\"#56B4E9\"},\"orientation\":\"h\",\"x\":[0.01904336691924641,0.021549073092831463,0.02965042956639948,0.10602962563431496,0.11003601923504204],\"y\":[\"ayat  \",\"ini  \",\"kitab  \",\"al  \",\"quran  \"],\"type\":\"bar\",\"xaxis\":\"x5\",\"yaxis\":\"y5\"},{\"marker\":{\"color\":\"#009E73\"},\"orientation\":\"h\",\"x\":[0.019286259040895443,0.02055893769824289,0.021408175788383072,0.023904908095054283,0.10626955639776096],\"y\":[\"kepadamu  \",\"datangnya  \",\"tatkala  \",\"datanglah  \",\"datang  \"],\"type\":\"bar\",\"xaxis\":\"x6\",\"yaxis\":\"y6\"},{\"marker\":{\"color\":\"#F0E442\"},\"orientation\":\"h\",\"x\":[0.027732211716016284,0.028827422293392545,0.031133023145849953,0.03303847848546625,0.10819554887763881],\"y\":[\"itu  \",\"adalah  \",\"demikianlah  \",\"terdapat  \",\"demikian  \"],\"type\":\"bar\",\"xaxis\":\"x7\",\"yaxis\":\"y7\"},{\"marker\":{\"color\":\"#D55E00\"},\"orientation\":\"h\",\"x\":[0.025702350666336603,0.03338129505942965,0.10198391003323509,0.22933784251504746,0.27486461479075713],\"y\":[\"berselimut  \",\"yang  \",\"orang  \",\"beriman  \",\"hai  \"],\"type\":\"bar\",\"xaxis\":\"x8\",\"yaxis\":\"y8\"}],                        {\"template\":{\"data\":{\"barpolar\":[{\"marker\":{\"line\":{\"color\":\"white\",\"width\":0.5},\"pattern\":{\"fillmode\":\"overlay\",\"size\":10,\"solidity\":0.2}},\"type\":\"barpolar\"}],\"bar\":[{\"error_x\":{\"color\":\"#2a3f5f\"},\"error_y\":{\"color\":\"#2a3f5f\"},\"marker\":{\"line\":{\"color\":\"white\",\"width\":0.5},\"pattern\":{\"fillmode\":\"overlay\",\"size\":10,\"solidity\":0.2}},\"type\":\"bar\"}],\"carpet\":[{\"aaxis\":{\"endlinecolor\":\"#2a3f5f\",\"gridcolor\":\"#C8D4E3\",\"linecolor\":\"#C8D4E3\",\"minorgridcolor\":\"#C8D4E3\",\"startlinecolor\":\"#2a3f5f\"},\"baxis\":{\"endlinecolor\":\"#2a3f5f\",\"gridcolor\":\"#C8D4E3\",\"linecolor\":\"#C8D4E3\",\"minorgridcolor\":\"#C8D4E3\",\"startlinecolor\":\"#2a3f5f\"},\"type\":\"carpet\"}],\"choropleth\":[{\"colorbar\":{\"outlinewidth\":0,\"ticks\":\"\"},\"type\":\"choropleth\"}],\"contourcarpet\":[{\"colorbar\":{\"outlinewidth\":0,\"ticks\":\"\"},\"type\":\"contourcarpet\"}],\"contour\":[{\"colorbar\":{\"outlinewidth\":0,\"ticks\":\"\"},\"colorscale\":[[0.0,\"#0d0887\"],[0.1111111111111111,\"#46039f\"],[0.2222222222222222,\"#7201a8\"],[0.3333333333333333,\"#9c179e\"],[0.4444444444444444,\"#bd3786\"],[0.5555555555555556,\"#d8576b\"],[0.6666666666666666,\"#ed7953\"],[0.7777777777777778,\"#fb9f3a\"],[0.8888888888888888,\"#fdca26\"],[1.0,\"#f0f921\"]],\"type\":\"contour\"}],\"heatmapgl\":[{\"colorbar\":{\"outlinewidth\":0,\"ticks\":\"\"},\"colorscale\":[[0.0,\"#0d0887\"],[0.1111111111111111,\"#46039f\"],[0.2222222222222222,\"#7201a8\"],[0.3333333333333333,\"#9c179e\"],[0.4444444444444444,\"#bd3786\"],[0.5555555555555556,\"#d8576b\"],[0.6666666666666666,\"#ed7953\"],[0.7777777777777778,\"#fb9f3a\"],[0.8888888888888888,\"#fdca26\"],[1.0,\"#f0f921\"]],\"type\":\"heatmapgl\"}],\"heatmap\":[{\"colorbar\":{\"outlinewidth\":0,\"ticks\":\"\"},\"colorscale\":[[0.0,\"#0d0887\"],[0.1111111111111111,\"#46039f\"],[0.2222222222222222,\"#7201a8\"],[0.3333333333333333,\"#9c179e\"],[0.4444444444444444,\"#bd3786\"],[0.5555555555555556,\"#d8576b\"],[0.6666666666666666,\"#ed7953\"],[0.7777777777777778,\"#fb9f3a\"],[0.8888888888888888,\"#fdca26\"],[1.0,\"#f0f921\"]],\"type\":\"heatmap\"}],\"histogram2dcontour\":[{\"colorbar\":{\"outlinewidth\":0,\"ticks\":\"\"},\"colorscale\":[[0.0,\"#0d0887\"],[0.1111111111111111,\"#46039f\"],[0.2222222222222222,\"#7201a8\"],[0.3333333333333333,\"#9c179e\"],[0.4444444444444444,\"#bd3786\"],[0.5555555555555556,\"#d8576b\"],[0.6666666666666666,\"#ed7953\"],[0.7777777777777778,\"#fb9f3a\"],[0.8888888888888888,\"#fdca26\"],[1.0,\"#f0f921\"]],\"type\":\"histogram2dcontour\"}],\"histogram2d\":[{\"colorbar\":{\"outlinewidth\":0,\"ticks\":\"\"},\"colorscale\":[[0.0,\"#0d0887\"],[0.1111111111111111,\"#46039f\"],[0.2222222222222222,\"#7201a8\"],[0.3333333333333333,\"#9c179e\"],[0.4444444444444444,\"#bd3786\"],[0.5555555555555556,\"#d8576b\"],[0.6666666666666666,\"#ed7953\"],[0.7777777777777778,\"#fb9f3a\"],[0.8888888888888888,\"#fdca26\"],[1.0,\"#f0f921\"]],\"type\":\"histogram2d\"}],\"histogram\":[{\"marker\":{\"pattern\":{\"fillmode\":\"overlay\",\"size\":10,\"solidity\":0.2}},\"type\":\"histogram\"}],\"mesh3d\":[{\"colorbar\":{\"outlinewidth\":0,\"ticks\":\"\"},\"type\":\"mesh3d\"}],\"parcoords\":[{\"line\":{\"colorbar\":{\"outlinewidth\":0,\"ticks\":\"\"}},\"type\":\"parcoords\"}],\"pie\":[{\"automargin\":true,\"type\":\"pie\"}],\"scatter3d\":[{\"line\":{\"colorbar\":{\"outlinewidth\":0,\"ticks\":\"\"}},\"marker\":{\"colorbar\":{\"outlinewidth\":0,\"ticks\":\"\"}},\"type\":\"scatter3d\"}],\"scattercarpet\":[{\"marker\":{\"colorbar\":{\"outlinewidth\":0,\"ticks\":\"\"}},\"type\":\"scattercarpet\"}],\"scattergeo\":[{\"marker\":{\"colorbar\":{\"outlinewidth\":0,\"ticks\":\"\"}},\"type\":\"scattergeo\"}],\"scattergl\":[{\"marker\":{\"colorbar\":{\"outlinewidth\":0,\"ticks\":\"\"}},\"type\":\"scattergl\"}],\"scattermapbox\":[{\"marker\":{\"colorbar\":{\"outlinewidth\":0,\"ticks\":\"\"}},\"type\":\"scattermapbox\"}],\"scatterpolargl\":[{\"marker\":{\"colorbar\":{\"outlinewidth\":0,\"ticks\":\"\"}},\"type\":\"scatterpolargl\"}],\"scatterpolar\":[{\"marker\":{\"colorbar\":{\"outlinewidth\":0,\"ticks\":\"\"}},\"type\":\"scatterpolar\"}],\"scatter\":[{\"fillpattern\":{\"fillmode\":\"overlay\",\"size\":10,\"solidity\":0.2},\"type\":\"scatter\"}],\"scatterternary\":[{\"marker\":{\"colorbar\":{\"outlinewidth\":0,\"ticks\":\"\"}},\"type\":\"scatterternary\"}],\"surface\":[{\"colorbar\":{\"outlinewidth\":0,\"ticks\":\"\"},\"colorscale\":[[0.0,\"#0d0887\"],[0.1111111111111111,\"#46039f\"],[0.2222222222222222,\"#7201a8\"],[0.3333333333333333,\"#9c179e\"],[0.4444444444444444,\"#bd3786\"],[0.5555555555555556,\"#d8576b\"],[0.6666666666666666,\"#ed7953\"],[0.7777777777777778,\"#fb9f3a\"],[0.8888888888888888,\"#fdca26\"],[1.0,\"#f0f921\"]],\"type\":\"surface\"}],\"table\":[{\"cells\":{\"fill\":{\"color\":\"#EBF0F8\"},\"line\":{\"color\":\"white\"}},\"header\":{\"fill\":{\"color\":\"#C8D4E3\"},\"line\":{\"color\":\"white\"}},\"type\":\"table\"}]},\"layout\":{\"annotationdefaults\":{\"arrowcolor\":\"#2a3f5f\",\"arrowhead\":0,\"arrowwidth\":1},\"autotypenumbers\":\"strict\",\"coloraxis\":{\"colorbar\":{\"outlinewidth\":0,\"ticks\":\"\"}},\"colorscale\":{\"diverging\":[[0,\"#8e0152\"],[0.1,\"#c51b7d\"],[0.2,\"#de77ae\"],[0.3,\"#f1b6da\"],[0.4,\"#fde0ef\"],[0.5,\"#f7f7f7\"],[0.6,\"#e6f5d0\"],[0.7,\"#b8e186\"],[0.8,\"#7fbc41\"],[0.9,\"#4d9221\"],[1,\"#276419\"]],\"sequential\":[[0.0,\"#0d0887\"],[0.1111111111111111,\"#46039f\"],[0.2222222222222222,\"#7201a8\"],[0.3333333333333333,\"#9c179e\"],[0.4444444444444444,\"#bd3786\"],[0.5555555555555556,\"#d8576b\"],[0.6666666666666666,\"#ed7953\"],[0.7777777777777778,\"#fb9f3a\"],[0.8888888888888888,\"#fdca26\"],[1.0,\"#f0f921\"]],\"sequentialminus\":[[0.0,\"#0d0887\"],[0.1111111111111111,\"#46039f\"],[0.2222222222222222,\"#7201a8\"],[0.3333333333333333,\"#9c179e\"],[0.4444444444444444,\"#bd3786\"],[0.5555555555555556,\"#d8576b\"],[0.6666666666666666,\"#ed7953\"],[0.7777777777777778,\"#fb9f3a\"],[0.8888888888888888,\"#fdca26\"],[1.0,\"#f0f921\"]]},\"colorway\":[\"#636efa\",\"#EF553B\",\"#00cc96\",\"#ab63fa\",\"#FFA15A\",\"#19d3f3\",\"#FF6692\",\"#B6E880\",\"#FF97FF\",\"#FECB52\"],\"font\":{\"color\":\"#2a3f5f\"},\"geo\":{\"bgcolor\":\"white\",\"lakecolor\":\"white\",\"landcolor\":\"white\",\"showlakes\":true,\"showland\":true,\"subunitcolor\":\"#C8D4E3\"},\"hoverlabel\":{\"align\":\"left\"},\"hovermode\":\"closest\",\"mapbox\":{\"style\":\"light\"},\"paper_bgcolor\":\"white\",\"plot_bgcolor\":\"white\",\"polar\":{\"angularaxis\":{\"gridcolor\":\"#EBF0F8\",\"linecolor\":\"#EBF0F8\",\"ticks\":\"\"},\"bgcolor\":\"white\",\"radialaxis\":{\"gridcolor\":\"#EBF0F8\",\"linecolor\":\"#EBF0F8\",\"ticks\":\"\"}},\"scene\":{\"xaxis\":{\"backgroundcolor\":\"white\",\"gridcolor\":\"#DFE8F3\",\"gridwidth\":2,\"linecolor\":\"#EBF0F8\",\"showbackground\":true,\"ticks\":\"\",\"zerolinecolor\":\"#EBF0F8\"},\"yaxis\":{\"backgroundcolor\":\"white\",\"gridcolor\":\"#DFE8F3\",\"gridwidth\":2,\"linecolor\":\"#EBF0F8\",\"showbackground\":true,\"ticks\":\"\",\"zerolinecolor\":\"#EBF0F8\"},\"zaxis\":{\"backgroundcolor\":\"white\",\"gridcolor\":\"#DFE8F3\",\"gridwidth\":2,\"linecolor\":\"#EBF0F8\",\"showbackground\":true,\"ticks\":\"\",\"zerolinecolor\":\"#EBF0F8\"}},\"shapedefaults\":{\"line\":{\"color\":\"#2a3f5f\"}},\"ternary\":{\"aaxis\":{\"gridcolor\":\"#DFE8F3\",\"linecolor\":\"#A2B1C6\",\"ticks\":\"\"},\"baxis\":{\"gridcolor\":\"#DFE8F3\",\"linecolor\":\"#A2B1C6\",\"ticks\":\"\"},\"bgcolor\":\"white\",\"caxis\":{\"gridcolor\":\"#DFE8F3\",\"linecolor\":\"#A2B1C6\",\"ticks\":\"\"}},\"title\":{\"x\":0.05},\"xaxis\":{\"automargin\":true,\"gridcolor\":\"#EBF0F8\",\"linecolor\":\"#EBF0F8\",\"ticks\":\"\",\"title\":{\"standoff\":15},\"zerolinecolor\":\"#EBF0F8\",\"zerolinewidth\":2},\"yaxis\":{\"automargin\":true,\"gridcolor\":\"#EBF0F8\",\"linecolor\":\"#EBF0F8\",\"ticks\":\"\",\"title\":{\"standoff\":15},\"zerolinecolor\":\"#EBF0F8\",\"zerolinewidth\":2}}},\"xaxis\":{\"anchor\":\"y\",\"domain\":[0.0,0.175],\"showgrid\":true},\"yaxis\":{\"anchor\":\"x\",\"domain\":[0.6000000000000001,1.0],\"showgrid\":true},\"xaxis2\":{\"anchor\":\"y2\",\"domain\":[0.275,0.45],\"showgrid\":true},\"yaxis2\":{\"anchor\":\"x2\",\"domain\":[0.6000000000000001,1.0],\"showgrid\":true},\"xaxis3\":{\"anchor\":\"y3\",\"domain\":[0.55,0.7250000000000001],\"showgrid\":true},\"yaxis3\":{\"anchor\":\"x3\",\"domain\":[0.6000000000000001,1.0],\"showgrid\":true},\"xaxis4\":{\"anchor\":\"y4\",\"domain\":[0.825,1.0],\"showgrid\":true},\"yaxis4\":{\"anchor\":\"x4\",\"domain\":[0.6000000000000001,1.0],\"showgrid\":true},\"xaxis5\":{\"anchor\":\"y5\",\"domain\":[0.0,0.175],\"showgrid\":true},\"yaxis5\":{\"anchor\":\"x5\",\"domain\":[0.0,0.4],\"showgrid\":true},\"xaxis6\":{\"anchor\":\"y6\",\"domain\":[0.275,0.45],\"showgrid\":true},\"yaxis6\":{\"anchor\":\"x6\",\"domain\":[0.0,0.4],\"showgrid\":true},\"xaxis7\":{\"anchor\":\"y7\",\"domain\":[0.55,0.7250000000000001],\"showgrid\":true},\"yaxis7\":{\"anchor\":\"x7\",\"domain\":[0.0,0.4],\"showgrid\":true},\"xaxis8\":{\"anchor\":\"y8\",\"domain\":[0.825,1.0],\"showgrid\":true},\"yaxis8\":{\"anchor\":\"x8\",\"domain\":[0.0,0.4],\"showgrid\":true},\"annotations\":[{\"font\":{\"size\":16},\"showarrow\":false,\"text\":\"Topic 0\",\"x\":0.0875,\"xanchor\":\"center\",\"xref\":\"paper\",\"y\":1.0,\"yanchor\":\"bottom\",\"yref\":\"paper\"},{\"font\":{\"size\":16},\"showarrow\":false,\"text\":\"Topic 1\",\"x\":0.36250000000000004,\"xanchor\":\"center\",\"xref\":\"paper\",\"y\":1.0,\"yanchor\":\"bottom\",\"yref\":\"paper\"},{\"font\":{\"size\":16},\"showarrow\":false,\"text\":\"Topic 2\",\"x\":0.6375000000000001,\"xanchor\":\"center\",\"xref\":\"paper\",\"y\":1.0,\"yanchor\":\"bottom\",\"yref\":\"paper\"},{\"font\":{\"size\":16},\"showarrow\":false,\"text\":\"Topic 3\",\"x\":0.9125,\"xanchor\":\"center\",\"xref\":\"paper\",\"y\":1.0,\"yanchor\":\"bottom\",\"yref\":\"paper\"},{\"font\":{\"size\":16},\"showarrow\":false,\"text\":\"Topic 4\",\"x\":0.0875,\"xanchor\":\"center\",\"xref\":\"paper\",\"y\":0.4,\"yanchor\":\"bottom\",\"yref\":\"paper\"},{\"font\":{\"size\":16},\"showarrow\":false,\"text\":\"Topic 5\",\"x\":0.36250000000000004,\"xanchor\":\"center\",\"xref\":\"paper\",\"y\":0.4,\"yanchor\":\"bottom\",\"yref\":\"paper\"},{\"font\":{\"size\":16},\"showarrow\":false,\"text\":\"Topic 6\",\"x\":0.6375000000000001,\"xanchor\":\"center\",\"xref\":\"paper\",\"y\":0.4,\"yanchor\":\"bottom\",\"yref\":\"paper\"},{\"font\":{\"size\":16},\"showarrow\":false,\"text\":\"Topic 7\",\"x\":0.9125,\"xanchor\":\"center\",\"xref\":\"paper\",\"y\":0.4,\"yanchor\":\"bottom\",\"yref\":\"paper\"}],\"title\":{\"font\":{\"size\":22,\"color\":\"Black\"},\"text\":\"Topic Word Scores\",\"x\":0.5,\"xanchor\":\"center\",\"yanchor\":\"top\"},\"hoverlabel\":{\"font\":{\"size\":16,\"family\":\"Rockwell\"},\"bgcolor\":\"white\"},\"showlegend\":false,\"width\":1000,\"height\":500},                        {\"responsive\": true}                    ).then(function(){\n",
              "                            \n",
              "var gd = document.getElementById('d20e5bbe-f8d6-4d23-8de5-651585caa650');\n",
              "var x = new MutationObserver(function (mutations, observer) {{\n",
              "        var display = window.getComputedStyle(gd).display;\n",
              "        if (!display || display === 'none') {{\n",
              "            console.log([gd, 'removed!']);\n",
              "            Plotly.purge(gd);\n",
              "            observer.disconnect();\n",
              "        }}\n",
              "}});\n",
              "\n",
              "// Listen for the removal of the full notebook cells\n",
              "var notebookContainer = gd.closest('#notebook-container');\n",
              "if (notebookContainer) {{\n",
              "    x.observe(notebookContainer, {childList: true});\n",
              "}}\n",
              "\n",
              "// Listen for the clearing of the current output cell\n",
              "var outputEl = gd.closest('.output');\n",
              "if (outputEl) {{\n",
              "    x.observe(outputEl, {childList: true});\n",
              "}}\n",
              "\n",
              "                        })                };                            </script>        </div>\n",
              "</body>\n",
              "</html>"
            ]
          },
          "metadata": {}
        }
      ]
    },
    {
      "cell_type": "code",
      "source": [
        "model.visualize_hierarchy()"
      ],
      "metadata": {
        "colab": {
          "base_uri": "https://localhost:8080/",
          "height": 1000
        },
        "id": "fu5D4c8NHfT6",
        "outputId": "e541b382-fe35-4c7f-f283-790d4afcfd6b"
      },
      "execution_count": null,
      "outputs": [
        {
          "output_type": "display_data",
          "data": {
            "text/html": [
              "<html>\n",
              "<head><meta charset=\"utf-8\" /></head>\n",
              "<body>\n",
              "    <div>            <script src=\"https://cdnjs.cloudflare.com/ajax/libs/mathjax/2.7.5/MathJax.js?config=TeX-AMS-MML_SVG\"></script><script type=\"text/javascript\">if (window.MathJax && window.MathJax.Hub && window.MathJax.Hub.Config) {window.MathJax.Hub.Config({SVG: {font: \"STIX-Web\"}});}</script>                <script type=\"text/javascript\">window.PlotlyConfig = {MathJaxConfig: 'local'};</script>\n",
              "        <script charset=\"utf-8\" src=\"https://cdn.plot.ly/plotly-2.24.1.min.js\"></script>                <div id=\"50cbffcc-8b4e-47e4-a9d1-1b1f580a73d9\" class=\"plotly-graph-div\" style=\"height:1370px; width:1000px;\"></div>            <script type=\"text/javascript\">                                    window.PLOTLYENV=window.PLOTLYENV || {};                                    if (document.getElementById(\"50cbffcc-8b4e-47e4-a9d1-1b1f580a73d9\")) {                    Plotly.newPlot(                        \"50cbffcc-8b4e-47e4-a9d1-1b1f580a73d9\",                        [{\"hoverinfo\":\"text\",\"marker\":{\"color\":\"rgb(61,153,112)\"},\"mode\":\"lines\",\"x\":[0.0,0.051224034382332584,0.051224034382332584,0.0],\"xaxis\":\"x\",\"y\":[-5.0,-5.0,-15.0,-15.0],\"yaxis\":\"y\",\"type\":\"scatter\"},{\"hoverinfo\":\"text\",\"marker\":{\"color\":\"rgb(255,65,54)\"},\"mode\":\"lines\",\"x\":[0.0,0.7478263617402094,0.7478263617402094,0.0],\"xaxis\":\"x\",\"y\":[-25.0,-25.0,-35.0,-35.0],\"yaxis\":\"y\",\"type\":\"scatter\"},{\"hoverinfo\":\"text\",\"marker\":{\"color\":\"rgb(255,65,54)\"},\"mode\":\"lines\",\"x\":[0.0,0.43961857639336666,0.43961857639336666,0.0],\"xaxis\":\"x\",\"y\":[-65.0,-65.0,-75.0,-75.0],\"yaxis\":\"y\",\"type\":\"scatter\"},{\"hoverinfo\":\"text\",\"marker\":{\"color\":\"rgb(255,65,54)\"},\"mode\":\"lines\",\"x\":[0.0,0.533327443525127,0.533327443525127,0.43961857639336666],\"xaxis\":\"x\",\"y\":[-55.0,-55.0,-70.0,-70.0],\"yaxis\":\"y\",\"type\":\"scatter\"},{\"hoverinfo\":\"text\",\"marker\":{\"color\":\"rgb(255,65,54)\"},\"mode\":\"lines\",\"x\":[0.533327443525127,0.5990108087496379,0.5990108087496379,0.0],\"xaxis\":\"x\",\"y\":[-62.5,-62.5,-85.0,-85.0],\"yaxis\":\"y\",\"type\":\"scatter\"},{\"hoverinfo\":\"text\",\"marker\":{\"color\":\"rgb(255,65,54)\"},\"mode\":\"lines\",\"x\":[0.0,0.7331239809548892,0.7331239809548892,0.5990108087496379],\"xaxis\":\"x\",\"y\":[-45.0,-45.0,-73.75,-73.75],\"yaxis\":\"y\",\"type\":\"scatter\"},{\"hoverinfo\":\"text\",\"marker\":{\"color\":\"rgb(255,65,54)\"},\"mode\":\"lines\",\"x\":[0.7331239809548892,0.7724225659144897,0.7724225659144897,0.0],\"xaxis\":\"x\",\"y\":[-59.375,-59.375,-95.0,-95.0],\"yaxis\":\"y\",\"type\":\"scatter\"},{\"hoverinfo\":\"text\",\"marker\":{\"color\":\"rgb(255,65,54)\"},\"mode\":\"lines\",\"x\":[0.7478263617402094,0.8093040919986557,0.8093040919986557,0.7724225659144897],\"xaxis\":\"x\",\"y\":[-30.0,-30.0,-77.1875,-77.1875],\"yaxis\":\"y\",\"type\":\"scatter\"},{\"hoverinfo\":\"text\",\"marker\":{\"color\":\"rgb(35,205,205)\"},\"mode\":\"lines\",\"x\":[0.0,0.7542105947206734,0.7542105947206734,0.0],\"xaxis\":\"x\",\"y\":[-115.0,-115.0,-125.0,-125.0],\"yaxis\":\"y\",\"type\":\"scatter\"},{\"hoverinfo\":\"text\",\"marker\":{\"color\":\"rgb(35,205,205)\"},\"mode\":\"lines\",\"x\":[0.0,0.9535795339279258,0.9535795339279258,0.7542105947206734],\"xaxis\":\"x\",\"y\":[-105.0,-105.0,-120.0,-120.0],\"yaxis\":\"y\",\"type\":\"scatter\"},{\"hoverinfo\":\"text\",\"marker\":{\"color\":\"rgb(133,20,75)\"},\"mode\":\"lines\",\"x\":[0.0,0.6694577329602603,0.6694577329602603,0.0],\"xaxis\":\"x\",\"y\":[-135.0,-135.0,-145.0,-145.0],\"yaxis\":\"y\",\"type\":\"scatter\"},{\"hoverinfo\":\"text\",\"marker\":{\"color\":\"rgb(0,116,217)\"},\"mode\":\"lines\",\"x\":[0.9535795339279258,1.02901684138296,1.02901684138296,0.6694577329602603],\"xaxis\":\"x\",\"y\":[-112.5,-112.5,-140.0,-140.0],\"yaxis\":\"y\",\"type\":\"scatter\"},{\"hoverinfo\":\"text\",\"marker\":{\"color\":\"rgb(255,220,0)\"},\"mode\":\"lines\",\"x\":[0.0,0.5246519883381918,0.5246519883381918,0.0],\"xaxis\":\"x\",\"y\":[-155.0,-155.0,-165.0,-165.0],\"yaxis\":\"y\",\"type\":\"scatter\"},{\"hoverinfo\":\"text\",\"marker\":{\"color\":\"rgb(0,116,217)\"},\"mode\":\"lines\",\"x\":[1.02901684138296,1.2059245365885194,1.2059245365885194,0.5246519883381918],\"xaxis\":\"x\",\"y\":[-126.25,-126.25,-160.0,-160.0],\"yaxis\":\"y\",\"type\":\"scatter\"},{\"hoverinfo\":\"text\",\"marker\":{\"color\":\"rgb(40,35,35)\"},\"mode\":\"lines\",\"x\":[0.0,0.8830564406616813,0.8830564406616813,0.0],\"xaxis\":\"x\",\"y\":[-175.0,-175.0,-185.0,-185.0],\"yaxis\":\"y\",\"type\":\"scatter\"},{\"hoverinfo\":\"text\",\"marker\":{\"color\":\"rgb(40,35,35)\"},\"mode\":\"lines\",\"x\":[0.0,0.7306545116478687,0.7306545116478687,0.0],\"xaxis\":\"x\",\"y\":[-195.0,-195.0,-205.0,-205.0],\"yaxis\":\"y\",\"type\":\"scatter\"},{\"hoverinfo\":\"text\",\"marker\":{\"color\":\"rgb(40,35,35)\"},\"mode\":\"lines\",\"x\":[0.8830564406616813,0.9554080013910409,0.9554080013910409,0.7306545116478687],\"xaxis\":\"x\",\"y\":[-180.0,-180.0,-200.0,-200.0],\"yaxis\":\"y\",\"type\":\"scatter\"},{\"hoverinfo\":\"text\",\"marker\":{\"color\":\"rgb(61,153,112)\"},\"mode\":\"lines\",\"x\":[0.0,0.8421492188227957,0.8421492188227957,0.0],\"xaxis\":\"x\",\"y\":[-215.0,-215.0,-225.0,-225.0],\"yaxis\":\"y\",\"type\":\"scatter\"},{\"hoverinfo\":\"text\",\"marker\":{\"color\":\"rgb(0,116,217)\"},\"mode\":\"lines\",\"x\":[0.0,1.0,1.0,0.0],\"xaxis\":\"x\",\"y\":[-235.0,-235.0,-245.0,-245.0],\"yaxis\":\"y\",\"type\":\"scatter\"},{\"hoverinfo\":\"text\",\"marker\":{\"color\":\"rgb(0,116,217)\"},\"mode\":\"lines\",\"x\":[1.0,1.0,1.0,0.0],\"xaxis\":\"x\",\"y\":[-240.0,-240.0,-255.0,-255.0],\"yaxis\":\"y\",\"type\":\"scatter\"},{\"hoverinfo\":\"text\",\"marker\":{\"color\":\"rgb(255,65,54)\"},\"mode\":\"lines\",\"x\":[0.0,0.913870742793631,0.913870742793631,0.0],\"xaxis\":\"x\",\"y\":[-265.0,-265.0,-275.0,-275.0],\"yaxis\":\"y\",\"type\":\"scatter\"},{\"hoverinfo\":\"text\",\"marker\":{\"color\":\"rgb(0,116,217)\"},\"mode\":\"lines\",\"x\":[1.0,1.044268036839356,1.044268036839356,0.913870742793631],\"xaxis\":\"x\",\"y\":[-247.5,-247.5,-270.0,-270.0],\"yaxis\":\"y\",\"type\":\"scatter\"},{\"hoverinfo\":\"text\",\"marker\":{\"color\":\"rgb(35,205,205)\"},\"mode\":\"lines\",\"x\":[0.0,0.9014605427783756,0.9014605427783756,0.0],\"xaxis\":\"x\",\"y\":[-285.0,-285.0,-295.0,-295.0],\"yaxis\":\"y\",\"type\":\"scatter\"},{\"hoverinfo\":\"text\",\"marker\":{\"color\":\"rgb(0,116,217)\"},\"mode\":\"lines\",\"x\":[1.044268036839356,1.048922693750303,1.048922693750303,0.9014605427783756],\"xaxis\":\"x\",\"y\":[-258.75,-258.75,-290.0,-290.0],\"yaxis\":\"y\",\"type\":\"scatter\"},{\"hoverinfo\":\"text\",\"marker\":{\"color\":\"rgb(0,116,217)\"},\"mode\":\"lines\",\"x\":[0.8421492188227957,1.0754794227606865,1.0754794227606865,1.048922693750303],\"xaxis\":\"x\",\"y\":[-220.0,-220.0,-274.375,-274.375],\"yaxis\":\"y\",\"type\":\"scatter\"},{\"hoverinfo\":\"text\",\"marker\":{\"color\":\"rgb(0,116,217)\"},\"mode\":\"lines\",\"x\":[0.9554080013910409,1.1219361085589428,1.1219361085589428,1.0754794227606865],\"xaxis\":\"x\",\"y\":[-190.0,-190.0,-247.1875,-247.1875],\"yaxis\":\"y\",\"type\":\"scatter\"},{\"hoverinfo\":\"text\",\"marker\":{\"color\":\"rgb(61,153,112)\"},\"mode\":\"lines\",\"x\":[0.0,0.6746887435730244,0.6746887435730244,0.0],\"xaxis\":\"x\",\"y\":[-305.0,-305.0,-315.0,-315.0],\"yaxis\":\"y\",\"type\":\"scatter\"},{\"hoverinfo\":\"text\",\"marker\":{\"color\":\"rgb(255,65,54)\"},\"mode\":\"lines\",\"x\":[0.0,0.8097231132677413,0.8097231132677413,0.0],\"xaxis\":\"x\",\"y\":[-325.0,-325.0,-335.0,-335.0],\"yaxis\":\"y\",\"type\":\"scatter\"},{\"hoverinfo\":\"text\",\"marker\":{\"color\":\"rgb(255,65,54)\"},\"mode\":\"lines\",\"x\":[0.8097231132677413,0.8634759681509795,0.8634759681509795,0.0],\"xaxis\":\"x\",\"y\":[-330.0,-330.0,-345.0,-345.0],\"yaxis\":\"y\",\"type\":\"scatter\"},{\"hoverinfo\":\"text\",\"marker\":{\"color\":\"rgb(35,205,205)\"},\"mode\":\"lines\",\"x\":[0.0,0.9284354287888843,0.9284354287888843,0.0],\"xaxis\":\"x\",\"y\":[-365.0,-365.0,-375.0,-375.0],\"yaxis\":\"y\",\"type\":\"scatter\"},{\"hoverinfo\":\"text\",\"marker\":{\"color\":\"rgb(35,205,205)\"},\"mode\":\"lines\",\"x\":[0.0,0.9899307744189882,0.9899307744189882,0.9284354287888843],\"xaxis\":\"x\",\"y\":[-355.0,-355.0,-370.0,-370.0],\"yaxis\":\"y\",\"type\":\"scatter\"},{\"hoverinfo\":\"text\",\"marker\":{\"color\":\"rgb(133,20,75)\"},\"mode\":\"lines\",\"x\":[0.0,0.8274947302724452,0.8274947302724452,0.0],\"xaxis\":\"x\",\"y\":[-385.0,-385.0,-395.0,-395.0],\"yaxis\":\"y\",\"type\":\"scatter\"},{\"hoverinfo\":\"text\",\"marker\":{\"color\":\"rgb(133,20,75)\"},\"mode\":\"lines\",\"x\":[0.0,0.8845888198358968,0.8845888198358968,0.0],\"xaxis\":\"x\",\"y\":[-415.0,-415.0,-425.0,-425.0],\"yaxis\":\"y\",\"type\":\"scatter\"},{\"hoverinfo\":\"text\",\"marker\":{\"color\":\"rgb(133,20,75)\"},\"mode\":\"lines\",\"x\":[0.0,0.9103244946053086,0.9103244946053086,0.8845888198358968],\"xaxis\":\"x\",\"y\":[-405.0,-405.0,-420.0,-420.0],\"yaxis\":\"y\",\"type\":\"scatter\"},{\"hoverinfo\":\"text\",\"marker\":{\"color\":\"rgb(133,20,75)\"},\"mode\":\"lines\",\"x\":[0.8274947302724452,0.9457244452647143,0.9457244452647143,0.9103244946053086],\"xaxis\":\"x\",\"y\":[-390.0,-390.0,-412.5,-412.5],\"yaxis\":\"y\",\"type\":\"scatter\"},{\"hoverinfo\":\"text\",\"marker\":{\"color\":\"rgb(133,20,75)\"},\"mode\":\"lines\",\"x\":[0.0,0.8448182071104413,0.8448182071104413,0.0],\"xaxis\":\"x\",\"y\":[-435.0,-435.0,-445.0,-445.0],\"yaxis\":\"y\",\"type\":\"scatter\"},{\"hoverinfo\":\"text\",\"marker\":{\"color\":\"rgb(133,20,75)\"},\"mode\":\"lines\",\"x\":[0.9457244452647143,0.9846362074497562,0.9846362074497562,0.8448182071104413],\"xaxis\":\"x\",\"y\":[-401.25,-401.25,-440.0,-440.0],\"yaxis\":\"y\",\"type\":\"scatter\"},{\"hoverinfo\":\"text\",\"marker\":{\"color\":\"rgb(0,116,217)\"},\"mode\":\"lines\",\"x\":[0.9899307744189882,1.0258598085155286,1.0258598085155286,0.9846362074497562],\"xaxis\":\"x\",\"y\":[-362.5,-362.5,-420.625,-420.625],\"yaxis\":\"y\",\"type\":\"scatter\"},{\"hoverinfo\":\"text\",\"marker\":{\"color\":\"rgb(255,220,0)\"},\"mode\":\"lines\",\"x\":[0.0,0.8335870013603388,0.8335870013603388,0.0],\"xaxis\":\"x\",\"y\":[-465.0,-465.0,-475.0,-475.0],\"yaxis\":\"y\",\"type\":\"scatter\"},{\"hoverinfo\":\"text\",\"marker\":{\"color\":\"rgb(255,220,0)\"},\"mode\":\"lines\",\"x\":[0.8335870013603388,0.9197733024205359,0.9197733024205359,0.0],\"xaxis\":\"x\",\"y\":[-470.0,-470.0,-485.0,-485.0],\"yaxis\":\"y\",\"type\":\"scatter\"},{\"hoverinfo\":\"text\",\"marker\":{\"color\":\"rgb(255,220,0)\"},\"mode\":\"lines\",\"x\":[0.0,0.9515217200545562,0.9515217200545562,0.9197733024205359],\"xaxis\":\"x\",\"y\":[-455.0,-455.0,-477.5,-477.5],\"yaxis\":\"y\",\"type\":\"scatter\"},{\"hoverinfo\":\"text\",\"marker\":{\"color\":\"rgb(255,220,0)\"},\"mode\":\"lines\",\"x\":[0.0,0.9558982414083679,0.9558982414083679,0.0],\"xaxis\":\"x\",\"y\":[-495.0,-495.0,-505.0,-505.0],\"yaxis\":\"y\",\"type\":\"scatter\"},{\"hoverinfo\":\"text\",\"marker\":{\"color\":\"rgb(255,220,0)\"},\"mode\":\"lines\",\"x\":[0.9515217200545562,0.9824383671133327,0.9824383671133327,0.9558982414083679],\"xaxis\":\"x\",\"y\":[-466.25,-466.25,-500.0,-500.0],\"yaxis\":\"y\",\"type\":\"scatter\"},{\"hoverinfo\":\"text\",\"marker\":{\"color\":\"rgb(0,116,217)\"},\"mode\":\"lines\",\"x\":[1.0258598085155286,1.0479228589606313,1.0479228589606313,0.9824383671133327],\"xaxis\":\"x\",\"y\":[-391.5625,-391.5625,-483.125,-483.125],\"yaxis\":\"y\",\"type\":\"scatter\"},{\"hoverinfo\":\"text\",\"marker\":{\"color\":\"rgb(0,116,217)\"},\"mode\":\"lines\",\"x\":[0.8634759681509795,1.0861814309408129,1.0861814309408129,1.0479228589606313],\"xaxis\":\"x\",\"y\":[-337.5,-337.5,-437.34375,-437.34375],\"yaxis\":\"y\",\"type\":\"scatter\"},{\"hoverinfo\":\"text\",\"marker\":{\"color\":\"rgb(0,116,217)\"},\"mode\":\"lines\",\"x\":[0.6746887435730244,1.1273232297931703,1.1273232297931703,1.0861814309408129],\"xaxis\":\"x\",\"y\":[-310.0,-310.0,-387.421875,-387.421875],\"yaxis\":\"y\",\"type\":\"scatter\"},{\"hoverinfo\":\"text\",\"marker\":{\"color\":\"rgb(40,35,35)\"},\"mode\":\"lines\",\"x\":[0.0,0.7641527951623251,0.7641527951623251,0.0],\"xaxis\":\"x\",\"y\":[-515.0,-515.0,-525.0,-525.0],\"yaxis\":\"y\",\"type\":\"scatter\"},{\"hoverinfo\":\"text\",\"marker\":{\"color\":\"rgb(61,153,112)\"},\"mode\":\"lines\",\"x\":[0.0,0.7706261525193066,0.7706261525193066,0.0],\"xaxis\":\"x\",\"y\":[-545.0,-545.0,-555.0,-555.0],\"yaxis\":\"y\",\"type\":\"scatter\"},{\"hoverinfo\":\"text\",\"marker\":{\"color\":\"rgb(61,153,112)\"},\"mode\":\"lines\",\"x\":[0.0,0.9617074304062269,0.9617074304062269,0.7706261525193066],\"xaxis\":\"x\",\"y\":[-535.0,-535.0,-550.0,-550.0],\"yaxis\":\"y\",\"type\":\"scatter\"},{\"hoverinfo\":\"text\",\"marker\":{\"color\":\"rgb(0,116,217)\"},\"mode\":\"lines\",\"x\":[0.7641527951623251,1.050318223471848,1.050318223471848,0.9617074304062269],\"xaxis\":\"x\",\"y\":[-520.0,-520.0,-542.5,-542.5],\"yaxis\":\"y\",\"type\":\"scatter\"},{\"hoverinfo\":\"text\",\"marker\":{\"color\":\"rgb(0,116,217)\"},\"mode\":\"lines\",\"x\":[1.1273232297931703,1.1688252482149235,1.1688252482149235,1.050318223471848],\"xaxis\":\"x\",\"y\":[-348.7109375,-348.7109375,-531.25,-531.25],\"yaxis\":\"y\",\"type\":\"scatter\"},{\"hoverinfo\":\"text\",\"marker\":{\"color\":\"rgb(0,116,217)\"},\"mode\":\"lines\",\"x\":[1.1219361085589428,1.1849010224391032,1.1849010224391032,1.1688252482149235],\"xaxis\":\"x\",\"y\":[-218.59375,-218.59375,-439.98046875,-439.98046875],\"yaxis\":\"y\",\"type\":\"scatter\"},{\"hoverinfo\":\"text\",\"marker\":{\"color\":\"rgb(0,116,217)\"},\"mode\":\"lines\",\"x\":[1.2059245365885194,1.227304396048204,1.227304396048204,1.1849010224391032],\"xaxis\":\"x\",\"y\":[-143.125,-143.125,-329.287109375,-329.287109375],\"yaxis\":\"y\",\"type\":\"scatter\"},{\"hoverinfo\":\"text\",\"marker\":{\"color\":\"rgb(255,65,54)\"},\"mode\":\"lines\",\"x\":[0.0,0.6180990952915488,0.6180990952915488,0.0],\"xaxis\":\"x\",\"y\":[-565.0,-565.0,-575.0,-575.0],\"yaxis\":\"y\",\"type\":\"scatter\"},{\"hoverinfo\":\"text\",\"marker\":{\"color\":\"rgb(0,116,217)\"},\"mode\":\"lines\",\"x\":[1.227304396048204,1.2694507354345461,1.2694507354345461,0.6180990952915488],\"xaxis\":\"x\",\"y\":[-236.2060546875,-236.2060546875,-570.0,-570.0],\"yaxis\":\"y\",\"type\":\"scatter\"},{\"hoverinfo\":\"text\",\"marker\":{\"color\":\"rgb(0,116,217)\"},\"mode\":\"lines\",\"x\":[0.8093040919986557,1.3503494737982833,1.3503494737982833,1.2694507354345461],\"xaxis\":\"x\",\"y\":[-53.59375,-53.59375,-403.10302734375,-403.10302734375],\"yaxis\":\"y\",\"type\":\"scatter\"},{\"hoverinfo\":\"text\",\"marker\":{\"color\":\"rgb(35,205,205)\"},\"mode\":\"lines\",\"x\":[0.0,0.4728213338627766,0.4728213338627766,0.0],\"xaxis\":\"x\",\"y\":[-585.0,-585.0,-595.0,-595.0],\"yaxis\":\"y\",\"type\":\"scatter\"},{\"hoverinfo\":\"text\",\"marker\":{\"color\":\"rgb(35,205,205)\"},\"mode\":\"lines\",\"x\":[0.4728213338627766,0.9132644788243668,0.9132644788243668,0.0],\"xaxis\":\"x\",\"y\":[-590.0,-590.0,-605.0,-605.0],\"yaxis\":\"y\",\"type\":\"scatter\"},{\"hoverinfo\":\"text\",\"marker\":{\"color\":\"rgb(0,116,217)\"},\"mode\":\"lines\",\"x\":[1.3503494737982833,1.3694996282451795,1.3694996282451795,0.9132644788243668],\"xaxis\":\"x\",\"y\":[-228.348388671875,-228.348388671875,-597.5,-597.5],\"yaxis\":\"y\",\"type\":\"scatter\"},{\"hoverinfo\":\"text\",\"marker\":{\"color\":\"rgb(0,116,217)\"},\"mode\":\"lines\",\"x\":[0.051224034382332584,1.4435855791988146,1.4435855791988146,1.3694996282451795],\"xaxis\":\"x\",\"y\":[-10.0,-10.0,-412.9241943359375,-412.9241943359375],\"yaxis\":\"y\",\"type\":\"scatter\"},{\"hoverinfo\":\"text\",\"marker\":{\"color\":\"rgb(61,153,112)\"},\"mode\":\"lines\",\"x\":[0.0,0.2879983077015925,0.2879983077015925,0.0],\"xaxis\":\"x\",\"y\":[-625.0,-625.0,-635.0,-635.0],\"yaxis\":\"y\",\"type\":\"scatter\"},{\"hoverinfo\":\"text\",\"marker\":{\"color\":\"rgb(61,153,112)\"},\"mode\":\"lines\",\"x\":[0.0,0.6388494301361117,0.6388494301361117,0.2879983077015925],\"xaxis\":\"x\",\"y\":[-615.0,-615.0,-630.0,-630.0],\"yaxis\":\"y\",\"type\":\"scatter\"},{\"hoverinfo\":\"text\",\"marker\":{\"color\":\"rgb(0,116,217)\"},\"mode\":\"lines\",\"x\":[1.4435855791988146,1.4883638441109257,1.4883638441109257,0.6388494301361117],\"xaxis\":\"x\",\"y\":[-211.46209716796875,-211.46209716796875,-622.5,-622.5],\"yaxis\":\"y\",\"type\":\"scatter\"},{\"hoverinfo\":\"text\",\"marker\":{\"color\":\"rgb(255,65,54)\"},\"mode\":\"lines\",\"x\":[0.0,0.33878087819822433,0.33878087819822433,0.0],\"xaxis\":\"x\",\"y\":[-655.0,-655.0,-665.0,-665.0],\"yaxis\":\"y\",\"type\":\"scatter\"},{\"hoverinfo\":\"text\",\"marker\":{\"color\":\"rgb(255,65,54)\"},\"mode\":\"lines\",\"x\":[0.0,0.44303571037223455,0.44303571037223455,0.33878087819822433],\"xaxis\":\"x\",\"y\":[-645.0,-645.0,-660.0,-660.0],\"yaxis\":\"y\",\"type\":\"scatter\"},{\"hoverinfo\":\"text\",\"marker\":{\"color\":\"rgb(0,116,217)\"},\"mode\":\"lines\",\"x\":[1.4883638441109257,1.5541782038747562,1.5541782038747562,0.44303571037223455],\"xaxis\":\"x\",\"y\":[-416.9810485839844,-416.9810485839844,-652.5,-652.5],\"yaxis\":\"y\",\"type\":\"scatter\"},{\"hoverinfo\":\"text\",\"marker\":{\"color\":\"rgb(35,205,205)\"},\"mode\":\"lines\",\"x\":[0.0,0.19506134721096735,0.19506134721096735,0.0],\"xaxis\":\"x\",\"y\":[-675.0,-675.0,-685.0,-685.0],\"yaxis\":\"y\",\"type\":\"scatter\"},{\"hoverinfo\":\"text\",\"marker\":{\"color\":\"rgb(35,205,205)\"},\"mode\":\"lines\",\"x\":[0.19506134721096735,0.3505508711482848,0.3505508711482848,0.0],\"xaxis\":\"x\",\"y\":[-680.0,-680.0,-695.0,-695.0],\"yaxis\":\"y\",\"type\":\"scatter\"},{\"hoverinfo\":\"text\",\"marker\":{\"color\":\"rgb(35,205,205)\"},\"mode\":\"lines\",\"x\":[0.3505508711482848,0.6062599467362066,0.6062599467362066,0.0],\"xaxis\":\"x\",\"y\":[-687.5,-687.5,-705.0,-705.0],\"yaxis\":\"y\",\"type\":\"scatter\"},{\"hoverinfo\":\"text\",\"marker\":{\"color\":\"rgb(133,20,75)\"},\"mode\":\"lines\",\"x\":[0.0,0.5694933457931106,0.5694933457931106,0.0],\"xaxis\":\"x\",\"y\":[-725.0,-725.0,-735.0,-735.0],\"yaxis\":\"y\",\"type\":\"scatter\"},{\"hoverinfo\":\"text\",\"marker\":{\"color\":\"rgb(133,20,75)\"},\"mode\":\"lines\",\"x\":[0.0,0.34307750157761974,0.34307750157761974,0.0],\"xaxis\":\"x\",\"y\":[-745.0,-745.0,-755.0,-755.0],\"yaxis\":\"y\",\"type\":\"scatter\"},{\"hoverinfo\":\"text\",\"marker\":{\"color\":\"rgb(133,20,75)\"},\"mode\":\"lines\",\"x\":[0.5694933457931106,0.7696601091931323,0.7696601091931323,0.34307750157761974],\"xaxis\":\"x\",\"y\":[-730.0,-730.0,-750.0,-750.0],\"yaxis\":\"y\",\"type\":\"scatter\"},{\"hoverinfo\":\"text\",\"marker\":{\"color\":\"rgb(133,20,75)\"},\"mode\":\"lines\",\"x\":[0.0,0.8714427115926003,0.8714427115926003,0.7696601091931323],\"xaxis\":\"x\",\"y\":[-715.0,-715.0,-740.0,-740.0],\"yaxis\":\"y\",\"type\":\"scatter\"},{\"hoverinfo\":\"text\",\"marker\":{\"color\":\"rgb(255,220,0)\"},\"mode\":\"lines\",\"x\":[0.0,0.49204507724217916,0.49204507724217916,0.0],\"xaxis\":\"x\",\"y\":[-765.0,-765.0,-775.0,-775.0],\"yaxis\":\"y\",\"type\":\"scatter\"},{\"hoverinfo\":\"text\",\"marker\":{\"color\":\"rgb(0,116,217)\"},\"mode\":\"lines\",\"x\":[0.8714427115926003,1.155892197827154,1.155892197827154,0.49204507724217916],\"xaxis\":\"x\",\"y\":[-727.5,-727.5,-770.0,-770.0],\"yaxis\":\"y\",\"type\":\"scatter\"},{\"hoverinfo\":\"text\",\"marker\":{\"color\":\"rgb(0,116,217)\"},\"mode\":\"lines\",\"x\":[0.6062599467362066,1.8151630922139537,1.8151630922139537,1.155892197827154],\"xaxis\":\"x\",\"y\":[-696.25,-696.25,-748.75,-748.75],\"yaxis\":\"y\",\"type\":\"scatter\"},{\"hoverinfo\":\"text\",\"marker\":{\"color\":\"rgb(0,116,217)\"},\"mode\":\"lines\",\"x\":[1.5541782038747562,1.868344255914253,1.868344255914253,1.8151630922139537],\"xaxis\":\"x\",\"y\":[-534.7405242919922,-534.7405242919922,-722.5,-722.5],\"yaxis\":\"y\",\"type\":\"scatter\"}],                        {\"autosize\":false,\"height\":1370,\"hovermode\":\"closest\",\"showlegend\":false,\"width\":1000,\"xaxis\":{\"mirror\":\"allticks\",\"rangemode\":\"tozero\",\"showgrid\":false,\"showline\":true,\"showticklabels\":true,\"ticks\":\"outside\",\"type\":\"linear\",\"zeroline\":false},\"yaxis\":{\"mirror\":\"allticks\",\"rangemode\":\"tozero\",\"showgrid\":false,\"showline\":true,\"showticklabels\":true,\"tickmode\":\"array\",\"ticks\":\"outside\",\"ticktext\":[\"43_ingatlah__\",\"22_ingatlah_kisah_dan\",\"5_datang_datanglah_tatkala\",\"10_penghuni_pengikut_penget...\",\"12_allah_selain_mereka\",\"2_mereka_tidak_azab\",\"0_orang_kafir_yang\",\"1_telah_kami_sesungguhnya\",\"8_bagi_dikehendaki_allah\",\"11_memberi_balasan_memberikan\",\"49_beginilah_kalau_kehendaki\",\"64_berfirman_turunlah_allah\",\"53_berfirman_katakanlah_dag...\",\"19_katakanlah_allah_samping\",\"37_katakanlah_terangkanlah_...\",\"6_demikian_terdapat_demikia...\",\"57_demikianlah_demikian_bukan\",\"46_pemurah_maha_tuhan\",\"72_tinggi_ghaib_nampak\",\"13_bumi_langit_lah\",\"14_keduanya_kedua_antara\",\"18_air_mata_taman\",\"31_bunga_gadis_bantal\",\"3___\",\"41_miim_alif_laam\",\"47_bapakku_wahai_ditiuplah\",\"55_gunung_harta_anak\",\"66_rampasan_harta_benda\",\"28_apabila_bulan_bintang\",\"39_ayat_dibacakan_apabila\",\"61_musa_ibu_lembaran\",\"71_musa_sapi_betina\",\"60_mengampuni_sesungguhnya_...\",\"33_tuhanmu_sesungguhnya_tau...\",\"59_disebutkan_adalah_ini\",\"26_dustakan_manakah_nikmat\",\"24_bertakwalah_taatlah_kepa...\",\"75_menyebut_bertasbihlah_bu...\",\"42_penyembah_sembah_apa\",\"27_bapaknya_kaumnya_berkata\",\"63_sujudlah_adam_takhta\",\"52_mengapa_berhala_diam\",\"32_diutus_kepercayaan_seorang\",\"4_quran_al_kitab\",\"51_menurunkan_menurunkannya...\",\"29_batas_melampaui_batu\",\"9_bagi_besarlah_kecelakaan\",\"15_jika_mendustakan_perangi...\",\"56_biarkan_tunggulah_menunggu\",\"62_tiap_berjiwa_merasakan\",\"21_golongan_kanan_bersekutu\",\"67_tahukah_kiamat_hari\",\"38_hari_pada_pembalasan\",\"45_yusuf_mesir_ke\",\"16_neraka_tempat_jahannam\",\"25_api_neraka_nyala\",\"58_demi_rombongan_shaf\",\"76_nun_shaad_demi\",\"50_barangsiapa_ketentuan_mu...\",\"30_barangsiapa_mengerjakan_...\",\"36_saleh_beramal_amal\",\"54_penyayang_dialah_maha\",\"20_dialah_menciptakan_nya\",\"74_dialah_tiada_allah\",\"34_sekali_kali_sekalian\",\"68_sekali_kali_jangan\",\"77_kali_sekali_penyembahan\",\"73_ya_tuhanku_musa\",\"44_ya_tuhanku_berkata\",\"40_ya_tuhan_tuhanku\",\"70_ya_ayah_wahai\",\"65_ahli_kitab_hai\",\"35_nabi_hai_adam\",\"7_hai_beriman_orang\",\"23_hai_kaumku_berkata\",\"69_kaumku_hai_herkata\",\"48_manusia_hai_sekalian\",\"17_manusia_antara_menciptakan\"],\"tickvals\":[-5.0,-15.0,-25.0,-35.0,-45.0,-55.0,-65.0,-75.0,-85.0,-95.0,-105.0,-115.0,-125.0,-135.0,-145.0,-155.0,-165.0,-175.0,-185.0,-195.0,-205.0,-215.0,-225.0,-235.0,-245.0,-255.0,-265.0,-275.0,-285.0,-295.0,-305.0,-315.0,-325.0,-335.0,-345.0,-355.0,-365.0,-375.0,-385.0,-395.0,-405.0,-415.0,-425.0,-435.0,-445.0,-455.0,-465.0,-475.0,-485.0,-495.0,-505.0,-515.0,-525.0,-535.0,-545.0,-555.0,-565.0,-575.0,-585.0,-595.0,-605.0,-615.0,-625.0,-635.0,-645.0,-655.0,-665.0,-675.0,-685.0,-695.0,-705.0,-715.0,-725.0,-735.0,-745.0,-755.0,-765.0,-775.0],\"type\":\"linear\",\"zeroline\":false,\"range\":[-780.0,0.0]},\"template\":{\"data\":{\"barpolar\":[{\"marker\":{\"line\":{\"color\":\"white\",\"width\":0.5},\"pattern\":{\"fillmode\":\"overlay\",\"size\":10,\"solidity\":0.2}},\"type\":\"barpolar\"}],\"bar\":[{\"error_x\":{\"color\":\"#2a3f5f\"},\"error_y\":{\"color\":\"#2a3f5f\"},\"marker\":{\"line\":{\"color\":\"white\",\"width\":0.5},\"pattern\":{\"fillmode\":\"overlay\",\"size\":10,\"solidity\":0.2}},\"type\":\"bar\"}],\"carpet\":[{\"aaxis\":{\"endlinecolor\":\"#2a3f5f\",\"gridcolor\":\"#C8D4E3\",\"linecolor\":\"#C8D4E3\",\"minorgridcolor\":\"#C8D4E3\",\"startlinecolor\":\"#2a3f5f\"},\"baxis\":{\"endlinecolor\":\"#2a3f5f\",\"gridcolor\":\"#C8D4E3\",\"linecolor\":\"#C8D4E3\",\"minorgridcolor\":\"#C8D4E3\",\"startlinecolor\":\"#2a3f5f\"},\"type\":\"carpet\"}],\"choropleth\":[{\"colorbar\":{\"outlinewidth\":0,\"ticks\":\"\"},\"type\":\"choropleth\"}],\"contourcarpet\":[{\"colorbar\":{\"outlinewidth\":0,\"ticks\":\"\"},\"type\":\"contourcarpet\"}],\"contour\":[{\"colorbar\":{\"outlinewidth\":0,\"ticks\":\"\"},\"colorscale\":[[0.0,\"#0d0887\"],[0.1111111111111111,\"#46039f\"],[0.2222222222222222,\"#7201a8\"],[0.3333333333333333,\"#9c179e\"],[0.4444444444444444,\"#bd3786\"],[0.5555555555555556,\"#d8576b\"],[0.6666666666666666,\"#ed7953\"],[0.7777777777777778,\"#fb9f3a\"],[0.8888888888888888,\"#fdca26\"],[1.0,\"#f0f921\"]],\"type\":\"contour\"}],\"heatmapgl\":[{\"colorbar\":{\"outlinewidth\":0,\"ticks\":\"\"},\"colorscale\":[[0.0,\"#0d0887\"],[0.1111111111111111,\"#46039f\"],[0.2222222222222222,\"#7201a8\"],[0.3333333333333333,\"#9c179e\"],[0.4444444444444444,\"#bd3786\"],[0.5555555555555556,\"#d8576b\"],[0.6666666666666666,\"#ed7953\"],[0.7777777777777778,\"#fb9f3a\"],[0.8888888888888888,\"#fdca26\"],[1.0,\"#f0f921\"]],\"type\":\"heatmapgl\"}],\"heatmap\":[{\"colorbar\":{\"outlinewidth\":0,\"ticks\":\"\"},\"colorscale\":[[0.0,\"#0d0887\"],[0.1111111111111111,\"#46039f\"],[0.2222222222222222,\"#7201a8\"],[0.3333333333333333,\"#9c179e\"],[0.4444444444444444,\"#bd3786\"],[0.5555555555555556,\"#d8576b\"],[0.6666666666666666,\"#ed7953\"],[0.7777777777777778,\"#fb9f3a\"],[0.8888888888888888,\"#fdca26\"],[1.0,\"#f0f921\"]],\"type\":\"heatmap\"}],\"histogram2dcontour\":[{\"colorbar\":{\"outlinewidth\":0,\"ticks\":\"\"},\"colorscale\":[[0.0,\"#0d0887\"],[0.1111111111111111,\"#46039f\"],[0.2222222222222222,\"#7201a8\"],[0.3333333333333333,\"#9c179e\"],[0.4444444444444444,\"#bd3786\"],[0.5555555555555556,\"#d8576b\"],[0.6666666666666666,\"#ed7953\"],[0.7777777777777778,\"#fb9f3a\"],[0.8888888888888888,\"#fdca26\"],[1.0,\"#f0f921\"]],\"type\":\"histogram2dcontour\"}],\"histogram2d\":[{\"colorbar\":{\"outlinewidth\":0,\"ticks\":\"\"},\"colorscale\":[[0.0,\"#0d0887\"],[0.1111111111111111,\"#46039f\"],[0.2222222222222222,\"#7201a8\"],[0.3333333333333333,\"#9c179e\"],[0.4444444444444444,\"#bd3786\"],[0.5555555555555556,\"#d8576b\"],[0.6666666666666666,\"#ed7953\"],[0.7777777777777778,\"#fb9f3a\"],[0.8888888888888888,\"#fdca26\"],[1.0,\"#f0f921\"]],\"type\":\"histogram2d\"}],\"histogram\":[{\"marker\":{\"pattern\":{\"fillmode\":\"overlay\",\"size\":10,\"solidity\":0.2}},\"type\":\"histogram\"}],\"mesh3d\":[{\"colorbar\":{\"outlinewidth\":0,\"ticks\":\"\"},\"type\":\"mesh3d\"}],\"parcoords\":[{\"line\":{\"colorbar\":{\"outlinewidth\":0,\"ticks\":\"\"}},\"type\":\"parcoords\"}],\"pie\":[{\"automargin\":true,\"type\":\"pie\"}],\"scatter3d\":[{\"line\":{\"colorbar\":{\"outlinewidth\":0,\"ticks\":\"\"}},\"marker\":{\"colorbar\":{\"outlinewidth\":0,\"ticks\":\"\"}},\"type\":\"scatter3d\"}],\"scattercarpet\":[{\"marker\":{\"colorbar\":{\"outlinewidth\":0,\"ticks\":\"\"}},\"type\":\"scattercarpet\"}],\"scattergeo\":[{\"marker\":{\"colorbar\":{\"outlinewidth\":0,\"ticks\":\"\"}},\"type\":\"scattergeo\"}],\"scattergl\":[{\"marker\":{\"colorbar\":{\"outlinewidth\":0,\"ticks\":\"\"}},\"type\":\"scattergl\"}],\"scattermapbox\":[{\"marker\":{\"colorbar\":{\"outlinewidth\":0,\"ticks\":\"\"}},\"type\":\"scattermapbox\"}],\"scatterpolargl\":[{\"marker\":{\"colorbar\":{\"outlinewidth\":0,\"ticks\":\"\"}},\"type\":\"scatterpolargl\"}],\"scatterpolar\":[{\"marker\":{\"colorbar\":{\"outlinewidth\":0,\"ticks\":\"\"}},\"type\":\"scatterpolar\"}],\"scatter\":[{\"fillpattern\":{\"fillmode\":\"overlay\",\"size\":10,\"solidity\":0.2},\"type\":\"scatter\"}],\"scatterternary\":[{\"marker\":{\"colorbar\":{\"outlinewidth\":0,\"ticks\":\"\"}},\"type\":\"scatterternary\"}],\"surface\":[{\"colorbar\":{\"outlinewidth\":0,\"ticks\":\"\"},\"colorscale\":[[0.0,\"#0d0887\"],[0.1111111111111111,\"#46039f\"],[0.2222222222222222,\"#7201a8\"],[0.3333333333333333,\"#9c179e\"],[0.4444444444444444,\"#bd3786\"],[0.5555555555555556,\"#d8576b\"],[0.6666666666666666,\"#ed7953\"],[0.7777777777777778,\"#fb9f3a\"],[0.8888888888888888,\"#fdca26\"],[1.0,\"#f0f921\"]],\"type\":\"surface\"}],\"table\":[{\"cells\":{\"fill\":{\"color\":\"#EBF0F8\"},\"line\":{\"color\":\"white\"}},\"header\":{\"fill\":{\"color\":\"#C8D4E3\"},\"line\":{\"color\":\"white\"}},\"type\":\"table\"}]},\"layout\":{\"annotationdefaults\":{\"arrowcolor\":\"#2a3f5f\",\"arrowhead\":0,\"arrowwidth\":1},\"autotypenumbers\":\"strict\",\"coloraxis\":{\"colorbar\":{\"outlinewidth\":0,\"ticks\":\"\"}},\"colorscale\":{\"diverging\":[[0,\"#8e0152\"],[0.1,\"#c51b7d\"],[0.2,\"#de77ae\"],[0.3,\"#f1b6da\"],[0.4,\"#fde0ef\"],[0.5,\"#f7f7f7\"],[0.6,\"#e6f5d0\"],[0.7,\"#b8e186\"],[0.8,\"#7fbc41\"],[0.9,\"#4d9221\"],[1,\"#276419\"]],\"sequential\":[[0.0,\"#0d0887\"],[0.1111111111111111,\"#46039f\"],[0.2222222222222222,\"#7201a8\"],[0.3333333333333333,\"#9c179e\"],[0.4444444444444444,\"#bd3786\"],[0.5555555555555556,\"#d8576b\"],[0.6666666666666666,\"#ed7953\"],[0.7777777777777778,\"#fb9f3a\"],[0.8888888888888888,\"#fdca26\"],[1.0,\"#f0f921\"]],\"sequentialminus\":[[0.0,\"#0d0887\"],[0.1111111111111111,\"#46039f\"],[0.2222222222222222,\"#7201a8\"],[0.3333333333333333,\"#9c179e\"],[0.4444444444444444,\"#bd3786\"],[0.5555555555555556,\"#d8576b\"],[0.6666666666666666,\"#ed7953\"],[0.7777777777777778,\"#fb9f3a\"],[0.8888888888888888,\"#fdca26\"],[1.0,\"#f0f921\"]]},\"colorway\":[\"#636efa\",\"#EF553B\",\"#00cc96\",\"#ab63fa\",\"#FFA15A\",\"#19d3f3\",\"#FF6692\",\"#B6E880\",\"#FF97FF\",\"#FECB52\"],\"font\":{\"color\":\"#2a3f5f\"},\"geo\":{\"bgcolor\":\"white\",\"lakecolor\":\"white\",\"landcolor\":\"white\",\"showlakes\":true,\"showland\":true,\"subunitcolor\":\"#C8D4E3\"},\"hoverlabel\":{\"align\":\"left\"},\"hovermode\":\"closest\",\"mapbox\":{\"style\":\"light\"},\"paper_bgcolor\":\"white\",\"plot_bgcolor\":\"white\",\"polar\":{\"angularaxis\":{\"gridcolor\":\"#EBF0F8\",\"linecolor\":\"#EBF0F8\",\"ticks\":\"\"},\"bgcolor\":\"white\",\"radialaxis\":{\"gridcolor\":\"#EBF0F8\",\"linecolor\":\"#EBF0F8\",\"ticks\":\"\"}},\"scene\":{\"xaxis\":{\"backgroundcolor\":\"white\",\"gridcolor\":\"#DFE8F3\",\"gridwidth\":2,\"linecolor\":\"#EBF0F8\",\"showbackground\":true,\"ticks\":\"\",\"zerolinecolor\":\"#EBF0F8\"},\"yaxis\":{\"backgroundcolor\":\"white\",\"gridcolor\":\"#DFE8F3\",\"gridwidth\":2,\"linecolor\":\"#EBF0F8\",\"showbackground\":true,\"ticks\":\"\",\"zerolinecolor\":\"#EBF0F8\"},\"zaxis\":{\"backgroundcolor\":\"white\",\"gridcolor\":\"#DFE8F3\",\"gridwidth\":2,\"linecolor\":\"#EBF0F8\",\"showbackground\":true,\"ticks\":\"\",\"zerolinecolor\":\"#EBF0F8\"}},\"shapedefaults\":{\"line\":{\"color\":\"#2a3f5f\"}},\"ternary\":{\"aaxis\":{\"gridcolor\":\"#DFE8F3\",\"linecolor\":\"#A2B1C6\",\"ticks\":\"\"},\"baxis\":{\"gridcolor\":\"#DFE8F3\",\"linecolor\":\"#A2B1C6\",\"ticks\":\"\"},\"bgcolor\":\"white\",\"caxis\":{\"gridcolor\":\"#DFE8F3\",\"linecolor\":\"#A2B1C6\",\"ticks\":\"\"}},\"title\":{\"x\":0.05},\"xaxis\":{\"automargin\":true,\"gridcolor\":\"#EBF0F8\",\"linecolor\":\"#EBF0F8\",\"ticks\":\"\",\"title\":{\"standoff\":15},\"zerolinecolor\":\"#EBF0F8\",\"zerolinewidth\":2},\"yaxis\":{\"automargin\":true,\"gridcolor\":\"#EBF0F8\",\"linecolor\":\"#EBF0F8\",\"ticks\":\"\",\"title\":{\"standoff\":15},\"zerolinecolor\":\"#EBF0F8\",\"zerolinewidth\":2}}},\"title\":{\"font\":{\"size\":22,\"color\":\"Black\"},\"text\":\"\\u003cb\\u003eHierarchical Clustering\\u003c\\u002fb\\u003e\",\"x\":0.5,\"xanchor\":\"center\",\"yanchor\":\"top\"},\"hoverlabel\":{\"font\":{\"size\":16,\"family\":\"Rockwell\"},\"bgcolor\":\"white\"},\"plot_bgcolor\":\"#ECEFF1\"},                        {\"responsive\": true}                    ).then(function(){\n",
              "                            \n",
              "var gd = document.getElementById('50cbffcc-8b4e-47e4-a9d1-1b1f580a73d9');\n",
              "var x = new MutationObserver(function (mutations, observer) {{\n",
              "        var display = window.getComputedStyle(gd).display;\n",
              "        if (!display || display === 'none') {{\n",
              "            console.log([gd, 'removed!']);\n",
              "            Plotly.purge(gd);\n",
              "            observer.disconnect();\n",
              "        }}\n",
              "}});\n",
              "\n",
              "// Listen for the removal of the full notebook cells\n",
              "var notebookContainer = gd.closest('#notebook-container');\n",
              "if (notebookContainer) {{\n",
              "    x.observe(notebookContainer, {childList: true});\n",
              "}}\n",
              "\n",
              "// Listen for the clearing of the current output cell\n",
              "var outputEl = gd.closest('.output');\n",
              "if (outputEl) {{\n",
              "    x.observe(outputEl, {childList: true});\n",
              "}}\n",
              "\n",
              "                        })                };                            </script>        </div>\n",
              "</body>\n",
              "</html>"
            ]
          },
          "metadata": {}
        }
      ]
    },
    {
      "cell_type": "code",
      "source": [
        "model.visualize_term_rank()"
      ],
      "metadata": {
        "colab": {
          "base_uri": "https://localhost:8080/",
          "height": 517
        },
        "id": "iADoXCQOH84R",
        "outputId": "cf411291-dd9e-4643-cdbc-fee7b228bb02"
      },
      "execution_count": 22,
      "outputs": [
        {
          "output_type": "display_data",
          "data": {
            "text/html": [
              "<html>\n",
              "<head><meta charset=\"utf-8\" /></head>\n",
              "<body>\n",
              "    <div>            <script src=\"https://cdnjs.cloudflare.com/ajax/libs/mathjax/2.7.5/MathJax.js?config=TeX-AMS-MML_SVG\"></script><script type=\"text/javascript\">if (window.MathJax && window.MathJax.Hub && window.MathJax.Hub.Config) {window.MathJax.Hub.Config({SVG: {font: \"STIX-Web\"}});}</script>                <script type=\"text/javascript\">window.PlotlyConfig = {MathJaxConfig: 'local'};</script>\n",
              "        <script charset=\"utf-8\" src=\"https://cdn.plot.ly/plotly-2.24.1.min.js\"></script>                <div id=\"540e1b27-06d5-49b9-bbc1-7f0878e87011\" class=\"plotly-graph-div\" style=\"height:500px; width:800px;\"></div>            <script type=\"text/javascript\">                                    window.PLOTLYENV=window.PLOTLYENV || {};                                    if (document.getElementById(\"540e1b27-06d5-49b9-bbc1-7f0878e87011\")) {                    Plotly.newPlot(                        \"540e1b27-06d5-49b9-bbc1-7f0878e87011\",                        [{\"hovertext\":\"\\u003cb\\u003eTopic -1\\u003c\\u002fb\\u003e:kamu_dan_dia_yang_allah_mereka_tid\",\"line\":{\"color\":\"black\",\"width\":1.5},\"mode\":\"lines+lines\",\"name\":\"\",\"opacity\":0.1,\"x\":[1,2,3,4,5,6,7,8,9,10],\"y\":[0.012200642002479856,0.012031567877667858,0.011937652978377868,0.010937599780363254,0.010821497849246527,0.010410153436308005,0.010392788495979782,0.010354857157763823,0.010097184539802457,0.009440196482984345],\"type\":\"scatter\"},{\"hovertext\":\"\\u003cb\\u003eTopic 0\\u003c\\u002fb\\u003e:orang_kafir_yang_beriman_allah_dan_\",\"line\":{\"color\":\"black\",\"width\":1.5},\"mode\":\"lines+lines\",\"name\":\"\",\"opacity\":0.1,\"x\":[1,2,3,4,5,6,7,8,9,10],\"y\":[0.03964324661044277,0.017651641937613413,0.017061254799157655,0.012434320655799877,0.012138974348304684,0.011985103059198216,0.010188891130868447,0.009968086292125384,0.009535900123224085,0.00942562877474027],\"type\":\"scatter\"},{\"hovertext\":\"\\u003cb\\u003eTopic 1\\u003c\\u002fb\\u003e:telah_kami_sesungguhnya_mereka_rasu\",\"line\":{\"color\":\"black\",\"width\":1.5},\"mode\":\"lines+lines\",\"name\":\"\",\"opacity\":0.1,\"x\":[1,2,3,4,5,6,7,8,9,10],\"y\":[0.04711690355775502,0.018415102689856893,0.013575798330709089,0.012333573471449264,0.011907813931521261,0.011860445122806993,0.011708073360720783,0.01120716631088267,0.010936257591892803,0.00980718881513013],\"type\":\"scatter\"},{\"hovertext\":\"\\u003cb\\u003eTopic 2\\u003c\\u002fb\\u003e:mereka_tidak_azab_maka_di_isteri_ap\",\"line\":{\"color\":\"black\",\"width\":1.5},\"mode\":\"lines+lines\",\"name\":\"\",\"opacity\":0.1,\"x\":[1,2,3,4,5,6,7,8,9,10],\"y\":[0.041116862195247635,0.02218456434133393,0.018898228820476634,0.014892605730709578,0.01426893876206744,0.013753508719603244,0.013052721481826308,0.011191109605338416,0.011031117222839783,0.010555758501970292],\"type\":\"scatter\"},{\"hovertext\":\"\\u003cb\\u003eTopic 3\\u003c\\u002fb\\u003e:_________\",\"line\":{\"color\":\"black\",\"width\":1.5},\"mode\":\"lines+lines\",\"name\":\"\",\"opacity\":0.1,\"x\":[1,2,3,4,5,6,7,8,9,10],\"y\":[1e-05,1e-05,1e-05,1e-05,1e-05,1e-05,1e-05,1e-05,1e-05,1e-05],\"type\":\"scatter\"},{\"hovertext\":\"\\u003cb\\u003eTopic 4\\u003c\\u002fb\\u003e:quran_al_kitab_ini_ayat_menurunkan_\",\"line\":{\"color\":\"black\",\"width\":1.5},\"mode\":\"lines+lines\",\"name\":\"\",\"opacity\":0.1,\"x\":[1,2,3,4,5,6,7,8,9,10],\"y\":[0.11408784011390871,0.10968833701583154,0.029954547997825737,0.02225287157902865,0.019665328372164854,0.01777476886934314,0.017566122839953596,0.016029491966925304,0.014215376037013807,0.01369363288173419],\"type\":\"scatter\"},{\"hovertext\":\"\\u003cb\\u003eTopic 5\\u003c\\u002fb\\u003e:datang_datanglah_tatkala_kepadamu_d\",\"line\":{\"color\":\"black\",\"width\":1.5},\"mode\":\"lines+lines\",\"name\":\"\",\"opacity\":0.1,\"x\":[1,2,3,4,5,6,7,8,9,10],\"y\":[0.1071152394911091,0.02551403828944054,0.02127544234726241,0.02078992229454423,0.02024574678166784,0.018681097754440216,0.017341060503443938,0.016032746845435087,0.014533009226798652,0.014000421268884199],\"type\":\"scatter\"},{\"hovertext\":\"\\u003cb\\u003eTopic 6\\u003c\\u002fb\\u003e:apabila_kiamat_hari_tahukah_bulan_d\",\"line\":{\"color\":\"black\",\"width\":1.5},\"mode\":\"lines+lines\",\"name\":\"\",\"opacity\":0.1,\"x\":[1,2,3,4,5,6,7,8,9,10],\"y\":[0.08936276884871161,0.05219247611018375,0.049118206005065,0.04305778971781852,0.041102848726724484,0.03596000949186587,0.02906575738952622,0.02257990055069082,0.022394630580167045,0.022394630580167045],\"type\":\"scatter\"},{\"hovertext\":\"\\u003cb\\u003eTopic 7\\u003c\\u002fb\\u003e:demikian_terdapat_demikianlah_adala\",\"line\":{\"color\":\"black\",\"width\":1.5},\"mode\":\"lines+lines\",\"name\":\"\",\"opacity\":0.1,\"x\":[1,2,3,4,5,6,7,8,9,10],\"y\":[0.11288672325424366,0.034674110752540906,0.030923183997440352,0.02983032081729353,0.02806159003550994,0.02674589067863565,0.023675812026349063,0.022521596114842224,0.019092462852507083,0.01813539232802791],\"type\":\"scatter\"},{\"hovertext\":\"\\u003cb\\u003eTopic 8\\u003c\\u002fb\\u003e:hai_beriman_orang_yang_wahai_berkem\",\"line\":{\"color\":\"black\",\"width\":1.5},\"mode\":\"lines+lines\",\"name\":\"\",\"opacity\":0.1,\"x\":[1,2,3,4,5,6,7,8,9,10],\"y\":[0.29118314634029047,0.24626900646273062,0.11132857946767229,0.03623133941238688,0.026154429073985713,0.015290457026981733,0.01515270582199335,0.013762496083263513,0.013762496083263513,0.013762496083263513],\"type\":\"scatter\"},{\"hovertext\":\"\\u003cb\\u003eTopic 9\\u003c\\u002fb\\u003e:allah_berfirman_mereka_selain_menye\",\"line\":{\"color\":\"black\",\"width\":1.5},\"mode\":\"lines+lines\",\"name\":\"\",\"opacity\":0.1,\"x\":[1,2,3,4,5,6,7,8,9,10],\"y\":[0.05890043308868681,0.031234119652541522,0.03081543500011403,0.029139065698241318,0.02241573710758077,0.021959707710497253,0.01933150585560918,0.018749485883503336,0.018622479569786993,0.017932589686064617],\"type\":\"scatter\"},{\"hovertext\":\"\\u003cb\\u003eTopic 10\\u003c\\u002fb\\u003e:bumi_langit_lah_kepunyaan_apa_di_s\",\"line\":{\"color\":\"black\",\"width\":1.5},\"mode\":\"lines+lines\",\"name\":\"\",\"opacity\":0.1,\"x\":[1,2,3,4,5,6,7,8,9,10],\"y\":[0.08276869373149755,0.0767219319923907,0.07239041682496858,0.06587883270686921,0.05671224547485427,0.05533708970711054,0.04407815575256971,0.03730950539552419,0.034224262178494995,0.02867887240201874],\"type\":\"scatter\"},{\"hovertext\":\"\\u003cb\\u003eTopic 11\\u003c\\u002fb\\u003e:besarlah_kecelakaan_bagi_mendustak\",\"line\":{\"color\":\"black\",\"width\":1.5},\"mode\":\"lines+lines\",\"name\":\"\",\"opacity\":0.1,\"x\":[1,2,3,4,5,6,7,8,9,10],\"y\":[0.08148962462982433,0.08042188128142935,0.07846127611158861,0.069006231647999,0.041249295086990496,0.03890761585181577,0.03810058417634589,0.027938373620875586,0.026396408632355865,0.021637765206586758],\"type\":\"scatter\"},{\"hovertext\":\"\\u003cb\\u003eTopic 12\\u003c\\u002fb\\u003e:penghuni_pengikut_pengetahuan_peng\",\"line\":{\"color\":\"black\",\"width\":1.5},\"mode\":\"lines+lines\",\"name\":\"\",\"opacity\":0.1,\"x\":[1,2,3,4,5,6,7,8,9,10],\"y\":[0.06054209579143681,0.051200931626824514,0.03833845693850796,0.03544679881857082,0.029270952942924155,0.0290760218222577,0.02730807542916799,0.021366402420593955,0.020354574579311033,0.016996867432934566],\"type\":\"scatter\"},{\"hovertext\":\"\\u003cb\\u003eTopic 13\\u003c\\u002fb\\u003e:hai_kaumku_berkata_musa_nuh_berfir\",\"line\":{\"color\":\"black\",\"width\":1.5},\"mode\":\"lines+lines\",\"name\":\"\",\"opacity\":0.1,\"x\":[1,2,3,4,5,6,7,8,9,10],\"y\":[0.29573080833853715,0.2579673888224652,0.1353293260399223,0.09753675084898289,0.07678495876411015,0.07004427123242427,0.06786254528255825,0.06718578217478952,0.06518935891254551,0.06055928566040608],\"type\":\"scatter\"},{\"hovertext\":\"\\u003cb\\u003eTopic 14\\u003c\\u002fb\\u003e:jika_mendustakan_berpaling_perangi\",\"line\":{\"color\":\"black\",\"width\":1.5},\"mode\":\"lines+lines\",\"name\":\"\",\"opacity\":0.1,\"x\":[1,2,3,4,5,6,7,8,9,10],\"y\":[0.16394707588900664,0.09550769723452181,0.0800204143686007,0.06910463446126658,0.06579591917532765,0.04317348694820083,0.042025813714726225,0.038548982090352214,0.03609178643141639,0.033527152956286464],\"type\":\"scatter\"},{\"hovertext\":\"\\u003cb\\u003eTopic 15\\u003c\\u002fb\\u003e:neraka_tempat_jahannam_pintu_ke_sa\",\"line\":{\"color\":\"black\",\"width\":1.5},\"mode\":\"lines+lines\",\"name\":\"\",\"opacity\":0.1,\"x\":[1,2,3,4,5,6,7,8,9,10],\"y\":[0.1373582964744509,0.11401551262091585,0.05921031863193905,0.05128775320029308,0.04737749028741303,0.03569244678035693,0.026769335085267694,0.02564387660014654,0.02528115356276499,0.024672774128085096],\"type\":\"scatter\"},{\"hovertext\":\"\\u003cb\\u003eTopic 16\\u003c\\u002fb\\u003e:manusia_antara_untuk_menciptakan_i\",\"line\":{\"color\":\"black\",\"width\":1.5},\"mode\":\"lines+lines\",\"name\":\"\",\"opacity\":0.1,\"x\":[1,2,3,4,5,6,7,8,9,10],\"y\":[0.134979453276763,0.02844492746276307,0.025584683962343993,0.023704169844745496,0.018781057166907447,0.018582446276358782,0.018582446276358782,0.018582446276358782,0.018370834701832726,0.017882182842308882],\"type\":\"scatter\"},{\"hovertext\":\"\\u003cb\\u003eTopic 17\\u003c\\u002fb\\u003e:dialah_menciptakan_menjadikan_nya_\",\"line\":{\"color\":\"black\",\"width\":1.5},\"mode\":\"lines+lines\",\"name\":\"\",\"opacity\":0.1,\"x\":[1,2,3,4,5,6,7,8,9,10],\"y\":[0.17873024735677445,0.04668932866680301,0.03251836998013893,0.031815640283752916,0.028869872893781363,0.027050128699807142,0.024396753048962636,0.02403136932157573,0.023128964319487653,0.022339766107853633],\"type\":\"scatter\"},{\"hovertext\":\"\\u003cb\\u003eTopic 18\\u003c\\u002fb\\u003e:air_mata_taman_mani_minum_panas_ke\",\"line\":{\"color\":\"black\",\"width\":1.5},\"mode\":\"lines+lines\",\"name\":\"\",\"opacity\":0.1,\"x\":[1,2,3,4,5,6,7,8,9,10],\"y\":[0.243524536434262,0.09905015494030285,0.04679581164667743,0.038548982090352214,0.037231139536158,0.03664218413867903,0.03264799473563088,0.02612210775216208,0.02528625740411524,0.02401671977166425],\"type\":\"scatter\"},{\"hovertext\":\"\\u003cb\\u003eTopic 19\\u003c\\u002fb\\u003e:keduanya_kedua_antara_langit_bumi_\",\"line\":{\"color\":\"black\",\"width\":1.5},\"mode\":\"lines+lines\",\"name\":\"\",\"opacity\":0.1,\"x\":[1,2,3,4,5,6,7,8,9,10],\"y\":[0.1412986554330999,0.05531119793992634,0.044274546877034616,0.032879090935721555,0.030414332300389132,0.02853199365144792,0.026202711229420823,0.024848026678079855,0.01880939369031469,0.01871680408986104],\"type\":\"scatter\"},{\"hovertext\":\"\\u003cb\\u003eTopic 20\\u003c\\u002fb\\u003e:golongan_kanan_bersekutu_kiri_lain\",\"line\":{\"color\":\"black\",\"width\":1.5},\"mode\":\"lines+lines\",\"name\":\"\",\"opacity\":0.1,\"x\":[1,2,3,4,5,6,7,8,9,10],\"y\":[0.2902606067566127,0.06035363672177192,0.0373407498492458,0.02705111755984946,0.022306439937505102,0.021875125353397792,0.021875125353397792,0.021875125353397792,0.020856625064866317,0.02053416607039897],\"type\":\"scatter\"},{\"hovertext\":\"\\u003cb\\u003eTopic 21\\u003c\\u002fb\\u003e:ingatlah_kisah_dan_dzun_ayub_yunus\",\"line\":{\"color\":\"black\",\"width\":1.5},\"mode\":\"lines+lines\",\"name\":\"\",\"opacity\":0.1,\"x\":[1,2,3,4,5,6,7,8,9,10],\"y\":[0.8044921818002385,0.197618124237545,0.09529892919639533,0.062401594893898425,0.062401594893898425,0.0561658623938592,0.0561658623938592,0.047937449130788526,0.04630371474208466,0.03874051005789414],\"type\":\"scatter\"},{\"hovertext\":\"\\u003cb\\u003eTopic 22\\u003c\\u002fb\\u003e:bertakwalah_taatlah_kepadaku_kepad\",\"line\":{\"color\":\"black\",\"width\":1.5},\"mode\":\"lines+lines\",\"name\":\"\",\"opacity\":0.1,\"x\":[1,2,3,4,5,6,7,8,9,10],\"y\":[0.1294490384373524,0.12478149193171778,0.05647009535301863,0.050222401736082736,0.047098007882159586,0.04546853614240094,0.04297242405034317,0.034148294985413254,0.0330375781040393,0.027239422160411593],\"type\":\"scatter\"},{\"hovertext\":\"\\u003cb\\u003eTopic 23\\u003c\\u002fb\\u003e:allah_muhammad_seorang_nya_suatu_b\",\"line\":{\"color\":\"black\",\"width\":1.5},\"mode\":\"lines+lines\",\"name\":\"\",\"opacity\":0.1,\"x\":[1,2,3,4,5,6,7,8,9,10],\"y\":[0.026904612315361266,0.024125594624349,0.019356252838330704,0.018930824621562342,0.01771522039858447,0.01610834563291221,0.015559197882219877,0.015524689915708215,0.015062170135595406,0.014284754729304178],\"type\":\"scatter\"},{\"hovertext\":\"\\u003cb\\u003eTopic 24\\u003c\\u002fb\\u003e:api_neraka_nyala_lapisan_menyala_d\",\"line\":{\"color\":\"black\",\"width\":1.5},\"mode\":\"lines+lines\",\"name\":\"\",\"opacity\":0.1,\"x\":[1,2,3,4,5,6,7,8,9,10],\"y\":[0.24986414674872118,0.08099752126257549,0.05157326662540544,0.041994109163967876,0.03509685873500807,0.030233277576804128,0.02608571375418901,0.024119449600864814,0.02361519214287262,0.02361519214287262],\"type\":\"scatter\"},{\"hovertext\":\"\\u003cb\\u003eTopic 25\\u003c\\u002fb\\u003e:musa_ular_sapi_tongkat_lemparkanla\",\"line\":{\"color\":\"black\",\"width\":1.5},\"mode\":\"lines+lines\",\"name\":\"\",\"opacity\":0.1,\"x\":[1,2,3,4,5,6,7,8,9,10],\"y\":[0.16224887075485675,0.03924405245765493,0.03638734397431078,0.035302922070918195,0.03279848037537037,0.030443869850805303,0.02837288908279484,0.028253399222216955,0.024431134966499245,0.022068710533516358],\"type\":\"scatter\"},{\"hovertext\":\"\\u003cb\\u003eTopic 26\\u003c\\u002fb\\u003e:memberi_memberikan_mudharat_tidak_\",\"line\":{\"color\":\"black\",\"width\":1.5},\"mode\":\"lines+lines\",\"name\":\"\",\"opacity\":0.1,\"x\":[1,2,3,4,5,6,7,8,9,10],\"y\":[0.09789532434832379,0.046737784758930395,0.038413395638052295,0.03260438690132631,0.03070959164157887,0.03016914787949932,0.027059223725333814,0.026060626382264338,0.020351782345451475,0.018672864664556862],\"type\":\"scatter\"},{\"hovertext\":\"\\u003cb\\u003eTopic 27\\u003c\\u002fb\\u003e:sesungguhnya_ini_adalah_benar_bang\",\"line\":{\"color\":\"black\",\"width\":1.5},\"mode\":\"lines+lines\",\"name\":\"\",\"opacity\":0.1,\"x\":[1,2,3,4,5,6,7,8,9,10],\"y\":[0.07321254855337773,0.05791843287692389,0.051113369345613675,0.04507533466711053,0.03993099677737367,0.03993099677737367,0.03415436809943284,0.03244638789446807,0.031126219111202006,0.030782465906973786],\"type\":\"scatter\"},{\"hovertext\":\"\\u003cb\\u003eTopic 28\\u003c\\u002fb\\u003e:diutus_kepercayaan_seorang_aku_ses\",\"line\":{\"color\":\"black\",\"width\":1.5},\"mode\":\"lines+lines\",\"name\":\"\",\"opacity\":0.1,\"x\":[1,2,3,4,5,6,7,8,9,10],\"y\":[0.08088144106130876,0.07815889878553597,0.05485282936003435,0.05482137018562241,0.05076960239761163,0.0390872145813064,0.0363566984770741,0.03475374551500789,0.03336085801578386,0.03336085801578386],\"type\":\"scatter\"},{\"hovertext\":\"\\u003cb\\u003eTopic 29\\u003c\\u002fb\\u003e:dustakan_manakah_nikmat_tuhan_kamu\",\"line\":{\"color\":\"black\",\"width\":1.5},\"mode\":\"lines+lines\",\"name\":\"\",\"opacity\":0.1,\"x\":[1,2,3,4,5,6,7,8,9,10],\"y\":[0.3725370975407104,0.3694063671710912,0.2884829123913565,0.1465921496887215,0.10420483607637472,0.10051807709767066,0.04378413768166113,0.02986247650296006,0.01685410237517666,0.011725099967518046],\"type\":\"scatter\"},{\"hovertext\":\"\\u003cb\\u003eTopic 30\\u003c\\u002fb\\u003e:batas_melampaui_batu_kita_tuduhan_\",\"line\":{\"color\":\"black\",\"width\":1.5},\"mode\":\"lines+lines\",\"name\":\"\",\"opacity\":0.1,\"x\":[1,2,3,4,5,6,7,8,9,10],\"y\":[0.16272018581796244,0.14791456142965703,0.0674098016134228,0.033188691958805173,0.02183492707676613,0.02076113262038861,0.020340023227245305,0.018362278869059126,0.01707419843800522,0.016706120660174177],\"type\":\"scatter\"},{\"hovertext\":\"\\u003cb\\u003eTopic 31\\u003c\\u002fb\\u003e:barangsiapa_mengerjakan_amal_saleh\",\"line\":{\"color\":\"black\",\"width\":1.5},\"mode\":\"lines+lines\",\"name\":\"\",\"opacity\":0.1,\"x\":[1,2,3,4,5,6,7,8,9,10],\"y\":[0.2886501440462705,0.1645640213422591,0.11928649132536313,0.09146557010536292,0.07049507847695798,0.06052825947299389,0.053817693297512216,0.053241776190212364,0.04841733938650225,0.04668592751825855],\"type\":\"scatter\"},{\"hovertext\":\"\\u003cb\\u003eTopic 32\\u003c\\u002fb\\u003e:ayat_dibacakan_ancaman_apabila_dah\",\"line\":{\"color\":\"black\",\"width\":1.5},\"mode\":\"lines+lines\",\"name\":\"\",\"opacity\":0.1,\"x\":[1,2,3,4,5,6,7,8,9,10],\"y\":[0.28510958835353184,0.14948243499524153,0.10727025901701766,0.06534683042248425,0.0637152001108478,0.05867466507088582,0.04484473049857246,0.04202224480913313,0.031055560650752975,0.02989648699904831],\"type\":\"scatter\"},{\"hovertext\":\"\\u003cb\\u003eTopic 33\\u003c\\u002fb\\u003e:sujudlah_adam_diwajibkan_dibiarkan\",\"line\":{\"color\":\"black\",\"width\":1.5},\"mode\":\"lines+lines\",\"name\":\"\",\"opacity\":0.1,\"x\":[1,2,3,4,5,6,7,8,9,10],\"y\":[0.07770872536883774,0.05469380682302529,0.054485285322397714,0.054485285322397714,0.054285787380155416,0.05344546055167036,0.05180581691255849,0.04893658234138097,0.04702751451471849,0.04627024802314486],\"type\":\"scatter\"},{\"hovertext\":\"\\u003cb\\u003eTopic 34\\u003c\\u002fb\\u003e:penyembah_sembah_apa_sama_pula_pag\",\"line\":{\"color\":\"black\",\"width\":1.5},\"mode\":\"lines+lines\",\"name\":\"\",\"opacity\":0.1,\"x\":[1,2,3,4,5,6,7,8,9,10],\"y\":[0.07593455355676382,0.063214425742657,0.05470530528110942,0.05275832309126651,0.04438876855872896,0.03701142159747273,0.03701142159747273,0.035341829902321445,0.034816829704893325,0.033272483046448906],\"type\":\"scatter\"},{\"hovertext\":\"\\u003cb\\u003eTopic 35\\u003c\\u002fb\\u003e:beginilah_mengutus_menghendaki_kal\",\"line\":{\"color\":\"black\",\"width\":1.5},\"mode\":\"lines+lines\",\"name\":\"\",\"opacity\":0.1,\"x\":[1,2,3,4,5,6,7,8,9,10],\"y\":[0.16629667228931277,0.15120851044372624,0.14521986166253345,0.11138570586334376,0.10382969428231412,0.07534508426866234,0.06926577033222725,0.06926577033222725,0.062344107257183715,0.05829925529496556],\"type\":\"scatter\"},{\"hovertext\":\"\\u003cb\\u003eTopic 36\\u003c\\u002fb\\u003e:nabi_hai_adam_anak_isteri_anakku_y\",\"line\":{\"color\":\"black\",\"width\":1.5},\"mode\":\"lines+lines\",\"name\":\"\",\"opacity\":0.1,\"x\":[1,2,3,4,5,6,7,8,9,10],\"y\":[0.7260993083126672,0.6390792892061607,0.26009943689172027,0.2185092712767699,0.20538573021274178,0.18477408032145864,0.11544295055371208,0.08868428089195877,0.07166994360710416,0.026642097983051963],\"type\":\"scatter\"},{\"hovertext\":\"\\u003cb\\u003eTopic 37\\u003c\\u002fb\\u003e:saleh_beramal_amal_mengerjakan_ber\",\"line\":{\"color\":\"black\",\"width\":1.5},\"mode\":\"lines+lines\",\"name\":\"\",\"opacity\":0.1,\"x\":[1,2,3,4,5,6,7,8,9,10],\"y\":[0.2776193921583662,0.177099497317123,0.17141118135642613,0.14032502958194704,0.13697826064142593,0.10175891172725737,0.08451522708733171,0.06005160207357834,0.036347539595724336,0.03106088355705258],\"type\":\"scatter\"},{\"hovertext\":\"\\u003cb\\u003eTopic 38\\u003c\\u002fb\\u003e:bunga_bantal_gadis_kebun_manah_gen\",\"line\":{\"color\":\"black\",\"width\":1.5},\"mode\":\"lines+lines\",\"name\":\"\",\"opacity\":0.1,\"x\":[1,2,3,4,5,6,7,8,9,10],\"y\":[0.08833220499237207,0.08398821832793575,0.08398821832793575,0.05713399078735404,0.052474068433505494,0.052474068433505494,0.052474068433505494,0.052474068433505494,0.052474068433505494,0.052474068433505494],\"type\":\"scatter\"},{\"hovertext\":\"\\u003cb\\u003eTopic 39\\u003c\\u002fb\\u003e:tuhanmu_sesungguhnya_tauhid_agama_\",\"line\":{\"color\":\"black\",\"width\":1.5},\"mode\":\"lines+lines\",\"name\":\"\",\"opacity\":0.1,\"x\":[1,2,3,4,5,6,7,8,9,10],\"y\":[0.26382504052488676,0.15065584339384286,0.12891214906148277,0.1276093574589083,0.07164618495793318,0.06778983173833204,0.061872754110668914,0.06121859405951756,0.0579829970060139,0.05508340270456208],\"type\":\"scatter\"},{\"hovertext\":\"\\u003cb\\u003eTopic 40\\u003c\\u002fb\\u003e:demi_malaikat_bukit_mencabut_nyawa\",\"line\":{\"color\":\"black\",\"width\":1.5},\"mode\":\"lines+lines\",\"name\":\"\",\"opacity\":0.1,\"x\":[1,2,3,4,5,6,7,8,9,10],\"y\":[0.5684190588666148,0.11173812483276423,0.08868428089195877,0.08310896237528659,0.0789528772098723,0.07046742666692406,0.06284738986608944,0.05977313968140105,0.05772147527685604,0.05772147527685604],\"type\":\"scatter\"},{\"hovertext\":\"\\u003cb\\u003eTopic 41\\u003c\\u002fb\\u003e:sekali_kali_sekalian_melepaskan_ke\",\"line\":{\"color\":\"black\",\"width\":1.5},\"mode\":\"lines+lines\",\"name\":\"\",\"opacity\":0.1,\"x\":[1,2,3,4,5,6,7,8,9,10],\"y\":[0.15785111748959224,0.10642140803735864,0.07445284740590984,0.051475392811345166,0.04947119368261868,0.037376222095157494,0.03693731661123849,0.03387817836091218,0.03332645736154415,0.0313494242075365],\"type\":\"scatter\"},{\"hovertext\":\"\\u003cb\\u003eTopic 42\\u003c\\u002fb\\u003e:tuhanku_ya_berkata_nuh_iblis_berdo\",\"line\":{\"color\":\"black\",\"width\":1.5},\"mode\":\"lines+lines\",\"name\":\"\",\"opacity\":0.1,\"x\":[1,2,3,4,5,6,7,8,9,10],\"y\":[0.589579937992625,0.561504702850119,0.18537880819105057,0.16687640185950073,0.13816195448602034,0.13463586784676737,0.12093311030721651,0.07736478296919459,0.07160278044883464,0.07084557642861786],\"type\":\"scatter\"},{\"hovertext\":\"\\u003cb\\u003eTopic 43\\u003c\\u002fb\\u003e:mengapa_berhala_pergi_diam_perbuat\",\"line\":{\"color\":\"black\",\"width\":1.5},\"mode\":\"lines+lines\",\"name\":\"\",\"opacity\":0.1,\"x\":[1,2,3,4,5,6,7,8,9,10],\"y\":[0.05692118641839271,0.04930922086968012,0.048566284896794244,0.039312635955123146,0.037875352012042146,0.034860551477164305,0.032461080494579034,0.03213598478382644,0.032020862653236865,0.029680710474987583],\"type\":\"scatter\"},{\"hovertext\":\"\\u003cb\\u003eTopic 44\\u003c\\u002fb\\u003e:janganlah_keuntungan_pasangan_deng\",\"line\":{\"color\":\"black\",\"width\":1.5},\"mode\":\"lines+lines\",\"name\":\"\",\"opacity\":0.1,\"x\":[1,2,3,4,5,6,7,8,9,10],\"y\":[0.044379304587706496,0.03481003659697868,0.031682006722762154,0.026587233539770837,0.026550203126533327,0.026107527447734008,0.025342841403475695,0.023126882183449573,0.022897042547410592,0.021760595901285765],\"type\":\"scatter\"},{\"hovertext\":\"\\u003cb\\u003eTopic 45\\u003c\\u002fb\\u003e:tiap_berjiwa_umat_merasakan_lembar\",\"line\":{\"color\":\"black\",\"width\":1.5},\"mode\":\"lines+lines\",\"name\":\"\",\"opacity\":0.1,\"x\":[1,2,3,4,5,6,7,8,9,10],\"y\":[0.2835531718318528,0.05465555183903021,0.04351004135286866,0.0379945374836556,0.028365296643972995,0.027852005225608382,0.02760537635573124,0.027534606306817623,0.026053758330178707,0.024997801431644293],\"type\":\"scatter\"},{\"hovertext\":\"\\u003cb\\u003eTopic 47\\u003c\\u002fb\\u003e:ya_tuhan_tuhanku_kami_cukup_sama_s\",\"line\":{\"color\":\"black\",\"width\":1.5},\"mode\":\"lines+lines\",\"name\":\"\",\"opacity\":0.1,\"x\":[1,2,3,4,5,6,7,8,9,10],\"y\":[0.85193816984156,0.3639529233651017,0.21298454246039,0.1299053177045902,0.07084385106281471,0.0498020377456352,0.043284520637533866,0.022426096543772072,1e-05,1e-05],\"type\":\"scatter\"},{\"hovertext\":\"\\u003cb\\u003eTopic 48\\u003c\\u002fb\\u003e:katakanlah_terangkanlah_kepadaku_b\",\"line\":{\"color\":\"black\",\"width\":1.5},\"mode\":\"lines+lines\",\"name\":\"\",\"opacity\":0.1,\"x\":[1,2,3,4,5,6,7,8,9,10],\"y\":[0.48042325427460103,0.23839709793666256,0.21124383096211935,0.16303595322481643,0.11277869809520484,0.10094376084357334,0.08573419896318465,0.08151797661240821,0.0782508360811401,0.07333143738995876],\"type\":\"scatter\"},{\"hovertext\":\"\\u003cb\\u003eTopic 49\\u003c\\u002fb\\u003e:bapaknya_aku_ia_sembah_belenggu_in\",\"line\":{\"color\":\"black\",\"width\":1.5},\"mode\":\"lines+lines\",\"name\":\"\",\"opacity\":0.1,\"x\":[1,2,3,4,5,6,7,8,9,10],\"y\":[0.062033122362488265,0.046510683747908364,0.04468826013827978,0.036819040525643304,0.036451860541641116,0.035984297300059025,0.03559920375518265,0.035112883251606386,0.03298369780657339,0.03218757065982751],\"type\":\"scatter\"},{\"hovertext\":\"\\u003cb\\u003eTopic 50\\u003c\\u002fb\\u003e:laki_ghaib_inilah_nampak_tulang_wa\",\"line\":{\"color\":\"black\",\"width\":1.5},\"mode\":\"lines+lines\",\"name\":\"\",\"opacity\":0.1,\"x\":[1,2,3,4,5,6,7,8,9,10],\"y\":[0.12850122102539152,0.0786925211995327,0.07124101102758862,0.0699280589982503,0.06604056440885549,0.06542381679429429,0.06098565908298924,0.057580575075067045,0.05671566439222575,0.04985493898138589],\"type\":\"scatter\"},{\"hovertext\":\"\\u003cb\\u003eTopic 51\\u003c\\u002fb\\u003e:manusia_hai_sekalian_raja_ancaman_\",\"line\":{\"color\":\"black\",\"width\":1.5},\"mode\":\"lines+lines\",\"name\":\"\",\"opacity\":0.1,\"x\":[1,2,3,4,5,6,7,8,9,10],\"y\":[0.7316552082591204,0.5477822478909949,0.15954181586980676,0.11030441316716821,0.0952297197395973,0.09403139976599625,0.07977090793490338,0.054283721266222204,0.030969371417590003,1e-05],\"type\":\"scatter\"},{\"hovertext\":\"\\u003cb\\u003eTopic 52\\u003c\\u002fb\\u003e:barangsiapa_ketentuan_allah_musuh_\",\"line\":{\"color\":\"black\",\"width\":1.5},\"mode\":\"lines+lines\",\"name\":\"\",\"opacity\":0.1,\"x\":[1,2,3,4,5,6,7,8,9,10],\"y\":[0.2522627319483164,0.07019371747001614,0.064088984276908,0.059113508384481886,0.055392959066584584,0.052474068433505494,0.05217142750837802,0.04723038428574524,0.044166102496186035,0.044166102496186035],\"type\":\"scatter\"},{\"hovertext\":\"\\u003cb\\u003eTopic 53\\u003c\\u002fb\\u003e:yusuf_mesir_ke_diantara_masuk_tatk\",\"line\":{\"color\":\"black\",\"width\":1.5},\"mode\":\"lines+lines\",\"name\":\"\",\"opacity\":0.1,\"x\":[1,2,3,4,5,6,7,8,9,10],\"y\":[0.25568514943703524,0.051907959137490925,0.040768529457404154,0.03945776362925659,0.039112711936715325,0.035161095195755804,0.034926670732315805,0.03163542686647534,0.03135277840447539,0.031054467280917417],\"type\":\"scatter\"},{\"hovertext\":\"\\u003cb\\u003eTopic 54\\u003c\\u002fb\\u003e:pemurah_maha_tuhan_penyayang_menga\",\"line\":{\"color\":\"black\",\"width\":1.5},\"mode\":\"lines+lines\",\"name\":\"\",\"opacity\":0.1,\"x\":[1,2,3,4,5,6,7,8,9,10],\"y\":[0.24956258767874298,0.12722445298860607,0.08310736045344841,0.05497337858821799,0.036619695989975186,0.03652846240688705,0.03441090886248344,0.03282363254195742,0.028853055237258764,0.027269988319774507],\"type\":\"scatter\"},{\"hovertext\":\"\\u003cb\\u003eTopic 55\\u003c\\u002fb\\u003e:katakanlah_serulah_selain_anggap_a\",\"line\":{\"color\":\"black\",\"width\":1.5},\"mode\":\"lines+lines\",\"name\":\"\",\"opacity\":0.1,\"x\":[1,2,3,4,5,6,7,8,9,10],\"y\":[0.18473417991749538,0.08667824078662283,0.0803405668537225,0.06940387535114947,0.05350285740974016,0.04491259004499374,0.04122962519775431,0.04122962519775431,0.03790142342718599,0.03710958765308554],\"type\":\"scatter\"},{\"hovertext\":\"\\u003cb\\u003eTopic 56\\u003c\\u002fb\\u003e:ya_wahai_ayah_berkata_tuhan_berdoa\",\"line\":{\"color\":\"black\",\"width\":1.5},\"mode\":\"lines+lines\",\"name\":\"\",\"opacity\":0.1,\"x\":[1,2,3,4,5,6,7,8,9,10],\"y\":[0.21891575756688186,0.1999655083631313,0.18432841078674223,0.17472900324141863,0.12469610707698842,0.09998275418156564,0.08767819029395854,0.08767819029395854,0.0789165914647895,0.07493634059270213],\"type\":\"scatter\"},{\"hovertext\":\"\\u003cb\\u003eTopic 57\\u003c\\u002fb\\u003e:gunung_bulu_kapal_seperti_rumah_be\",\"line\":{\"color\":\"black\",\"width\":1.5},\"mode\":\"lines+lines\",\"name\":\"\",\"opacity\":0.1,\"x\":[1,2,3,4,5,6,7,8,9,10],\"y\":[0.5645183696216953,0.08092295488531034,0.060855493909906466,0.059220230905503934,0.05565610003920904,0.0505589564468812,0.0505589564468812,0.0505589564468812,0.0505589564468812,0.0505589564468812],\"type\":\"scatter\"},{\"hovertext\":\"\\u003cb\\u003eTopic 58\\u003c\\u002fb\\u003e:dialah_penyayang_maha_perkasa_lagi\",\"line\":{\"color\":\"black\",\"width\":1.5},\"mode\":\"lines+lines\",\"name\":\"\",\"opacity\":0.1,\"x\":[1,2,3,4,5,6,7,8,9,10],\"y\":[0.16977629221918716,0.16466082737508692,0.1458019366899776,0.1422330339594032,0.1037076796735433,0.07134891033062975,0.06208489491885036,0.04889208502592636,0.034961613573686656,0.03267253317557889],\"type\":\"scatter\"},{\"hovertext\":\"\\u003cb\\u003eTopic 59\\u003c\\u002fb\\u003e:demikianlah_bukan_demikian_kalau_t\",\"line\":{\"color\":\"black\",\"width\":1.5},\"mode\":\"lines+lines\",\"name\":\"\",\"opacity\":0.1,\"x\":[1,2,3,4,5,6,7,8,9,10],\"y\":[0.803039778203425,0.42594401581760755,0.37850254267599354,0.16380250862256435,0.12085127534244862,0.11615643500505421,0.10752750877631125,0.09428726538001236,0.0787998051364773,0.0556101801106379],\"type\":\"scatter\"},{\"hovertext\":\"\\u003cb\\u003eTopic 60\\u003c\\u002fb\\u003e:samping_adakan_kebohongan_janganla\",\"line\":{\"color\":\"black\",\"width\":1.5},\"mode\":\"lines+lines\",\"name\":\"\",\"opacity\":0.1,\"x\":[1,2,3,4,5,6,7,8,9,10],\"y\":[0.12272279080850504,0.07125274928908734,0.06136139540425252,0.05613541176325788,0.05613541176325788,0.05602480744736328,0.05367881675395051,0.045871371080945196,0.045871371080945196,0.045871371080945196],\"type\":\"scatter\"},{\"hovertext\":\"\\u003cb\\u003eTopic 61\\u003c\\u002fb\\u003e:hari_pembalasan_pada_banyak_seri_m\",\"line\":{\"color\":\"black\",\"width\":1.5},\"mode\":\"lines+lines\",\"name\":\"\",\"opacity\":0.1,\"x\":[1,2,3,4,5,6,7,8,9,10],\"y\":[0.19229867611067208,0.17409215706640868,0.13646565115053874,0.11317640218659915,0.11104620056183917,0.1066193691418349,0.10135346387652432,0.06596740031640691,0.06596740031640691,0.059375340244936875],\"type\":\"scatter\"},{\"hovertext\":\"\\u003cb\\u003eTopic 62\\u003c\\u002fb\\u003e:biarkan_tunggulah_sesungguhnya_men\",\"line\":{\"color\":\"black\",\"width\":1.5},\"mode\":\"lines+lines\",\"name\":\"\",\"opacity\":0.1,\"x\":[1,2,3,4,5,6,7,8,9,10],\"y\":[0.09335187462311449,0.08748311828977536,0.0852394903412532,0.08127693601791341,0.06615514722746257,0.06075944765984846,0.06075944765984846,0.06075944765984846,0.0566377994530306,0.05468781338349448],\"type\":\"scatter\"},{\"hovertext\":\"\\u003cb\\u003eTopic 63\\u003c\\u002fb\\u003e:rampasan_harta_benda_permadani_per\",\"line\":{\"color\":\"black\",\"width\":1.5},\"mode\":\"lines+lines\",\"name\":\"\",\"opacity\":0.1,\"x\":[1,2,3,4,5,6,7,8,9,10],\"y\":[0.17565062949842902,0.17070964141768274,0.1326897516750787,0.1008731157064934,0.08152031500334123,0.05909394052813623,0.052542392508471654,0.052542392508471654,0.04726576059258006,0.042240007925093276],\"type\":\"scatter\"},{\"hovertext\":\"\\u003cb\\u003eTopic 64\\u003c\\u002fb\\u003e:balasan_memberi_demikianlah_berbua\",\"line\":{\"color\":\"black\",\"width\":1.5},\"mode\":\"lines+lines\",\"name\":\"\",\"opacity\":0.1,\"x\":[1,2,3,4,5,6,7,8,9,10],\"y\":[0.2114264869837048,0.12038965439159671,0.10707197042712333,0.08832576635336678,0.06795375641046178,0.06112167378155266,0.04125825332932519,0.033953808986385905,0.033953808986385905,0.03165759843221106],\"type\":\"scatter\"},{\"hovertext\":\"\\u003cb\\u003eTopic 65\\u003c\\u002fb\\u003e:ahli_kitab_hai_katakanlah_kitabmu_\",\"line\":{\"color\":\"black\",\"width\":1.5},\"mode\":\"lines+lines\",\"name\":\"\",\"opacity\":0.1,\"x\":[1,2,3,4,5,6,7,8,9,10],\"y\":[0.7486533479500739,0.48926913384837695,0.3308175144126009,0.1921693017098404,0.12224334756310531,0.10433444810818679,0.0774376233367028,0.06285817692000824,0.05694896535785625,0.026041050403271933],\"type\":\"scatter\"},{\"hovertext\":\"\\u003cb\\u003eTopic 66\\u003c\\u002fb\\u003e:bertanya_mendengarkan_lenyapkan_ha\",\"line\":{\"color\":\"black\",\"width\":1.5},\"mode\":\"lines+lines\",\"name\":\"\",\"opacity\":0.1,\"x\":[1,2,3,4,5,6,7,8,9,10],\"y\":[0.07740406577447619,0.06187333261044963,0.049831489447645504,0.049831489447645504,0.049831489447645504,0.04823228410047377,0.046451144875147406,0.0448518757245926,0.0448518757245926,0.0448518757245926],\"type\":\"scatter\"},{\"hovertext\":\"\\u003cb\\u003eTopic 67\\u003c\\u002fb\\u003e:tuhanku_ya_musa_berkata_nenek_tuha\",\"line\":{\"color\":\"black\",\"width\":1.5},\"mode\":\"lines+lines\",\"name\":\"\",\"opacity\":0.1,\"x\":[1,2,3,4,5,6,7,8,9,10],\"y\":[0.392162014688972,0.35294581322007484,0.30455352816110987,0.1792674189100269,0.14707255088955762,0.08935140552455406,0.08446121989710359,0.07915139273836817,0.07353627544477881,0.06717733758757823],\"type\":\"scatter\"},{\"hovertext\":\"\\u003cb\\u003eTopic 68\\u003c\\u002fb\\u003e:sekali_kali_jangan_tidak_curang_ta\",\"line\":{\"color\":\"black\",\"width\":1.5},\"mode\":\"lines+lines\",\"name\":\"\",\"opacity\":0.1,\"x\":[1,2,3,4,5,6,7,8,9,10],\"y\":[0.5294385307104337,0.4907943817871975,0.17620655064883756,0.15296167487368373,0.13553066795039936,0.1267375115107947,0.09348253513970108,0.09325424964480998,0.04923008640903113,0.04387643463344575],\"type\":\"scatter\"},{\"hovertext\":\"\\u003cb\\u003eTopic 69\\u003c\\u002fb\\u003e:menurunkan_angan_menurut_menurunka\",\"line\":{\"color\":\"black\",\"width\":1.5},\"mode\":\"lines+lines\",\"name\":\"\",\"opacity\":0.1,\"x\":[1,2,3,4,5,6,7,8,9,10],\"y\":[0.13353550497704225,0.08167539021710929,0.06432725224366503,0.05579289062127447,0.04684942855529541,0.04597296815015042,0.04536011392772773,0.03980791398403865,0.03980791398403865,0.03980791398403865],\"type\":\"scatter\"},{\"hovertext\":\"\\u003cb\\u003eTopic 71\\u003c\\u002fb\\u003e:nun_shaad_demi_allah_dan_____\",\"line\":{\"color\":\"black\",\"width\":1.5},\"mode\":\"lines+lines\",\"name\":\"\",\"opacity\":0.1,\"x\":[1,2,3,4,5,6,7,8,9,10],\"y\":[0.44531505183702647,0.44531505183702647,0.44292394197398555,0.3399005058971728,0.015741340983333157,1e-05,1e-05,1e-05,1e-05,1e-05],\"type\":\"scatter\"},{\"hovertext\":\"\\u003cb\\u003eTopic 72\\u003c\\u002fb\\u003e:kiranya_kemah_moga_rumah_karun_pem\",\"line\":{\"color\":\"black\",\"width\":1.5},\"mode\":\"lines+lines\",\"name\":\"\",\"opacity\":0.1,\"x\":[1,2,3,4,5,6,7,8,9,10],\"y\":[0.1496822484068553,0.05492872886095482,0.05492872886095482,0.050384707304217874,0.04393425323803697,0.030513555212434915,0.030513555212434915,0.030513555212434915,0.030513555212434915,0.030513555212434915],\"type\":\"scatter\"}],                        {\"template\":{\"data\":{\"barpolar\":[{\"marker\":{\"line\":{\"color\":\"white\",\"width\":0.5},\"pattern\":{\"fillmode\":\"overlay\",\"size\":10,\"solidity\":0.2}},\"type\":\"barpolar\"}],\"bar\":[{\"error_x\":{\"color\":\"#2a3f5f\"},\"error_y\":{\"color\":\"#2a3f5f\"},\"marker\":{\"line\":{\"color\":\"white\",\"width\":0.5},\"pattern\":{\"fillmode\":\"overlay\",\"size\":10,\"solidity\":0.2}},\"type\":\"bar\"}],\"carpet\":[{\"aaxis\":{\"endlinecolor\":\"#2a3f5f\",\"gridcolor\":\"#C8D4E3\",\"linecolor\":\"#C8D4E3\",\"minorgridcolor\":\"#C8D4E3\",\"startlinecolor\":\"#2a3f5f\"},\"baxis\":{\"endlinecolor\":\"#2a3f5f\",\"gridcolor\":\"#C8D4E3\",\"linecolor\":\"#C8D4E3\",\"minorgridcolor\":\"#C8D4E3\",\"startlinecolor\":\"#2a3f5f\"},\"type\":\"carpet\"}],\"choropleth\":[{\"colorbar\":{\"outlinewidth\":0,\"ticks\":\"\"},\"type\":\"choropleth\"}],\"contourcarpet\":[{\"colorbar\":{\"outlinewidth\":0,\"ticks\":\"\"},\"type\":\"contourcarpet\"}],\"contour\":[{\"colorbar\":{\"outlinewidth\":0,\"ticks\":\"\"},\"colorscale\":[[0.0,\"#0d0887\"],[0.1111111111111111,\"#46039f\"],[0.2222222222222222,\"#7201a8\"],[0.3333333333333333,\"#9c179e\"],[0.4444444444444444,\"#bd3786\"],[0.5555555555555556,\"#d8576b\"],[0.6666666666666666,\"#ed7953\"],[0.7777777777777778,\"#fb9f3a\"],[0.8888888888888888,\"#fdca26\"],[1.0,\"#f0f921\"]],\"type\":\"contour\"}],\"heatmapgl\":[{\"colorbar\":{\"outlinewidth\":0,\"ticks\":\"\"},\"colorscale\":[[0.0,\"#0d0887\"],[0.1111111111111111,\"#46039f\"],[0.2222222222222222,\"#7201a8\"],[0.3333333333333333,\"#9c179e\"],[0.4444444444444444,\"#bd3786\"],[0.5555555555555556,\"#d8576b\"],[0.6666666666666666,\"#ed7953\"],[0.7777777777777778,\"#fb9f3a\"],[0.8888888888888888,\"#fdca26\"],[1.0,\"#f0f921\"]],\"type\":\"heatmapgl\"}],\"heatmap\":[{\"colorbar\":{\"outlinewidth\":0,\"ticks\":\"\"},\"colorscale\":[[0.0,\"#0d0887\"],[0.1111111111111111,\"#46039f\"],[0.2222222222222222,\"#7201a8\"],[0.3333333333333333,\"#9c179e\"],[0.4444444444444444,\"#bd3786\"],[0.5555555555555556,\"#d8576b\"],[0.6666666666666666,\"#ed7953\"],[0.7777777777777778,\"#fb9f3a\"],[0.8888888888888888,\"#fdca26\"],[1.0,\"#f0f921\"]],\"type\":\"heatmap\"}],\"histogram2dcontour\":[{\"colorbar\":{\"outlinewidth\":0,\"ticks\":\"\"},\"colorscale\":[[0.0,\"#0d0887\"],[0.1111111111111111,\"#46039f\"],[0.2222222222222222,\"#7201a8\"],[0.3333333333333333,\"#9c179e\"],[0.4444444444444444,\"#bd3786\"],[0.5555555555555556,\"#d8576b\"],[0.6666666666666666,\"#ed7953\"],[0.7777777777777778,\"#fb9f3a\"],[0.8888888888888888,\"#fdca26\"],[1.0,\"#f0f921\"]],\"type\":\"histogram2dcontour\"}],\"histogram2d\":[{\"colorbar\":{\"outlinewidth\":0,\"ticks\":\"\"},\"colorscale\":[[0.0,\"#0d0887\"],[0.1111111111111111,\"#46039f\"],[0.2222222222222222,\"#7201a8\"],[0.3333333333333333,\"#9c179e\"],[0.4444444444444444,\"#bd3786\"],[0.5555555555555556,\"#d8576b\"],[0.6666666666666666,\"#ed7953\"],[0.7777777777777778,\"#fb9f3a\"],[0.8888888888888888,\"#fdca26\"],[1.0,\"#f0f921\"]],\"type\":\"histogram2d\"}],\"histogram\":[{\"marker\":{\"pattern\":{\"fillmode\":\"overlay\",\"size\":10,\"solidity\":0.2}},\"type\":\"histogram\"}],\"mesh3d\":[{\"colorbar\":{\"outlinewidth\":0,\"ticks\":\"\"},\"type\":\"mesh3d\"}],\"parcoords\":[{\"line\":{\"colorbar\":{\"outlinewidth\":0,\"ticks\":\"\"}},\"type\":\"parcoords\"}],\"pie\":[{\"automargin\":true,\"type\":\"pie\"}],\"scatter3d\":[{\"line\":{\"colorbar\":{\"outlinewidth\":0,\"ticks\":\"\"}},\"marker\":{\"colorbar\":{\"outlinewidth\":0,\"ticks\":\"\"}},\"type\":\"scatter3d\"}],\"scattercarpet\":[{\"marker\":{\"colorbar\":{\"outlinewidth\":0,\"ticks\":\"\"}},\"type\":\"scattercarpet\"}],\"scattergeo\":[{\"marker\":{\"colorbar\":{\"outlinewidth\":0,\"ticks\":\"\"}},\"type\":\"scattergeo\"}],\"scattergl\":[{\"marker\":{\"colorbar\":{\"outlinewidth\":0,\"ticks\":\"\"}},\"type\":\"scattergl\"}],\"scattermapbox\":[{\"marker\":{\"colorbar\":{\"outlinewidth\":0,\"ticks\":\"\"}},\"type\":\"scattermapbox\"}],\"scatterpolargl\":[{\"marker\":{\"colorbar\":{\"outlinewidth\":0,\"ticks\":\"\"}},\"type\":\"scatterpolargl\"}],\"scatterpolar\":[{\"marker\":{\"colorbar\":{\"outlinewidth\":0,\"ticks\":\"\"}},\"type\":\"scatterpolar\"}],\"scatter\":[{\"fillpattern\":{\"fillmode\":\"overlay\",\"size\":10,\"solidity\":0.2},\"type\":\"scatter\"}],\"scatterternary\":[{\"marker\":{\"colorbar\":{\"outlinewidth\":0,\"ticks\":\"\"}},\"type\":\"scatterternary\"}],\"surface\":[{\"colorbar\":{\"outlinewidth\":0,\"ticks\":\"\"},\"colorscale\":[[0.0,\"#0d0887\"],[0.1111111111111111,\"#46039f\"],[0.2222222222222222,\"#7201a8\"],[0.3333333333333333,\"#9c179e\"],[0.4444444444444444,\"#bd3786\"],[0.5555555555555556,\"#d8576b\"],[0.6666666666666666,\"#ed7953\"],[0.7777777777777778,\"#fb9f3a\"],[0.8888888888888888,\"#fdca26\"],[1.0,\"#f0f921\"]],\"type\":\"surface\"}],\"table\":[{\"cells\":{\"fill\":{\"color\":\"#EBF0F8\"},\"line\":{\"color\":\"white\"}},\"header\":{\"fill\":{\"color\":\"#C8D4E3\"},\"line\":{\"color\":\"white\"}},\"type\":\"table\"}]},\"layout\":{\"annotationdefaults\":{\"arrowcolor\":\"#2a3f5f\",\"arrowhead\":0,\"arrowwidth\":1},\"autotypenumbers\":\"strict\",\"coloraxis\":{\"colorbar\":{\"outlinewidth\":0,\"ticks\":\"\"}},\"colorscale\":{\"diverging\":[[0,\"#8e0152\"],[0.1,\"#c51b7d\"],[0.2,\"#de77ae\"],[0.3,\"#f1b6da\"],[0.4,\"#fde0ef\"],[0.5,\"#f7f7f7\"],[0.6,\"#e6f5d0\"],[0.7,\"#b8e186\"],[0.8,\"#7fbc41\"],[0.9,\"#4d9221\"],[1,\"#276419\"]],\"sequential\":[[0.0,\"#0d0887\"],[0.1111111111111111,\"#46039f\"],[0.2222222222222222,\"#7201a8\"],[0.3333333333333333,\"#9c179e\"],[0.4444444444444444,\"#bd3786\"],[0.5555555555555556,\"#d8576b\"],[0.6666666666666666,\"#ed7953\"],[0.7777777777777778,\"#fb9f3a\"],[0.8888888888888888,\"#fdca26\"],[1.0,\"#f0f921\"]],\"sequentialminus\":[[0.0,\"#0d0887\"],[0.1111111111111111,\"#46039f\"],[0.2222222222222222,\"#7201a8\"],[0.3333333333333333,\"#9c179e\"],[0.4444444444444444,\"#bd3786\"],[0.5555555555555556,\"#d8576b\"],[0.6666666666666666,\"#ed7953\"],[0.7777777777777778,\"#fb9f3a\"],[0.8888888888888888,\"#fdca26\"],[1.0,\"#f0f921\"]]},\"colorway\":[\"#636efa\",\"#EF553B\",\"#00cc96\",\"#ab63fa\",\"#FFA15A\",\"#19d3f3\",\"#FF6692\",\"#B6E880\",\"#FF97FF\",\"#FECB52\"],\"font\":{\"color\":\"#2a3f5f\"},\"geo\":{\"bgcolor\":\"white\",\"lakecolor\":\"white\",\"landcolor\":\"white\",\"showlakes\":true,\"showland\":true,\"subunitcolor\":\"#C8D4E3\"},\"hoverlabel\":{\"align\":\"left\"},\"hovermode\":\"closest\",\"mapbox\":{\"style\":\"light\"},\"paper_bgcolor\":\"white\",\"plot_bgcolor\":\"white\",\"polar\":{\"angularaxis\":{\"gridcolor\":\"#EBF0F8\",\"linecolor\":\"#EBF0F8\",\"ticks\":\"\"},\"bgcolor\":\"white\",\"radialaxis\":{\"gridcolor\":\"#EBF0F8\",\"linecolor\":\"#EBF0F8\",\"ticks\":\"\"}},\"scene\":{\"xaxis\":{\"backgroundcolor\":\"white\",\"gridcolor\":\"#DFE8F3\",\"gridwidth\":2,\"linecolor\":\"#EBF0F8\",\"showbackground\":true,\"ticks\":\"\",\"zerolinecolor\":\"#EBF0F8\"},\"yaxis\":{\"backgroundcolor\":\"white\",\"gridcolor\":\"#DFE8F3\",\"gridwidth\":2,\"linecolor\":\"#EBF0F8\",\"showbackground\":true,\"ticks\":\"\",\"zerolinecolor\":\"#EBF0F8\"},\"zaxis\":{\"backgroundcolor\":\"white\",\"gridcolor\":\"#DFE8F3\",\"gridwidth\":2,\"linecolor\":\"#EBF0F8\",\"showbackground\":true,\"ticks\":\"\",\"zerolinecolor\":\"#EBF0F8\"}},\"shapedefaults\":{\"line\":{\"color\":\"#2a3f5f\"}},\"ternary\":{\"aaxis\":{\"gridcolor\":\"#DFE8F3\",\"linecolor\":\"#A2B1C6\",\"ticks\":\"\"},\"baxis\":{\"gridcolor\":\"#DFE8F3\",\"linecolor\":\"#A2B1C6\",\"ticks\":\"\"},\"bgcolor\":\"white\",\"caxis\":{\"gridcolor\":\"#DFE8F3\",\"linecolor\":\"#A2B1C6\",\"ticks\":\"\"}},\"title\":{\"x\":0.05},\"xaxis\":{\"automargin\":true,\"gridcolor\":\"#EBF0F8\",\"linecolor\":\"#EBF0F8\",\"ticks\":\"\",\"title\":{\"standoff\":15},\"zerolinecolor\":\"#EBF0F8\",\"zerolinewidth\":2},\"yaxis\":{\"automargin\":true,\"gridcolor\":\"#EBF0F8\",\"linecolor\":\"#EBF0F8\",\"ticks\":\"\",\"title\":{\"standoff\":15},\"zerolinecolor\":\"#EBF0F8\",\"zerolinewidth\":2}}},\"xaxis\":{\"range\":[0,10],\"tick0\":1,\"dtick\":2,\"title\":{\"text\":\"Term Rank\"}},\"title\":{\"font\":{\"size\":22,\"color\":\"Black\"},\"text\":\"\\u003cb\\u003eTerm score decline per Topic\\u003c\\u002fb\\u003e\",\"y\":0.9,\"x\":0.5,\"xanchor\":\"center\",\"yanchor\":\"top\"},\"hoverlabel\":{\"font\":{\"size\":16,\"family\":\"Rockwell\"},\"bgcolor\":\"white\"},\"showlegend\":false,\"width\":800,\"height\":500,\"yaxis\":{\"title\":{\"text\":\"c-TF-IDF score\"}}},                        {\"responsive\": true}                    ).then(function(){\n",
              "                            \n",
              "var gd = document.getElementById('540e1b27-06d5-49b9-bbc1-7f0878e87011');\n",
              "var x = new MutationObserver(function (mutations, observer) {{\n",
              "        var display = window.getComputedStyle(gd).display;\n",
              "        if (!display || display === 'none') {{\n",
              "            console.log([gd, 'removed!']);\n",
              "            Plotly.purge(gd);\n",
              "            observer.disconnect();\n",
              "        }}\n",
              "}});\n",
              "\n",
              "// Listen for the removal of the full notebook cells\n",
              "var notebookContainer = gd.closest('#notebook-container');\n",
              "if (notebookContainer) {{\n",
              "    x.observe(notebookContainer, {childList: true});\n",
              "}}\n",
              "\n",
              "// Listen for the clearing of the current output cell\n",
              "var outputEl = gd.closest('.output');\n",
              "if (outputEl) {{\n",
              "    x.observe(outputEl, {childList: true});\n",
              "}}\n",
              "\n",
              "                        })                };                            </script>        </div>\n",
              "</body>\n",
              "</html>"
            ]
          },
          "metadata": {}
        }
      ]
    },
    {
      "cell_type": "code",
      "source": [
        "model.visualize_heatmap()"
      ],
      "metadata": {
        "colab": {
          "base_uri": "https://localhost:8080/",
          "height": 817
        },
        "id": "bfC6XncCd7kT",
        "outputId": "e4427acc-b759-403e-b235-f2c91806bcd3"
      },
      "execution_count": null,
      "outputs": [
        {
          "output_type": "display_data",
          "data": {
            "text/html": [
              "<html>\n",
              "<head><meta charset=\"utf-8\" /></head>\n",
              "<body>\n",
              "    <div>            <script src=\"https://cdnjs.cloudflare.com/ajax/libs/mathjax/2.7.5/MathJax.js?config=TeX-AMS-MML_SVG\"></script><script type=\"text/javascript\">if (window.MathJax && window.MathJax.Hub && window.MathJax.Hub.Config) {window.MathJax.Hub.Config({SVG: {font: \"STIX-Web\"}});}</script>                <script type=\"text/javascript\">window.PlotlyConfig = {MathJaxConfig: 'local'};</script>\n",
              "        <script charset=\"utf-8\" src=\"https://cdn.plot.ly/plotly-2.24.1.min.js\"></script>                <div id=\"82842d96-d35a-43be-8354-46ac24130006\" class=\"plotly-graph-div\" style=\"height:800px; width:800px;\"></div>            <script type=\"text/javascript\">                                    window.PLOTLYENV=window.PLOTLYENV || {};                                    if (document.getElementById(\"82842d96-d35a-43be-8354-46ac24130006\")) {                    Plotly.newPlot(                        \"82842d96-d35a-43be-8354-46ac24130006\",                        [{\"coloraxis\":\"coloraxis\",\"name\":\"0\",\"x\":[\"0_orang_kafir_yang\",\"1_telah_kami_sesungguhnya\",\"2_mereka_tidak_azab\",\"3___\",\"4_quran_al_kitab\",\"5_datang_datanglah_tatkala\",\"6_demikian_terdapat_demikia...\",\"7_hai_beriman_orang\",\"8_bagi_dikehendaki_allah\",\"9_bagi_besarlah_kecelakaan\",\"10_penghuni_pengikut_penget...\",\"11_memberi_balasan_memberikan\",\"12_allah_selain_mereka\",\"13_bumi_langit_lah\",\"14_keduanya_kedua_antara\",\"15_jika_mendustakan_perangi...\",\"16_neraka_tempat_jahannam\",\"17_manusia_antara_menciptakan\",\"18_air_mata_taman\",\"19_katakanlah_allah_samping\",\"20_dialah_menciptakan_nya\",\"21_golongan_kanan_bersekutu\",\"22_ingatlah_kisah_dan\",\"23_hai_kaumku_berkata\",\"24_bertakwalah_taatlah_kepa...\",\"25_api_neraka_nyala\",\"26_dustakan_manakah_nikmat\",\"27_bapaknya_kaumnya_berkata\",\"28_apabila_bulan_bintang\",\"29_batas_melampaui_batu\",\"30_barangsiapa_mengerjakan_...\",\"31_bunga_gadis_bantal\",\"32_diutus_kepercayaan_seorang\",\"33_tuhanmu_sesungguhnya_tau...\",\"34_sekali_kali_sekalian\",\"35_nabi_hai_adam\",\"36_saleh_beramal_amal\",\"37_katakanlah_terangkanlah_...\",\"38_hari_pada_pembalasan\",\"39_ayat_dibacakan_apabila\",\"40_ya_tuhan_tuhanku\",\"41_miim_alif_laam\",\"42_penyembah_sembah_apa\",\"43_ingatlah__\",\"44_ya_tuhanku_berkata\",\"45_yusuf_mesir_ke\",\"46_pemurah_maha_tuhan\",\"47_bapakku_wahai_ditiuplah\",\"48_manusia_hai_sekalian\",\"49_beginilah_kalau_kehendaki\",\"50_barangsiapa_ketentuan_mu...\",\"51_menurunkan_menurunkannya...\",\"52_mengapa_berhala_diam\",\"53_berfirman_katakanlah_dag...\",\"54_penyayang_dialah_maha\",\"55_gunung_harta_anak\",\"56_biarkan_tunggulah_menunggu\",\"57_demikianlah_demikian_bukan\",\"58_demi_rombongan_shaf\",\"59_disebutkan_adalah_ini\",\"60_mengampuni_sesungguhnya_...\",\"61_musa_ibu_lembaran\",\"62_tiap_berjiwa_merasakan\",\"63_sujudlah_adam_takhta\",\"64_berfirman_turunlah_allah\",\"65_ahli_kitab_hai\",\"66_rampasan_harta_benda\",\"67_tahukah_kiamat_hari\",\"68_sekali_kali_jangan\",\"69_kaumku_hai_herkata\",\"70_ya_ayah_wahai\",\"71_musa_sapi_betina\",\"72_tinggi_ghaib_nampak\",\"73_ya_tuhanku_musa\",\"74_dialah_tiada_allah\",\"75_menyebut_bertasbihlah_bu...\",\"76_nun_shaad_demi\",\"77_kali_sekali_penyembahan\"],\"y\":[\"0_orang_kafir_yang\",\"1_telah_kami_sesungguhnya\",\"2_mereka_tidak_azab\",\"3___\",\"4_quran_al_kitab\",\"5_datang_datanglah_tatkala\",\"6_demikian_terdapat_demikia...\",\"7_hai_beriman_orang\",\"8_bagi_dikehendaki_allah\",\"9_bagi_besarlah_kecelakaan\",\"10_penghuni_pengikut_penget...\",\"11_memberi_balasan_memberikan\",\"12_allah_selain_mereka\",\"13_bumi_langit_lah\",\"14_keduanya_kedua_antara\",\"15_jika_mendustakan_perangi...\",\"16_neraka_tempat_jahannam\",\"17_manusia_antara_menciptakan\",\"18_air_mata_taman\",\"19_katakanlah_allah_samping\",\"20_dialah_menciptakan_nya\",\"21_golongan_kanan_bersekutu\",\"22_ingatlah_kisah_dan\",\"23_hai_kaumku_berkata\",\"24_bertakwalah_taatlah_kepa...\",\"25_api_neraka_nyala\",\"26_dustakan_manakah_nikmat\",\"27_bapaknya_kaumnya_berkata\",\"28_apabila_bulan_bintang\",\"29_batas_melampaui_batu\",\"30_barangsiapa_mengerjakan_...\",\"31_bunga_gadis_bantal\",\"32_diutus_kepercayaan_seorang\",\"33_tuhanmu_sesungguhnya_tau...\",\"34_sekali_kali_sekalian\",\"35_nabi_hai_adam\",\"36_saleh_beramal_amal\",\"37_katakanlah_terangkanlah_...\",\"38_hari_pada_pembalasan\",\"39_ayat_dibacakan_apabila\",\"40_ya_tuhan_tuhanku\",\"41_miim_alif_laam\",\"42_penyembah_sembah_apa\",\"43_ingatlah__\",\"44_ya_tuhanku_berkata\",\"45_yusuf_mesir_ke\",\"46_pemurah_maha_tuhan\",\"47_bapakku_wahai_ditiuplah\",\"48_manusia_hai_sekalian\",\"49_beginilah_kalau_kehendaki\",\"50_barangsiapa_ketentuan_mu...\",\"51_menurunkan_menurunkannya...\",\"52_mengapa_berhala_diam\",\"53_berfirman_katakanlah_dag...\",\"54_penyayang_dialah_maha\",\"55_gunung_harta_anak\",\"56_biarkan_tunggulah_menunggu\",\"57_demikianlah_demikian_bukan\",\"58_demi_rombongan_shaf\",\"59_disebutkan_adalah_ini\",\"60_mengampuni_sesungguhnya_...\",\"61_musa_ibu_lembaran\",\"62_tiap_berjiwa_merasakan\",\"63_sujudlah_adam_takhta\",\"64_berfirman_turunlah_allah\",\"65_ahli_kitab_hai\",\"66_rampasan_harta_benda\",\"67_tahukah_kiamat_hari\",\"68_sekali_kali_jangan\",\"69_kaumku_hai_herkata\",\"70_ya_ayah_wahai\",\"71_musa_sapi_betina\",\"72_tinggi_ghaib_nampak\",\"73_ya_tuhanku_musa\",\"74_dialah_tiada_allah\",\"75_menyebut_bertasbihlah_bu...\",\"76_nun_shaad_demi\",\"77_kali_sekali_penyembahan\"],\"z\":[[1.0,0.8613284826278687,0.8515821099281311,0.14889180660247803,0.7775115966796875,0.848954439163208,0.8482626676559448,0.8125523328781128,0.8863555192947388,0.9379899501800537,0.8141407370567322,0.8786385655403137,0.812871515750885,0.83513343334198,0.8288047313690186,0.7223771810531616,0.8355306386947632,0.8347641229629517,0.818034291267395,0.8167687654495239,0.8126678466796875,0.7905511856079102,0.5172104835510254,0.722467303276062,0.8050644397735596,0.7980860471725464,0.7334497570991516,0.8737801313400269,0.7479901313781738,0.8166470527648926,0.8395201563835144,0.7862915992736816,0.8578633666038513,0.7379804253578186,0.785460352897644,0.4737726151943207,0.8832463026046753,0.683265745639801,0.7786701917648315,0.8364623785018921,0.46898943185806274,0.4156922698020935,0.8650400638580322,0.44255930185317993,0.5982381105422974,0.7621927261352539,0.7722169756889343,0.6195402145385742,0.37156981229782104,0.6517271995544434,0.8281677961349487,0.8050152659416199,0.8407050371170044,0.8593316078186035,0.808063805103302,0.7641650438308716,0.8435977697372437,0.42767447233200073,0.7925667762756348,0.8561244010925293,0.7845973968505859,0.7647470831871033,0.822849452495575,0.7793921232223511,0.7660860419273376,0.4225900173187256,0.8312885165214539,0.7208459377288818,0.4743180274963379,0.5628534555435181,0.7000401020050049,0.8543498516082764,0.7638487815856934,0.6217533349990845,0.5620343089103699,0.8439656496047974,0.36500006914138794,0.7842982411384583],[0.8613284826278687,0.9999997615814209,0.8475466966629028,0.1433577984571457,0.7902343273162842,0.8695489764213562,0.810275673866272,0.6027055978775024,0.8860909938812256,0.8369755744934082,0.8179783821105957,0.8599011301994324,0.8112462162971497,0.819562554359436,0.8293060660362244,0.7040071487426758,0.841076135635376,0.8191549777984619,0.8308700323104858,0.8065537810325623,0.8778412342071533,0.755346417427063,0.49501168727874756,0.7282066345214844,0.812407374382019,0.7917119264602661,0.7242097854614258,0.8712234497070312,0.7466567754745483,0.7996325492858887,0.8037760257720947,0.7225211262702942,0.8521226644515991,0.7384989261627197,0.7881866693496704,0.47239720821380615,0.713599681854248,0.6982759833335876,0.7835872173309326,0.7956030368804932,0.48804596066474915,0.4323965609073639,0.8327680826187134,0.41060614585876465,0.5957142114639282,0.8136286735534668,0.7570313215255737,0.646054744720459,0.3612059950828552,0.6528952121734619,0.7886024713516235,0.8160963654518127,0.835296630859375,0.858428418636322,0.8412063717842102,0.7467484474182129,0.8368450999259949,0.4005104899406433,0.7571477890014648,0.8376633524894714,0.7709795236587524,0.7566211819648743,0.7986242771148682,0.8071075081825256,0.7784057855606079,0.46365416049957275,0.8173068761825562,0.7372627854347229,0.4484095275402069,0.5849388837814331,0.7055188417434692,0.8367573618888855,0.7053296566009521,0.6194837093353271,0.6517056226730347,0.8060590028762817,0.342200368642807,0.7845251560211182],[0.8515821099281311,0.8475466966629028,1.000000238418579,0.1391516625881195,0.7286759614944458,0.8821903467178345,0.8040121793746948,0.5613969564437866,0.8827673196792603,0.8286646604537964,0.8565113544464111,0.8868728280067444,0.9098314046859741,0.8064952492713928,0.835940957069397,0.873751163482666,0.8944915533065796,0.8304303884506226,0.7796618342399597,0.7913918495178223,0.787691056728363,0.820141077041626,0.48807013034820557,0.7849794626235962,0.8165503740310669,0.8246586322784424,0.7375119924545288,0.8581720590591431,0.7978520393371582,0.8383418321609497,0.8134498596191406,0.7054403424263,0.8644537329673767,0.6599602699279785,0.8566792011260986,0.4886329174041748,0.7019317746162415,0.6446565389633179,0.8781226873397827,0.8303030729293823,0.44058758020401,0.46440649032592773,0.8418752551078796,0.40381360054016113,0.5820441842079163,0.8120712041854858,0.7307471632957458,0.6546971201896667,0.3630782961845398,0.7061386108398438,0.7543208003044128,0.8382778167724609,0.9109378457069397,0.8128650188446045,0.7378849387168884,0.7997286319732666,0.8956173658370972,0.4165036678314209,0.7469158172607422,0.7856491804122925,0.7070310115814209,0.8024097681045532,0.797332227230072,0.8445382118225098,0.7998539805412292,0.48520827293395996,0.8412026166915894,0.7653521299362183,0.5382358431816101,0.5780695676803589,0.8052880764007568,0.8708450198173523,0.6820036768913269,0.6051238775253296,0.5076956748962402,0.819049596786499,0.318325400352478,0.8951786756515503],[0.14889180660247803,0.1433577984571457,0.1391516625881195,0.9999998807907104,0.08107712119817734,0.10401219129562378,0.12948870658874512,0.1316860020160675,0.13222919404506683,0.13418859243392944,0.12012769281864166,0.16275686025619507,0.1410967856645584,0.12507785856723785,0.14360317587852478,0.23902703821659088,0.1550401747226715,0.14560368657112122,0.14907781779766083,0.19086334109306335,0.12328028678894043,0.15340712666511536,0.22417482733726501,0.1744888573884964,0.1798172891139984,0.13343170285224915,0.1544657051563263,0.14307421445846558,0.20854870975017548,0.14552682638168335,0.17282743752002716,0.15312018990516663,0.16447851061820984,0.2434687316417694,0.15226706862449646,0.24110636115074158,0.16385318338871002,0.2430671602487564,0.1781490594148636,0.15786433219909668,0.29950273036956787,0.2968958616256714,0.15009137988090515,0.27018100023269653,0.2558499276638031,0.10300865024328232,0.10973380506038666,0.2493070363998413,0.21296624839305878,0.2397339940071106,0.1809665560722351,0.13611996173858643,0.13916316628456116,0.15968924760818481,0.1370842158794403,0.1399192363023758,0.17303626239299774,0.21639037132263184,0.16764265298843384,0.15809614956378937,0.19201505184173584,0.14788252115249634,0.11877547204494476,0.15847890079021454,0.2033081203699112,0.17381106317043304,0.1272670179605484,0.20984506607055664,0.1911526918411255,0.22508016228675842,0.20916637778282166,0.11816652864217758,0.13361966609954834,0.2356826663017273,0.2104954719543457,0.15095116198062897,0.3266446590423584,0.1413758397102356],[0.7775115966796875,0.7902343273162842,0.7286759614944458,0.08107712119817734,0.9999997615814209,0.7487998008728027,0.7713253498077393,0.5178433060646057,0.845048189163208,0.7356641888618469,0.7144806385040283,0.7523365020751953,0.8225012421607971,0.814435601234436,0.7748145461082458,0.5574156641960144,0.7405341863632202,0.7849733233451843,0.7120240926742554,0.8588696718215942,0.7571231126785278,0.6635730266571045,0.5156720876693726,0.6745732426643372,0.792375922203064,0.6948312520980835,0.5939540863037109,0.7607384324073792,0.6625126004219055,0.6462169289588928,0.7077606916427612,0.6766660213470459,0.7231948971748352,0.6159597635269165,0.7099066376686096,0.4434082508087158,0.6560230851173401,0.711181640625,0.6955826282501221,0.8025867342948914,0.3999905586242676,0.3351573646068573,0.7550930976867676,0.4654119610786438,0.5749155282974243,0.7539084553718567,0.7390587329864502,0.5554408431053162,0.35576844215393066,0.5206459760665894,0.8322614431381226,0.7388034462928772,0.7220454216003418,0.8377530574798584,0.7436482906341553,0.638842761516571,0.6852431297302246,0.3971235454082489,0.6569414734840393,0.7632506489753723,0.7763728499412537,0.7010986804962158,0.703353226184845,0.676383376121521,0.806245744228363,0.4907315969467163,0.7487732172012329,0.6048930287361145,0.36963528394699097,0.506758451461792,0.6213927865028381,0.746158242225647,0.6800307035446167,0.587243914604187,0.6655853986740112,0.7522688508033752,0.4788944125175476,0.6714919805526733],[0.848954439163208,0.8695489764213562,0.8821903467178345,0.10401219129562378,0.7487998008728027,1.0,0.7915588021278381,0.5801616907119751,0.868613600730896,0.8280963897705078,0.8620724678039551,0.8550443649291992,0.8189966678619385,0.8077103495597839,0.8375938534736633,0.7320603132247925,0.8440470695495605,0.8006905913352966,0.7929943203926086,0.7812427282333374,0.8042582273483276,0.7689894437789917,0.5068161487579346,0.7414158582687378,0.8018224239349365,0.8384990692138672,0.7175420522689819,0.8590996265411377,0.7818068265914917,0.7708827257156372,0.799046516418457,0.7303959727287292,0.8541973233222961,0.6755693554878235,0.8097018003463745,0.4682373106479645,0.7151868343353271,0.6501121520996094,0.8028355836868286,0.7758728861808777,0.4372226595878601,0.4282647669315338,0.8487730026245117,0.3897693157196045,0.5447609424591064,0.7833560705184937,0.7481956481933594,0.6514602899551392,0.3328292965888977,0.6728484630584717,0.7533910870552063,0.8117713928222656,0.8687452077865601,0.8179889917373657,0.7630304098129272,0.7954569458961487,0.8185788989067078,0.37279456853866577,0.7570001482963562,0.8011536002159119,0.7173581123352051,0.7767210006713867,0.8042351007461548,0.8310507535934448,0.7727800607681274,0.47269219160079956,0.8281869888305664,0.7493315935134888,0.4927274286746979,0.588370144367218,0.6881803870201111,0.8422273993492126,0.6866503357887268,0.5728155374526978,0.5270911455154419,0.8177913427352905,0.30564481019973755,0.8283282518386841],[0.8482626676559448,0.810275673866272,0.8040121793746948,0.12948870658874512,0.7713253498077393,0.7915588021278381,1.0000001192092896,0.6265848875045776,0.8821660280227661,0.8336204290390015,0.792626142501831,0.8105396628379822,0.7917103171348572,0.8595917224884033,0.8339451551437378,0.611818790435791,0.7949564456939697,0.7907391786575317,0.7528300285339355,0.8360950946807861,0.803058385848999,0.7371463775634766,0.5065775513648987,0.6570515632629395,0.7652692794799805,0.7730069756507874,0.653270959854126,0.831999659538269,0.6831670999526978,0.7158113718032837,0.8090881109237671,0.7285372018814087,0.8322876691818237,0.6968035697937012,0.7739080786705017,0.41968175768852234,0.7378343343734741,0.7003912925720215,0.762415885925293,0.8270139694213867,0.4593411684036255,0.3672347068786621,0.7771574258804321,0.4935256540775299,0.5732446908950806,0.7561260461807251,0.778017520904541,0.5677862167358398,0.3223441243171692,0.6082518100738525,0.7919366359710693,0.7545781135559082,0.8225013613700867,0.8565579056739807,0.7992836236953735,0.711033821105957,0.7807286381721497,0.6930593252182007,0.8177387118339539,0.8622535467147827,0.7789068222045898,0.7029626369476318,0.7782539129257202,0.7371951937675476,0.7626250982284546,0.41850972175598145,0.791185736656189,0.6777554750442505,0.4655309319496155,0.4867073893547058,0.6841468811035156,0.795329213142395,0.8009881377220154,0.5716652870178223,0.5610013008117676,0.8171411752700806,0.3957460820674896,0.7133641242980957],[0.8125523328781128,0.6027055978775024,0.5613969564437866,0.1316860020160675,0.5178433060646057,0.5801616907119751,0.6265848875045776,1.0,0.5805795192718506,0.7468726634979248,0.4840814471244812,0.613497793674469,0.5146207809448242,0.5590605735778809,0.5585991144180298,0.5368592739105225,0.5268581509590149,0.5759189128875732,0.585422158241272,0.555717945098877,0.5851606130599976,0.5928376913070679,0.42657214403152466,0.6668318510055542,0.5363606214523315,0.5446653366088867,0.591497004032135,0.5731116533279419,0.5307897329330444,0.594473123550415,0.6096530556678772,0.6912557482719421,0.5604501962661743,0.5337603688240051,0.5056299567222595,0.5766876935958862,0.814141035079956,0.5100842118263245,0.5175319910049438,0.6124156713485718,0.43936097621917725,0.3898699879646301,0.6587837934494019,0.3739611506462097,0.525276243686676,0.48546281456947327,0.5833871364593506,0.47487354278564453,0.47704434394836426,0.5263954401016235,0.6162781715393066,0.49590256810188293,0.5303158760070801,0.5585103631019592,0.5813451409339905,0.5564413070678711,0.5609962940216064,0.38498157262802124,0.68986976146698,0.6027332544326782,0.5202269554138184,0.5177196264266968,0.6164953708648682,0.4953621029853821,0.5006253719329834,0.3859122097492218,0.5757840871810913,0.5146160125732422,0.3867195248603821,0.5732664465904236,0.5666770935058594,0.558647632598877,0.7007859945297241,0.5359045267105103,0.47012069821357727,0.6495030522346497,0.3299671709537506,0.5473767518997192],[0.8863555192947388,0.8860909938812256,0.8827673196792603,0.13222919404506683,0.845048189163208,0.868613600730896,0.8821660280227661,0.5805795192718506,1.0000001192092896,0.8846670389175415,0.8773490190505981,0.8967715501785278,0.8923420310020447,0.9135744571685791,0.9019464254379272,0.6978587508201599,0.8643416166305542,0.8818081617355347,0.8454845547676086,0.9151811599731445,0.8532640933990479,0.7878151535987854,0.5203740000724792,0.7560034990310669,0.8898203372955322,0.8098389506340027,0.72762131690979,0.9237427711486816,0.7711588144302368,0.8178714513778687,0.8465316295623779,0.7512285113334656,0.891372799873352,0.71462082862854,0.8412997126579285,0.47806516289711,0.7320175766944885,0.7409150004386902,0.8317415118217468,0.8494718670845032,0.47139233350753784,0.41148391366004944,0.8627610802650452,0.4637569189071655,0.6096675395965576,0.8226127624511719,0.7952468395233154,0.6325118541717529,0.3771839439868927,0.681394636631012,0.8705375790596008,0.8671042323112488,0.9022497534751892,0.9371498823165894,0.8236811757087708,0.7875511050224304,0.8482139706611633,0.4500983655452728,0.7666692733764648,0.8798247575759888,0.8257413506507874,0.8142626285552979,0.8543059229850769,0.8563195466995239,0.8760114908218384,0.49620741605758667,0.8804328441619873,0.7374867796897888,0.4297868013381958,0.5803683996200562,0.7176649570465088,0.9103561043739319,0.7362499833106995,0.637781023979187,0.6005116701126099,0.87999427318573,0.4303746223449707,0.8205474019050598],[0.9379899501800537,0.8369755744934082,0.8286646604537964,0.13418859243392944,0.7356641888618469,0.8280963897705078,0.8336204290390015,0.7468726634979248,0.8846670389175415,1.0,0.804672122001648,0.8459670543670654,0.7599971294403076,0.804462194442749,0.8200955986976624,0.704783022403717,0.8039391040802002,0.8228877186775208,0.8400193452835083,0.7818390130996704,0.8054156303405762,0.7710040807723999,0.4685024321079254,0.7012150287628174,0.771618664264679,0.7583409547805786,0.7627094984054565,0.8512389659881592,0.7151190042495728,0.8159981369972229,0.848807692527771,0.7779145240783691,0.8281342387199402,0.6979033946990967,0.7686988711357117,0.4689979553222656,0.8130114078521729,0.6711491942405701,0.8146743774414062,0.8023183345794678,0.47524937987327576,0.41463184356689453,0.8490719199180603,0.4090948700904846,0.585435152053833,0.732553243637085,0.7797142267227173,0.5963338017463684,0.3962029218673706,0.642533540725708,0.7988311052322388,0.802693247795105,0.8222689628601074,0.8204293847084045,0.7874882221221924,0.7751389741897583,0.8079904317855835,0.4131954312324524,0.7918086051940918,0.8353550434112549,0.7200424075126648,0.738670825958252,0.8090000748634338,0.7645072340965271,0.724593997001648,0.4467880129814148,0.8241615295410156,0.7243858575820923,0.45785361528396606,0.5644780397415161,0.6906110048294067,0.8252896070480347,0.75312739610672,0.6039890050888062,0.529804527759552,0.8465521335601807,0.3088620901107788,0.7638290524482727],[0.8141407370567322,0.8179783821105957,0.8565113544464111,0.12012769281864166,0.7144806385040283,0.8620724678039551,0.792626142501831,0.4840814471244812,0.8773490190505981,0.804672122001648,0.9999998211860657,0.8569384813308716,0.7918378114700317,0.7941909432411194,0.8466174602508545,0.6586208343505859,0.8243265151977539,0.8028225898742676,0.7792482376098633,0.771554708480835,0.7790220379829407,0.7310794591903687,0.42746567726135254,0.6407413482666016,0.7671111822128296,0.7858715057373047,0.6557438373565674,0.8531232476234436,0.6918761730194092,0.7625961303710938,0.8005226254463196,0.6648894548416138,0.8497976064682007,0.637200117111206,0.7930177450180054,0.35286930203437805,0.6857250332832336,0.6169406175613403,0.7648627758026123,0.7640899419784546,0.3476760685443878,0.3466417193412781,0.7976007461547852,0.35133975744247437,0.4796999394893646,0.7340974807739258,0.7506992220878601,0.5411227941513062,0.2851933240890503,0.577284574508667,0.7351551055908203,0.8237020969390869,0.8689160943031311,0.8268920183181763,0.769721508026123,0.7293875217437744,0.8011720180511475,0.33411580324172974,0.6971255540847778,0.8070658445358276,0.7186540365219116,0.7332299947738647,0.8164898157119751,0.78620845079422,0.7391871809959412,0.3649764060974121,0.8200235366821289,0.6499385833740234,0.4453963041305542,0.4744647741317749,0.6089506149291992,0.8342402577400208,0.6503958702087402,0.50201815366745,0.4470689296722412,0.8161687850952148,0.2541241943836212,0.7796812057495117],[0.8786385655403137,0.8599011301994324,0.8868728280067444,0.16275686025619507,0.7523365020751953,0.8550443649291992,0.8105396628379822,0.613497793674469,0.8967715501785278,0.8459670543670654,0.8569384813308716,1.0000004768371582,0.842703640460968,0.8226159811019897,0.833704948425293,0.7341071367263794,0.8598730564117432,0.828356146812439,0.8101823329925537,0.8296518325805664,0.7940709590911865,0.7795324325561523,0.49393367767333984,0.7523857951164246,0.8483844995498657,0.813078761100769,0.7383580207824707,0.8891434669494629,0.7669506072998047,0.8079832196235657,0.8229798674583435,0.7380740642547607,0.8876968622207642,0.7122923135757446,0.8196929693222046,0.49501341581344604,0.7299314737319946,0.6887798309326172,0.8261544704437256,0.8138277530670166,0.4726310968399048,0.42153286933898926,0.8605757355690002,0.42190611362457275,0.5963382720947266,0.7788559794425964,0.7637366056442261,0.6370682120323181,0.3592049777507782,0.6956998705863953,0.795917272567749,0.8490524291992188,0.8983700275421143,0.8540645837783813,0.774257242679596,0.7794334888458252,0.8471882939338684,0.39461833238601685,0.7516308426856995,0.8329683542251587,0.7654560804367065,0.7834248542785645,0.8315417170524597,0.8680790662765503,0.8085466623306274,0.4691726565361023,0.8468656539916992,0.7346413135528564,0.48138487339019775,0.5907638072967529,0.7273668050765991,0.8750318288803101,0.7159281969070435,0.6119204759597778,0.5214521884918213,0.8402018547058105,0.35457760095596313,0.8291077613830566],[0.812871515750885,0.8112462162971497,0.9098314046859741,0.1410967856645584,0.8225012421607971,0.8189966678619385,0.7917103171348572,0.5146207809448242,0.8923420310020447,0.7599971294403076,0.7918378114700317,0.842703640460968,0.9999998807907104,0.8564714193344116,0.8219776749610901,0.8033289313316345,0.8578532338142395,0.8187539577484131,0.7556864023208618,0.8994883298873901,0.7657697200775146,0.775112509727478,0.5539437532424927,0.7784579396247864,0.8788279294967651,0.777400016784668,0.6709667444229126,0.8043113946914673,0.7957109212875366,0.755795419216156,0.747971773147583,0.7068051695823669,0.8118618726730347,0.6420224905014038,0.8067346215248108,0.47871124744415283,0.668369710445404,0.6835607290267944,0.8392532467842102,0.8448121547698975,0.3951243460178375,0.46029770374298096,0.7978578805923462,0.4545779228210449,0.5699578523635864,0.8128635883331299,0.7037971019744873,0.6769569516181946,0.3636285662651062,0.6624675989151001,0.8542298078536987,0.7906507253646851,0.8358180522918701,0.8540887832641602,0.7298738956451416,0.7585899829864502,0.8299204111099243,0.4500313997268677,0.7000338435173035,0.7652398347854614,0.8005427122116089,0.7742141485214233,0.7256406545639038,0.7999729514122009,0.9184293150901794,0.5046303868293762,0.8214941024780273,0.74287348985672,0.46933844685554504,0.5437408685684204,0.7556473016738892,0.8217799663543701,0.6543682813644409,0.6056112051010132,0.6517833471298218,0.7973241806030273,0.5622817277908325,0.810713529586792],[0.83513343334198,0.819562554359436,0.8064952492713928,0.12507785856723785,0.814435601234436,0.8077103495597839,0.8595917224884033,0.5590605735778809,0.9135744571685791,0.804462194442749,0.7941909432411194,0.8226159811019897,0.8564714193344116,1.0000001192092896,0.8685058951377869,0.6261454820632935,0.80917888879776,0.8267324566841125,0.7897385358810425,0.8760257959365845,0.8337562084197998,0.7292925119400024,0.5534565448760986,0.6980714797973633,0.864181399345398,0.7629857659339905,0.6445941925048828,0.8461308479309082,0.7945113182067871,0.7367491722106934,0.7910671830177307,0.768095076084137,0.8329794406890869,0.6857571005821228,0.7945857048034668,0.45565539598464966,0.7169072031974792,0.6931511163711548,0.7894424200057983,0.8287689089775085,0.4479804039001465,0.42399173974990845,0.8613876104354858,0.4535517692565918,0.567441463470459,0.7526740431785583,0.7652680277824402,0.6490830183029175,0.34955573081970215,0.6466844081878662,0.8501772284507751,0.7919821739196777,0.8243517875671387,0.8734484910964966,0.7895889282226562,0.7622905969619751,0.7638151049613953,0.49815037846565247,0.7557525038719177,0.8260763883590698,0.8074960708618164,0.7383825778961182,0.7800694704055786,0.8032388687133789,0.8449826836585999,0.43837136030197144,0.8274854421615601,0.7191339731216431,0.42783376574516296,0.550834596157074,0.6587417125701904,0.8046355247497559,0.7452335357666016,0.5711046457290649,0.6318460702896118,0.8051415681838989,0.4764934778213501,0.7601795196533203],[0.8288047313690186,0.8293060660362244,0.835940957069397,0.14360317587852478,0.7748145461082458,0.8375938534736633,0.8339451551437378,0.5585991144180298,0.9019464254379272,0.8200955986976624,0.8466174602508545,0.833704948425293,0.8219776749610901,0.8685058951377869,1.0,0.6733111143112183,0.8155314922332764,0.8088650703430176,0.7753618955612183,0.8130442500114441,0.8378471732139587,0.7591036558151245,0.5221285223960876,0.7157137393951416,0.8289158344268799,0.7578638792037964,0.6658008694648743,0.8345080018043518,0.7647522687911987,0.7828794717788696,0.8026954531669617,0.7428725361824036,0.841162919998169,0.6434531807899475,0.8222209215164185,0.45798832178115845,0.7067504525184631,0.6720617413520813,0.8091288805007935,0.8003230094909668,0.43533793091773987,0.36851614713668823,0.8268934488296509,0.4168344736099243,0.5494560599327087,0.7597204446792603,0.8080364465713501,0.6250209808349609,0.33586686849594116,0.6416274309158325,0.8082955479621887,0.8150287866592407,0.8472257852554321,0.8309166431427002,0.8018902540206909,0.7992490530014038,0.771105170249939,0.4658385217189789,0.7707085609436035,0.7996729612350464,0.7277268171310425,0.7544405460357666,0.8051989078521729,0.8238796591758728,0.8060874938964844,0.43033480644226074,0.8308533430099487,0.7365214824676514,0.49707818031311035,0.5279130935668945,0.6927348375320435,0.8317391276359558,0.7180131673812866,0.5695290565490723,0.5788888931274414,0.8304343819618225,0.35927844047546387,0.8230258822441101],[0.7223771810531616,0.7040071487426758,0.873751163482666,0.23902703821659088,0.5574156641960144,0.7320603132247925,0.611818790435791,0.5368592739105225,0.6978587508201599,0.704783022403717,0.6586208343505859,0.7341071367263794,0.8033289313316345,0.6261454820632935,0.6733111143112183,1.0000001192092896,0.7748715877532959,0.6926223039627075,0.646838903427124,0.6566723585128784,0.6291400790214539,0.7399352788925171,0.5401819944381714,0.7501511573791504,0.6973311901092529,0.6731327772140503,0.7085524797439575,0.6844601631164551,0.7708344459533691,0.7265170216560364,0.6615005731582642,0.6586186289787292,0.7085072994232178,0.6225143074989319,0.7404515147209167,0.5257087349891663,0.6031805276870728,0.5809489488601685,0.7968252897262573,0.7099506855010986,0.48092228174209595,0.5458689332008362,0.704863965511322,0.38365161418914795,0.5885135531425476,0.7075939178466797,0.5597847104072571,0.7437418103218079,0.45256584882736206,0.7558464407920837,0.6432149410247803,0.6721917390823364,0.7376521229743958,0.6414178013801575,0.5812519192695618,0.7199867367744446,0.8289235830307007,0.4143165946006775,0.65099036693573,0.6081842184066772,0.5940877795219421,0.7142779231071472,0.6149252653121948,0.7199763059616089,0.7144044637680054,0.5263374447822571,0.6806765198707581,0.7626359462738037,0.5850157737731934,0.5979306697845459,0.8147397041320801,0.7160173654556274,0.5514161586761475,0.6274796724319458,0.5035884380340576,0.6708418130874634,0.406006395816803,0.8069056272506714],[0.8355306386947632,0.841076135635376,0.8944915533065796,0.1550401747226715,0.7405341863632202,0.8440470695495605,0.7949564456939697,0.5268581509590149,0.8643416166305542,0.8039391040802002,0.8243265151977539,0.8598730564117432,0.8578532338142395,0.80917888879776,0.8155314922332764,0.7748715877532959,1.0000004768371582,0.825575590133667,0.8043127059936523,0.794865608215332,0.7515561580657959,0.7689064741134644,0.5239678025245667,0.7172964215278625,0.8296436667442322,0.8166353106498718,0.6964211463928223,0.8747856020927429,0.7774994373321533,0.7756237983703613,0.7958606481552124,0.6909053325653076,0.8746625185012817,0.759205162525177,0.8255040049552917,0.45417869091033936,0.6906447410583496,0.659767210483551,0.8431678414344788,0.8023818731307983,0.4548255205154419,0.4409424662590027,0.8054317235946655,0.4495387375354767,0.6066879034042358,0.799199104309082,0.6916124224662781,0.64902663230896,0.3365042209625244,0.6589197516441345,0.7728544473648071,0.816960334777832,0.8595683574676514,0.850894570350647,0.7513439655303955,0.7777198553085327,0.8831331729888916,0.4239039123058319,0.7331875562667847,0.8126064538955688,0.7986798286437988,0.7587291598320007,0.7696260213851929,0.8382661938667297,0.8163036108016968,0.436776340007782,0.7975377440452576,0.7479569315910339,0.509452223777771,0.5318877100944519,0.7327250242233276,0.8374166488647461,0.6648460030555725,0.6083965301513672,0.517341136932373,0.7903760671615601,0.3648643493652344,0.8152774572372437],[0.8347641229629517,0.8191549777984619,0.8304303884506226,0.14560368657112122,0.7849733233451843,0.8006905913352966,0.7907391786575317,0.5759189128875732,0.8818081617355347,0.8228877186775208,0.8028225898742676,0.828356146812439,0.8187539577484131,0.8267324566841125,0.8088650703430176,0.6926223039627075,0.825575590133667,0.9999999403953552,0.8020325899124146,0.8255369067192078,0.8009219169616699,0.749804675579071,0.49472928047180176,0.7230610251426697,0.8020871877670288,0.7475069165229797,0.6586611270904541,0.8421676158905029,0.7872247099876404,0.7829972505569458,0.8228316307067871,0.7167821526527405,0.8282729983329773,0.6651502847671509,0.7692468166351318,0.4750707149505615,0.7099884152412415,0.6968153715133667,0.8028894662857056,0.8140057325363159,0.41572850942611694,0.46014171838760376,0.8202452659606934,0.4264082610607147,0.5844436287879944,0.7884864807128906,0.7331469655036926,0.6200165748596191,0.6173839569091797,0.6192748546600342,0.8206980228424072,0.8287451267242432,0.8300039172172546,0.8367618322372437,0.7503683567047119,0.7163875102996826,0.7796713709831238,0.4223935008049011,0.7740509510040283,0.8088101148605347,0.7543343305587769,0.7762657999992371,0.7791002988815308,0.7711495161056519,0.8191999793052673,0.4507029354572296,0.80939120054245,0.6684602499008179,0.39529696106910706,0.5301539301872253,0.670228123664856,0.8350256681442261,0.708787202835083,0.6202340126037598,0.5651804208755493,0.8345707654953003,0.38466018438339233,0.7442537546157837],[0.818034291267395,0.8308700323104858,0.7796618342399597,0.14907781779766083,0.7120240926742554,0.7929943203926086,0.7528300285339355,0.585422158241272,0.8454845547676086,0.8400193452835083,0.7792482376098633,0.8101823329925537,0.7556864023208618,0.7897385358810425,0.7753618955612183,0.646838903427124,0.8043127059936523,0.8020325899124146,0.9999999403953552,0.7835732698440552,0.7892204523086548,0.7190883159637451,0.5184046030044556,0.6922725439071655,0.7744472026824951,0.7355327606201172,0.7294317483901978,0.8189836144447327,0.7129932641983032,0.7711336612701416,0.7878583669662476,0.7383518815040588,0.7994598150253296,0.6770533919334412,0.7574596405029297,0.46044600009918213,0.701654314994812,0.674618124961853,0.7780346870422363,0.7658952474594116,0.47144800424575806,0.4762151837348938,0.8105544447898865,0.44684380292892456,0.572594165802002,0.7201159596443176,0.7176181674003601,0.5893933773040771,0.39905816316604614,0.638508141040802,0.7665610313415527,0.8021836280822754,0.7956466674804688,0.80729079246521,0.7408349514007568,0.756928563117981,0.7502975463867188,0.3719637095928192,0.7431910634040833,0.7910792827606201,0.7190041542053223,0.7215261459350586,0.7657582759857178,0.7825559377670288,0.7548732757568359,0.4439084529876709,0.7868812084197998,0.6912051439285278,0.4141009747982025,0.5640000104904175,0.6457245945930481,0.777060329914093,0.7078093886375427,0.5831317901611328,0.56170654296875,0.8100476264953613,0.3530757427215576,0.7330857515335083],[0.8167687654495239,0.8065537810325623,0.7913918495178223,0.19086334109306335,0.8588696718215942,0.7812427282333374,0.8360950946807861,0.555717945098877,0.9151811599731445,0.7818390130996704,0.771554708480835,0.8296518325805664,0.8994883298873901,0.8760257959365845,0.8130442500114441,0.6566723585128784,0.794865608215332,0.8255369067192078,0.7835732698440552,1.0,0.8031877875328064,0.7197474241256714,0.5703564882278442,0.7285544872283936,0.8775399923324585,0.748020589351654,0.7171005010604858,0.8294216394424438,0.7284364700317383,0.7146276235580444,0.7901222705841064,0.7262693643569946,0.8209983110427856,0.6914072036743164,0.803946316242218,0.5004487037658691,0.6807880401611328,0.8376196622848511,0.754231333732605,0.8444131016731262,0.5041782855987549,0.44559168815612793,0.8161981105804443,0.5496751070022583,0.6251420974731445,0.77962327003479,0.7494546175003052,0.627203643321991,0.4090406596660614,0.6916002631187439,0.8999851942062378,0.7954375743865967,0.8421933650970459,0.9257804155349731,0.7771732807159424,0.7231082916259766,0.7606475353240967,0.5058190226554871,0.7188798189163208,0.8327054381370544,0.8570566773414612,0.7702725529670715,0.7591928243637085,0.7966133952140808,0.9191033840179443,0.5557425022125244,0.8002737760543823,0.7069741487503052,0.4582997262477875,0.5850433111190796,0.693626880645752,0.806704580783844,0.7301202416419983,0.6545188426971436,0.703696608543396,0.8323399424552917,0.6003937125205994,0.7386398315429688],[0.8126678466796875,0.8778412342071533,0.787691056728363,0.12328028678894043,0.7571231126785278,0.8042582273483276,0.803058385848999,0.5851606130599976,0.8532640933990479,0.8054156303405762,0.7790220379829407,0.7940709590911865,0.7657697200775146,0.8337562084197998,0.8378471732139587,0.6291400790214539,0.7515561580657959,0.8009219169616699,0.7892204523086548,0.8031877875328064,1.0000003576278687,0.7279422283172607,0.5105267763137817,0.6832413077354431,0.7744578123092651,0.7319149374961853,0.6839969754219055,0.7995376586914062,0.7172130942344666,0.7579658031463623,0.8127164840698242,0.7639502882957458,0.7861911654472351,0.6482609510421753,0.7523590326309204,0.4558098614215851,0.7091992497444153,0.6932665705680847,0.7346417903900146,0.7789846658706665,0.44597798585891724,0.4119674861431122,0.8269479274749756,0.40546098351478577,0.5499959588050842,0.7456365823745728,0.7950605750083923,0.6180241107940674,0.3643878102302551,0.6369840502738953,0.7988651990890503,0.7841222286224365,0.8041967153549194,0.8123331069946289,0.8964396119117737,0.7325394153594971,0.7335938811302185,0.44827449321746826,0.7689071893692017,0.7911972403526306,0.7036144733428955,0.7274050116539001,0.7566519975662231,0.7666798830032349,0.7572495937347412,0.4523010849952698,0.8021948933601379,0.675838828086853,0.40564799308776855,0.5515398979187012,0.6360576152801514,0.7694865465164185,0.7566686868667603,0.5634255409240723,0.7829769253730774,0.8176208734512329,0.34778475761413574,0.7408154606819153],[0.7905511856079102,0.755346417427063,0.820141077041626,0.15340712666511536,0.6635730266571045,0.7689894437789917,0.7371463775634766,0.5928376913070679,0.7878151535987854,0.7710040807723999,0.7310794591903687,0.7795324325561523,0.775112509727478,0.7292925119400024,0.7591036558151245,0.7399352788925171,0.7689064741134644,0.749804675579071,0.7190883159637451,0.7197474241256714,0.7279422283172607,1.0000001192092896,0.489546000957489,0.6988586187362671,0.7284773588180542,0.7145811319351196,0.6249819397926331,0.768293559551239,0.7309610843658447,0.7304853200912476,0.7340418100357056,0.7182060480117798,0.7657413482666016,0.6235994100570679,0.7269284725189209,0.4171494245529175,0.7052391767501831,0.5954092144966125,0.7724665403366089,0.7365834712982178,0.40803444385528564,0.4368310272693634,0.7513151168823242,0.3736111521720886,0.5262395143508911,0.6938233375549316,0.6794323921203613,0.6194580793380737,0.35049307346343994,0.6398130655288696,0.7214176654815674,0.7408229112625122,0.7735291719436646,0.7362053394317627,0.6941757202148438,0.730350136756897,0.7838638424873352,0.41777122020721436,0.7127372026443481,0.7173814177513123,0.6551076769828796,0.7043020725250244,0.7127745151519775,0.7568100690841675,0.7226525545120239,0.41580694913864136,0.7838979959487915,0.6948622465133667,0.417350709438324,0.5307483673095703,0.6984128952026367,0.7781343460083008,0.6415005326271057,0.5447332859039307,0.5063364505767822,0.7579852342605591,0.3333978056907654,0.7525972127914429],[0.5172104835510254,0.49501168727874756,0.48807013034820557,0.22417482733726501,0.5156720876693726,0.5068161487579346,0.5065775513648987,0.42657214403152466,0.5203740000724792,0.4685024321079254,0.42746567726135254,0.49393367767333984,0.5539437532424927,0.5534565448760986,0.5221285223960876,0.5401819944381714,0.5239678025245667,0.49472928047180176,0.5184046030044556,0.5703564882278442,0.5105267763137817,0.489546000957489,1.0,0.5782033205032349,0.5817354917526245,0.4890577793121338,0.4667753577232361,0.47805166244506836,0.6979082822799683,0.38668036460876465,0.4754321575164795,0.6915296912193298,0.460968017578125,0.5032838582992554,0.49176645278930664,0.4944723844528198,0.47939029335975647,0.5943666696548462,0.4757692813873291,0.5780154466629028,0.4486132264137268,0.42530369758605957,0.5824462175369263,0.7650697231292725,0.49752336740493774,0.508370578289032,0.47878509759902954,0.775626003742218,0.34424498677253723,0.6158105134963989,0.5977721214294434,0.469875693321228,0.4495514929294586,0.5141279697418213,0.48108214139938354,0.6207000017166138,0.48228251934051514,0.5993970632553101,0.5816065073013306,0.45625394582748413,0.4859011173248291,0.5247188806533813,0.4360331892967224,0.540047287940979,0.6040177345275879,0.5073299407958984,0.49317094683647156,0.5335214138031006,0.3871965706348419,0.4710032343864441,0.511745810508728,0.4919957220554352,0.5368316173553467,0.5239977836608887,0.5805171728134155,0.5132386684417725,0.5562424063682556,0.5454464554786682],[0.722467303276062,0.7282066345214844,0.7849794626235962,0.1744888573884964,0.6745732426643372,0.7414158582687378,0.6570515632629395,0.6668318510055542,0.7560034990310669,0.7012150287628174,0.6407413482666016,0.7523857951164246,0.7784579396247864,0.6980714797973633,0.7157137393951416,0.7501511573791504,0.7172964215278625,0.7230610251426697,0.6922725439071655,0.7285544872283936,0.6832413077354431,0.6988586187362671,0.5782033205032349,1.000000238418579,0.7902401685714722,0.6708484888076782,0.6942867040634155,0.7278226613998413,0.7697805166244507,0.7041317224502563,0.6390649080276489,0.7015082836151123,0.708695650100708,0.5924711227416992,0.724772572517395,0.7778508067131042,0.6045341491699219,0.6557537317276001,0.7630541324615479,0.7360184788703918,0.534390926361084,0.5016614198684692,0.7667229175567627,0.47152742743492126,0.6853530406951904,0.7031419277191162,0.6595796346664429,0.702552080154419,0.5680767893791199,0.7019971013069153,0.7048113346099854,0.6897728443145752,0.7258791923522949,0.6941009759902954,0.6453564167022705,0.7387093305587769,0.7078918814659119,0.4134627878665924,0.7116366624832153,0.6644973754882812,0.6233185529708862,0.7710663080215454,0.7003715634346008,0.7622889876365662,0.7779779434204102,0.6627830266952515,0.7257760763168335,0.7211756706237793,0.4694198966026306,0.793429970741272,0.7953411340713501,0.7674996852874756,0.6710148453712463,0.7226016521453857,0.606856107711792,0.7635793685913086,0.4762294888496399,0.7926566004753113],[0.8050644397735596,0.812407374382019,0.8165503740310669,0.1798172891139984,0.792375922203064,0.8018224239349365,0.7652692794799805,0.5363606214523315,0.8898203372955322,0.771618664264679,0.7671111822128296,0.8483844995498657,0.8788279294967651,0.864181399345398,0.8289158344268799,0.6973311901092529,0.8296436667442322,0.8020871877670288,0.7744472026824951,0.8775399923324585,0.7744578123092651,0.7284773588180542,0.5817354917526245,0.7902401685714722,1.0000001192092896,0.7585495114326477,0.6909598112106323,0.8349993824958801,0.8248255252838135,0.7280213832855225,0.7566543221473694,0.7139534950256348,0.822728157043457,0.6762654781341553,0.7943154573440552,0.576961100101471,0.6497362852096558,0.7474277019500732,0.8397772312164307,0.805172324180603,0.46852022409439087,0.4070456922054291,0.8414994478225708,0.4656112790107727,0.6160188317298889,0.7721538543701172,0.7382939457893372,0.7166346311569214,0.3971925973892212,0.6967104077339172,0.8448257446289062,0.8014938831329346,0.8361899852752686,0.8517497181892395,0.7384823560714722,0.7801748514175415,0.7736408710479736,0.45443227887153625,0.7145304679870605,0.7568321228027344,0.7770188450813293,0.7597851157188416,0.7774678468704224,0.8746026754379272,0.8948918581008911,0.5359786152839661,0.8350242972373962,0.7884550094604492,0.4345417618751526,0.6626786589622498,0.6905090808868408,0.8241089582443237,0.6471268534660339,0.6231810450553894,0.6479083895683289,0.7942818403244019,0.5434714555740356,0.7910929918289185],[0.7980860471725464,0.7917119264602661,0.8246586322784424,0.13343170285224915,0.6948312520980835,0.8384990692138672,0.7730069756507874,0.5446653366088867,0.8098389506340027,0.7583409547805786,0.7858715057373047,0.813078761100769,0.777400016784668,0.7629857659339905,0.7578638792037964,0.6731327772140503,0.8166353106498718,0.7475069165229797,0.7355327606201172,0.748020589351654,0.7319149374961853,0.7145811319351196,0.4890577793121338,0.6708484888076782,0.7585495114326477,1.0,0.6267824769020081,0.7794750928878784,0.6981829404830933,0.6967281103134155,0.7412828207015991,0.6686674952507019,0.7723393440246582,0.6238566040992737,0.7430110573768616,0.4363929033279419,0.6692014932632446,0.6137629151344299,0.7610387802124023,0.7398810386657715,0.4577023983001709,0.39917096495628357,0.781994104385376,0.4114128351211548,0.5263359546661377,0.7028056979179382,0.6804891228675842,0.5834130048751831,0.3042731285095215,0.6390783190727234,0.7109755277633667,0.7600423097610474,0.8014005422592163,0.7559421062469482,0.6787947416305542,0.7212840914726257,0.7530874013900757,0.42320019006729126,0.6912966966629028,0.7373411655426025,0.6614582538604736,0.720533549785614,0.7387402057647705,0.7605351209640503,0.7284510731697083,0.4628234803676605,0.7684634327888489,0.6702633500099182,0.43770384788513184,0.4876953363418579,0.6854676008224487,0.7981617450714111,0.6593577861785889,0.5483814477920532,0.49331504106521606,0.7436038851737976,0.30991238355636597,0.758614182472229],[0.7334497570991516,0.7242097854614258,0.7375119924545288,0.1544657051563263,0.5939540863037109,0.7175420522689819,0.653270959854126,0.591497004032135,0.72762131690979,0.7627094984054565,0.6557438373565674,0.7383580207824707,0.6709667444229126,0.6445941925048828,0.6658008694648743,0.7085524797439575,0.6964211463928223,0.6586611270904541,0.7294317483901978,0.7171005010604858,0.6839969754219055,0.6249819397926331,0.4667753577232361,0.6942867040634155,0.6909598112106323,0.6267824769020081,0.9999999403953552,0.7265771627426147,0.6095914840698242,0.6912890672683716,0.7113779783248901,0.6998575329780579,0.7350695729255676,0.6597092151641846,0.7331290245056152,0.5621236562728882,0.6130175590515137,0.6430245637893677,0.6780322790145874,0.6892440915107727,0.629955530166626,0.426471471786499,0.763189435005188,0.4194657802581787,0.6384367942810059,0.6607227921485901,0.6882196664810181,0.5879023671150208,0.3940432071685791,0.6892719268798828,0.6484729051589966,0.6725049018859863,0.7470569610595703,0.6926999688148499,0.6701586246490479,0.6492118239402771,0.710044801235199,0.33653247356414795,0.6821669340133667,0.7172509431838989,0.629895806312561,0.7144330739974976,0.6373587846755981,0.7313907742500305,0.6465399265289307,0.48601189255714417,0.6326243877410889,0.6955230236053467,0.5268610715866089,0.6421504020690918,0.7165521383285522,0.7277010679244995,0.7278695106506348,0.6895063519477844,0.48589015007019043,0.7478101849555969,0.32716187834739685,0.7188246846199036],[0.8737801313400269,0.8712234497070312,0.8581720590591431,0.14307421445846558,0.7607384324073792,0.8590996265411377,0.831999659538269,0.5731116533279419,0.9237427711486816,0.8512389659881592,0.8531232476234436,0.8891434669494629,0.8043113946914673,0.8461308479309082,0.8345080018043518,0.6844601631164551,0.8747856020927429,0.8421676158905029,0.8189836144447327,0.8294216394424438,0.7995376586914062,0.768293559551239,0.47805166244506836,0.7278226613998413,0.8349993824958801,0.7794750928878784,0.7265771627426147,1.000000238418579,0.7409676313400269,0.7948317527770996,0.8407846689224243,0.6961649656295776,0.9455416202545166,0.8170261383056641,0.8336323499679565,0.43046310544013977,0.7227138876914978,0.7035019397735596,0.7961149215698242,0.8002306222915649,0.4851057827472687,0.37959855794906616,0.8395510911941528,0.46791064739227295,0.635980486869812,0.798858106136322,0.752020001411438,0.5848898887634277,0.32341939210891724,0.6471895575523376,0.7863855361938477,0.8795367479324341,0.9019933938980103,0.9340248703956604,0.8400871753692627,0.7528104186058044,0.9055973291397095,0.37927770614624023,0.7409155368804932,0.9280788898468018,0.8540331125259399,0.7878633737564087,0.8355672359466553,0.8704088926315308,0.7925437688827515,0.42666393518447876,0.8307392597198486,0.7062000632286072,0.4395827054977417,0.5770614147186279,0.7088110446929932,0.9052956700325012,0.6999761462211609,0.6417942047119141,0.5033664703369141,0.8552045226097107,0.3154187798500061,0.7990058660507202],[0.7479901313781738,0.7466567754745483,0.7978520393371582,0.20854870975017548,0.6625126004219055,0.7818068265914917,0.6831670999526978,0.5307897329330444,0.7711588144302368,0.7151190042495728,0.6918761730194092,0.7669506072998047,0.7957109212875366,0.7945113182067871,0.7647522687911987,0.7708344459533691,0.7774994373321533,0.7872247099876404,0.7129932641983032,0.7284364700317383,0.7172130942344666,0.7309610843658447,0.6979082822799683,0.7697805166244507,0.8248255252838135,0.6981829404830933,0.6095914840698242,0.7409676313400269,1.0,0.7009270191192627,0.7155552506446838,0.7724990248680115,0.7611472010612488,0.6630195379257202,0.7423204183578491,0.5493727922439575,0.6693881750106812,0.6409465074539185,0.8015599250793457,0.7665719389915466,0.4412979185581207,0.5157753229141235,0.8322687149047852,0.4320986270904541,0.581848680973053,0.7324740886688232,0.6429684162139893,0.8658021688461304,0.4318448007106781,0.752450704574585,0.7628306150436401,0.7175922393798828,0.7583019733428955,0.7167055606842041,0.660990297794342,0.8378599882125854,0.7420417070388794,0.5256689786911011,0.7515925168991089,0.6657943725585938,0.6620031595230103,0.7480655312538147,0.6879774332046509,0.8070311546325684,0.8121631145477295,0.5327826142311096,0.7563842535018921,0.7828579545021057,0.4676700532436371,0.6131640672683716,0.6905543208122253,0.7385574579238892,0.6160115003585815,0.612257719039917,0.5882464647293091,0.7093730568885803,0.4807557463645935,0.7973586320877075],[0.8166470527648926,0.7996325492858887,0.8383418321609497,0.14552682638168335,0.6462169289588928,0.7708827257156372,0.7158113718032837,0.594473123550415,0.8178714513778687,0.8159981369972229,0.7625961303710938,0.8079832196235657,0.755795419216156,0.7367491722106934,0.7828794717788696,0.7265170216560364,0.7756237983703613,0.7829972505569458,0.7711336612701416,0.7146276235580444,0.7579658031463623,0.7304853200912476,0.38668036460876465,0.7041317224502563,0.7280213832855225,0.6967281103134155,0.6912890672683716,0.7948317527770996,0.7009270191192627,1.000000238418579,0.7840344905853271,0.6606577038764954,0.8021790385246277,0.6293841600418091,0.8023539781570435,0.4738077223300934,0.6769236326217651,0.592806339263916,0.7496188879013062,0.7299799919128418,0.3996944725513458,0.38970255851745605,0.7755601406097412,0.3248356878757477,0.5247263312339783,0.6848843097686768,0.7159194946289062,0.5778193473815918,0.37943553924560547,0.6099300384521484,0.7281670570373535,0.7772334814071655,0.8052383661270142,0.7575972676277161,0.7247084379196167,0.6994675397872925,0.7858477830886841,0.3056221008300781,0.6987103223800659,0.754662036895752,0.6593999862670898,0.7611428499221802,0.7134249806404114,0.7562602162361145,0.713628888130188,0.4183903634548187,0.7665703892707825,0.6702542304992676,0.49797406792640686,0.5553373694419861,0.6689972877502441,0.815772294998169,0.6462050676345825,0.5712409615516663,0.4755886495113373,0.7869963645935059,0.24172839522361755,0.7904907464981079],[0.8395201563835144,0.8037760257720947,0.8134498596191406,0.17282743752002716,0.7077606916427612,0.799046516418457,0.8090881109237671,0.6096530556678772,0.8465316295623779,0.848807692527771,0.8005226254463196,0.8229798674583435,0.747971773147583,0.7910671830177307,0.8026954531669617,0.6615005731582642,0.7958606481552124,0.8228316307067871,0.7878583669662476,0.7901222705841064,0.8127164840698242,0.7340418100357056,0.4754321575164795,0.6390649080276489,0.7566543221473694,0.7412828207015991,0.7113779783248901,0.8407846689224243,0.7155552506446838,0.7840344905853271,1.000000238418579,0.7821277379989624,0.8221001625061035,0.6993399262428284,0.7438137531280518,0.3902796506881714,0.7964422702789307,0.6715409755706787,0.7543106079101562,0.7932673692703247,0.4491552710533142,0.418876051902771,0.8282091617584229,0.4139576554298401,0.5669865012168884,0.7032158374786377,0.7511916160583496,0.5779749155044556,0.3450174927711487,0.6431012153625488,0.8804869651794434,0.8228691816329956,0.8537315130233765,0.8090469241142273,0.7641001343727112,0.7587240934371948,0.7901865243911743,0.43829649686813354,0.8236991167068481,0.8295079469680786,0.7328661680221558,0.7263761162757874,0.7671195864677429,0.7626520395278931,0.735825777053833,0.40849584341049194,0.8124284744262695,0.6519588232040405,0.40302205085754395,0.5121653079986572,0.6534790992736816,0.7758013606071472,0.7748153209686279,0.5631581544876099,0.5066187977790833,0.8504713773727417,0.3006267845630646,0.7293540239334106],[0.7862915992736816,0.7225211262702942,0.7054403424263,0.15312018990516663,0.6766660213470459,0.7303959727287292,0.7285372018814087,0.6912557482719421,0.7512285113334656,0.7779145240783691,0.6648894548416138,0.7380740642547607,0.7068051695823669,0.768095076084137,0.7428725361824036,0.6586186289787292,0.6909053325653076,0.7167821526527405,0.7383518815040588,0.7262693643569946,0.7639502882957458,0.7182060480117798,0.6915296912193298,0.7015082836151123,0.7139534950256348,0.6686674952507019,0.6998575329780579,0.6961649656295776,0.7724990248680115,0.6606577038764954,0.7821277379989624,1.0,0.6891377568244934,0.6459490656852722,0.6615352630615234,0.5208837389945984,0.7821438312530518,0.6287682056427002,0.7087593674659729,0.7578072547912598,0.5083246231079102,0.4846372902393341,0.8588423132896423,0.4093257188796997,0.5983383655548096,0.6345571875572205,0.7212902903556824,0.7656755447387695,0.3906535506248474,0.7018784284591675,0.8177067041397095,0.6592401266098022,0.6796931028366089,0.6883785724639893,0.6982154846191406,0.7704225182533264,0.6679439544677734,0.48278453946113586,0.8268032073974609,0.711272120475769,0.6527824401855469,0.6962113380432129,0.6908011436462402,0.6927525997161865,0.7020664215087891,0.46481555700302124,0.7531634569168091,0.6887658834457397,0.4457716643810272,0.5958539247512817,0.6363152265548706,0.6848239898681641,0.8556699752807617,0.6055442094802856,0.6123180985450745,0.7994245886802673,0.464979887008667,0.7200724482536316],[0.8578633666038513,0.8521226644515991,0.8644537329673767,0.16447851061820984,0.7231948971748352,0.8541973233222961,0.8322876691818237,0.5604501962661743,0.891372799873352,0.8281342387199402,0.8497976064682007,0.8876968622207642,0.8118618726730347,0.8329794406890869,0.841162919998169,0.7085072994232178,0.8746625185012817,0.8282729983329773,0.7994598150253296,0.8209983110427856,0.7861911654472351,0.7657413482666016,0.460968017578125,0.708695650100708,0.822728157043457,0.7723393440246582,0.7350695729255676,0.9455416202545166,0.7611472010612488,0.8021790385246277,0.8221001625061035,0.6891377568244934,1.0,0.8307056427001953,0.8782482743263245,0.4471557140350342,0.7204698324203491,0.6974805593490601,0.8061444759368896,0.7756015062332153,0.47030359506607056,0.38676542043685913,0.8214677572250366,0.4373660683631897,0.5911639928817749,0.781650185585022,0.7474848031997681,0.6198248863220215,0.3327198624610901,0.6779060959815979,0.7689210176467896,0.858918309211731,0.91746586561203,0.9050291776657104,0.8246399164199829,0.7535402774810791,0.9056680798530579,0.42561817169189453,0.744468092918396,0.9211543798446655,0.8578455448150635,0.7932894229888916,0.8112454414367676,0.8916157484054565,0.8118431568145752,0.40223976969718933,0.82220858335495,0.7470370531082153,0.5371878147125244,0.5817192196846008,0.6894310712814331,0.8782997131347656,0.6978057622909546,0.6084234714508057,0.4929247796535492,0.8236631155014038,0.3283500075340271,0.8233239650726318],[0.7379804253578186,0.7384989261627197,0.6599602699279785,0.2434687316417694,0.6159597635269165,0.6755693554878235,0.6968035697937012,0.5337603688240051,0.71462082862854,0.6979033946990967,0.637200117111206,0.7122923135757446,0.6420224905014038,0.6857571005821228,0.6434531807899475,0.6225143074989319,0.759205162525177,0.6651502847671509,0.6770533919334412,0.6914072036743164,0.6482609510421753,0.6235994100570679,0.5032838582992554,0.5924711227416992,0.6762654781341553,0.6238566040992737,0.6597092151641846,0.8170261383056641,0.6630195379257202,0.6293841600418091,0.6993399262428284,0.6459490656852722,0.8307056427001953,1.0000001192092896,0.6913573741912842,0.410545289516449,0.6504316329956055,0.6269346475601196,0.6455560922622681,0.6709142327308655,0.6031079292297363,0.459520161151886,0.6923831701278687,0.4445033669471741,0.7046585083007812,0.6662033796310425,0.6211249828338623,0.6106101274490356,0.30714502930641174,0.6184778809547424,0.6851366758346558,0.6946104764938354,0.6733716726303101,0.8104908466339111,0.7849169373512268,0.6404800415039062,0.8502804040908813,0.42426759004592896,0.6454458236694336,0.8677371740341187,0.8959047794342041,0.6630070209503174,0.6121468544006348,0.6909027099609375,0.6767860054969788,0.3653333783149719,0.6346272230148315,0.6340830326080322,0.492550253868103,0.5506794452667236,0.6504667401313782,0.6934424638748169,0.6528161764144897,0.6957422494888306,0.511565625667572,0.6510194540023804,0.3769737482070923,0.6302910447120667],[0.785460352897644,0.7881866693496704,0.8566792011260986,0.15226706862449646,0.7099066376686096,0.8097018003463745,0.7739080786705017,0.5056299567222595,0.8412997126579285,0.7686988711357117,0.7930177450180054,0.8196929693222046,0.8067346215248108,0.7945857048034668,0.8222209215164185,0.7404515147209167,0.8255040049552917,0.7692468166351318,0.7574596405029297,0.803946316242218,0.7523590326309204,0.7269284725189209,0.49176645278930664,0.724772572517395,0.7943154573440552,0.7430110573768616,0.7331290245056152,0.8336323499679565,0.7423204183578491,0.8023539781570435,0.7438137531280518,0.6615352630615234,0.8782482743263245,0.6913573741912842,0.9999997019767761,0.5053225159645081,0.6293255090713501,0.711540699005127,0.7849656939506531,0.7495116591453552,0.4747675061225891,0.39408934116363525,0.8047561645507812,0.44220030307769775,0.551662027835846,0.7409926056861877,0.7094544172286987,0.6526362895965576,0.38002246618270874,0.7076157927513123,0.7228970527648926,0.794841468334198,0.8846290111541748,0.8157142400741577,0.7320932149887085,0.7248647212982178,0.8059811592102051,0.445686936378479,0.6746274828910828,0.7815195918083191,0.7355829477310181,0.8228278756141663,0.7528908252716064,0.8527030944824219,0.8099837303161621,0.4984681010246277,0.742952823638916,0.7648298740386963,0.7396508455276489,0.6044540405273438,0.7076056003570557,0.845716655254364,0.6624463200569153,0.6037588715553284,0.5297281742095947,0.7638089656829834,0.3719579875469208,0.9119079113006592],[0.4737726151943207,0.47239720821380615,0.4886329174041748,0.24110636115074158,0.4434082508087158,0.4682373106479645,0.41968175768852234,0.5766876935958862,0.47806516289711,0.4689979553222656,0.35286930203437805,0.49501341581344604,0.47871124744415283,0.45565539598464966,0.45798832178115845,0.5257087349891663,0.45417869091033936,0.4750707149505615,0.46044600009918213,0.5004487037658691,0.4558098614215851,0.4171494245529175,0.4944723844528198,0.7778508067131042,0.576961100101471,0.4363929033279419,0.5621236562728882,0.43046310544013977,0.5493727922439575,0.4738077223300934,0.3902796506881714,0.5208837389945984,0.4471557140350342,0.410545289516449,0.5053225159645081,1.000000238418579,0.39711901545524597,0.554639458656311,0.48742640018463135,0.47760069370269775,0.546073317527771,0.3749105930328369,0.5445218086242676,0.3948614001274109,0.5417467355728149,0.41260427236557007,0.46443629264831543,0.5781861543655396,0.6302416324615479,0.541858434677124,0.46621644496917725,0.4295521378517151,0.442699134349823,0.43527936935424805,0.41787630319595337,0.4999644160270691,0.4076024293899536,0.364249050617218,0.5239708423614502,0.4164500832557678,0.37401890754699707,0.502665638923645,0.48843270540237427,0.5252665877342224,0.515224814414978,0.6365240216255188,0.45784810185432434,0.5145469903945923,0.40339624881744385,0.7778649926185608,0.541341245174408,0.4585738182067871,0.48871609568595886,0.5374606251716614,0.4807336926460266,0.5149338245391846,0.42153865098953247,0.556423544883728],[0.8832463026046753,0.713599681854248,0.7019317746162415,0.16385318338871002,0.6560230851173401,0.7151868343353271,0.7378343343734741,0.814141035079956,0.7320175766944885,0.8130114078521729,0.6857250332832336,0.7299314737319946,0.668369710445404,0.7169072031974792,0.7067504525184631,0.6031805276870728,0.6906447410583496,0.7099884152412415,0.701654314994812,0.6807880401611328,0.7091992497444153,0.7052391767501831,0.47939029335975647,0.6045341491699219,0.6497362852096558,0.6692014932632446,0.6130175590515137,0.7227138876914978,0.6693881750106812,0.6769236326217651,0.7964422702789307,0.7821438312530518,0.7204698324203491,0.6504316329956055,0.6293255090713501,0.39711901545524597,1.0000001192092896,0.5370703339576721,0.633974015712738,0.7070902585983276,0.37749671936035156,0.3939051926136017,0.7595908641815186,0.36638832092285156,0.5244611501693726,0.6218439936637878,0.6791257262229919,0.5316681265830994,0.3133850693702698,0.5604451894760132,0.7449891567230225,0.6658130884170532,0.6951573491096497,0.7063656449317932,0.6884341239929199,0.6848873496055603,0.6962679624557495,0.4011532962322235,0.7496510148048401,0.7460356950759888,0.6724935173988342,0.6455092430114746,0.6961272954940796,0.633825421333313,0.6422469019889832,0.3179932236671448,0.718966543674469,0.5843656063079834,0.39024829864501953,0.44276681542396545,0.5753210783004761,0.6916429996490479,0.7353415489196777,0.5313478708267212,0.4687759280204773,0.7635359168052673,0.3166165053844452,0.6581979990005493],[0.683265745639801,0.6982759833335876,0.6446565389633179,0.2430671602487564,0.711181640625,0.6501121520996094,0.7003912925720215,0.5100842118263245,0.7409150004386902,0.6711491942405701,0.6169406175613403,0.6887798309326172,0.6835607290267944,0.6931511163711548,0.6720617413520813,0.5809489488601685,0.659767210483551,0.6968153715133667,0.674618124961853,0.8376196622848511,0.6932665705680847,0.5954092144966125,0.5943666696548462,0.6557537317276001,0.7474277019500732,0.6137629151344299,0.6430245637893677,0.7035019397735596,0.6409465074539185,0.592806339263916,0.6715409755706787,0.6287682056427002,0.6974805593490601,0.6269346475601196,0.711540699005127,0.554639458656311,0.5370703339576721,0.9999997615814209,0.6396175622940063,0.7176830172538757,0.5007269978523254,0.39527779817581177,0.6661441326141357,0.5843109488487244,0.5914862155914307,0.668973445892334,0.6395666599273682,0.6271353960037231,0.4418126940727234,0.6226382255554199,0.7344192266464233,0.6913493871688843,0.6992648839950562,0.7996441721916199,0.675213098526001,0.6177006363868713,0.6367491483688354,0.5662139058113098,0.6507135629653931,0.7018221616744995,0.6881758570671082,0.6340786814689636,0.6579295992851257,0.6914886832237244,0.7116698622703552,0.6024621725082397,0.6789332628250122,0.6322771310806274,0.4533485770225525,0.6319258213043213,0.5933625102043152,0.6635631322860718,0.6278409957885742,0.5936988592147827,0.6475849747657776,0.683000922203064,0.4859687089920044,0.619466245174408],[0.7786701917648315,0.7835872173309326,0.8781226873397827,0.1781490594148636,0.6955826282501221,0.8028355836868286,0.762415885925293,0.5175319910049438,0.8317415118217468,0.8146743774414062,0.7648627758026123,0.8261544704437256,0.8392532467842102,0.7894424200057983,0.8091288805007935,0.7968252897262573,0.8431678414344788,0.8028894662857056,0.7780346870422363,0.754231333732605,0.7346417903900146,0.7724665403366089,0.4757692813873291,0.7630541324615479,0.8397772312164307,0.7610387802124023,0.6780322790145874,0.7961149215698242,0.8015599250793457,0.7496188879013062,0.7543106079101562,0.7087593674659729,0.8061444759368896,0.6455560922622681,0.7849656939506531,0.48742640018463135,0.633974015712738,0.6396175622940063,0.9999998807907104,0.7831698656082153,0.4597264528274536,0.49092715978622437,0.8041833639144897,0.38399553298950195,0.6110248565673828,0.7560620903968811,0.7091786861419678,0.6835716366767883,0.39202678203582764,0.6875418424606323,0.741985559463501,0.7890505790710449,0.8289459943771362,0.7545053958892822,0.6789909601211548,0.7951101064682007,0.7984856367111206,0.4516178071498871,0.745431661605835,0.7354248762130737,0.6844667196273804,0.741075873374939,0.7684781551361084,0.8204246759414673,0.7910215258598328,0.5124611854553223,0.8285863995552063,0.8499439358711243,0.47661688923835754,0.5778502225875854,0.7761927247047424,0.794927716255188,0.6534632444381714,0.6041914224624634,0.5403302907943726,0.7715015411376953,0.39607688784599304,0.8060880303382874],[0.8364623785018921,0.7956030368804932,0.8303030729293823,0.15786433219909668,0.8025867342948914,0.7758728861808777,0.8270139694213867,0.6124156713485718,0.8494718670845032,0.8023183345794678,0.7640899419784546,0.8138277530670166,0.8448121547698975,0.8287689089775085,0.8003230094909668,0.7099506855010986,0.8023818731307983,0.8140057325363159,0.7658952474594116,0.8444131016731262,0.7789846658706665,0.7365834712982178,0.5780154466629028,0.7360184788703918,0.805172324180603,0.7398810386657715,0.6892440915107727,0.8002306222915649,0.7665719389915466,0.7299799919128418,0.7932673692703247,0.7578072547912598,0.7756015062332153,0.6709142327308655,0.7495116591453552,0.47760069370269775,0.7070902585983276,0.7176830172538757,0.7831698656082153,1.0,0.488861083984375,0.49331849813461304,0.8330899477005005,0.4932789206504822,0.6192386746406555,0.7713261246681213,0.7699726819992065,0.6402263641357422,0.4013456404209137,0.6685866713523865,0.8291523456573486,0.7700967192649841,0.7956146001815796,0.8300744295120239,0.768134355545044,0.74379962682724,0.7818191647529602,0.5180802941322327,0.7670180201530457,0.7878026366233826,0.7553249597549438,0.7266099452972412,0.7346593141555786,0.7313199043273926,0.7966458797454834,0.5113606452941895,0.8016197681427002,0.7162958383560181,0.4504159986972809,0.5675288438796997,0.7567581534385681,0.767751932144165,0.7683265209197998,0.6359258890151978,0.6204183101654053,0.8192012310028076,0.45933398604393005,0.7494491338729858],[0.46898943185806274,0.48804596066474915,0.44058758020401,0.29950273036956787,0.3999905586242676,0.4372226595878601,0.4593411684036255,0.43936097621917725,0.47139233350753784,0.47524937987327576,0.3476760685443878,0.4726310968399048,0.3951243460178375,0.4479804039001465,0.43533793091773987,0.48092228174209595,0.4548255205154419,0.41572850942611694,0.47144800424575806,0.5041782855987549,0.44597798585891724,0.40803444385528564,0.4486132264137268,0.534390926361084,0.46852022409439087,0.4577023983001709,0.629955530166626,0.4851057827472687,0.4412979185581207,0.3996944725513458,0.4491552710533142,0.5083246231079102,0.47030359506607056,0.6031079292297363,0.4747675061225891,0.546073317527771,0.37749671936035156,0.5007269978523254,0.4597264528274536,0.488861083984375,1.0,0.4628141522407532,0.5527516603469849,0.403374582529068,0.7787692546844482,0.42601072788238525,0.46697306632995605,0.5007688403129578,0.36378252506256104,0.6595038771629333,0.4453003406524658,0.40821725130081177,0.46768027544021606,0.4729745388031006,0.4820418953895569,0.43350887298583984,0.4692462086677551,0.37058621644973755,0.49758994579315186,0.4798772931098938,0.4623154401779175,0.48497143387794495,0.4272940456867218,0.5371074676513672,0.45326870679855347,0.4558171033859253,0.3851199150085449,0.48653656244277954,0.3957330584526062,0.6025493144989014,0.7343835830688477,0.4497221112251282,0.592171311378479,0.7437465190887451,0.4259505271911621,0.4674830436706543,0.35587549209594727,0.4853931665420532],[0.4156922698020935,0.4323965609073639,0.46440649032592773,0.2968958616256714,0.3351573646068573,0.4282647669315338,0.3672347068786621,0.3898699879646301,0.41148391366004944,0.41463184356689453,0.3466417193412781,0.42153286933898926,0.46029770374298096,0.42399173974990845,0.36851614713668823,0.5458689332008362,0.4409424662590027,0.46014171838760376,0.4762151837348938,0.44559168815612793,0.4119674861431122,0.4368310272693634,0.42530369758605957,0.5016614198684692,0.4070456922054291,0.39917096495628357,0.426471471786499,0.37959855794906616,0.5157753229141235,0.38970255851745605,0.418876051902771,0.4846372902393341,0.38676542043685913,0.459520161151886,0.39408934116363525,0.3749105930328369,0.3939051926136017,0.39527779817581177,0.49092715978622437,0.49331849813461304,0.4628141522407532,1.0000001192092896,0.49001094698905945,0.3386214077472687,0.47203248739242554,0.4388974905014038,0.3708123564720154,0.5133777856826782,0.418940007686615,0.5603907108306885,0.4487982988357544,0.39687296748161316,0.3786831498146057,0.3852541446685791,0.3709660470485687,0.47179174423217773,0.44364848732948303,0.3057049512863159,0.49592459201812744,0.3838619887828827,0.4218955934047699,0.45045650005340576,0.37535035610198975,0.3822668790817261,0.4842911958694458,0.44913122057914734,0.4236898124217987,0.4508531093597412,0.36939966678619385,0.46361494064331055,0.5152835249900818,0.37621423602104187,0.4552289545536041,0.5128903388977051,0.4580460786819458,0.4294213056564331,0.44981813430786133,0.4542142152786255],[0.8650400638580322,0.8327680826187134,0.8418752551078796,0.15009137988090515,0.7550930976867676,0.8487730026245117,0.7771574258804321,0.6587837934494019,0.8627610802650452,0.8490719199180603,0.7976007461547852,0.8605757355690002,0.7978578805923462,0.8613876104354858,0.8268934488296509,0.704863965511322,0.8054317235946655,0.8202452659606934,0.8105544447898865,0.8161981105804443,0.8269479274749756,0.7513151168823242,0.5824462175369263,0.7667229175567627,0.8414994478225708,0.781994104385376,0.763189435005188,0.8395510911941528,0.8322687149047852,0.7755601406097412,0.8282091617584229,0.8588423132896423,0.8214677572250366,0.6923831701278687,0.8047561645507812,0.5445218086242676,0.7595908641815186,0.6661441326141357,0.8041833639144897,0.8330899477005005,0.5527516603469849,0.49001094698905945,1.0,0.40678346157073975,0.640986442565918,0.7328463792800903,0.7882639169692993,0.7114609479904175,0.423270583152771,0.7609842419624329,0.8242592811584473,0.7922863960266113,0.8419524431228638,0.7985948324203491,0.7661764621734619,0.8175572156906128,0.7694694995880127,0.3994812071323395,0.7956010103225708,0.7890293598175049,0.716162383556366,0.7876360416412354,0.8115503787994385,0.8396874666213989,0.7908371686935425,0.48184555768966675,0.8282042145729065,0.7762707471847534,0.5150556564331055,0.6697069406509399,0.7139654159545898,0.808269202709198,0.7974491119384766,0.6509072780609131,0.5953012704849243,0.8485198020935059,0.3834826946258545,0.8421429395675659],[0.44255930185317993,0.41060614585876465,0.40381360054016113,0.27018100023269653,0.4654119610786438,0.3897693157196045,0.4935256540775299,0.3739611506462097,0.4637569189071655,0.4090948700904846,0.35133975744247437,0.42190611362457275,0.4545779228210449,0.4535517692565918,0.4168344736099243,0.38365161418914795,0.4495387375354767,0.4264082610607147,0.44684380292892456,0.5496751070022583,0.40546098351478577,0.3736111521720886,0.7650697231292725,0.47152742743492126,0.4656112790107727,0.4114128351211548,0.4194657802581787,0.46791064739227295,0.4320986270904541,0.3248356878757477,0.4139576554298401,0.4093257188796997,0.4373660683631897,0.4445033669471741,0.44220030307769775,0.3948614001274109,0.36638832092285156,0.5843109488487244,0.38399553298950195,0.4932789206504822,0.403374582529068,0.3386214077472687,0.40678346157073975,1.0,0.4950944185256958,0.44407323002815247,0.41178053617477417,0.4486244320869446,0.28619110584259033,0.4037207365036011,0.48101744055747986,0.4385812282562256,0.42050668597221375,0.5044618844985962,0.40905362367630005,0.4035634994506836,0.4315808415412903,0.52089524269104,0.46812355518341064,0.4726766347885132,0.47816556692123413,0.4336030185222626,0.40009447932243347,0.43378686904907227,0.5118371248245239,0.4530956745147705,0.39445188641548157,0.39018088579177856,0.340160071849823,0.37635642290115356,0.4540148973464966,0.45663344860076904,0.47664526104927063,0.4837382435798645,0.47058454155921936,0.46315550804138184,0.4792519211769104,0.38974571228027344],[0.5982381105422974,0.5957142114639282,0.5820441842079163,0.2558499276638031,0.5749155282974243,0.5447609424591064,0.5732446908950806,0.525276243686676,0.6096675395965576,0.585435152053833,0.4796999394893646,0.5963382720947266,0.5699578523635864,0.567441463470459,0.5494560599327087,0.5885135531425476,0.6066879034042358,0.5844436287879944,0.572594165802002,0.6251420974731445,0.5499959588050842,0.5262395143508911,0.49752336740493774,0.6853530406951904,0.6160188317298889,0.5263359546661377,0.6384367942810059,0.635980486869812,0.581848680973053,0.5247263312339783,0.5669865012168884,0.5983383655548096,0.5911639928817749,0.7046585083007812,0.551662027835846,0.5417467355728149,0.5244611501693726,0.5914862155914307,0.6110248565673828,0.6192386746406555,0.7787692546844482,0.47203248739242554,0.640986442565918,0.4950944185256958,0.9999997615814209,0.6024574041366577,0.5428484678268433,0.5454811453819275,0.36832135915756226,0.5834659934043884,0.6089181303977966,0.5380373597145081,0.5596803426742554,0.6170307397842407,0.5764249563217163,0.5437771081924438,0.6026374697685242,0.3954162001609802,0.573338508605957,0.6196081042289734,0.6299766302108765,0.603454053401947,0.5458190441131592,0.5955123901367188,0.6184440851211548,0.45175468921661377,0.5612968802452087,0.5720651149749756,0.3959062397480011,0.6160573959350586,0.781548261642456,0.6034488677978516,0.6774073839187622,0.8899819850921631,0.5333096981048584,0.6199184656143188,0.41424286365509033,0.5710532665252686],[0.7621927261352539,0.8136286735534668,0.8120712041854858,0.10300865024328232,0.7539084553718567,0.7833560705184937,0.7561260461807251,0.48546281456947327,0.8226127624511719,0.732553243637085,0.7340974807739258,0.7788559794425964,0.8128635883331299,0.7526740431785583,0.7597204446792603,0.7075939178466797,0.799199104309082,0.7884864807128906,0.7201159596443176,0.77962327003479,0.7456365823745728,0.6938233375549316,0.508370578289032,0.7031419277191162,0.7721538543701172,0.7028056979179382,0.6607227921485901,0.798858106136322,0.7324740886688232,0.6848843097686768,0.7032158374786377,0.6345571875572205,0.781650185585022,0.6662033796310425,0.7409926056861877,0.41260427236557007,0.6218439936637878,0.668973445892334,0.7560620903968811,0.7713261246681213,0.42601072788238525,0.4388974905014038,0.7328463792800903,0.44407323002815247,0.6024574041366577,1.0,0.6860368251800537,0.6215437650680542,0.3608180284500122,0.6216421127319336,0.7257907390594482,0.7656852006912231,0.7768350839614868,0.7992121577262878,0.7256981134414673,0.6970361471176147,0.7744173407554626,0.4455373287200928,0.634530782699585,0.7503290772438049,0.729602575302124,0.7456918358802795,0.7040791511535645,0.7494074702262878,0.7722121477127075,0.5025584697723389,0.740605354309082,0.6850704550743103,0.4332151710987091,0.49022823572158813,0.7136780023574829,0.8136494159698486,0.6330392360687256,0.6520758867263794,0.598068356513977,0.7121109962463379,0.3947179317474365,0.7355307340621948],[0.7722169756889343,0.7570313215255737,0.7307471632957458,0.10973380506038666,0.7390587329864502,0.7481956481933594,0.778017520904541,0.5833871364593506,0.7952468395233154,0.7797142267227173,0.7506992220878601,0.7637366056442261,0.7037971019744873,0.7652680277824402,0.8080364465713501,0.5597847104072571,0.6916124224662781,0.7331469655036926,0.7176181674003601,0.7494546175003052,0.7950605750083923,0.6794323921203613,0.47878509759902954,0.6595796346664429,0.7382939457893372,0.6804891228675842,0.6882196664810181,0.752020001411438,0.6429684162139893,0.7159194946289062,0.7511916160583496,0.7212902903556824,0.7474848031997681,0.6211249828338623,0.7094544172286987,0.46443629264831543,0.6791257262229919,0.6395666599273682,0.7091786861419678,0.7699726819992065,0.46697306632995605,0.3708123564720154,0.7882639169692993,0.41178053617477417,0.5428484678268433,0.6860368251800537,0.9999999403953552,0.5539067983627319,0.3476247191429138,0.5598410367965698,0.7404495477676392,0.7168930768966675,0.7437322735786438,0.7595726251602173,0.8188561201095581,0.6623917818069458,0.6657475233078003,0.42955464124679565,0.734498143196106,0.7598645091056824,0.6647192239761353,0.708935558795929,0.7122321128845215,0.7011029720306396,0.6837207674980164,0.43651553988456726,0.7443794012069702,0.6355196237564087,0.4220297932624817,0.5410947799682617,0.5938764810562134,0.7438912391662598,0.7964080572128296,0.5898371934890747,0.564875602722168,0.7898660898208618,0.28816720843315125,0.6878067851066589],[0.6195402145385742,0.646054744720459,0.6546971201896667,0.2493070363998413,0.5554408431053162,0.6514602899551392,0.5677862167358398,0.47487354278564453,0.6325118541717529,0.5963338017463684,0.5411227941513062,0.6370682120323181,0.6769569516181946,0.6490830183029175,0.6250209808349609,0.7437418103218079,0.64902663230896,0.6200165748596191,0.5893933773040771,0.627203643321991,0.6180241107940674,0.6194580793380737,0.775626003742218,0.702552080154419,0.7166346311569214,0.5834130048751831,0.5879023671150208,0.5848898887634277,0.8658021688461304,0.5778193473815918,0.5779749155044556,0.7656755447387695,0.6198248863220215,0.6106101274490356,0.6526362895965576,0.5781861543655396,0.5316681265830994,0.6271353960037231,0.6835716366767883,0.6402263641357422,0.5007688403129578,0.5133777856826782,0.7114609479904175,0.4486244320869446,0.5454811453819275,0.6215437650680542,0.5539067983627319,0.9999997019767761,0.42770302295684814,0.7680808305740356,0.6819812059402466,0.5701678991317749,0.5944889187812805,0.5915323495864868,0.5677683353424072,0.724359393119812,0.6394326686859131,0.5555859804153442,0.6585191488265991,0.5404604077339172,0.561055064201355,0.6649233102798462,0.5497725009918213,0.6864513158798218,0.721470057964325,0.5680174231529236,0.6039839386940002,0.7432452440261841,0.5098997354507446,0.6483559608459473,0.6380037069320679,0.6077828407287598,0.5745396614074707,0.6000301837921143,0.6262259483337402,0.581268310546875,0.5494135022163391,0.7038833498954773],[0.37156981229782104,0.3612059950828552,0.3630782961845398,0.21296624839305878,0.35576844215393066,0.3328292965888977,0.3223441243171692,0.47704434394836426,0.3771839439868927,0.3962029218673706,0.2851933240890503,0.3592049777507782,0.3636285662651062,0.34955573081970215,0.33586686849594116,0.45256584882736206,0.3365042209625244,0.6173839569091797,0.39905816316604614,0.4090406596660614,0.3643878102302551,0.35049307346343994,0.34424498677253723,0.5680767893791199,0.3971925973892212,0.3042731285095215,0.3940432071685791,0.32341939210891724,0.4318448007106781,0.37943553924560547,0.3450174927711487,0.3906535506248474,0.3327198624610901,0.30714502930641174,0.38002246618270874,0.6302416324615479,0.3133850693702698,0.4418126940727234,0.39202678203582764,0.4013456404209137,0.36378252506256104,0.418940007686615,0.423270583152771,0.28619110584259033,0.36832135915756226,0.3608180284500122,0.3476247191429138,0.42770302295684814,1.0,0.44657009840011597,0.40378329157829285,0.3737413287162781,0.3229535222053528,0.33785027265548706,0.3112069368362427,0.31825870275497437,0.32892894744873047,0.29978716373443604,0.42786166071891785,0.3303224444389343,0.3167913854122162,0.3810468316078186,0.37678152322769165,0.3257904648780823,0.43744099140167236,0.4409874677658081,0.3362247049808502,0.34388989210128784,0.32216259837150574,0.5293757915496826,0.4155474603176117,0.3497616648674011,0.38578271865844727,0.4111386835575104,0.40217044949531555,0.40361589193344116,0.37593555450439453,0.37167149782180786],[0.6517271995544434,0.6528952121734619,0.7061386108398438,0.2397339940071106,0.5206459760665894,0.6728484630584717,0.6082518100738525,0.5263954401016235,0.681394636631012,0.642533540725708,0.577284574508667,0.6956998705863953,0.6624675989151001,0.6466844081878662,0.6416274309158325,0.7558464407920837,0.6589197516441345,0.6192748546600342,0.638508141040802,0.6916002631187439,0.6369840502738953,0.6398130655288696,0.6158105134963989,0.7019971013069153,0.6967104077339172,0.6390783190727234,0.6892719268798828,0.6471895575523376,0.752450704574585,0.6099300384521484,0.6431012153625488,0.7018784284591675,0.6779060959815979,0.6184778809547424,0.7076157927513123,0.541858434677124,0.5604451894760132,0.6226382255554199,0.6875418424606323,0.6685866713523865,0.6595038771629333,0.5603907108306885,0.7609842419624329,0.4037207365036011,0.5834659934043884,0.6216421127319336,0.5598410367965698,0.7680808305740356,0.44657009840011597,1.0,0.6466015577316284,0.6281934976577759,0.744295597076416,0.6233289241790771,0.5618183612823486,0.7048932909965515,0.6889055967330933,0.5106732845306396,0.6571089029312134,0.5769203901290894,0.5622470378875732,0.7081528306007385,0.6103825569152832,0.7790968418121338,0.7207252979278564,0.5602661371231079,0.6075834631919861,0.7345513105392456,0.5377951860427856,0.6742687225341797,0.7842472791671753,0.6554243564605713,0.6105397939682007,0.644878625869751,0.5190882682800293,0.6130079030990601,0.4460792541503906,0.7715908288955688],[0.8281677961349487,0.7886024713516235,0.7543208003044128,0.1809665560722351,0.8322614431381226,0.7533910870552063,0.7919366359710693,0.6162781715393066,0.8705375790596008,0.7988311052322388,0.7351551055908203,0.795917272567749,0.8542298078536987,0.8501772284507751,0.8082955479621887,0.6432149410247803,0.7728544473648071,0.8206980228424072,0.7665610313415527,0.8999851942062378,0.7988651990890503,0.7214176654815674,0.5977721214294434,0.7048113346099854,0.8448257446289062,0.7109755277633667,0.6484729051589966,0.7863855361938477,0.7628306150436401,0.7281670570373535,0.8804869651794434,0.8177067041397095,0.7689210176467896,0.6851366758346558,0.7228970527648926,0.46621644496917725,0.7449891567230225,0.7344192266464233,0.741985559463501,0.8291523456573486,0.4453003406524658,0.4487982988357544,0.8242592811584473,0.48101744055747986,0.6089181303977966,0.7257907390594482,0.7404495477676392,0.6819812059402466,0.40378329157829285,0.6466015577316284,0.9999998807907104,0.7726223468780518,0.768405556678772,0.850348711013794,0.7657012939453125,0.7531431317329407,0.7408050894737244,0.48578429222106934,0.7790629863739014,0.7854987382888794,0.8196048736572266,0.731059193611145,0.7418807744979858,0.7412732839584351,0.8745709657669067,0.4872310161590576,0.8033767342567444,0.672439455986023,0.3983713388442993,0.551461398601532,0.6491042375564575,0.7480138540267944,0.7549111843109131,0.6145745515823364,0.7074452638626099,0.8168475031852722,0.5924502611160278,0.7061519622802734],[0.8050152659416199,0.8160963654518127,0.8382778167724609,0.13611996173858643,0.7388034462928772,0.8117713928222656,0.7545781135559082,0.49590256810188293,0.8671042323112488,0.802693247795105,0.8237020969390869,0.8490524291992188,0.7906507253646851,0.7919821739196777,0.8150287866592407,0.6721917390823364,0.816960334777832,0.8287451267242432,0.8021836280822754,0.7954375743865967,0.7841222286224365,0.7408229112625122,0.469875693321228,0.6897728443145752,0.8014938831329346,0.7600423097610474,0.6725049018859863,0.8795367479324341,0.7175922393798828,0.7772334814071655,0.8228691816329956,0.6592401266098022,0.858918309211731,0.6946104764938354,0.794841468334198,0.4295521378517151,0.6658130884170532,0.6913493871688843,0.7890505790710449,0.7700967192649841,0.40821725130081177,0.39687296748161316,0.7922863960266113,0.4385812282562256,0.5380373597145081,0.7656852006912231,0.7168930768966675,0.5701678991317749,0.3737413287162781,0.6281934976577759,0.7726223468780518,0.9999999403953552,0.8636703491210938,0.8539469242095947,0.7574138045310974,0.730210542678833,0.8210830688476562,0.3474055826663971,0.7273954153060913,0.8206037282943726,0.7436730861663818,0.7474570274353027,0.7874933481216431,0.8197476863861084,0.7807004451751709,0.4795093536376953,0.8027406930923462,0.6689835786819458,0.4356701970100403,0.5339090824127197,0.6596386432647705,0.8319606781005859,0.6351587772369385,0.5456032752990723,0.5268234014511108,0.7937631607055664,0.3059172034263611,0.776484489440918],[0.8407050371170044,0.835296630859375,0.9109378457069397,0.13916316628456116,0.7220454216003418,0.8687452077865601,0.8225013613700867,0.5303158760070801,0.9022497534751892,0.8222689628601074,0.8689160943031311,0.8983700275421143,0.8358180522918701,0.8243517875671387,0.8472257852554321,0.7376521229743958,0.8595683574676514,0.8300039172172546,0.7956466674804688,0.8421933650970459,0.8041967153549194,0.7735291719436646,0.4495514929294586,0.7258791923522949,0.8361899852752686,0.8014005422592163,0.7470569610595703,0.9019933938980103,0.7583019733428955,0.8052383661270142,0.8537315130233765,0.6796931028366089,0.91746586561203,0.6733716726303101,0.8846290111541748,0.442699134349823,0.6951573491096497,0.6992648839950562,0.8289459943771362,0.7956146001815796,0.46768027544021606,0.3786831498146057,0.8419524431228638,0.42050668597221375,0.5596803426742554,0.7768350839614868,0.7437322735786438,0.5944889187812805,0.3229535222053528,0.744295597076416,0.768405556678772,0.8636703491210938,1.0,0.8567298650741577,0.7518126368522644,0.7675798535346985,0.84527188539505,0.42577052116394043,0.7508454322814941,0.8229471445083618,0.7341100573539734,0.8066595196723938,0.8205028772354126,0.9208938479423523,0.8188163042068481,0.440269410610199,0.8221772909164429,0.7487403154373169,0.5068385601043701,0.5895650386810303,0.7383953332901001,0.880510151386261,0.6904837489128113,0.5826939344406128,0.4696837067604065,0.8372347354888916,0.30144909024238586,0.8639795184135437],[0.8593316078186035,0.858428418636322,0.8128650188446045,0.15968924760818481,0.8377530574798584,0.8179889917373657,0.8565579056739807,0.5585103631019592,0.9371498823165894,0.8204293847084045,0.8268920183181763,0.8540645837783813,0.8540887832641602,0.8734484910964966,0.8309166431427002,0.6414178013801575,0.850894570350647,0.8367618322372437,0.80729079246521,0.9257804155349731,0.8123331069946289,0.7362053394317627,0.5141279697418213,0.6941009759902954,0.8517497181892395,0.7559421062469482,0.6926999688148499,0.9340248703956604,0.7167055606842041,0.7575972676277161,0.8090469241142273,0.6883785724639893,0.9050291776657104,0.8104908466339111,0.8157142400741577,0.43527936935424805,0.7063656449317932,0.7996441721916199,0.7545053958892822,0.8300744295120239,0.4729745388031006,0.3852541446685791,0.7985948324203491,0.5044618844985962,0.6170307397842407,0.7992121577262878,0.7595726251602173,0.5915323495864868,0.33785027265548706,0.6233289241790771,0.850348711013794,0.8539469242095947,0.8567298650741577,1.0,0.8640748262405396,0.7195559144020081,0.8618060946464539,0.4534267485141754,0.7169359922409058,0.9240819215774536,0.918190598487854,0.7601847648620605,0.79603511095047,0.8138467073440552,0.8604745864868164,0.45670267939567566,0.8174537420272827,0.6797338128089905,0.4347262382507324,0.5598659515380859,0.6630976796150208,0.8499048948287964,0.7044953107833862,0.6382967233657837,0.6228482723236084,0.8268378973007202,0.4551048278808594,0.7334619760513306],[0.808063805103302,0.8412063717842102,0.7378849387168884,0.1370842158794403,0.7436482906341553,0.7630304098129272,0.7992836236953735,0.5813451409339905,0.8236811757087708,0.7874882221221924,0.769721508026123,0.774257242679596,0.7298738956451416,0.7895889282226562,0.8018902540206909,0.5812519192695618,0.7513439655303955,0.7503683567047119,0.7408349514007568,0.7771732807159424,0.8964396119117737,0.6941757202148438,0.48108214139938354,0.6453564167022705,0.7384823560714722,0.6787947416305542,0.6701586246490479,0.8400871753692627,0.660990297794342,0.7247084379196167,0.7641001343727112,0.6982154846191406,0.8246399164199829,0.7849169373512268,0.7320932149887085,0.41787630319595337,0.6884341239929199,0.675213098526001,0.6789909601211548,0.768134355545044,0.4820418953895569,0.3709660470485687,0.7661764621734619,0.40905362367630005,0.5764249563217163,0.7256981134414673,0.8188561201095581,0.5677683353424072,0.3112069368362427,0.5618183612823486,0.7657012939453125,0.7574138045310974,0.7518126368522644,0.8640748262405396,1.000000238418579,0.6802917122840881,0.7927454710006714,0.4389747381210327,0.7359911799430847,0.8664772510528564,0.8147642016410828,0.697124719619751,0.7156186103820801,0.7220044732093811,0.7148622274398804,0.35900217294692993,0.7542815208435059,0.6105307340621948,0.4260234832763672,0.5379889011383057,0.6097384691238403,0.7519780397415161,0.7437057495117188,0.606507420539856,0.7068103551864624,0.7851874828338623,0.34818726778030396,0.6761976480484009],[0.7641650438308716,0.7467484474182129,0.7997286319732666,0.1399192363023758,0.638842761516571,0.7954569458961487,0.711033821105957,0.5564413070678711,0.7875511050224304,0.7751389741897583,0.7293875217437744,0.7794334888458252,0.7585899829864502,0.7622905969619751,0.7992490530014038,0.7199867367744446,0.7777198553085327,0.7163875102996826,0.756928563117981,0.7231082916259766,0.7325394153594971,0.730350136756897,0.6207000017166138,0.7387093305587769,0.7801748514175415,0.7212840914726257,0.6492118239402771,0.7528104186058044,0.8378599882125854,0.6994675397872925,0.7587240934371948,0.7704225182533264,0.7535402774810791,0.6404800415039062,0.7248647212982178,0.4999644160270691,0.6848873496055603,0.6177006363868713,0.7951101064682007,0.74379962682724,0.43350887298583984,0.47179174423217773,0.8175572156906128,0.4035634994506836,0.5437771081924438,0.6970361471176147,0.6623917818069458,0.724359393119812,0.31825870275497437,0.7048932909965515,0.7531431317329407,0.730210542678833,0.7675798535346985,0.7195559144020081,0.6802917122840881,1.0000001192092896,0.7474143505096436,0.4569733142852783,0.7473230957984924,0.7002238035202026,0.6445590257644653,0.6998804807662964,0.7212486267089844,0.7901792526245117,0.7498037815093994,0.5225920677185059,0.780658483505249,0.7553952932357788,0.4526318311691284,0.560246467590332,0.6749933958053589,0.7188770174980164,0.6299140453338623,0.5528944134712219,0.516101598739624,0.7651231288909912,0.361830472946167,0.7996607422828674],[0.8435977697372437,0.8368450999259949,0.8956173658370972,0.17303626239299774,0.6852431297302246,0.8185788989067078,0.7807286381721497,0.5609962940216064,0.8482139706611633,0.8079904317855835,0.8011720180511475,0.8471882939338684,0.8299204111099243,0.7638151049613953,0.771105170249939,0.8289235830307007,0.8831331729888916,0.7796713709831238,0.7502975463867188,0.7606475353240967,0.7335938811302185,0.7838638424873352,0.48228251934051514,0.7078918814659119,0.7736408710479736,0.7530874013900757,0.710044801235199,0.9055973291397095,0.7420417070388794,0.7858477830886841,0.7901865243911743,0.6679439544677734,0.9056680798530579,0.8502804040908813,0.8059811592102051,0.4076024293899536,0.6962679624557495,0.6367491483688354,0.7984856367111206,0.7818191647529602,0.4692462086677551,0.44364848732948303,0.7694694995880127,0.4315808415412903,0.6026374697685242,0.7744173407554626,0.6657475233078003,0.6394326686859131,0.32892894744873047,0.6889055967330933,0.7408050894737244,0.8210830688476562,0.84527188539505,0.8618060946464539,0.7927454710006714,0.7474143505096436,1.0000001192092896,0.40423285961151123,0.7139630317687988,0.8723060488700867,0.8414779901504517,0.7544928193092346,0.738304615020752,0.8071457147598267,0.7647960186004639,0.3968602418899536,0.780215859413147,0.7230936288833618,0.5050732493400574,0.5613752007484436,0.7697845697402954,0.8382006883621216,0.6350194215774536,0.6244200468063354,0.47685563564300537,0.7664466500282288,0.3251601457595825,0.7963862419128418],[0.42767447233200073,0.4005104899406433,0.4165036678314209,0.21639037132263184,0.3971235454082489,0.37279456853866577,0.6930593252182007,0.38498157262802124,0.4500983655452728,0.4131954312324524,0.33411580324172974,0.39461833238601685,0.4500313997268677,0.49815037846565247,0.4658385217189789,0.4143165946006775,0.4239039123058319,0.4223935008049011,0.3719637095928192,0.5058190226554871,0.44827449321746826,0.41777122020721436,0.5993970632553101,0.4134627878665924,0.45443227887153625,0.42320019006729126,0.33653247356414795,0.37927770614624023,0.5256689786911011,0.3056221008300781,0.43829649686813354,0.48278453946113586,0.42561817169189453,0.42426759004592896,0.445686936378479,0.364249050617218,0.4011532962322235,0.5662139058113098,0.4516178071498871,0.5180802941322327,0.37058621644973755,0.3057049512863159,0.3994812071323395,0.52089524269104,0.3954162001609802,0.4455373287200928,0.42955464124679565,0.5555859804153442,0.29978716373443604,0.5106732845306396,0.48578429222106934,0.3474055826663971,0.42577052116394043,0.4534267485141754,0.4389747381210327,0.4569733142852783,0.40423285961151123,1.0000001192092896,0.5965788960456848,0.4269440174102783,0.4304386377334595,0.383786141872406,0.36560994386672974,0.40312081575393677,0.4916808605194092,0.35024696588516235,0.3979412913322449,0.4320095181465149,0.4129555821418762,0.3134242594242096,0.4597509503364563,0.37123262882232666,0.5169702172279358,0.40938258171081543,0.4694068431854248,0.40781378746032715,0.4740616977214813,0.38740718364715576],[0.7925667762756348,0.7571477890014648,0.7469158172607422,0.16764265298843384,0.6569414734840393,0.7570001482963562,0.8177387118339539,0.68986976146698,0.7666692733764648,0.7918086051940918,0.6971255540847778,0.7516308426856995,0.7000338435173035,0.7557525038719177,0.7707085609436035,0.65099036693573,0.7331875562667847,0.7740509510040283,0.7431910634040833,0.7188798189163208,0.7689071893692017,0.7127372026443481,0.5816065073013306,0.7116366624832153,0.7145304679870605,0.6912966966629028,0.6821669340133667,0.7409155368804932,0.7515925168991089,0.6987103223800659,0.8236991167068481,0.8268032073974609,0.744468092918396,0.6454458236694336,0.6746274828910828,0.5239708423614502,0.7496510148048401,0.6507135629653931,0.745431661605835,0.7670180201530457,0.49758994579315186,0.49592459201812744,0.7956010103225708,0.46812355518341064,0.573338508605957,0.634530782699585,0.734498143196106,0.6585191488265991,0.42786166071891785,0.6571089029312134,0.7790629863739014,0.7273954153060913,0.7508454322814941,0.7169359922409058,0.7359911799430847,0.7473230957984924,0.7139630317687988,0.5965788960456848,1.0,0.7458882927894592,0.653495728969574,0.6790509819984436,0.7260243892669678,0.7173360586166382,0.6936959624290466,0.44623494148254395,0.7494289875030518,0.6768757104873657,0.428344190120697,0.5764629244804382,0.664537787437439,0.7013261318206787,0.8273829221725464,0.5874744653701782,0.55146324634552,0.8161413669586182,0.39677584171295166,0.6885296106338501],[0.8561244010925293,0.8376633524894714,0.7856491804122925,0.15809614956378937,0.7632506489753723,0.8011536002159119,0.8622535467147827,0.6027332544326782,0.8798247575759888,0.8353550434112549,0.8070658445358276,0.8329683542251587,0.7652398347854614,0.8260763883590698,0.7996729612350464,0.6081842184066772,0.8126064538955688,0.8088101148605347,0.7910792827606201,0.8327054381370544,0.7911972403526306,0.7173814177513123,0.45625394582748413,0.6644973754882812,0.7568321228027344,0.7373411655426025,0.7172509431838989,0.9280788898468018,0.6657943725585938,0.754662036895752,0.8295079469680786,0.711272120475769,0.9211543798446655,0.8677371740341187,0.7815195918083191,0.4164500832557678,0.7460356950759888,0.7018221616744995,0.7354248762130737,0.7878026366233826,0.4798772931098938,0.3838619887828827,0.7890293598175049,0.4726766347885132,0.6196081042289734,0.7503290772438049,0.7598645091056824,0.5404604077339172,0.3303224444389343,0.5769203901290894,0.7854987382888794,0.8206037282943726,0.8229471445083618,0.9240819215774536,0.8664772510528564,0.7002238035202026,0.8723060488700867,0.4269440174102783,0.7458882927894592,1.000000238418579,0.9075750112533569,0.7414411306381226,0.7738891839981079,0.76176917552948,0.7589093446731567,0.3816933035850525,0.787625789642334,0.6591882705688477,0.4366588890552521,0.5320143699645996,0.6459800004959106,0.829352617263794,0.7607158422470093,0.629315972328186,0.5273169279098511,0.8475933074951172,0.3309333920478821,0.6973864436149597],[0.7845973968505859,0.7709795236587524,0.7070310115814209,0.19201505184173584,0.7763728499412537,0.7173581123352051,0.7789068222045898,0.5202269554138184,0.8257413506507874,0.7200424075126648,0.7186540365219116,0.7654560804367065,0.8005427122116089,0.8074960708618164,0.7277268171310425,0.5940877795219421,0.7986798286437988,0.7543343305587769,0.7190041542053223,0.8570566773414612,0.7036144733428955,0.6551076769828796,0.4859011173248291,0.6233185529708862,0.7770188450813293,0.6614582538604736,0.629895806312561,0.8540331125259399,0.6620031595230103,0.6593999862670898,0.7328661680221558,0.6527824401855469,0.8578455448150635,0.8959047794342041,0.7355829477310181,0.37401890754699707,0.6724935173988342,0.6881758570671082,0.6844667196273804,0.7553249597549438,0.4623154401779175,0.4218955934047699,0.716162383556366,0.47816556692123413,0.6299766302108765,0.729602575302124,0.6647192239761353,0.561055064201355,0.3167913854122162,0.5622470378875732,0.8196048736572266,0.7436730861663818,0.7341100573539734,0.918190598487854,0.8147642016410828,0.6445590257644653,0.8414779901504517,0.4304386377334595,0.653495728969574,0.9075750112533569,1.0000001192092896,0.6958116292953491,0.6837044954299927,0.7038203477859497,0.8201512098312378,0.3794085383415222,0.7168374061584473,0.6234039068222046,0.4616885185241699,0.49894845485687256,0.6092846393585205,0.7499762773513794,0.6627400517463684,0.6410404443740845,0.6073570251464844,0.728361964225769,0.5325261950492859,0.642949104309082],[0.7647470831871033,0.7566211819648743,0.8024097681045532,0.14788252115249634,0.7010986804962158,0.7767210006713867,0.7029626369476318,0.5177196264266968,0.8142626285552979,0.738670825958252,0.7332299947738647,0.7834248542785645,0.7742141485214233,0.7383825778961182,0.7544405460357666,0.7142779231071472,0.7587291598320007,0.7762657999992371,0.7215261459350586,0.7702725529670715,0.7274050116539001,0.7043020725250244,0.5247188806533813,0.7710663080215454,0.7597851157188416,0.720533549785614,0.7144330739974976,0.7878633737564087,0.7480655312538147,0.7611428499221802,0.7263761162757874,0.6962113380432129,0.7932894229888916,0.6630070209503174,0.8228278756141663,0.502665638923645,0.6455092430114746,0.6340786814689636,0.741075873374939,0.7266099452972412,0.48497143387794495,0.45045650005340576,0.7876360416412354,0.4336030185222626,0.603454053401947,0.7456918358802795,0.708935558795929,0.6649233102798462,0.3810468316078186,0.7081528306007385,0.731059193611145,0.7474570274353027,0.8066595196723938,0.7601847648620605,0.697124719619751,0.6998804807662964,0.7544928193092346,0.383786141872406,0.6790509819984436,0.7414411306381226,0.6958116292953491,1.000000238418579,0.7071106433868408,0.7632479667663574,0.7869791388511658,0.5211718678474426,0.7415488958358765,0.704893946647644,0.5331592559814453,0.5748628377914429,0.6980276703834534,0.9140817523002625,0.6919174790382385,0.7914037704467773,0.5427342653274536,0.7751777172088623,0.3914041519165039,0.8218136429786682],[0.822849452495575,0.7986242771148682,0.797332227230072,0.11877547204494476,0.703353226184845,0.8042351007461548,0.7782539129257202,0.6164953708648682,0.8543059229850769,0.8090000748634338,0.8164898157119751,0.8315417170524597,0.7256406545639038,0.7800694704055786,0.8051989078521729,0.6149252653121948,0.7696260213851929,0.7791002988815308,0.7657582759857178,0.7591928243637085,0.7566519975662231,0.7127745151519775,0.4360331892967224,0.7003715634346008,0.7774678468704224,0.7387402057647705,0.6373587846755981,0.8355672359466553,0.6879774332046509,0.7134249806404114,0.7671195864677429,0.6908011436462402,0.8112454414367676,0.6121468544006348,0.7528908252716064,0.48843270540237427,0.6961272954940796,0.6579295992851257,0.7684781551361084,0.7346593141555786,0.4272940456867218,0.37535035610198975,0.8115503787994385,0.40009447932243347,0.5458190441131592,0.7040791511535645,0.7122321128845215,0.5497725009918213,0.37678152322769165,0.6103825569152832,0.7418807744979858,0.7874933481216431,0.8205028772354126,0.79603511095047,0.7156186103820801,0.7212486267089844,0.738304615020752,0.36560994386672974,0.7260243892669678,0.7738891839981079,0.6837044954299927,0.7071106433868408,1.0,0.7894988059997559,0.7209423780441284,0.45649564266204834,0.8294066190719604,0.6617615222930908,0.4206286370754242,0.5651838779449463,0.6170835494995117,0.7953662872314453,0.6829493045806885,0.5305789709091187,0.4871762990951538,0.8016394376754761,0.29135435819625854,0.761134147644043],[0.7793921232223511,0.8071075081825256,0.8445382118225098,0.15847890079021454,0.676383376121521,0.8310507535934448,0.7371951937675476,0.4953621029853821,0.8563195466995239,0.7645072340965271,0.78620845079422,0.8680790662765503,0.7999729514122009,0.8032388687133789,0.8238796591758728,0.7199763059616089,0.8382661938667297,0.7711495161056519,0.7825559377670288,0.7966133952140808,0.7666798830032349,0.7568100690841675,0.540047287940979,0.7622889876365662,0.8746026754379272,0.7605351209640503,0.7313907742500305,0.8704088926315308,0.8070311546325684,0.7562602162361145,0.7626520395278931,0.6927525997161865,0.8916157484054565,0.6909027099609375,0.8527030944824219,0.5252665877342224,0.633825421333313,0.6914886832237244,0.8204246759414673,0.7313199043273926,0.5371074676513672,0.3822668790817261,0.8396874666213989,0.43378686904907227,0.5955123901367188,0.7494074702262878,0.7011029720306396,0.6864513158798218,0.3257904648780823,0.7790968418121338,0.7412732839584351,0.8197476863861084,0.9208938479423523,0.8138467073440552,0.7220044732093811,0.7901792526245117,0.8071457147598267,0.40312081575393677,0.7173360586166382,0.76176917552948,0.7038203477859497,0.7632479667663574,0.7894988059997559,1.000000238418579,0.8241633176803589,0.4641802906990051,0.7988035678863525,0.790742039680481,0.47009241580963135,0.6595163345336914,0.7424958944320679,0.8300585746765137,0.640371561050415,0.5868648886680603,0.49743902683258057,0.7793962955474854,0.3527528941631317,0.8530132174491882],[0.7660860419273376,0.7784057855606079,0.7998539805412292,0.2033081203699112,0.806245744228363,0.7727800607681274,0.7626250982284546,0.5006253719329834,0.8760114908218384,0.724593997001648,0.7391871809959412,0.8085466623306274,0.9184293150901794,0.8449826836585999,0.8060874938964844,0.7144044637680054,0.8163036108016968,0.8191999793052673,0.7548732757568359,0.9191033840179443,0.7572495937347412,0.7226525545120239,0.6040177345275879,0.7779779434204102,0.8948918581008911,0.7284510731697083,0.6465399265289307,0.7925437688827515,0.8121631145477295,0.713628888130188,0.735825777053833,0.7020664215087891,0.8118431568145752,0.6767860054969788,0.8099837303161621,0.515224814414978,0.6422469019889832,0.7116698622703552,0.7910215258598328,0.7966458797454834,0.45326870679855347,0.4842911958694458,0.7908371686935425,0.5118371248245239,0.6184440851211548,0.7722121477127075,0.6837207674980164,0.721470057964325,0.43744099140167236,0.7207252979278564,0.8745709657669067,0.7807004451751709,0.8188163042068481,0.8604745864868164,0.7148622274398804,0.7498037815093994,0.7647960186004639,0.4916808605194092,0.6936959624290466,0.7589093446731567,0.8201512098312378,0.7869791388511658,0.7209423780441284,0.8241633176803589,0.9999997615814209,0.537308394908905,0.7840272784233093,0.7421892881393433,0.492992103099823,0.5819596648216248,0.7104740142822266,0.7943192720413208,0.6437163352966309,0.6580926179885864,0.6931531429290771,0.7870131134986877,0.6447998285293579,0.7900125980377197],[0.4225900173187256,0.46365416049957275,0.48520827293395996,0.17381106317043304,0.4907315969467163,0.47269219160079956,0.41850972175598145,0.3859122097492218,0.49620741605758667,0.4467880129814148,0.3649764060974121,0.4691726565361023,0.5046303868293762,0.43837136030197144,0.43033480644226074,0.5263374447822571,0.436776340007782,0.4507029354572296,0.4439084529876709,0.5557425022125244,0.4523010849952698,0.41580694913864136,0.5073299407958984,0.6627830266952515,0.5359786152839661,0.4628234803676605,0.48601189255714417,0.42666393518447876,0.5327826142311096,0.4183903634548187,0.40849584341049194,0.46481555700302124,0.40223976969718933,0.3653333783149719,0.4984681010246277,0.6365240216255188,0.3179932236671448,0.6024621725082397,0.5124611854553223,0.5113606452941895,0.4558171033859253,0.44913122057914734,0.48184555768966675,0.4530956745147705,0.45175468921661377,0.5025584697723389,0.43651553988456726,0.5680174231529236,0.4409874677658081,0.5602661371231079,0.4872310161590576,0.4795093536376953,0.440269410610199,0.45670267939567566,0.35900217294692993,0.5225920677185059,0.3968602418899536,0.35024696588516235,0.44623494148254395,0.3816933035850525,0.3794085383415222,0.5211718678474426,0.45649564266204834,0.4641802906990051,0.537308394908905,1.0000001192092896,0.4456821084022522,0.5149352550506592,0.3474786877632141,0.5630523562431335,0.5526374578475952,0.4618595242500305,0.412481427192688,0.48882555961608887,0.5225240588188171,0.46357613801956177,0.4391564726829529,0.5515317916870117],[0.8312885165214539,0.8173068761825562,0.8412026166915894,0.1272670179605484,0.7487732172012329,0.8281869888305664,0.791185736656189,0.5757840871810913,0.8804328441619873,0.8241615295410156,0.8200235366821289,0.8468656539916992,0.8214941024780273,0.8274854421615601,0.8308533430099487,0.6806765198707581,0.7975377440452576,0.80939120054245,0.7868812084197998,0.8002737760543823,0.8021948933601379,0.7838979959487915,0.49317094683647156,0.7257760763168335,0.8350242972373962,0.7684634327888489,0.6326243877410889,0.8307392597198486,0.7563842535018921,0.7665703892707825,0.8124284744262695,0.7531634569168091,0.82220858335495,0.6346272230148315,0.742952823638916,0.45784810185432434,0.718966543674469,0.6789332628250122,0.8285863995552063,0.8016197681427002,0.3851199150085449,0.4236898124217987,0.8282042145729065,0.39445188641548157,0.5612968802452087,0.740605354309082,0.7443794012069702,0.6039839386940002,0.3362247049808502,0.6075834631919861,0.8033767342567444,0.8027406930923462,0.8221772909164429,0.8174537420272827,0.7542815208435059,0.780658483505249,0.780215859413147,0.3979412913322449,0.7494289875030518,0.787625789642334,0.7168374061584473,0.7415488958358765,0.8294066190719604,0.7988035678863525,0.7840272784233093,0.4456821084022522,0.9999998807907104,0.6922754049301147,0.3765004873275757,0.5605471134185791,0.6406326293945312,0.8275660276412964,0.6944019794464111,0.5606673955917358,0.5453346967697144,0.8506975173950195,0.3510013520717621,0.7660297155380249],[0.7208459377288818,0.7372627854347229,0.7653521299362183,0.20984506607055664,0.6048930287361145,0.7493315935134888,0.6777554750442505,0.5146160125732422,0.7374867796897888,0.7243858575820923,0.6499385833740234,0.7346413135528564,0.74287348985672,0.7191339731216431,0.7365214824676514,0.7626359462738037,0.7479569315910339,0.6684602499008179,0.6912051439285278,0.7069741487503052,0.675838828086853,0.6948622465133667,0.5335214138031006,0.7211756706237793,0.7884550094604492,0.6702633500099182,0.6955230236053467,0.7062000632286072,0.7828579545021057,0.6702542304992676,0.6519588232040405,0.6887658834457397,0.7470370531082153,0.6340830326080322,0.7648298740386963,0.5145469903945923,0.5843656063079834,0.6322771310806274,0.8499439358711243,0.7162958383560181,0.48653656244277954,0.4508531093597412,0.7762707471847534,0.39018088579177856,0.5720651149749756,0.6850704550743103,0.6355196237564087,0.7432452440261841,0.34388989210128784,0.7345513105392456,0.672439455986023,0.6689835786819458,0.7487403154373169,0.6797338128089905,0.6105307340621948,0.7553952932357788,0.7230936288833618,0.4320095181465149,0.6768757104873657,0.6591882705688477,0.6234039068222046,0.704893946647644,0.6617615222930908,0.790742039680481,0.7421892881393433,0.5149352550506592,0.6922754049301147,1.0,0.5347078442573547,0.6185085773468018,0.706526517868042,0.7165544033050537,0.5994025468826294,0.5843058228492737,0.5591188669204712,0.6677022576332092,0.43313920497894287,0.7759418487548828],[0.4743180274963379,0.4484095275402069,0.5382358431816101,0.1911526918411255,0.36963528394699097,0.4927274286746979,0.4655309319496155,0.3867195248603821,0.4297868013381958,0.45785361528396606,0.4453963041305542,0.48138487339019775,0.46933844685554504,0.42783376574516296,0.49707818031311035,0.5850157737731934,0.509452223777771,0.39529696106910706,0.4141009747982025,0.4582997262477875,0.40564799308776855,0.417350709438324,0.3871965706348419,0.4694198966026306,0.4345417618751526,0.43770384788513184,0.5268610715866089,0.4395827054977417,0.4676700532436371,0.49797406792640686,0.40302205085754395,0.4457716643810272,0.5371878147125244,0.492550253868103,0.7396508455276489,0.40339624881744385,0.39024829864501953,0.4533485770225525,0.47661688923835754,0.4504159986972809,0.3957330584526062,0.36939966678619385,0.5150556564331055,0.340160071849823,0.3959062397480011,0.4332151710987091,0.4220297932624817,0.5098997354507446,0.32216259837150574,0.5377951860427856,0.3983713388442993,0.4356701970100403,0.5068385601043701,0.4347262382507324,0.4260234832763672,0.4526318311691284,0.5050732493400574,0.4129555821418762,0.428344190120697,0.4366588890552521,0.4616885185241699,0.5331592559814453,0.4206286370754242,0.47009241580963135,0.492992103099823,0.3474786877632141,0.3765004873275757,0.5347078442573547,1.000000238418579,0.4199226498603821,0.49872082471847534,0.4835492968559265,0.46524983644485474,0.46276456117630005,0.3888007402420044,0.4365878701210022,0.35039961338043213,0.7060617804527283],[0.5628534555435181,0.5849388837814331,0.5780695676803589,0.22508016228675842,0.506758451461792,0.588370144367218,0.4867073893547058,0.5732664465904236,0.5803683996200562,0.5644780397415161,0.4744647741317749,0.5907638072967529,0.5437408685684204,0.550834596157074,0.5279130935668945,0.5979306697845459,0.5318877100944519,0.5301539301872253,0.5640000104904175,0.5850433111190796,0.5515398979187012,0.5307483673095703,0.4710032343864441,0.793429970741272,0.6626786589622498,0.4876953363418579,0.6421504020690918,0.5770614147186279,0.6131640672683716,0.5553373694419861,0.5121653079986572,0.5958539247512817,0.5817192196846008,0.5506794452667236,0.6044540405273438,0.7778649926185608,0.44276681542396545,0.6319258213043213,0.5778502225875854,0.5675288438796997,0.6025493144989014,0.46361494064331055,0.6697069406509399,0.37635642290115356,0.6160573959350586,0.49022823572158813,0.5410947799682617,0.6483559608459473,0.5293757915496826,0.6742687225341797,0.551461398601532,0.5339090824127197,0.5895650386810303,0.5598659515380859,0.5379889011383057,0.560246467590332,0.5613752007484436,0.3134242594242096,0.5764629244804382,0.5320143699645996,0.49894845485687256,0.5748628377914429,0.5651838779449463,0.6595163345336914,0.5819596648216248,0.5630523562431335,0.5605471134185791,0.6185085773468018,0.4199226498603821,1.0000001192092896,0.61435866355896,0.5424755215644836,0.5623520016670227,0.5947768688201904,0.48646196722984314,0.5910025238990784,0.37346574664115906,0.6139838099479675],[0.7000401020050049,0.7055188417434692,0.8052880764007568,0.20916637778282166,0.6213927865028381,0.6881803870201111,0.6841468811035156,0.5666770935058594,0.7176649570465088,0.6906110048294067,0.6089506149291992,0.7273668050765991,0.7556473016738892,0.6587417125701904,0.6927348375320435,0.8147397041320801,0.7327250242233276,0.670228123664856,0.6457245945930481,0.693626880645752,0.6360576152801514,0.6984128952026367,0.511745810508728,0.7953411340713501,0.6905090808868408,0.6854676008224487,0.7165521383285522,0.7088110446929932,0.6905543208122253,0.6689972877502441,0.6534790992736816,0.6363152265548706,0.6894310712814331,0.6504667401313782,0.7076056003570557,0.541341245174408,0.5753210783004761,0.5933625102043152,0.7761927247047424,0.7567581534385681,0.7343835830688477,0.5152835249900818,0.7139654159545898,0.4540148973464966,0.781548261642456,0.7136780023574829,0.5938764810562134,0.6380037069320679,0.4155474603176117,0.7842472791671753,0.6491042375564575,0.6596386432647705,0.7383953332901001,0.6630976796150208,0.6097384691238403,0.6749933958053589,0.7697845697402954,0.4597509503364563,0.664537787437439,0.6459800004959106,0.6092846393585205,0.6980276703834534,0.6170835494995117,0.7424958944320679,0.7104740142822266,0.5526374578475952,0.6406326293945312,0.706526517868042,0.49872082471847534,0.61435866355896,1.0,0.7205010652542114,0.6714493036270142,0.7708269357681274,0.5173928737640381,0.6801111698150635,0.399699330329895,0.777188777923584],[0.8543498516082764,0.8367573618888855,0.8708450198173523,0.11816652864217758,0.746158242225647,0.8422273993492126,0.795329213142395,0.558647632598877,0.9103561043739319,0.8252896070480347,0.8342402577400208,0.8750318288803101,0.8217799663543701,0.8046355247497559,0.8317391276359558,0.7160173654556274,0.8374166488647461,0.8350256681442261,0.777060329914093,0.806704580783844,0.7694865465164185,0.7781343460083008,0.4919957220554352,0.7674996852874756,0.8241089582443237,0.7981617450714111,0.7277010679244995,0.9052956700325012,0.7385574579238892,0.815772294998169,0.7758013606071472,0.6848239898681641,0.8782997131347656,0.6934424638748169,0.845716655254364,0.4585738182067871,0.6916429996490479,0.6635631322860718,0.794927716255188,0.767751932144165,0.4497221112251282,0.37621423602104187,0.808269202709198,0.45663344860076904,0.6034488677978516,0.8136494159698486,0.7438912391662598,0.6077828407287598,0.3497616648674011,0.6554243564605713,0.7480138540267944,0.8319606781005859,0.880510151386261,0.8499048948287964,0.7519780397415161,0.7188770174980164,0.8382006883621216,0.37123262882232666,0.7013261318206787,0.829352617263794,0.7499762773513794,0.9140817523002625,0.7953662872314453,0.8300585746765137,0.7943192720413208,0.4618595242500305,0.8275660276412964,0.7165544033050537,0.4835492968559265,0.5424755215644836,0.7205010652542114,0.9999999403953552,0.6917091608047485,0.7152502536773682,0.5050845742225647,0.8294892311096191,0.33804208040237427,0.8379901647567749],[0.7638487815856934,0.7053296566009521,0.6820036768913269,0.13361966609954834,0.6800307035446167,0.6866503357887268,0.8009881377220154,0.7007859945297241,0.7362499833106995,0.75312739610672,0.6503958702087402,0.7159281969070435,0.6543682813644409,0.7452335357666016,0.7180131673812866,0.5514161586761475,0.6648460030555725,0.708787202835083,0.7078093886375427,0.7301202416419983,0.7566686868667603,0.6415005326271057,0.5368316173553467,0.6710148453712463,0.6471268534660339,0.6593577861785889,0.7278695106506348,0.6999761462211609,0.6160115003585815,0.6462050676345825,0.7748153209686279,0.8556699752807617,0.6978057622909546,0.6528161764144897,0.6624463200569153,0.48871609568595886,0.7353415489196777,0.6278409957885742,0.6534632444381714,0.7683265209197998,0.592171311378479,0.4552289545536041,0.7974491119384766,0.47664526104927063,0.6774073839187622,0.6330392360687256,0.7964080572128296,0.5745396614074707,0.38578271865844727,0.6105397939682007,0.7549111843109131,0.6351587772369385,0.6904837489128113,0.7044953107833862,0.7437057495117188,0.6299140453338623,0.6350194215774536,0.5169702172279358,0.8273829221725464,0.7607158422470093,0.6627400517463684,0.6919174790382385,0.6829493045806885,0.640371561050415,0.6437163352966309,0.412481427192688,0.6944019794464111,0.5994025468826294,0.46524983644485474,0.5623520016670227,0.6714493036270142,0.6917091608047485,1.000000238418579,0.6869688034057617,0.5810222029685974,0.8087482452392578,0.37630146741867065,0.6418948769569397],[0.6217533349990845,0.6194837093353271,0.6051238775253296,0.2356826663017273,0.587243914604187,0.5728155374526978,0.5716652870178223,0.5359045267105103,0.637781023979187,0.6039890050888062,0.50201815366745,0.6119204759597778,0.6056112051010132,0.5711046457290649,0.5695290565490723,0.6274796724319458,0.6083965301513672,0.6202340126037598,0.5831317901611328,0.6545188426971436,0.5634255409240723,0.5447332859039307,0.5239977836608887,0.7226016521453857,0.6231810450553894,0.5483814477920532,0.6895063519477844,0.6417942047119141,0.612257719039917,0.5712409615516663,0.5631581544876099,0.6055442094802856,0.6084234714508057,0.6957422494888306,0.6037588715553284,0.5374606251716614,0.5313478708267212,0.5936988592147827,0.6041914224624634,0.6359258890151978,0.7437465190887451,0.5128903388977051,0.6509072780609131,0.4837382435798645,0.8899819850921631,0.6520758867263794,0.5898371934890747,0.6000301837921143,0.4111386835575104,0.644878625869751,0.6145745515823364,0.5456032752990723,0.5826939344406128,0.6382967233657837,0.606507420539856,0.5528944134712219,0.6244200468063354,0.40938258171081543,0.5874744653701782,0.629315972328186,0.6410404443740845,0.7914037704467773,0.5305789709091187,0.5868648886680603,0.6580926179885864,0.48882555961608887,0.5606673955917358,0.5843058228492737,0.46276456117630005,0.5947768688201904,0.7708269357681274,0.7152502536773682,0.6869688034057617,0.9999998807907104,0.559895396232605,0.6410114765167236,0.4529328942298889,0.6175754070281982],[0.5620343089103699,0.6517056226730347,0.5076956748962402,0.2104954719543457,0.6655853986740112,0.5270911455154419,0.5610013008117676,0.47012069821357727,0.6005116701126099,0.529804527759552,0.4470689296722412,0.5214521884918213,0.6517833471298218,0.6318460702896118,0.5788888931274414,0.5035884380340576,0.517341136932373,0.5651804208755493,0.56170654296875,0.703696608543396,0.7829769253730774,0.5063364505767822,0.5805171728134155,0.606856107711792,0.6479083895683289,0.49331504106521606,0.48589015007019043,0.5033664703369141,0.5882464647293091,0.4755886495113373,0.5066187977790833,0.6123180985450745,0.4929247796535492,0.511565625667572,0.5297281742095947,0.4807336926460266,0.4687759280204773,0.6475849747657776,0.5403302907943726,0.6204183101654053,0.4259505271911621,0.4580460786819458,0.5953012704849243,0.47058454155921936,0.5333096981048584,0.598068356513977,0.564875602722168,0.6262259483337402,0.40217044949531555,0.5190882682800293,0.7074452638626099,0.5268234014511108,0.4696837067604065,0.6228482723236084,0.7068103551864624,0.516101598739624,0.47685563564300537,0.4694068431854248,0.55146324634552,0.5273169279098511,0.6073570251464844,0.5427342653274536,0.4871762990951538,0.49743902683258057,0.6931531429290771,0.5225240588188171,0.5453346967697144,0.5591188669204712,0.3888007402420044,0.48646196722984314,0.5173928737640381,0.5050845742225647,0.5810222029685974,0.559895396232605,1.0,0.5483303070068359,0.6768840551376343,0.5096157193183899],[0.8439656496047974,0.8060590028762817,0.819049596786499,0.15095116198062897,0.7522688508033752,0.8177913427352905,0.8171411752700806,0.6495030522346497,0.87999427318573,0.8465521335601807,0.8161687850952148,0.8402018547058105,0.7973241806030273,0.8051415681838989,0.8304343819618225,0.6708418130874634,0.7903760671615601,0.8345707654953003,0.8100476264953613,0.8323399424552917,0.8176208734512329,0.7579852342605591,0.5132386684417725,0.7635793685913086,0.7942818403244019,0.7436038851737976,0.7478101849555969,0.8552045226097107,0.7093730568885803,0.7869963645935059,0.8504713773727417,0.7994245886802673,0.8236631155014038,0.6510194540023804,0.7638089656829834,0.5149338245391846,0.7635359168052673,0.683000922203064,0.7715015411376953,0.8192012310028076,0.4674830436706543,0.4294213056564331,0.8485198020935059,0.46315550804138184,0.6199184656143188,0.7121109962463379,0.7898660898208618,0.581268310546875,0.40361589193344116,0.6130079030990601,0.8168475031852722,0.7937631607055664,0.8372347354888916,0.8268378973007202,0.7851874828338623,0.7651231288909912,0.7664466500282288,0.40781378746032715,0.8161413669586182,0.8475933074951172,0.728361964225769,0.7751777172088623,0.8016394376754761,0.7793962955474854,0.7870131134986877,0.46357613801956177,0.8506975173950195,0.6677022576332092,0.4365878701210022,0.5910025238990784,0.6801111698150635,0.8294892311096191,0.8087482452392578,0.6410114765167236,0.5483303070068359,1.0000001192092896,0.3760914206504822,0.7678754329681396],[0.36500006914138794,0.342200368642807,0.318325400352478,0.3266446590423584,0.4788944125175476,0.30564481019973755,0.3957460820674896,0.3299671709537506,0.4303746223449707,0.3088620901107788,0.2541241943836212,0.35457760095596313,0.5622817277908325,0.4764934778213501,0.35927844047546387,0.406006395816803,0.3648643493652344,0.38466018438339233,0.3530757427215576,0.6003937125205994,0.34778475761413574,0.3333978056907654,0.5562424063682556,0.4762294888496399,0.5434714555740356,0.30991238355636597,0.32716187834739685,0.3154187798500061,0.4807557463645935,0.24172839522361755,0.3006267845630646,0.464979887008667,0.3283500075340271,0.3769737482070923,0.3719579875469208,0.42153865098953247,0.3166165053844452,0.4859687089920044,0.39607688784599304,0.45933398604393005,0.35587549209594727,0.44981813430786133,0.3834826946258545,0.4792519211769104,0.41424286365509033,0.3947179317474365,0.28816720843315125,0.5494135022163391,0.37593555450439453,0.4460792541503906,0.5924502611160278,0.3059172034263611,0.30144909024238586,0.4551048278808594,0.34818726778030396,0.361830472946167,0.3251601457595825,0.4740616977214813,0.39677584171295166,0.3309333920478821,0.5325261950492859,0.3914041519165039,0.29135435819625854,0.3527528941631317,0.6447998285293579,0.4391564726829529,0.3510013520717621,0.43313920497894287,0.35039961338043213,0.37346574664115906,0.399699330329895,0.33804208040237427,0.37630146741867065,0.4529328942298889,0.6768840551376343,0.3760914206504822,0.9999998807907104,0.3513011932373047],[0.7842982411384583,0.7845251560211182,0.8951786756515503,0.1413758397102356,0.6714919805526733,0.8283282518386841,0.7133641242980957,0.5473767518997192,0.8205474019050598,0.7638290524482727,0.7796812057495117,0.8291077613830566,0.810713529586792,0.7601795196533203,0.8230258822441101,0.8069056272506714,0.8152774572372437,0.7442537546157837,0.7330857515335083,0.7386398315429688,0.7408154606819153,0.7525972127914429,0.5454464554786682,0.7926566004753113,0.7910929918289185,0.758614182472229,0.7188246846199036,0.7990058660507202,0.7973586320877075,0.7904907464981079,0.7293540239334106,0.7200724482536316,0.8233239650726318,0.6302910447120667,0.9119079113006592,0.556423544883728,0.6581979990005493,0.619466245174408,0.8060880303382874,0.7494491338729858,0.4853931665420532,0.4542142152786255,0.8421429395675659,0.38974571228027344,0.5710532665252686,0.7355307340621948,0.6878067851066589,0.7038833498954773,0.37167149782180786,0.7715908288955688,0.7061519622802734,0.776484489440918,0.8639795184135437,0.7334619760513306,0.6761976480484009,0.7996607422828674,0.7963862419128418,0.38740718364715576,0.6885296106338501,0.6973864436149597,0.642949104309082,0.8218136429786682,0.761134147644043,0.8530132174491882,0.7900125980377197,0.5515317916870117,0.7660297155380249,0.7759418487548828,0.7060617804527283,0.6139838099479675,0.777188777923584,0.8379901647567749,0.6418948769569397,0.6175754070281982,0.5096157193183899,0.7678754329681396,0.3513011932373047,0.9999998807907104]],\"type\":\"heatmap\",\"xaxis\":\"x\",\"yaxis\":\"y\",\"hovertemplate\":\"x: %{x}\\u003cbr\\u003ey: %{y}\\u003cbr\\u003eSimilarity Score: %{z}\\u003cextra\\u003e\\u003c\\u002fextra\\u003e\"}],                        {\"template\":{\"data\":{\"histogram2dcontour\":[{\"type\":\"histogram2dcontour\",\"colorbar\":{\"outlinewidth\":0,\"ticks\":\"\"},\"colorscale\":[[0.0,\"#0d0887\"],[0.1111111111111111,\"#46039f\"],[0.2222222222222222,\"#7201a8\"],[0.3333333333333333,\"#9c179e\"],[0.4444444444444444,\"#bd3786\"],[0.5555555555555556,\"#d8576b\"],[0.6666666666666666,\"#ed7953\"],[0.7777777777777778,\"#fb9f3a\"],[0.8888888888888888,\"#fdca26\"],[1.0,\"#f0f921\"]]}],\"choropleth\":[{\"type\":\"choropleth\",\"colorbar\":{\"outlinewidth\":0,\"ticks\":\"\"}}],\"histogram2d\":[{\"type\":\"histogram2d\",\"colorbar\":{\"outlinewidth\":0,\"ticks\":\"\"},\"colorscale\":[[0.0,\"#0d0887\"],[0.1111111111111111,\"#46039f\"],[0.2222222222222222,\"#7201a8\"],[0.3333333333333333,\"#9c179e\"],[0.4444444444444444,\"#bd3786\"],[0.5555555555555556,\"#d8576b\"],[0.6666666666666666,\"#ed7953\"],[0.7777777777777778,\"#fb9f3a\"],[0.8888888888888888,\"#fdca26\"],[1.0,\"#f0f921\"]]}],\"heatmap\":[{\"type\":\"heatmap\",\"colorbar\":{\"outlinewidth\":0,\"ticks\":\"\"},\"colorscale\":[[0.0,\"#0d0887\"],[0.1111111111111111,\"#46039f\"],[0.2222222222222222,\"#7201a8\"],[0.3333333333333333,\"#9c179e\"],[0.4444444444444444,\"#bd3786\"],[0.5555555555555556,\"#d8576b\"],[0.6666666666666666,\"#ed7953\"],[0.7777777777777778,\"#fb9f3a\"],[0.8888888888888888,\"#fdca26\"],[1.0,\"#f0f921\"]]}],\"heatmapgl\":[{\"type\":\"heatmapgl\",\"colorbar\":{\"outlinewidth\":0,\"ticks\":\"\"},\"colorscale\":[[0.0,\"#0d0887\"],[0.1111111111111111,\"#46039f\"],[0.2222222222222222,\"#7201a8\"],[0.3333333333333333,\"#9c179e\"],[0.4444444444444444,\"#bd3786\"],[0.5555555555555556,\"#d8576b\"],[0.6666666666666666,\"#ed7953\"],[0.7777777777777778,\"#fb9f3a\"],[0.8888888888888888,\"#fdca26\"],[1.0,\"#f0f921\"]]}],\"contourcarpet\":[{\"type\":\"contourcarpet\",\"colorbar\":{\"outlinewidth\":0,\"ticks\":\"\"}}],\"contour\":[{\"type\":\"contour\",\"colorbar\":{\"outlinewidth\":0,\"ticks\":\"\"},\"colorscale\":[[0.0,\"#0d0887\"],[0.1111111111111111,\"#46039f\"],[0.2222222222222222,\"#7201a8\"],[0.3333333333333333,\"#9c179e\"],[0.4444444444444444,\"#bd3786\"],[0.5555555555555556,\"#d8576b\"],[0.6666666666666666,\"#ed7953\"],[0.7777777777777778,\"#fb9f3a\"],[0.8888888888888888,\"#fdca26\"],[1.0,\"#f0f921\"]]}],\"surface\":[{\"type\":\"surface\",\"colorbar\":{\"outlinewidth\":0,\"ticks\":\"\"},\"colorscale\":[[0.0,\"#0d0887\"],[0.1111111111111111,\"#46039f\"],[0.2222222222222222,\"#7201a8\"],[0.3333333333333333,\"#9c179e\"],[0.4444444444444444,\"#bd3786\"],[0.5555555555555556,\"#d8576b\"],[0.6666666666666666,\"#ed7953\"],[0.7777777777777778,\"#fb9f3a\"],[0.8888888888888888,\"#fdca26\"],[1.0,\"#f0f921\"]]}],\"mesh3d\":[{\"type\":\"mesh3d\",\"colorbar\":{\"outlinewidth\":0,\"ticks\":\"\"}}],\"scatter\":[{\"fillpattern\":{\"fillmode\":\"overlay\",\"size\":10,\"solidity\":0.2},\"type\":\"scatter\"}],\"parcoords\":[{\"type\":\"parcoords\",\"line\":{\"colorbar\":{\"outlinewidth\":0,\"ticks\":\"\"}}}],\"scatterpolargl\":[{\"type\":\"scatterpolargl\",\"marker\":{\"colorbar\":{\"outlinewidth\":0,\"ticks\":\"\"}}}],\"bar\":[{\"error_x\":{\"color\":\"#2a3f5f\"},\"error_y\":{\"color\":\"#2a3f5f\"},\"marker\":{\"line\":{\"color\":\"#E5ECF6\",\"width\":0.5},\"pattern\":{\"fillmode\":\"overlay\",\"size\":10,\"solidity\":0.2}},\"type\":\"bar\"}],\"scattergeo\":[{\"type\":\"scattergeo\",\"marker\":{\"colorbar\":{\"outlinewidth\":0,\"ticks\":\"\"}}}],\"scatterpolar\":[{\"type\":\"scatterpolar\",\"marker\":{\"colorbar\":{\"outlinewidth\":0,\"ticks\":\"\"}}}],\"histogram\":[{\"marker\":{\"pattern\":{\"fillmode\":\"overlay\",\"size\":10,\"solidity\":0.2}},\"type\":\"histogram\"}],\"scattergl\":[{\"type\":\"scattergl\",\"marker\":{\"colorbar\":{\"outlinewidth\":0,\"ticks\":\"\"}}}],\"scatter3d\":[{\"type\":\"scatter3d\",\"line\":{\"colorbar\":{\"outlinewidth\":0,\"ticks\":\"\"}},\"marker\":{\"colorbar\":{\"outlinewidth\":0,\"ticks\":\"\"}}}],\"scattermapbox\":[{\"type\":\"scattermapbox\",\"marker\":{\"colorbar\":{\"outlinewidth\":0,\"ticks\":\"\"}}}],\"scatterternary\":[{\"type\":\"scatterternary\",\"marker\":{\"colorbar\":{\"outlinewidth\":0,\"ticks\":\"\"}}}],\"scattercarpet\":[{\"type\":\"scattercarpet\",\"marker\":{\"colorbar\":{\"outlinewidth\":0,\"ticks\":\"\"}}}],\"carpet\":[{\"aaxis\":{\"endlinecolor\":\"#2a3f5f\",\"gridcolor\":\"white\",\"linecolor\":\"white\",\"minorgridcolor\":\"white\",\"startlinecolor\":\"#2a3f5f\"},\"baxis\":{\"endlinecolor\":\"#2a3f5f\",\"gridcolor\":\"white\",\"linecolor\":\"white\",\"minorgridcolor\":\"white\",\"startlinecolor\":\"#2a3f5f\"},\"type\":\"carpet\"}],\"table\":[{\"cells\":{\"fill\":{\"color\":\"#EBF0F8\"},\"line\":{\"color\":\"white\"}},\"header\":{\"fill\":{\"color\":\"#C8D4E3\"},\"line\":{\"color\":\"white\"}},\"type\":\"table\"}],\"barpolar\":[{\"marker\":{\"line\":{\"color\":\"#E5ECF6\",\"width\":0.5},\"pattern\":{\"fillmode\":\"overlay\",\"size\":10,\"solidity\":0.2}},\"type\":\"barpolar\"}],\"pie\":[{\"automargin\":true,\"type\":\"pie\"}]},\"layout\":{\"autotypenumbers\":\"strict\",\"colorway\":[\"#636efa\",\"#EF553B\",\"#00cc96\",\"#ab63fa\",\"#FFA15A\",\"#19d3f3\",\"#FF6692\",\"#B6E880\",\"#FF97FF\",\"#FECB52\"],\"font\":{\"color\":\"#2a3f5f\"},\"hovermode\":\"closest\",\"hoverlabel\":{\"align\":\"left\"},\"paper_bgcolor\":\"white\",\"plot_bgcolor\":\"#E5ECF6\",\"polar\":{\"bgcolor\":\"#E5ECF6\",\"angularaxis\":{\"gridcolor\":\"white\",\"linecolor\":\"white\",\"ticks\":\"\"},\"radialaxis\":{\"gridcolor\":\"white\",\"linecolor\":\"white\",\"ticks\":\"\"}},\"ternary\":{\"bgcolor\":\"#E5ECF6\",\"aaxis\":{\"gridcolor\":\"white\",\"linecolor\":\"white\",\"ticks\":\"\"},\"baxis\":{\"gridcolor\":\"white\",\"linecolor\":\"white\",\"ticks\":\"\"},\"caxis\":{\"gridcolor\":\"white\",\"linecolor\":\"white\",\"ticks\":\"\"}},\"coloraxis\":{\"colorbar\":{\"outlinewidth\":0,\"ticks\":\"\"}},\"colorscale\":{\"sequential\":[[0.0,\"#0d0887\"],[0.1111111111111111,\"#46039f\"],[0.2222222222222222,\"#7201a8\"],[0.3333333333333333,\"#9c179e\"],[0.4444444444444444,\"#bd3786\"],[0.5555555555555556,\"#d8576b\"],[0.6666666666666666,\"#ed7953\"],[0.7777777777777778,\"#fb9f3a\"],[0.8888888888888888,\"#fdca26\"],[1.0,\"#f0f921\"]],\"sequentialminus\":[[0.0,\"#0d0887\"],[0.1111111111111111,\"#46039f\"],[0.2222222222222222,\"#7201a8\"],[0.3333333333333333,\"#9c179e\"],[0.4444444444444444,\"#bd3786\"],[0.5555555555555556,\"#d8576b\"],[0.6666666666666666,\"#ed7953\"],[0.7777777777777778,\"#fb9f3a\"],[0.8888888888888888,\"#fdca26\"],[1.0,\"#f0f921\"]],\"diverging\":[[0,\"#8e0152\"],[0.1,\"#c51b7d\"],[0.2,\"#de77ae\"],[0.3,\"#f1b6da\"],[0.4,\"#fde0ef\"],[0.5,\"#f7f7f7\"],[0.6,\"#e6f5d0\"],[0.7,\"#b8e186\"],[0.8,\"#7fbc41\"],[0.9,\"#4d9221\"],[1,\"#276419\"]]},\"xaxis\":{\"gridcolor\":\"white\",\"linecolor\":\"white\",\"ticks\":\"\",\"title\":{\"standoff\":15},\"zerolinecolor\":\"white\",\"automargin\":true,\"zerolinewidth\":2},\"yaxis\":{\"gridcolor\":\"white\",\"linecolor\":\"white\",\"ticks\":\"\",\"title\":{\"standoff\":15},\"zerolinecolor\":\"white\",\"automargin\":true,\"zerolinewidth\":2},\"scene\":{\"xaxis\":{\"backgroundcolor\":\"#E5ECF6\",\"gridcolor\":\"white\",\"linecolor\":\"white\",\"showbackground\":true,\"ticks\":\"\",\"zerolinecolor\":\"white\",\"gridwidth\":2},\"yaxis\":{\"backgroundcolor\":\"#E5ECF6\",\"gridcolor\":\"white\",\"linecolor\":\"white\",\"showbackground\":true,\"ticks\":\"\",\"zerolinecolor\":\"white\",\"gridwidth\":2},\"zaxis\":{\"backgroundcolor\":\"#E5ECF6\",\"gridcolor\":\"white\",\"linecolor\":\"white\",\"showbackground\":true,\"ticks\":\"\",\"zerolinecolor\":\"white\",\"gridwidth\":2}},\"shapedefaults\":{\"line\":{\"color\":\"#2a3f5f\"}},\"annotationdefaults\":{\"arrowcolor\":\"#2a3f5f\",\"arrowhead\":0,\"arrowwidth\":1},\"geo\":{\"bgcolor\":\"white\",\"landcolor\":\"#E5ECF6\",\"subunitcolor\":\"white\",\"showland\":true,\"showlakes\":true,\"lakecolor\":\"white\"},\"title\":{\"x\":0.05},\"mapbox\":{\"style\":\"light\"}}},\"xaxis\":{\"anchor\":\"y\",\"domain\":[0.0,1.0],\"scaleanchor\":\"y\",\"constrain\":\"domain\"},\"yaxis\":{\"anchor\":\"x\",\"domain\":[0.0,1.0],\"autorange\":\"reversed\",\"constrain\":\"domain\"},\"coloraxis\":{\"colorbar\":{\"title\":{\"text\":\"Similarity Score\"}},\"colorscale\":[[0.0,\"rgb(247,252,240)\"],[0.125,\"rgb(224,243,219)\"],[0.25,\"rgb(204,235,197)\"],[0.375,\"rgb(168,221,181)\"],[0.5,\"rgb(123,204,196)\"],[0.625,\"rgb(78,179,211)\"],[0.75,\"rgb(43,140,190)\"],[0.875,\"rgb(8,104,172)\"],[1.0,\"rgb(8,64,129)\"]]},\"margin\":{\"t\":60},\"title\":{\"font\":{\"size\":22,\"color\":\"Black\"},\"text\":\"\\u003cb\\u003eSimilarity Matrix\\u003c\\u002fb\\u003e\",\"y\":0.95,\"x\":0.55,\"xanchor\":\"center\",\"yanchor\":\"top\"},\"hoverlabel\":{\"font\":{\"size\":16,\"family\":\"Rockwell\"},\"bgcolor\":\"white\"},\"width\":800,\"height\":800,\"showlegend\":true,\"legend\":{\"title\":{\"text\":\"Trend\"}}},                        {\"responsive\": true}                    ).then(function(){\n",
              "                            \n",
              "var gd = document.getElementById('82842d96-d35a-43be-8354-46ac24130006');\n",
              "var x = new MutationObserver(function (mutations, observer) {{\n",
              "        var display = window.getComputedStyle(gd).display;\n",
              "        if (!display || display === 'none') {{\n",
              "            console.log([gd, 'removed!']);\n",
              "            Plotly.purge(gd);\n",
              "            observer.disconnect();\n",
              "        }}\n",
              "}});\n",
              "\n",
              "// Listen for the removal of the full notebook cells\n",
              "var notebookContainer = gd.closest('#notebook-container');\n",
              "if (notebookContainer) {{\n",
              "    x.observe(notebookContainer, {childList: true});\n",
              "}}\n",
              "\n",
              "// Listen for the clearing of the current output cell\n",
              "var outputEl = gd.closest('.output');\n",
              "if (outputEl) {{\n",
              "    x.observe(outputEl, {childList: true});\n",
              "}}\n",
              "\n",
              "                        })                };                            </script>        </div>\n",
              "</body>\n",
              "</html>"
            ]
          },
          "metadata": {}
        }
      ]
    }
  ]
}