{
 "cells": [
  {
   "cell_type": "code",
   "execution_count": 6,
   "id": "711b09ef-3edb-40fd-bbe6-80e5bf9c0b03",
   "metadata": {},
   "outputs": [],
   "source": [
    "import pandas as pd\n",
    "from sklearn.model_selection import train_test_split\n",
    "from sklearn.tree import DecisionTreeClassifier\n",
    "from sklearn.metrics import confusion_matrix\n",
    "import numpy as np\n",
    "import time"
   ]
  },
  {
   "cell_type": "code",
   "execution_count": 7,
   "id": "3569a97c-697c-44c2-9eb1-54920ad61baf",
   "metadata": {},
   "outputs": [],
   "source": [
    "# Baca data dari file excel\n",
    "data = pd.read_csv(\"heart_disease.csv\")"
   ]
  },
  {
   "cell_type": "code",
   "execution_count": 30,
   "id": "053450ab-0ef5-4f57-98f1-6b499082d848",
   "metadata": {},
   "outputs": [
    {
     "name": "stdout",
     "output_type": "stream",
     "text": [
      "Index(['age', 'rest SBP', 'cholesterol', 'fasting blood sugar > 120', 'max HR',\n",
      "       'exerc ind ang', 'ST by exercise', 'major vessels colored',\n",
      "       'diameter narrowing', 'thal_fixed defect', 'thal_normal',\n",
      "       'thal_reversable defect', 'gender_female', 'gender_male',\n",
      "       'chest pain_asymptomatic', 'chest pain_atypical ang',\n",
      "       'chest pain_non-anginal', 'chest pain_typical ang',\n",
      "       'rest ECG_ST-T abnormal', 'rest ECG_left vent hypertrophy',\n",
      "       'rest ECG_normal', 'slope peak exc ST_downsloping',\n",
      "       'slope peak exc ST_flat', 'slope peak exc ST_upsloping'],\n",
      "      dtype='object')\n"
     ]
    }
   ],
   "source": [
    "data_encoded = pd.get_dummies(data)\n",
    "print(data_encoded.columns)\n"
   ]
  },
  {
   "cell_type": "code",
   "execution_count": 9,
   "id": "8d36da1f-918f-4855-853e-177de9e0f44a",
   "metadata": {},
   "outputs": [],
   "source": [
    "# Memasukkan kolom-kolom ke dalam fitur (X)\n",
    "X = data_encoded[['age', 'rest SBP', 'cholesterol', 'fasting blood sugar > 120', 'max HR',\n",
    "                  'exerc ind ang', 'ST by exercise', 'major vessels colored',\n",
    "                  'diameter narrowing', 'thal_fixed defect', 'thal_normal',\n",
    "                  'thal_reversable defect', 'gender_female', 'gender_male',\n",
    "                  'chest pain_asymptomatic', 'chest pain_atypical ang',\n",
    "                  'chest pain_non-anginal', 'chest pain_typical ang',\n",
    "                  'rest ECG_ST-T abnormal', 'rest ECG_left vent hypertrophy',\n",
    "                  'rest ECG_normal', 'slope peak exc ST_downsloping',\n",
    "                  'slope peak exc ST_flat', 'slope peak exc ST_upsloping']]\n"
   ]
  },
  {
   "cell_type": "code",
   "execution_count": 26,
   "id": "67918ad3-ec07-4189-bbff-552b469391aa",
   "metadata": {},
   "outputs": [
    {
     "name": "stdout",
     "output_type": "stream",
     "text": [
      "     age  rest SBP  cholesterol  fasting blood sugar > 120  max HR  \\\n",
      "0     63       145          233                          1     150   \n",
      "1     67       160          286                          0     108   \n",
      "2     67       120          229                          0     129   \n",
      "3     37       130          250                          0     187   \n",
      "4     41       130          204                          0     172   \n",
      "..   ...       ...          ...                        ...     ...   \n",
      "298   45       110          264                          0     132   \n",
      "299   68       144          193                          1     141   \n",
      "300   57       130          131                          0     115   \n",
      "301   57       130          236                          0     174   \n",
      "302   38       138          175                          0     173   \n",
      "\n",
      "     exerc ind ang  ST by exercise  major vessels colored  diameter narrowing  \\\n",
      "0                0             2.3                      0                   0   \n",
      "1                1             1.5                      3                   1   \n",
      "2                1             2.6                      2                   1   \n",
      "3                0             3.5                      0                   0   \n",
      "4                0             1.4                      0                   0   \n",
      "..             ...             ...                    ...                 ...   \n",
      "298              0             1.2                      0                   1   \n",
      "299              0             3.4                      2                   1   \n",
      "300              1             1.2                      1                   1   \n",
      "301              0             0.0                      1                   1   \n",
      "302              0             0.0                      1                   0   \n",
      "\n",
      "     thal_fixed defect  ...  chest pain_asymptomatic  chest pain_atypical ang  \\\n",
      "0                 True  ...                    False                    False   \n",
      "1                False  ...                     True                    False   \n",
      "2                False  ...                     True                    False   \n",
      "3                False  ...                    False                    False   \n",
      "4                False  ...                    False                     True   \n",
      "..                 ...  ...                      ...                      ...   \n",
      "298              False  ...                    False                    False   \n",
      "299              False  ...                     True                    False   \n",
      "300              False  ...                     True                    False   \n",
      "301              False  ...                    False                     True   \n",
      "302              False  ...                    False                    False   \n",
      "\n",
      "     chest pain_non-anginal  chest pain_typical ang  rest ECG_ST-T abnormal  \\\n",
      "0                     False                    True                   False   \n",
      "1                     False                   False                   False   \n",
      "2                     False                   False                   False   \n",
      "3                      True                   False                   False   \n",
      "4                     False                   False                   False   \n",
      "..                      ...                     ...                     ...   \n",
      "298                   False                    True                   False   \n",
      "299                   False                   False                   False   \n",
      "300                   False                   False                   False   \n",
      "301                   False                   False                   False   \n",
      "302                    True                   False                   False   \n",
      "\n",
      "     rest ECG_left vent hypertrophy  rest ECG_normal  \\\n",
      "0                              True            False   \n",
      "1                              True            False   \n",
      "2                              True            False   \n",
      "3                             False             True   \n",
      "4                              True            False   \n",
      "..                              ...              ...   \n",
      "298                           False             True   \n",
      "299                           False             True   \n",
      "300                           False             True   \n",
      "301                            True            False   \n",
      "302                           False             True   \n",
      "\n",
      "     slope peak exc ST_downsloping  slope peak exc ST_flat  \\\n",
      "0                             True                   False   \n",
      "1                            False                    True   \n",
      "2                            False                    True   \n",
      "3                             True                   False   \n",
      "4                            False                   False   \n",
      "..                             ...                     ...   \n",
      "298                          False                    True   \n",
      "299                          False                    True   \n",
      "300                          False                    True   \n",
      "301                          False                    True   \n",
      "302                          False                   False   \n",
      "\n",
      "     slope peak exc ST_upsloping  \n",
      "0                          False  \n",
      "1                          False  \n",
      "2                          False  \n",
      "3                          False  \n",
      "4                           True  \n",
      "..                           ...  \n",
      "298                        False  \n",
      "299                        False  \n",
      "300                        False  \n",
      "301                        False  \n",
      "302                         True  \n",
      "\n",
      "[303 rows x 24 columns]\n"
     ]
    }
   ],
   "source": [
    "print(X)"
   ]
  },
  {
   "cell_type": "code",
   "execution_count": 15,
   "id": "ab05bcda-463d-4759-8231-e4431679a368",
   "metadata": {},
   "outputs": [],
   "source": [
    "y = data_encoded['chest pain_typical ang']\n"
   ]
  },
  {
   "cell_type": "code",
   "execution_count": 16,
   "id": "5d9741a9-8cc8-4e2c-99ec-37eb0e2d58b9",
   "metadata": {},
   "outputs": [
    {
     "name": "stdout",
     "output_type": "stream",
     "text": [
      "0       True\n",
      "1      False\n",
      "2      False\n",
      "3      False\n",
      "4      False\n",
      "       ...  \n",
      "298     True\n",
      "299    False\n",
      "300    False\n",
      "301    False\n",
      "302    False\n",
      "Name: chest pain_typical ang, Length: 303, dtype: bool\n"
     ]
    }
   ],
   "source": [
    "print(y)"
   ]
  },
  {
   "cell_type": "code",
   "execution_count": 17,
   "id": "d7e65bf9-8a62-4a6f-ac92-32442f0fe665",
   "metadata": {},
   "outputs": [],
   "source": [
    "X_train, X_test, y_train, y_test = train_test_split(X, y, test_size=0.2, random_state=42)"
   ]
  },
  {
   "cell_type": "code",
   "execution_count": null,
   "id": "0aa2dc15-7df5-4e58-be6d-636019f4d044",
   "metadata": {
    "scrolled": true
   },
   "outputs": [],
   "source": [
    "print(X_train)"
   ]
  },
  {
   "cell_type": "code",
   "execution_count": 23,
   "id": "7df7d9bb-d0c2-4945-996f-e2ffb772c9ce",
   "metadata": {
    "scrolled": true
   },
   "outputs": [
    {
     "name": "stdout",
     "output_type": "stream",
     "text": [
      "     age  rest SBP  cholesterol  fasting blood sugar > 120  max HR  \\\n",
      "132   29       130          204                          0     202   \n",
      "202   57       150          126                          1     173   \n",
      "196   69       160          234                          1     131   \n",
      "75    65       160          360                          0     151   \n",
      "176   52       108          233                          1     147   \n",
      "..   ...       ...          ...                        ...     ...   \n",
      "188   54       192          283                          0     195   \n",
      "71    67       125          254                          1     163   \n",
      "106   59       140          177                          0     162   \n",
      "270   61       140          207                          0     138   \n",
      "102   57       128          303                          0     159   \n",
      "\n",
      "     exerc ind ang  ST by exercise  major vessels colored  diameter narrowing  \\\n",
      "132              0             0.0                      0                   0   \n",
      "202              0             0.2                      1                   0   \n",
      "196              0             0.1                      1                   0   \n",
      "75               0             0.8                      0                   0   \n",
      "176              0             0.1                      3                   0   \n",
      "..             ...             ...                    ...                 ...   \n",
      "188              0             0.0                      1                   1   \n",
      "71               0             0.2                      2                   1   \n",
      "106              1             0.0                      1                   1   \n",
      "270              1             1.9                      1                   1   \n",
      "102              0             0.0                      1                   0   \n",
      "\n",
      "     thal_fixed defect  ...  chest pain_asymptomatic  chest pain_atypical ang  \\\n",
      "132              False  ...                    False                     True   \n",
      "202              False  ...                    False                    False   \n",
      "196              False  ...                    False                    False   \n",
      "75               False  ...                    False                    False   \n",
      "176              False  ...                     True                    False   \n",
      "..                 ...  ...                      ...                      ...   \n",
      "188              False  ...                    False                     True   \n",
      "71               False  ...                     True                    False   \n",
      "106              False  ...                     True                    False   \n",
      "270              False  ...                     True                    False   \n",
      "102              False  ...                     True                    False   \n",
      "\n",
      "     chest pain_non-anginal  chest pain_typical ang  rest ECG_ST-T abnormal  \\\n",
      "132                   False                   False                   False   \n",
      "202                    True                   False                   False   \n",
      "196                   False                    True                   False   \n",
      "75                     True                   False                   False   \n",
      "176                   False                   False                   False   \n",
      "..                      ...                     ...                     ...   \n",
      "188                   False                   False                   False   \n",
      "71                    False                   False                   False   \n",
      "106                   False                   False                   False   \n",
      "270                   False                   False                   False   \n",
      "102                   False                   False                   False   \n",
      "\n",
      "     rest ECG_left vent hypertrophy  rest ECG_normal  \\\n",
      "132                            True            False   \n",
      "202                           False             True   \n",
      "196                            True            False   \n",
      "75                             True            False   \n",
      "176                           False             True   \n",
      "..                              ...              ...   \n",
      "188                            True            False   \n",
      "71                            False             True   \n",
      "106                           False             True   \n",
      "270                            True            False   \n",
      "102                            True            False   \n",
      "\n",
      "     slope peak exc ST_downsloping  slope peak exc ST_flat  \\\n",
      "132                          False                   False   \n",
      "202                          False                   False   \n",
      "196                          False                    True   \n",
      "75                           False                   False   \n",
      "176                          False                   False   \n",
      "..                             ...                     ...   \n",
      "188                          False                   False   \n",
      "71                           False                    True   \n",
      "106                          False                   False   \n",
      "270                          False                   False   \n",
      "102                          False                   False   \n",
      "\n",
      "     slope peak exc ST_upsloping  \n",
      "132                         True  \n",
      "202                         True  \n",
      "196                        False  \n",
      "75                          True  \n",
      "176                         True  \n",
      "..                           ...  \n",
      "188                         True  \n",
      "71                         False  \n",
      "106                         True  \n",
      "270                         True  \n",
      "102                         True  \n",
      "\n",
      "[242 rows x 24 columns]\n"
     ]
    }
   ],
   "source": [
    "print(X_train)"
   ]
  },
  {
   "cell_type": "code",
   "execution_count": 18,
   "id": "e940f3e4-5985-4291-a643-59c877797c7c",
   "metadata": {},
   "outputs": [],
   "source": [
    "model = DecisionTreeClassifier()"
   ]
  },
  {
   "cell_type": "code",
   "execution_count": 19,
   "id": "d8384e0f-e1b6-458e-8f61-324fef4c4701",
   "metadata": {},
   "outputs": [],
   "source": [
    "# membuat object decision tree\n",
    "model = DecisionTreeClassifier(random_state=0,\n",
    "                                       max_depth=None,\n",
    "                                       min_samples_split=2,\n",
    "                                       min_samples_leaf=1,\n",
    "                                       min_weight_fraction_leaf=0,\n",
    "                                       max_leaf_nodes=None,\n",
    "                                       min_impurity_decrease=0)"
   ]
  },
  {
   "cell_type": "code",
   "execution_count": 20,
   "id": "e92cb69b-1395-40ed-b58f-40dbebd403b1",
   "metadata": {},
   "outputs": [],
   "source": [
    "model = model.fit(X_train, y_train)"
   ]
  },
  {
   "cell_type": "code",
   "execution_count": 29,
   "id": "08f94a26-3301-48fd-8dab-24be8db44f02",
   "metadata": {},
   "outputs": [
    {
     "ename": "InvocationException",
     "evalue": "GraphViz's executables not found",
     "output_type": "error",
     "traceback": [
      "\u001b[1;31m---------------------------------------------------------------------------\u001b[0m",
      "\u001b[1;31mInvocationException\u001b[0m                       Traceback (most recent call last)",
      "Cell \u001b[1;32mIn[29], line 11\u001b[0m\n\u001b[0;32m      9\u001b[0m \u001b[38;5;28;01mfrom\u001b[39;00m \u001b[38;5;21;01mIPython\u001b[39;00m\u001b[38;5;21;01m.\u001b[39;00m\u001b[38;5;21;01mdisplay\u001b[39;00m \u001b[38;5;28;01mimport\u001b[39;00m Image\n\u001b[0;32m     10\u001b[0m graph \u001b[38;5;241m=\u001b[39m pydotplus\u001b[38;5;241m.\u001b[39mgraph_from_dot_data(dot_data)\n\u001b[1;32m---> 11\u001b[0m Image(\u001b[43mgraph\u001b[49m\u001b[38;5;241;43m.\u001b[39;49m\u001b[43mcreate_png\u001b[49m\u001b[43m(\u001b[49m\u001b[43m)\u001b[49m)\n\u001b[0;32m     12\u001b[0m graph\u001b[38;5;241m.\u001b[39mwrite_png(\u001b[38;5;124m'\u001b[39m\u001b[38;5;124mheart.png\u001b[39m\u001b[38;5;124m'\u001b[39m)\n",
      "File \u001b[1;32m~\\AppData\\Local\\Programs\\Python\\Python312\\Lib\\site-packages\\pydotplus\\graphviz.py:1797\u001b[0m, in \u001b[0;36mDot.__init__.<locals>.<lambda>\u001b[1;34m(f, prog)\u001b[0m\n\u001b[0;32m   1792\u001b[0m \u001b[38;5;66;03m# Automatically creates all the methods enabling the creation\u001b[39;00m\n\u001b[0;32m   1793\u001b[0m \u001b[38;5;66;03m# of output in any of the supported formats.\u001b[39;00m\n\u001b[0;32m   1794\u001b[0m \u001b[38;5;28;01mfor\u001b[39;00m frmt \u001b[38;5;129;01min\u001b[39;00m \u001b[38;5;28mself\u001b[39m\u001b[38;5;241m.\u001b[39mformats:\n\u001b[0;32m   1795\u001b[0m     \u001b[38;5;28mself\u001b[39m\u001b[38;5;241m.\u001b[39m\u001b[38;5;21m__setattr__\u001b[39m(\n\u001b[0;32m   1796\u001b[0m         \u001b[38;5;124m'\u001b[39m\u001b[38;5;124mcreate_\u001b[39m\u001b[38;5;124m'\u001b[39m \u001b[38;5;241m+\u001b[39m frmt,\n\u001b[1;32m-> 1797\u001b[0m         \u001b[38;5;28;01mlambda\u001b[39;00m f\u001b[38;5;241m=\u001b[39mfrmt, prog\u001b[38;5;241m=\u001b[39m\u001b[38;5;28mself\u001b[39m\u001b[38;5;241m.\u001b[39mprog: \u001b[38;5;28;43mself\u001b[39;49m\u001b[38;5;241;43m.\u001b[39;49m\u001b[43mcreate\u001b[49m\u001b[43m(\u001b[49m\u001b[38;5;28;43mformat\u001b[39;49m\u001b[38;5;241;43m=\u001b[39;49m\u001b[43mf\u001b[49m\u001b[43m,\u001b[49m\u001b[43m \u001b[49m\u001b[43mprog\u001b[49m\u001b[38;5;241;43m=\u001b[39;49m\u001b[43mprog\u001b[49m\u001b[43m)\u001b[49m\n\u001b[0;32m   1798\u001b[0m     )\n\u001b[0;32m   1799\u001b[0m     f \u001b[38;5;241m=\u001b[39m \u001b[38;5;28mself\u001b[39m\u001b[38;5;241m.\u001b[39m\u001b[38;5;18m__dict__\u001b[39m[\u001b[38;5;124m'\u001b[39m\u001b[38;5;124mcreate_\u001b[39m\u001b[38;5;124m'\u001b[39m \u001b[38;5;241m+\u001b[39m frmt]\n\u001b[0;32m   1800\u001b[0m     f\u001b[38;5;241m.\u001b[39m\u001b[38;5;18m__doc__\u001b[39m \u001b[38;5;241m=\u001b[39m (\n\u001b[0;32m   1801\u001b[0m \u001b[38;5;250m        \u001b[39m\u001b[38;5;124;03m'''Refer to the docstring accompanying the'''\u001b[39;00m\n\u001b[0;32m   1802\u001b[0m \u001b[38;5;250m        \u001b[39m\u001b[38;5;124;03m''''create' method for more information.'''\u001b[39;00m\n\u001b[0;32m   1803\u001b[0m     )\n",
      "File \u001b[1;32m~\\AppData\\Local\\Programs\\Python\\Python312\\Lib\\site-packages\\pydotplus\\graphviz.py:1959\u001b[0m, in \u001b[0;36mDot.create\u001b[1;34m(self, prog, format)\u001b[0m\n\u001b[0;32m   1957\u001b[0m     \u001b[38;5;28mself\u001b[39m\u001b[38;5;241m.\u001b[39mprogs \u001b[38;5;241m=\u001b[39m find_graphviz()\n\u001b[0;32m   1958\u001b[0m     \u001b[38;5;28;01mif\u001b[39;00m \u001b[38;5;28mself\u001b[39m\u001b[38;5;241m.\u001b[39mprogs \u001b[38;5;129;01mis\u001b[39;00m \u001b[38;5;28;01mNone\u001b[39;00m:\n\u001b[1;32m-> 1959\u001b[0m         \u001b[38;5;28;01mraise\u001b[39;00m InvocationException(\n\u001b[0;32m   1960\u001b[0m             \u001b[38;5;124m'\u001b[39m\u001b[38;5;124mGraphViz\u001b[39m\u001b[38;5;130;01m\\'\u001b[39;00m\u001b[38;5;124ms executables not found\u001b[39m\u001b[38;5;124m'\u001b[39m)\n\u001b[0;32m   1962\u001b[0m \u001b[38;5;28;01mif\u001b[39;00m prog \u001b[38;5;129;01mnot\u001b[39;00m \u001b[38;5;129;01min\u001b[39;00m \u001b[38;5;28mself\u001b[39m\u001b[38;5;241m.\u001b[39mprogs:\n\u001b[0;32m   1963\u001b[0m     \u001b[38;5;28;01mraise\u001b[39;00m InvocationException(\n\u001b[0;32m   1964\u001b[0m         \u001b[38;5;124m'\u001b[39m\u001b[38;5;124mGraphViz\u001b[39m\u001b[38;5;130;01m\\'\u001b[39;00m\u001b[38;5;124ms executable \u001b[39m\u001b[38;5;124m\"\u001b[39m\u001b[38;5;132;01m%s\u001b[39;00m\u001b[38;5;124m\"\u001b[39m\u001b[38;5;124m not found\u001b[39m\u001b[38;5;124m'\u001b[39m \u001b[38;5;241m%\u001b[39m prog)\n",
      "\u001b[1;31mInvocationException\u001b[0m: GraphViz's executables not found"
     ]
    }
   ],
   "source": [
    "import pydotplus\n",
    "from sklearn import tree\n",
    "dot_data = tree.export_graphviz(model,\n",
    "                                out_file=None,\n",
    "                                feature_names=list(X.columns),  # Convert feature names to list\n",
    "                                class_names=list(map(str, model.classes_))  # Convert class names to string\n",
    "                               )\n",
    "\n",
    "from IPython.display import Image\n",
    "graph = pydotplus.graph_from_dot_data(dot_data)\n",
    "Image(graph.create_png())\n",
    "graph.write_png('heart.png')"
   ]
  },
  {
   "cell_type": "code",
   "execution_count": null,
   "id": "7870b01e-6bc9-4590-b573-cd5d6d15ff85",
   "metadata": {},
   "outputs": [],
   "source": []
  }
 ],
 "metadata": {
  "kernelspec": {
   "display_name": "Python 3 (ipykernel)",
   "language": "python",
   "name": "python3"
  },
  "language_info": {
   "codemirror_mode": {
    "name": "ipython",
    "version": 3
   },
   "file_extension": ".py",
   "mimetype": "text/x-python",
   "name": "python",
   "nbconvert_exporter": "python",
   "pygments_lexer": "ipython3",
   "version": "3.12.2"
  }
 },
 "nbformat": 4,
 "nbformat_minor": 5
}
