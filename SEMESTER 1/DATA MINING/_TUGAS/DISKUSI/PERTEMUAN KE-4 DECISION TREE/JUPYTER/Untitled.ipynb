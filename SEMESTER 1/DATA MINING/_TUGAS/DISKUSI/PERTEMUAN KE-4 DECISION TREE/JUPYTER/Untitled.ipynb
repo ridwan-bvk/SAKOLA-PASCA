{
 "cells": [
  {
   "cell_type": "code",
   "execution_count": 2,
   "id": "05f433de-d8e5-41ac-8246-2d5fa227306a",
   "metadata": {},
   "outputs": [],
   "source": [
    "# import library numpy, pandas dan scikit learn\n",
    "import numpy as np\n",
    "import pandas as pd\n",
    "from sklearn import tree"
   ]
  },
  {
   "cell_type": "code",
   "execution_count": 4,
   "id": "f93fe574-eb79-4e4a-80d9-7f04be857fa5",
   "metadata": {},
   "outputs": [],
   "source": [
    "irisDataset = pd.read_csv('Dataset Iris.csv',\n",
    "                          delimiter=';',\n",
    "                          header=0)"
   ]
  },
  {
   "cell_type": "code",
   "execution_count": 5,
   "id": "c2fb8cc0-55dc-4b34-9505-a80b2190a8f2",
   "metadata": {},
   "outputs": [
    {
     "ename": "NameError",
     "evalue": "name 'head' is not defined",
     "output_type": "error",
     "traceback": [
      "\u001b[1;31m---------------------------------------------------------------------------\u001b[0m",
      "\u001b[1;31mNameError\u001b[0m                                 Traceback (most recent call last)",
      "Cell \u001b[1;32mIn[5], line 1\u001b[0m\n\u001b[1;32m----> 1\u001b[0m \u001b[38;5;28mprint\u001b[39m(\u001b[43mhead\u001b[49m())\n",
      "\u001b[1;31mNameError\u001b[0m: name 'head' is not defined"
     ]
    }
   ],
   "source": [
    "print(head())"
   ]
  },
  {
   "cell_type": "code",
   "execution_count": null,
   "id": "a3f9fb5e-889e-461c-b937-bc34a60a46da",
   "metadata": {},
   "outputs": [],
   "source": []
  }
 ],
 "metadata": {
  "kernelspec": {
   "display_name": "Python 3 (ipykernel)",
   "language": "python",
   "name": "python3"
  },
  "language_info": {
   "codemirror_mode": {
    "name": "ipython",
    "version": 3
   },
   "file_extension": ".py",
   "mimetype": "text/x-python",
   "name": "python",
   "nbconvert_exporter": "python",
   "pygments_lexer": "ipython3",
   "version": "3.12.2"
  }
 },
 "nbformat": 4,
 "nbformat_minor": 5
}
